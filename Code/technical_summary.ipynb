{
 "cells": [
  {
   "cell_type": "code",
   "execution_count": 1,
   "id": "6fba2017",
   "metadata": {
    "ExecuteTime": {
     "end_time": "2021-07-02T04:10:55.008427Z",
     "start_time": "2021-07-02T04:10:54.115707Z"
    }
   },
   "outputs": [],
   "source": [
    "import pandas as pd\n",
    "import numpy as np\n",
    "import utils\n",
    "import librosa\n",
    "import librosa.display\n",
    "import soundfile as sf\n",
    "import matplotlib.pyplot as plt\n",
    "import seaborn as sns\n",
    "from sklearn.ensemble import RandomForestClassifier, GradientBoostingClassifier\n",
    "from sklearn.model_selection import train_test_split, cross_val_score, GridSearchCV\n",
    "from sklearn.linear_model import LogisticRegression, LogisticRegressionCV\n",
    "from sklearn.decomposition import PCA\n",
    "from sklearn.preprocessing import StandardScaler"
   ]
  },
  {
   "cell_type": "markdown",
   "id": "17ed3b09",
   "metadata": {},
   "source": [
    "# Executive Summary\n",
    "\n",
    "### Goal\n",
    "The goal of this notebook is to elucidate the components of an audio signal that cause us to perceive that audio in one way or another. To do this I attempt to predict the human construct of genre based on various audio features. The data I use were pulled from the [free music archive](https://github.com/mdeff/fma) github.\n",
    "\n",
    "### Data\n",
    "The audio columns are actually statistics of audio features extracted using the [librosa library](http://man.hubwiz.com/docset/LibROSA.docset/Contents/Resources/Documents/index.html). The feature statistics which best accounted for the variability in the data were the mel frequency cepstral coefficient (mfcc) statistics. The mel frequency scale is discussed further below.\n",
    "\n",
    "### Metrics\n",
    "Predicting genre with linear regression using these statistics was 52.2% accurate which is a significant improvement over the dummy baseline of 12.5%.\n",
    "\n",
    "### Limitations\n",
    "Genre is subjective. It is an attempt to put words to a feeling. Two people can listen to a song and classify it in different genres. To get around this I used the most broad definitions of genre provided. No matter what I do the models I build will inherit the perception of genre of whoever encoded this data."
   ]
  },
  {
   "cell_type": "markdown",
   "id": "64857a30",
   "metadata": {},
   "source": [
    "# Mel Frequency Cepstral Coefficients\n",
    "\n",
    "The mel frequency cepstral coefficients (mfccs) are an abstraction of a spectrogram that attempt to capture the components of an audio signal that describe for our perception of that signal. For instance in speech we have the concepts of vowels and consonants. These features describe the construction of a word and our understanding of that word. The mel frequency cepstral coefficients can not be compared directly to vowels and consonants but they abstract audio into components that describe what humans hear.\n",
    "\n",
    "start with wave\n",
    "\n",
    "\n",
    "![waveform](../images/waveform.png)\n",
    "\n",
    "The first step to extracting mfccs is to preform the short time fourier transform on small time windows of the audio signal. This looks at sections of the signal and extracts the frequency components that make up that signal. This is the spectrogram of a 30 second clip of the song colorful lights which is track 065488 in the F.M.A.\n",
    "\n",
    "\n",
    "![spectrogram](../images/stft.png)\n",
    "\n",
    "\n",
    "\n",
    "![mel filter bins](../images/mel_filter_bins.png)\n",
    "\n",
    "\n",
    "![mel spectrogram](../images/mel_spec.png)\n",
    "\n",
    "\n",
    "![mfccs.png](../images/mfccs.png)"
   ]
  },
  {
   "cell_type": "markdown",
   "id": "3d52b196",
   "metadata": {},
   "source": [
    "## MFCC Analysis"
   ]
  },
  {
   "cell_type": "code",
   "execution_count": 2,
   "id": "dc5d0585",
   "metadata": {
    "ExecuteTime": {
     "end_time": "2021-07-02T04:11:18.776490Z",
     "start_time": "2021-07-02T04:11:18.391987Z"
    }
   },
   "outputs": [],
   "source": [
    "df = pd.read_csv('../data/features_with_genres.csv', index_col=0)\n",
    "mfcc_cols = [col for col in df.columns if 'mfcc' in col]"
   ]
  },
  {
   "cell_type": "code",
   "execution_count": 5,
   "id": "ae8a2e51",
   "metadata": {
    "ExecuteTime": {
     "end_time": "2021-07-02T04:14:51.621117Z",
     "start_time": "2021-07-02T04:14:51.604877Z"
    }
   },
   "outputs": [],
   "source": [
    "X = df[mfcc_cols]\n",
    "y = df['track_genre_top']\n",
    "\n",
    "X_train, X_test, y_train, y_test = train_test_split(X, y, stratify=y,\n",
    "                                                   random_state=42)"
   ]
  },
  {
   "cell_type": "code",
   "execution_count": 6,
   "id": "ec070a7e",
   "metadata": {
    "ExecuteTime": {
     "end_time": "2021-07-02T04:14:53.576545Z",
     "start_time": "2021-07-02T04:14:53.557744Z"
    }
   },
   "outputs": [],
   "source": [
    "ss = StandardScaler()\n",
    "ss.fit(X_train)\n",
    "X_train_sc = ss.transform(X_train)\n",
    "X_test_sc = ss.transform(X_test)"
   ]
  },
  {
   "cell_type": "code",
   "execution_count": 8,
   "id": "676dab1e",
   "metadata": {
    "ExecuteTime": {
     "end_time": "2021-07-02T04:15:41.926402Z",
     "start_time": "2021-07-02T04:15:41.754683Z"
    }
   },
   "outputs": [
    {
     "data": {
      "text/plain": [
       "(0.5222611305652827, 0.538115095913261)"
      ]
     },
     "execution_count": 8,
     "metadata": {},
     "output_type": "execute_result"
    }
   ],
   "source": [
    "lr = LogisticRegression(C = .00599484, max_iter = 1000)\n",
    "lr.fit(X_train_sc, y_train)\n",
    "lr.score(X_test_sc, y_test), lr.score(X_train_sc, y_train)"
   ]
  },
  {
   "cell_type": "markdown",
   "id": "8023c5c8",
   "metadata": {},
   "source": [
    "**Interpretation:** The accuracy here is pretty close to the accuracy on the entire dataset! The accuracy of the logistic regression with all of the features was 57.7 on the test set and 66.6 on the training set. Not only is the accuracy close but overfitting has been reduced by a lot."
   ]
  },
  {
   "cell_type": "code",
   "execution_count": 9,
   "id": "c1f1de73",
   "metadata": {
    "ExecuteTime": {
     "end_time": "2021-07-02T04:15:46.266130Z",
     "start_time": "2021-07-02T04:15:46.233319Z"
    }
   },
   "outputs": [
    {
     "data": {
      "text/plain": [
       "PCA()"
      ]
     },
     "execution_count": 9,
     "metadata": {},
     "output_type": "execute_result"
    }
   ],
   "source": [
    "pca = PCA()\n",
    "pca.fit(X_train_sc)"
   ]
  },
  {
   "cell_type": "code",
   "execution_count": 10,
   "id": "d9b6b412",
   "metadata": {
    "ExecuteTime": {
     "end_time": "2021-07-02T04:15:46.797207Z",
     "start_time": "2021-07-02T04:15:46.793139Z"
    }
   },
   "outputs": [
    {
     "data": {
      "text/plain": [
       "140"
      ]
     },
     "execution_count": 10,
     "metadata": {},
     "output_type": "execute_result"
    }
   ],
   "source": [
    "len(X_train.columns)"
   ]
  },
  {
   "cell_type": "code",
   "execution_count": 11,
   "id": "8f79fc73",
   "metadata": {
    "ExecuteTime": {
     "end_time": "2021-07-02T04:15:47.234589Z",
     "start_time": "2021-07-02T04:15:47.229838Z"
    }
   },
   "outputs": [
    {
     "data": {
      "text/plain": [
       "0.97095"
      ]
     },
     "execution_count": 11,
     "metadata": {},
     "output_type": "execute_result"
    }
   ],
   "source": [
    "sum([round(val, 5) for val in pca.explained_variance_ratio_][:77])"
   ]
  },
  {
   "cell_type": "code",
   "execution_count": 12,
   "id": "51f8c9a2",
   "metadata": {
    "ExecuteTime": {
     "end_time": "2021-07-02T04:15:48.133664Z",
     "start_time": "2021-07-02T04:15:48.074310Z"
    }
   },
   "outputs": [
    {
     "data": {
      "text/plain": [
       "PCA(n_components=77)"
      ]
     },
     "execution_count": 12,
     "metadata": {},
     "output_type": "execute_result"
    }
   ],
   "source": [
    "pca = PCA(77)\n",
    "pca.fit(X_train_sc)"
   ]
  },
  {
   "cell_type": "code",
   "execution_count": 13,
   "id": "eeb26624",
   "metadata": {
    "ExecuteTime": {
     "end_time": "2021-07-02T04:15:49.078062Z",
     "start_time": "2021-07-02T04:15:49.067792Z"
    }
   },
   "outputs": [],
   "source": [
    "X_train_pca = pd.DataFrame(pca.transform(X_train_sc))\n",
    "X_test_pca = pd.DataFrame(pca.transform(X_test_sc))"
   ]
  },
  {
   "cell_type": "code",
   "execution_count": 14,
   "id": "5c512ecc",
   "metadata": {
    "ExecuteTime": {
     "end_time": "2021-07-02T04:15:51.294258Z",
     "start_time": "2021-07-02T04:15:50.773926Z"
    }
   },
   "outputs": [
    {
     "data": {
      "text/plain": [
       "array([0.50708924, 0.52126772, 0.49958299, 0.49791493, 0.49958299])"
      ]
     },
     "execution_count": 14,
     "metadata": {},
     "output_type": "execute_result"
    }
   ],
   "source": [
    "lr = LogisticRegression(C = .00599484, max_iter = 1000)\n",
    "cross_val_score(lr, X_train_sc, y_train)"
   ]
  },
  {
   "cell_type": "code",
   "execution_count": 15,
   "id": "1bd0be51",
   "metadata": {
    "ExecuteTime": {
     "end_time": "2021-07-02T04:15:53.850008Z",
     "start_time": "2021-07-02T04:15:53.707384Z"
    }
   },
   "outputs": [
    {
     "data": {
      "text/plain": [
       "(0.511255627813907, 0.5282735613010843)"
      ]
     },
     "execution_count": 15,
     "metadata": {},
     "output_type": "execute_result"
    }
   ],
   "source": [
    "lr = LogisticRegression(C = .00599484, max_iter = 1000)\n",
    "lr.fit(X_train_pca, y_train)\n",
    "lr.score(X_test_pca, y_test), lr.score(X_train_pca, y_train)"
   ]
  },
  {
   "cell_type": "code",
   "execution_count": 16,
   "id": "d53ae81c",
   "metadata": {
    "ExecuteTime": {
     "end_time": "2021-07-02T04:17:05.961566Z",
     "start_time": "2021-07-02T04:15:59.188683Z"
    }
   },
   "outputs": [
    {
     "name": "stdout",
     "output_type": "stream",
     "text": [
      "      Iter       Train Loss   Remaining Time \n",
      "         1           2.0794            1.10m\n",
      "         2           2.0793            1.09m\n",
      "         3           2.0792            1.08m\n",
      "         4           2.0791            1.08m\n",
      "         5           2.0790            1.08m\n",
      "         6           2.0789            1.07m\n",
      "         7           2.0788            1.07m\n",
      "         8           2.0787            1.07m\n",
      "         9           2.0787            1.07m\n",
      "        10           2.0786            1.07m\n",
      "        20           2.0777            1.05m\n",
      "        30           2.0768            1.03m\n",
      "        40           2.0760            1.01m\n",
      "        50           2.0751           59.41s\n",
      "        60           2.0742           57.95s\n",
      "        70           2.0734           56.53s\n",
      "        80           2.0725           55.24s\n",
      "        90           2.0716           53.93s\n",
      "       100           2.0708           52.57s\n",
      "       200           2.0622           39.06s\n",
      "       300           2.0538           26.46s\n",
      "       400           2.0455           13.29s\n",
      "       500           2.0374            0.00s\n"
     ]
    },
    {
     "data": {
      "text/plain": [
       "(0.4547273636818409, 0.5082568807339449)"
      ]
     },
     "execution_count": 16,
     "metadata": {},
     "output_type": "execute_result"
    }
   ],
   "source": [
    "gbm = GradientBoostingClassifier(min_samples_split = 10, subsample = 1,\n",
    "                                 max_features = 'sqrt', n_iter_no_change = 5,\n",
    "                                 n_estimators = 500, learning_rate = .0001,\n",
    "                                 tol = .0001, verbose=1)\n",
    "gbm.fit(X_train, y_train)\n",
    "gbm.score(X_test, y_test), gbm.score(X_train, y_train)"
   ]
  }
 ],
 "metadata": {
  "kernelspec": {
   "display_name": "Python 3",
   "language": "python",
   "name": "python3"
  },
  "language_info": {
   "codemirror_mode": {
    "name": "ipython",
    "version": 3
   },
   "file_extension": ".py",
   "mimetype": "text/x-python",
   "name": "python",
   "nbconvert_exporter": "python",
   "pygments_lexer": "ipython3",
   "version": "3.9.5"
  }
 },
 "nbformat": 4,
 "nbformat_minor": 5
}
