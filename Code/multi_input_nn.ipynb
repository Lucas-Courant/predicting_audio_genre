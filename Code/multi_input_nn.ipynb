{
 "cells": [
  {
   "cell_type": "code",
   "execution_count": 13,
   "id": "a9eba422",
   "metadata": {
    "ExecuteTime": {
     "end_time": "2021-07-05T21:37:11.972181Z",
     "start_time": "2021-07-05T21:37:11.968252Z"
    }
   },
   "outputs": [],
   "source": [
    "import pandas as pd\n",
    "import numpy as np\n",
    "from PIL import Image\n",
    "from matplotlib import pyplot as plt\n",
    "from keras.preprocessing.image import ImageDataGenerator\n",
    "from tensorflow.keras.models import Model\n",
    "from tensorflow.keras.layers import Dense, Flatten, Dropout, Conv2D,\\\n",
    "                                    MaxPooling2D, Input, concatenate\n",
    "from tensorflow.keras.utils import to_categorical\n",
    "from tensorflow.keras.regularizers import l2\n",
    "from keras.utils import plot_model\n",
    "from tensorflow.keras import backend as K"
   ]
  },
  {
   "cell_type": "code",
   "execution_count": 26,
   "id": "19325ec7",
   "metadata": {
    "ExecuteTime": {
     "end_time": "2021-07-04T21:37:59.595152Z",
     "start_time": "2021-07-04T21:37:59.592705Z"
    }
   },
   "outputs": [],
   "source": [
    "test_img = Image.open('../mfcc_specs/Electronic/Electronic_100497.png')"
   ]
  },
  {
   "cell_type": "code",
   "execution_count": 29,
   "id": "30739023",
   "metadata": {
    "ExecuteTime": {
     "end_time": "2021-07-04T21:38:35.971117Z",
     "start_time": "2021-07-04T21:38:35.968401Z"
    }
   },
   "outputs": [],
   "source": [
    "test_img = test_img.convert('L')"
   ]
  },
  {
   "cell_type": "code",
   "execution_count": 38,
   "id": "8b8a1a23",
   "metadata": {
    "ExecuteTime": {
     "end_time": "2021-07-04T21:45:07.773321Z",
     "start_time": "2021-07-04T21:45:07.767686Z"
    }
   },
   "outputs": [
    {
     "data": {
      "image/png": "[encoded data removed]",
      "text/plain": [
       "<PIL.Image.Image image mode=L size=432x288 at 0x7F894C3BD7F0>"
      ]
     },
     "execution_count": 38,
     "metadata": {},
     "output_type": "execute_result"
    }
   ],
   "source": [
    "test_img"
   ]
  },
  {
   "cell_type": "code",
   "execution_count": 45,
   "id": "0401ba6a",
   "metadata": {
    "ExecuteTime": {
     "end_time": "2021-07-04T21:51:00.693149Z",
     "start_time": "2021-07-04T21:51:00.690093Z"
    }
   },
   "outputs": [
    {
     "data": {
      "text/plain": [
       "'L'"
      ]
     },
     "execution_count": 45,
     "metadata": {},
     "output_type": "execute_result"
    }
   ],
   "source": [
    "test_img.mode"
   ]
  },
  {
   "cell_type": "code",
   "execution_count": 39,
   "id": "93f86323",
   "metadata": {
    "ExecuteTime": {
     "end_time": "2021-07-04T21:45:18.690664Z",
     "start_time": "2021-07-04T21:45:18.688379Z"
    }
   },
   "outputs": [],
   "source": [
    "test_array = np.asarray(test_img)"
   ]
  },
  {
   "cell_type": "code",
   "execution_count": 43,
   "id": "63c0a3f5",
   "metadata": {
    "ExecuteTime": {
     "end_time": "2021-07-04T21:47:13.938970Z",
     "start_time": "2021-07-04T21:47:13.935641Z"
    }
   },
   "outputs": [
    {
     "data": {
      "text/plain": [
       "(288, 432)"
      ]
     },
     "execution_count": 43,
     "metadata": {},
     "output_type": "execute_result"
    }
   ],
   "source": [
    "test_array.shape"
   ]
  },
  {
   "cell_type": "code",
   "execution_count": 48,
   "id": "b737c259",
   "metadata": {
    "ExecuteTime": {
     "end_time": "2021-07-04T21:53:22.241866Z",
     "start_time": "2021-07-04T21:53:22.239455Z"
    }
   },
   "outputs": [],
   "source": [
    "test_img2 = Image.open('../mfcc_specs/Electronic/Electronic_100522.png')"
   ]
  },
  {
   "cell_type": "code",
   "execution_count": 49,
   "id": "65f7e6e9",
   "metadata": {
    "ExecuteTime": {
     "end_time": "2021-07-04T21:53:38.783732Z",
     "start_time": "2021-07-04T21:53:38.780917Z"
    }
   },
   "outputs": [],
   "source": [
    "test_img2 = test_img.convert('L')"
   ]
  },
  {
   "cell_type": "code",
   "execution_count": 50,
   "id": "1d366c26",
   "metadata": {
    "ExecuteTime": {
     "end_time": "2021-07-04T21:54:02.459937Z",
     "start_time": "2021-07-04T21:54:02.457512Z"
    }
   },
   "outputs": [],
   "source": [
    "test_array2 = np.asarray(test_img)"
   ]
  },
  {
   "cell_type": "code",
   "execution_count": 60,
   "id": "7f1d9dc7",
   "metadata": {
    "ExecuteTime": {
     "end_time": "2021-07-04T21:56:01.192106Z",
     "start_time": "2021-07-04T21:56:01.188754Z"
    }
   },
   "outputs": [
    {
     "data": {
      "text/plain": [
       "array([[255, 255, 255, ..., 255, 255, 255],\n",
       "       [255, 255, 255, ..., 255, 255, 255],\n",
       "       [255, 255, 255, ..., 255, 255, 255],\n",
       "       ...,\n",
       "       [255, 255, 255, ..., 255, 255, 255],\n",
       "       [255, 255, 255, ..., 255, 255, 255],\n",
       "       [255, 255, 255, ..., 255, 255, 255]], dtype=uint8)"
      ]
     },
     "execution_count": 60,
     "metadata": {},
     "output_type": "execute_result"
    }
   ],
   "source": [
    "test_array"
   ]
  },
  {
   "cell_type": "code",
   "execution_count": 65,
   "id": "3bc5b9aa",
   "metadata": {
    "ExecuteTime": {
     "end_time": "2021-07-04T21:59:10.795982Z",
     "start_time": "2021-07-04T21:59:10.792389Z"
    }
   },
   "outputs": [
    {
     "data": {
      "text/plain": [
       "(2, 288, 432)"
      ]
     },
     "execution_count": 65,
     "metadata": {},
     "output_type": "execute_result"
    }
   ],
   "source": [
    "np.stack([test_array, test_array2]).shape"
   ]
  },
  {
   "cell_type": "code",
   "execution_count": 19,
   "id": "c3174858",
   "metadata": {
    "ExecuteTime": {
     "end_time": "2021-07-05T21:48:13.415291Z",
     "start_time": "2021-07-05T21:48:13.367429Z"
    }
   },
   "outputs": [],
   "source": [
    "# https://machinelearningmastery.com/keras-functional-api-deep-learning/\n",
    "\n",
    "# convolutional img recognition\n",
    "visible_1 = Input(shape=(216,144,1), name='img_input')\n",
    "\n",
    "conv_1 = Conv2D(32,\n",
    "                activation='relu',\n",
    "                kernel_size=(3,3),\n",
    "                name='conv_1')(visible_1)\n",
    "pool_1 = MaxPooling2D(name='pool_1')(conv_1)\n",
    "\n",
    "conv_2 = Conv2D(64,\n",
    "                activation='relu',\n",
    "                kernel_size=(3,3),\n",
    "                name='conv_2')(pool_1)\n",
    "pool_2 = MaxPooling2D(name='pool_2')(conv_2)\n",
    "\n",
    "flat_1 = Flatten(name='flat_1')(pool_2)\n",
    "\n",
    "# dense input\n",
    "visible_2 = Input(shape=(140,1), name='statistics_input')\n",
    "\n",
    "dense_1 = Dense(32,\n",
    "                activation='relu',\n",
    "                name='stats_interpretation')(visible_2)\n",
    "flat_2 = Flatten(name='flat_2')(dense_1)\n",
    "\n",
    "merge = concatenate([flat_1, flat_2], name='merge')\n",
    "\n",
    "hidden_1 = Dense(10, activation='relu', name='interpretation_1')(merge)\n",
    "hidden_2 = Dense(10, activation='relu', name='interpretation_2')(hidden_1)\n",
    "output = Dense(8, activation='softmax', name='output')(hidden_2)\n",
    "\n",
    "model = Model(inputs=[visible_1, visible_2], outputs=output)"
   ]
  },
  {
   "cell_type": "code",
   "execution_count": 20,
   "id": "5cd7852a",
   "metadata": {
    "ExecuteTime": {
     "end_time": "2021-07-05T21:48:14.405259Z",
     "start_time": "2021-07-05T21:48:14.335389Z"
    }
   },
   "outputs": [
    {
     "data": {
      "image/png": "[encoded data removed]",
      "text/plain": [
       "<IPython.core.display.Image object>"
      ]
     },
     "execution_count": 20,
     "metadata": {},
     "output_type": "execute_result"
    }
   ],
   "source": [
    "plot_model(model, to_file='../images/multi_input_layout.png')"
   ]
  },
  {
   "cell_type": "code",
   "execution_count": null,
   "id": "1bcf5795",
   "metadata": {},
   "outputs": [],
   "source": []
  }
 ],
 "metadata": {
  "kernelspec": {
   "display_name": "Python 3",
   "language": "python",
   "name": "python3"
  },
  "language_info": {
   "codemirror_mode": {
    "name": "ipython",
    "version": 3
   },
   "file_extension": ".py",
   "mimetype": "text/x-python",
   "name": "python",
   "nbconvert_exporter": "python",
   "pygments_lexer": "ipython3",
   "version": "3.9.5"
  }
 },
 "nbformat": 4,
 "nbformat_minor": 5
}
