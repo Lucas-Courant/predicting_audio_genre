{
 "cells": [
  {
   "cell_type": "code",
   "execution_count": 1,
   "id": "bcc4eaf1",
   "metadata": {
    "ExecuteTime": {
     "end_time": "2021-06-30T13:31:42.113724Z",
     "start_time": "2021-06-30T13:31:39.430906Z"
    }
   },
   "outputs": [],
   "source": [
    "import numpy as np\n",
    "import pandas as pd\n",
    "from sklearn.preprocessing import StandardScaler\n",
    "from sklearn.model_selection import train_test_split\n",
    "from tensorflow.keras.models import Sequential\n",
    "from tensorflow.keras.layers import Dense, Flatten, Dropout, Conv2D, MaxPooling2D\n",
    "from tensorflow.keras.utils import to_categorical\n",
    "from tensorflow.keras.regularizers import l2\n",
    "from tensorflow.keras import backend as K"
   ]
  },
  {
   "cell_type": "code",
   "execution_count": 2,
   "id": "0a6924e3",
   "metadata": {
    "ExecuteTime": {
     "end_time": "2021-06-30T13:33:09.889852Z",
     "start_time": "2021-06-30T13:31:42.114643Z"
    }
   },
   "outputs": [],
   "source": [
    "df = pd.read_csv('../data/mfcc_df.csv', index_col=0)"
   ]
  },
  {
   "cell_type": "code",
   "execution_count": 3,
   "id": "b7d91a4b",
   "metadata": {
    "ExecuteTime": {
     "end_time": "2021-06-30T13:33:10.147807Z",
     "start_time": "2021-06-30T13:33:09.891014Z"
    }
   },
   "outputs": [],
   "source": [
    "# want a np array here\n",
    "X = df.drop(columns='genre').values\n",
    "y = df['genre']"
   ]
  },
  {
   "cell_type": "code",
   "execution_count": 4,
   "id": "24c321a3",
   "metadata": {
    "ExecuteTime": {
     "end_time": "2021-06-30T13:33:10.171799Z",
     "start_time": "2021-06-30T13:33:10.148912Z"
    }
   },
   "outputs": [
    {
     "data": {
      "text/html": [
       "<div>\n",
       "<style scoped>\n",
       "    .dataframe tbody tr th:only-of-type {\n",
       "        vertical-align: middle;\n",
       "    }\n",
       "\n",
       "    .dataframe tbody tr th {\n",
       "        vertical-align: top;\n",
       "    }\n",
       "\n",
       "    .dataframe thead th {\n",
       "        text-align: right;\n",
       "    }\n",
       "</style>\n",
       "<table border=\"1\" class=\"dataframe\">\n",
       "  <thead>\n",
       "    <tr style=\"text-align: right;\">\n",
       "      <th></th>\n",
       "      <th>0</th>\n",
       "      <th>1</th>\n",
       "      <th>2</th>\n",
       "      <th>3</th>\n",
       "      <th>4</th>\n",
       "      <th>5</th>\n",
       "      <th>6</th>\n",
       "      <th>7</th>\n",
       "      <th>8</th>\n",
       "      <th>9</th>\n",
       "      <th>...</th>\n",
       "      <th>25811</th>\n",
       "      <th>25812</th>\n",
       "      <th>25813</th>\n",
       "      <th>25814</th>\n",
       "      <th>25815</th>\n",
       "      <th>25816</th>\n",
       "      <th>25817</th>\n",
       "      <th>25818</th>\n",
       "      <th>25819</th>\n",
       "      <th>genre</th>\n",
       "    </tr>\n",
       "  </thead>\n",
       "  <tbody>\n",
       "    <tr>\n",
       "      <th>2</th>\n",
       "      <td>-299.54205</td>\n",
       "      <td>-202.513410</td>\n",
       "      <td>-159.976060</td>\n",
       "      <td>-115.456410</td>\n",
       "      <td>-80.41517</td>\n",
       "      <td>-67.523240</td>\n",
       "      <td>-57.689396</td>\n",
       "      <td>-65.464790</td>\n",
       "      <td>-84.703660</td>\n",
       "      <td>-96.179940</td>\n",
       "      <td>...</td>\n",
       "      <td>8.579011</td>\n",
       "      <td>3.017122</td>\n",
       "      <td>4.167839</td>\n",
       "      <td>4.247549</td>\n",
       "      <td>2.814877</td>\n",
       "      <td>7.809177</td>\n",
       "      <td>7.383904</td>\n",
       "      <td>7.447351</td>\n",
       "      <td>1.666731</td>\n",
       "      <td>Hip-Hop</td>\n",
       "    </tr>\n",
       "    <tr>\n",
       "      <th>5</th>\n",
       "      <td>-324.05972</td>\n",
       "      <td>-227.421280</td>\n",
       "      <td>-186.883620</td>\n",
       "      <td>-158.489870</td>\n",
       "      <td>-94.90247</td>\n",
       "      <td>-95.517570</td>\n",
       "      <td>-106.146310</td>\n",
       "      <td>-70.498620</td>\n",
       "      <td>-45.091520</td>\n",
       "      <td>-41.156030</td>\n",
       "      <td>...</td>\n",
       "      <td>-5.578251</td>\n",
       "      <td>-2.405647</td>\n",
       "      <td>9.223669</td>\n",
       "      <td>4.483981</td>\n",
       "      <td>1.062832</td>\n",
       "      <td>2.859907</td>\n",
       "      <td>12.096918</td>\n",
       "      <td>20.757313</td>\n",
       "      <td>22.445301</td>\n",
       "      <td>Hip-Hop</td>\n",
       "    </tr>\n",
       "    <tr>\n",
       "      <th>10</th>\n",
       "      <td>-71.37612</td>\n",
       "      <td>-32.296726</td>\n",
       "      <td>-29.356266</td>\n",
       "      <td>-38.037712</td>\n",
       "      <td>-44.88169</td>\n",
       "      <td>-45.910717</td>\n",
       "      <td>-31.081180</td>\n",
       "      <td>8.275228</td>\n",
       "      <td>28.077377</td>\n",
       "      <td>6.006518</td>\n",
       "      <td>...</td>\n",
       "      <td>7.842686</td>\n",
       "      <td>10.014116</td>\n",
       "      <td>11.173001</td>\n",
       "      <td>12.426384</td>\n",
       "      <td>11.664799</td>\n",
       "      <td>10.098647</td>\n",
       "      <td>9.309401</td>\n",
       "      <td>7.042737</td>\n",
       "      <td>6.770200</td>\n",
       "      <td>Pop</td>\n",
       "    </tr>\n",
       "    <tr>\n",
       "      <th>140</th>\n",
       "      <td>-561.32430</td>\n",
       "      <td>-523.545800</td>\n",
       "      <td>-449.814450</td>\n",
       "      <td>-342.445560</td>\n",
       "      <td>-306.72736</td>\n",
       "      <td>-308.809630</td>\n",
       "      <td>-307.733280</td>\n",
       "      <td>-317.345250</td>\n",
       "      <td>-362.774800</td>\n",
       "      <td>-419.306950</td>\n",
       "      <td>...</td>\n",
       "      <td>-2.386398</td>\n",
       "      <td>-2.081024</td>\n",
       "      <td>-5.066889</td>\n",
       "      <td>-0.712717</td>\n",
       "      <td>4.743356</td>\n",
       "      <td>-0.623045</td>\n",
       "      <td>-5.512569</td>\n",
       "      <td>-6.743018</td>\n",
       "      <td>-7.929317</td>\n",
       "      <td>Folk</td>\n",
       "    </tr>\n",
       "    <tr>\n",
       "      <th>141</th>\n",
       "      <td>-464.98074</td>\n",
       "      <td>-371.434330</td>\n",
       "      <td>-330.917180</td>\n",
       "      <td>-342.813900</td>\n",
       "      <td>-362.01355</td>\n",
       "      <td>-368.364440</td>\n",
       "      <td>-361.755220</td>\n",
       "      <td>-358.438020</td>\n",
       "      <td>-365.668670</td>\n",
       "      <td>-375.685760</td>\n",
       "      <td>...</td>\n",
       "      <td>3.366687</td>\n",
       "      <td>2.777272</td>\n",
       "      <td>-0.774252</td>\n",
       "      <td>-5.674080</td>\n",
       "      <td>-6.298902</td>\n",
       "      <td>-6.503519</td>\n",
       "      <td>-1.214979</td>\n",
       "      <td>2.372759</td>\n",
       "      <td>0.545787</td>\n",
       "      <td>Folk</td>\n",
       "    </tr>\n",
       "    <tr>\n",
       "      <th>...</th>\n",
       "      <td>...</td>\n",
       "      <td>...</td>\n",
       "      <td>...</td>\n",
       "      <td>...</td>\n",
       "      <td>...</td>\n",
       "      <td>...</td>\n",
       "      <td>...</td>\n",
       "      <td>...</td>\n",
       "      <td>...</td>\n",
       "      <td>...</td>\n",
       "      <td>...</td>\n",
       "      <td>...</td>\n",
       "      <td>...</td>\n",
       "      <td>...</td>\n",
       "      <td>...</td>\n",
       "      <td>...</td>\n",
       "      <td>...</td>\n",
       "      <td>...</td>\n",
       "      <td>...</td>\n",
       "      <td>...</td>\n",
       "      <td>...</td>\n",
       "    </tr>\n",
       "    <tr>\n",
       "      <th>154308</th>\n",
       "      <td>-313.42910</td>\n",
       "      <td>-285.330020</td>\n",
       "      <td>-283.423370</td>\n",
       "      <td>-287.088320</td>\n",
       "      <td>-289.26364</td>\n",
       "      <td>-184.150180</td>\n",
       "      <td>-41.746180</td>\n",
       "      <td>-12.892625</td>\n",
       "      <td>-55.076210</td>\n",
       "      <td>-115.045525</td>\n",
       "      <td>...</td>\n",
       "      <td>-5.682370</td>\n",
       "      <td>-7.509222</td>\n",
       "      <td>-9.412865</td>\n",
       "      <td>-11.408550</td>\n",
       "      <td>-9.417267</td>\n",
       "      <td>-6.659872</td>\n",
       "      <td>-9.279369</td>\n",
       "      <td>-10.586635</td>\n",
       "      <td>-12.149058</td>\n",
       "      <td>Hip-Hop</td>\n",
       "    </tr>\n",
       "    <tr>\n",
       "      <th>154309</th>\n",
       "      <td>-486.30182</td>\n",
       "      <td>-482.713870</td>\n",
       "      <td>-496.109800</td>\n",
       "      <td>-501.279800</td>\n",
       "      <td>-502.60657</td>\n",
       "      <td>-506.784670</td>\n",
       "      <td>-509.464900</td>\n",
       "      <td>-310.994630</td>\n",
       "      <td>-145.997090</td>\n",
       "      <td>-127.236984</td>\n",
       "      <td>...</td>\n",
       "      <td>26.438950</td>\n",
       "      <td>26.907330</td>\n",
       "      <td>25.851170</td>\n",
       "      <td>27.487530</td>\n",
       "      <td>3.293386</td>\n",
       "      <td>0.510517</td>\n",
       "      <td>6.536824</td>\n",
       "      <td>14.151882</td>\n",
       "      <td>15.177959</td>\n",
       "      <td>Hip-Hop</td>\n",
       "    </tr>\n",
       "    <tr>\n",
       "      <th>154413</th>\n",
       "      <td>-155.80930</td>\n",
       "      <td>-137.494950</td>\n",
       "      <td>-114.974205</td>\n",
       "      <td>-140.923610</td>\n",
       "      <td>-162.12640</td>\n",
       "      <td>-160.300770</td>\n",
       "      <td>-160.252720</td>\n",
       "      <td>-164.502600</td>\n",
       "      <td>-163.036160</td>\n",
       "      <td>-166.671740</td>\n",
       "      <td>...</td>\n",
       "      <td>-9.371429</td>\n",
       "      <td>-8.214789</td>\n",
       "      <td>-6.444000</td>\n",
       "      <td>-5.737784</td>\n",
       "      <td>-7.112801</td>\n",
       "      <td>-9.904306</td>\n",
       "      <td>-7.110808</td>\n",
       "      <td>-4.359858</td>\n",
       "      <td>-6.566474</td>\n",
       "      <td>Pop</td>\n",
       "    </tr>\n",
       "    <tr>\n",
       "      <th>154414</th>\n",
       "      <td>-157.55603</td>\n",
       "      <td>-162.392120</td>\n",
       "      <td>-172.492050</td>\n",
       "      <td>-185.008390</td>\n",
       "      <td>-195.22296</td>\n",
       "      <td>-197.421830</td>\n",
       "      <td>-194.316470</td>\n",
       "      <td>-151.761830</td>\n",
       "      <td>-53.744118</td>\n",
       "      <td>0.694293</td>\n",
       "      <td>...</td>\n",
       "      <td>-4.724668</td>\n",
       "      <td>1.030848</td>\n",
       "      <td>0.062413</td>\n",
       "      <td>-1.149542</td>\n",
       "      <td>-0.530087</td>\n",
       "      <td>-5.915976</td>\n",
       "      <td>-3.723760</td>\n",
       "      <td>-0.366745</td>\n",
       "      <td>-2.165277</td>\n",
       "      <td>Pop</td>\n",
       "    </tr>\n",
       "    <tr>\n",
       "      <th>155066</th>\n",
       "      <td>-239.45201</td>\n",
       "      <td>-245.493620</td>\n",
       "      <td>-252.646770</td>\n",
       "      <td>-198.174840</td>\n",
       "      <td>-176.13150</td>\n",
       "      <td>-206.888520</td>\n",
       "      <td>-248.449260</td>\n",
       "      <td>-260.804470</td>\n",
       "      <td>-262.628100</td>\n",
       "      <td>-267.949980</td>\n",
       "      <td>...</td>\n",
       "      <td>6.993926</td>\n",
       "      <td>2.414964</td>\n",
       "      <td>5.689805</td>\n",
       "      <td>5.576524</td>\n",
       "      <td>4.663951</td>\n",
       "      <td>1.482147</td>\n",
       "      <td>4.473485</td>\n",
       "      <td>3.369352</td>\n",
       "      <td>3.568507</td>\n",
       "      <td>Hip-Hop</td>\n",
       "    </tr>\n",
       "  </tbody>\n",
       "</table>\n",
       "<p>7994 rows × 25821 columns</p>\n",
       "</div>"
      ],
      "text/plain": [
       "                0           1           2           3          4           5  \\\n",
       "2      -299.54205 -202.513410 -159.976060 -115.456410  -80.41517  -67.523240   \n",
       "5      -324.05972 -227.421280 -186.883620 -158.489870  -94.90247  -95.517570   \n",
       "10      -71.37612  -32.296726  -29.356266  -38.037712  -44.88169  -45.910717   \n",
       "140    -561.32430 -523.545800 -449.814450 -342.445560 -306.72736 -308.809630   \n",
       "141    -464.98074 -371.434330 -330.917180 -342.813900 -362.01355 -368.364440   \n",
       "...           ...         ...         ...         ...        ...         ...   \n",
       "154308 -313.42910 -285.330020 -283.423370 -287.088320 -289.26364 -184.150180   \n",
       "154309 -486.30182 -482.713870 -496.109800 -501.279800 -502.60657 -506.784670   \n",
       "154413 -155.80930 -137.494950 -114.974205 -140.923610 -162.12640 -160.300770   \n",
       "154414 -157.55603 -162.392120 -172.492050 -185.008390 -195.22296 -197.421830   \n",
       "155066 -239.45201 -245.493620 -252.646770 -198.174840 -176.13150 -206.888520   \n",
       "\n",
       "                 6           7           8           9  ...      25811  \\\n",
       "2       -57.689396  -65.464790  -84.703660  -96.179940  ...   8.579011   \n",
       "5      -106.146310  -70.498620  -45.091520  -41.156030  ...  -5.578251   \n",
       "10      -31.081180    8.275228   28.077377    6.006518  ...   7.842686   \n",
       "140    -307.733280 -317.345250 -362.774800 -419.306950  ...  -2.386398   \n",
       "141    -361.755220 -358.438020 -365.668670 -375.685760  ...   3.366687   \n",
       "...            ...         ...         ...         ...  ...        ...   \n",
       "154308  -41.746180  -12.892625  -55.076210 -115.045525  ...  -5.682370   \n",
       "154309 -509.464900 -310.994630 -145.997090 -127.236984  ...  26.438950   \n",
       "154413 -160.252720 -164.502600 -163.036160 -166.671740  ...  -9.371429   \n",
       "154414 -194.316470 -151.761830  -53.744118    0.694293  ...  -4.724668   \n",
       "155066 -248.449260 -260.804470 -262.628100 -267.949980  ...   6.993926   \n",
       "\n",
       "            25812      25813      25814      25815      25816      25817  \\\n",
       "2        3.017122   4.167839   4.247549   2.814877   7.809177   7.383904   \n",
       "5       -2.405647   9.223669   4.483981   1.062832   2.859907  12.096918   \n",
       "10      10.014116  11.173001  12.426384  11.664799  10.098647   9.309401   \n",
       "140     -2.081024  -5.066889  -0.712717   4.743356  -0.623045  -5.512569   \n",
       "141      2.777272  -0.774252  -5.674080  -6.298902  -6.503519  -1.214979   \n",
       "...           ...        ...        ...        ...        ...        ...   \n",
       "154308  -7.509222  -9.412865 -11.408550  -9.417267  -6.659872  -9.279369   \n",
       "154309  26.907330  25.851170  27.487530   3.293386   0.510517   6.536824   \n",
       "154413  -8.214789  -6.444000  -5.737784  -7.112801  -9.904306  -7.110808   \n",
       "154414   1.030848   0.062413  -1.149542  -0.530087  -5.915976  -3.723760   \n",
       "155066   2.414964   5.689805   5.576524   4.663951   1.482147   4.473485   \n",
       "\n",
       "            25818      25819    genre  \n",
       "2        7.447351   1.666731  Hip-Hop  \n",
       "5       20.757313  22.445301  Hip-Hop  \n",
       "10       7.042737   6.770200      Pop  \n",
       "140     -6.743018  -7.929317     Folk  \n",
       "141      2.372759   0.545787     Folk  \n",
       "...           ...        ...      ...  \n",
       "154308 -10.586635 -12.149058  Hip-Hop  \n",
       "154309  14.151882  15.177959  Hip-Hop  \n",
       "154413  -4.359858  -6.566474      Pop  \n",
       "154414  -0.366745  -2.165277      Pop  \n",
       "155066   3.369352   3.568507  Hip-Hop  \n",
       "\n",
       "[7994 rows x 25821 columns]"
      ]
     },
     "execution_count": 4,
     "metadata": {},
     "output_type": "execute_result"
    }
   ],
   "source": [
    "df"
   ]
  },
  {
   "cell_type": "code",
   "execution_count": 5,
   "id": "19ac6ca3",
   "metadata": {
    "ExecuteTime": {
     "end_time": "2021-06-30T13:33:10.174831Z",
     "start_time": "2021-06-30T13:33:10.172569Z"
    }
   },
   "outputs": [
    {
     "data": {
      "text/plain": [
       "(7994, 25820)"
      ]
     },
     "execution_count": 5,
     "metadata": {},
     "output_type": "execute_result"
    }
   ],
   "source": [
    "X.shape"
   ]
  },
  {
   "cell_type": "code",
   "execution_count": 6,
   "id": "6d9801c3",
   "metadata": {
    "ExecuteTime": {
     "end_time": "2021-06-30T13:33:10.253461Z",
     "start_time": "2021-06-30T13:33:10.175817Z"
    }
   },
   "outputs": [
    {
     "data": {
      "text/plain": [
       "315.91046"
      ]
     },
     "execution_count": 6,
     "metadata": {},
     "output_type": "execute_result"
    }
   ],
   "source": [
    "X.max().max()"
   ]
  },
  {
   "cell_type": "code",
   "execution_count": 7,
   "id": "2bf3ed08",
   "metadata": {
    "ExecuteTime": {
     "end_time": "2021-06-30T13:33:10.255725Z",
     "start_time": "2021-06-30T13:33:10.254229Z"
    }
   },
   "outputs": [],
   "source": [
    "# X = X / X.max().max()"
   ]
  },
  {
   "cell_type": "code",
   "execution_count": 8,
   "id": "b1b38cdc",
   "metadata": {
    "ExecuteTime": {
     "end_time": "2021-06-30T13:33:10.260462Z",
     "start_time": "2021-06-30T13:33:10.257238Z"
    }
   },
   "outputs": [
    {
     "data": {
      "text/plain": [
       "array([0, 0, 1, ..., 1, 1, 0])"
      ]
     },
     "execution_count": 8,
     "metadata": {},
     "output_type": "execute_result"
    }
   ],
   "source": [
    "pd.factorize(y)[0]"
   ]
  },
  {
   "cell_type": "code",
   "execution_count": 9,
   "id": "5582935b",
   "metadata": {
    "ExecuteTime": {
     "end_time": "2021-06-30T13:33:10.264632Z",
     "start_time": "2021-06-30T13:33:10.262011Z"
    }
   },
   "outputs": [],
   "source": [
    "y = pd.factorize(y)[0]"
   ]
  },
  {
   "cell_type": "code",
   "execution_count": 10,
   "id": "7fdccfe7",
   "metadata": {
    "ExecuteTime": {
     "end_time": "2021-06-30T13:33:10.268128Z",
     "start_time": "2021-06-30T13:33:10.265977Z"
    }
   },
   "outputs": [],
   "source": [
    "y = to_categorical(y)"
   ]
  },
  {
   "cell_type": "code",
   "execution_count": 11,
   "id": "662df1c0",
   "metadata": {
    "ExecuteTime": {
     "end_time": "2021-06-30T13:33:10.272703Z",
     "start_time": "2021-06-30T13:33:10.269177Z"
    }
   },
   "outputs": [
    {
     "data": {
      "text/plain": [
       "array([[1., 0., 0., ..., 0., 0., 0.],\n",
       "       [1., 0., 0., ..., 0., 0., 0.],\n",
       "       [0., 1., 0., ..., 0., 0., 0.],\n",
       "       ...,\n",
       "       [0., 1., 0., ..., 0., 0., 0.],\n",
       "       [0., 1., 0., ..., 0., 0., 0.],\n",
       "       [1., 0., 0., ..., 0., 0., 0.]], dtype=float32)"
      ]
     },
     "execution_count": 11,
     "metadata": {},
     "output_type": "execute_result"
    }
   ],
   "source": [
    "y"
   ]
  },
  {
   "cell_type": "code",
   "execution_count": 12,
   "id": "a317b57e",
   "metadata": {
    "ExecuteTime": {
     "end_time": "2021-06-30T13:33:10.276043Z",
     "start_time": "2021-06-30T13:33:10.273739Z"
    }
   },
   "outputs": [
    {
     "data": {
      "text/plain": [
       "(8,)"
      ]
     },
     "execution_count": 12,
     "metadata": {},
     "output_type": "execute_result"
    }
   ],
   "source": [
    "y[0].shape"
   ]
  },
  {
   "cell_type": "code",
   "execution_count": 13,
   "id": "0015efcd",
   "metadata": {
    "ExecuteTime": {
     "end_time": "2021-06-30T13:33:11.606114Z",
     "start_time": "2021-06-30T13:33:10.276666Z"
    }
   },
   "outputs": [],
   "source": [
    "X_train, X_test, y_train, y_test = train_test_split(X, y, random_state = 42,\n",
    "                                                    stratify = y)"
   ]
  },
  {
   "cell_type": "code",
   "execution_count": 14,
   "id": "edcc3186",
   "metadata": {
    "ExecuteTime": {
     "end_time": "2021-06-30T13:33:11.609274Z",
     "start_time": "2021-06-30T13:33:11.606908Z"
    }
   },
   "outputs": [
    {
     "data": {
      "text/plain": [
       "(5995, 25820)"
      ]
     },
     "execution_count": 14,
     "metadata": {},
     "output_type": "execute_result"
    }
   ],
   "source": [
    "X_train.shape"
   ]
  },
  {
   "cell_type": "code",
   "execution_count": 15,
   "id": "50bcea3b",
   "metadata": {
    "ExecuteTime": {
     "end_time": "2021-06-30T13:33:13.403869Z",
     "start_time": "2021-06-30T13:33:11.610184Z"
    }
   },
   "outputs": [],
   "source": [
    "ss = StandardScaler()\n",
    "X_train = ss.fit_transform(X_train)\n",
    "X_test = ss.transform(X_test)"
   ]
  },
  {
   "cell_type": "code",
   "execution_count": 16,
   "id": "4c072669",
   "metadata": {
    "ExecuteTime": {
     "end_time": "2021-06-30T13:33:13.407112Z",
     "start_time": "2021-06-30T13:33:13.404719Z"
    }
   },
   "outputs": [
    {
     "data": {
      "text/plain": [
       "((5995, 25820), (1999, 25820))"
      ]
     },
     "execution_count": 16,
     "metadata": {},
     "output_type": "execute_result"
    }
   ],
   "source": [
    "X_train.shape, X_test.shape"
   ]
  },
  {
   "cell_type": "code",
   "execution_count": 17,
   "id": "61082726",
   "metadata": {
    "ExecuteTime": {
     "end_time": "2021-06-30T13:33:13.417940Z",
     "start_time": "2021-06-30T13:33:13.407833Z"
    }
   },
   "outputs": [
    {
     "data": {
      "text/plain": [
       "(25820,)"
      ]
     },
     "execution_count": 17,
     "metadata": {},
     "output_type": "execute_result"
    }
   ],
   "source": [
    "X_train[0].shape"
   ]
  },
  {
   "cell_type": "code",
   "execution_count": 18,
   "id": "f613bd5d",
   "metadata": {
    "ExecuteTime": {
     "end_time": "2021-06-30T13:33:13.421729Z",
     "start_time": "2021-06-30T13:33:13.419253Z"
    }
   },
   "outputs": [],
   "source": [
    "X_train = X_train.reshape(-1, 20, 1291, 1)\n",
    "X_test = X_test.reshape(-1, 20, 1291, 1)"
   ]
  },
  {
   "cell_type": "code",
   "execution_count": 19,
   "id": "ca280e5f",
   "metadata": {
    "ExecuteTime": {
     "end_time": "2021-06-30T13:33:13.426514Z",
     "start_time": "2021-06-30T13:33:13.423113Z"
    }
   },
   "outputs": [
    {
     "data": {
      "text/plain": [
       "(5995, 20, 1291, 1)"
      ]
     },
     "execution_count": 19,
     "metadata": {},
     "output_type": "execute_result"
    }
   ],
   "source": [
    "X_train.shape"
   ]
  },
  {
   "cell_type": "code",
   "execution_count": 20,
   "id": "921f9f76",
   "metadata": {
    "ExecuteTime": {
     "end_time": "2021-06-30T13:33:13.495146Z",
     "start_time": "2021-06-30T13:33:13.427900Z"
    }
   },
   "outputs": [
    {
     "name": "stdout",
     "output_type": "stream",
     "text": [
      "Model: \"sequential\"\n",
      "_________________________________________________________________\n",
      "Layer (type)                 Output Shape              Param #   \n",
      "=================================================================\n",
      "conv2d (Conv2D)              (None, 18, 1289, 32)      320       \n",
      "_________________________________________________________________\n",
      "max_pooling2d (MaxPooling2D) (None, 9, 644, 32)        0         \n",
      "_________________________________________________________________\n",
      "conv2d_1 (Conv2D)            (None, 7, 642, 64)        18496     \n",
      "_________________________________________________________________\n",
      "max_pooling2d_1 (MaxPooling2 (None, 3, 321, 64)        0         \n",
      "_________________________________________________________________\n",
      "flatten (Flatten)            (None, 61632)             0         \n",
      "_________________________________________________________________\n",
      "dense (Dense)                (None, 64)                3944512   \n",
      "_________________________________________________________________\n",
      "dense_1 (Dense)              (None, 8)                 520       \n",
      "=================================================================\n",
      "Total params: 3,963,848\n",
      "Trainable params: 3,963,848\n",
      "Non-trainable params: 0\n",
      "_________________________________________________________________\n"
     ]
    }
   ],
   "source": [
    "model = Sequential()\n",
    "\n",
    "model.add(Conv2D(32,\n",
    "                 activation='relu',\n",
    "                 input_shape=(X_train[0].shape),\n",
    "                 kernel_size=(3,3)))\n",
    "model.add(MaxPooling2D())\n",
    "\n",
    "\n",
    "model.add(Conv2D(64,\n",
    "                 activation='relu',\n",
    "                 kernel_size=(3,3)))\n",
    "model.add(MaxPooling2D())\n",
    "\n",
    "\n",
    "# model.add(Conv2D(128,\n",
    "#                  activation='relu',\n",
    "#                  kernel_size=(3,3)))\n",
    "# model.add(MaxPooling2D())\n",
    "\n",
    "\n",
    "model.add(Flatten())\n",
    "\n",
    "\n",
    "\n",
    "\n",
    "# model.add(Dense(32,\n",
    "#                 activation='relu',\n",
    "#                 input_shape=(X_train[0].shape),\n",
    "#                 kernel_regularizer=l2(.00001)))\n",
    "# model.summary()\n",
    "\n",
    "# model.add(Dropout(.1))\n",
    "\n",
    "model.add(Dense(64,\n",
    "                activation='relu',\n",
    "                kernel_regularizer=l2()))\n",
    "# model.summary()\n",
    "\n",
    "# model.add(Flatten())\n",
    "# model.summary()\n",
    "\n",
    "model.add(Dense(8,\n",
    "                activation='softmax'))\n",
    "model.summary()"
   ]
  },
  {
   "cell_type": "code",
   "execution_count": 21,
   "id": "8f05b0f0",
   "metadata": {
    "ExecuteTime": {
     "end_time": "2021-06-30T13:33:13.502937Z",
     "start_time": "2021-06-30T13:33:13.495892Z"
    }
   },
   "outputs": [],
   "source": [
    "model.compile(loss='categorical_crossentropy', optimizer='adam',\n",
    "            metrics=['accuracy'])"
   ]
  },
  {
   "cell_type": "code",
   "execution_count": 22,
   "id": "45e5c891",
   "metadata": {
    "ExecuteTime": {
     "end_time": "2021-06-30T13:52:11.918497Z",
     "start_time": "2021-06-30T13:48:20.247698Z"
    }
   },
   "outputs": [
    {
     "name": "stdout",
     "output_type": "stream",
     "text": [
      "Epoch 1/10\n",
      "6/6 [==============================] - 24s 4s/step - loss: 5.0557 - accuracy: 0.1285 - val_loss: 3.4038 - val_accuracy: 0.1756\n",
      "Epoch 2/10\n",
      "6/6 [==============================] - 23s 4s/step - loss: 3.1547 - accuracy: 0.1871 - val_loss: 2.9263 - val_accuracy: 0.1656\n",
      "Epoch 3/10\n",
      "6/6 [==============================] - 23s 4s/step - loss: 2.9109 - accuracy: 0.1821 - val_loss: 2.8450 - val_accuracy: 0.1996\n",
      "Epoch 4/10\n",
      "6/6 [==============================] - 23s 4s/step - loss: 2.8189 - accuracy: 0.1916 - val_loss: 2.7200 - val_accuracy: 0.2006\n",
      "Epoch 5/10\n",
      "6/6 [==============================] - 23s 4s/step - loss: 2.6829 - accuracy: 0.2054 - val_loss: 2.5744 - val_accuracy: 0.2151\n",
      "Epoch 6/10\n",
      "6/6 [==============================] - 23s 4s/step - loss: 2.5355 - accuracy: 0.2232 - val_loss: 2.4563 - val_accuracy: 0.2171\n",
      "Epoch 7/10\n",
      "6/6 [==============================] - 23s 4s/step - loss: 2.4199 - accuracy: 0.2376 - val_loss: 2.3571 - val_accuracy: 0.2316\n",
      "Epoch 8/10\n",
      "6/6 [==============================] - 23s 4s/step - loss: 2.3190 - accuracy: 0.2636 - val_loss: 2.2907 - val_accuracy: 0.2591\n",
      "Epoch 9/10\n",
      "6/6 [==============================] - 23s 4s/step - loss: 2.2350 - accuracy: 0.2807 - val_loss: 2.2302 - val_accuracy: 0.2751\n",
      "Epoch 10/10\n",
      "6/6 [==============================] - 23s 4s/step - loss: 2.1595 - accuracy: 0.3056 - val_loss: 2.1838 - val_accuracy: 0.2806\n"
     ]
    }
   ],
   "source": [
    "results = model.fit(X_train, y_train,\n",
    "                    epochs=10,\n",
    "                    batch_size=1024,\n",
    "                    validation_data=(X_test, y_test),\n",
    "                    verbose=1)\n",
    "K.clear_session()"
   ]
  },
  {
   "cell_type": "code",
   "execution_count": 24,
   "id": "d9c0920c",
   "metadata": {
    "ExecuteTime": {
     "end_time": "2021-06-30T13:16:30.339824Z",
     "start_time": "2021-06-30T13:16:30.336201Z"
    }
   },
   "outputs": [
    {
     "data": {
      "text/plain": [
       "0.125"
      ]
     },
     "execution_count": 24,
     "metadata": {},
     "output_type": "execute_result"
    }
   ],
   "source": [
    "1/8"
   ]
  },
  {
   "cell_type": "code",
   "execution_count": 67,
   "id": "6d615d40",
   "metadata": {
    "ExecuteTime": {
     "end_time": "2021-06-30T00:43:09.453547Z",
     "start_time": "2021-06-30T00:43:09.449853Z"
    }
   },
   "outputs": [],
   "source": [
    "K.clear_session()"
   ]
  },
  {
   "cell_type": "code",
   "execution_count": 33,
   "id": "f8f04afa",
   "metadata": {
    "ExecuteTime": {
     "end_time": "2021-06-29T20:37:08.360034Z",
     "start_time": "2021-06-29T20:37:08.357780Z"
    }
   },
   "outputs": [],
   "source": [
    "del model"
   ]
  },
  {
   "cell_type": "code",
   "execution_count": 34,
   "id": "c05e7aac",
   "metadata": {
    "ExecuteTime": {
     "end_time": "2021-06-29T20:37:18.385204Z",
     "start_time": "2021-06-29T20:37:18.383053Z"
    }
   },
   "outputs": [],
   "source": [
    "del results"
   ]
  },
  {
   "cell_type": "code",
   "execution_count": 35,
   "id": "673bc90d",
   "metadata": {
    "ExecuteTime": {
     "end_time": "2021-06-29T20:37:35.739812Z",
     "start_time": "2021-06-29T20:37:35.733807Z"
    }
   },
   "outputs": [],
   "source": [
    "del df"
   ]
  },
  {
   "cell_type": "code",
   "execution_count": 36,
   "id": "fd4b4550",
   "metadata": {
    "ExecuteTime": {
     "end_time": "2021-06-29T20:37:46.518256Z",
     "start_time": "2021-06-29T20:37:46.512555Z"
    }
   },
   "outputs": [],
   "source": [
    "del X"
   ]
  },
  {
   "cell_type": "code",
   "execution_count": 37,
   "id": "a7537b86",
   "metadata": {
    "ExecuteTime": {
     "end_time": "2021-06-29T20:37:53.405050Z",
     "start_time": "2021-06-29T20:37:53.402989Z"
    }
   },
   "outputs": [],
   "source": [
    "del X_train"
   ]
  },
  {
   "cell_type": "code",
   "execution_count": 38,
   "id": "d281fbaa",
   "metadata": {
    "ExecuteTime": {
     "end_time": "2021-06-29T20:37:58.521506Z",
     "start_time": "2021-06-29T20:37:58.519111Z"
    }
   },
   "outputs": [],
   "source": [
    "del X_test"
   ]
  },
  {
   "cell_type": "code",
   "execution_count": null,
   "id": "3bba0ce5",
   "metadata": {},
   "outputs": [],
   "source": [
    "del "
   ]
  }
 ],
 "metadata": {
  "kernelspec": {
   "display_name": "Python 3",
   "language": "python",
   "name": "python3"
  },
  "language_info": {
   "codemirror_mode": {
    "name": "ipython",
    "version": 3
   },
   "file_extension": ".py",
   "mimetype": "text/x-python",
   "name": "python",
   "nbconvert_exporter": "python",
   "pygments_lexer": "ipython3",
   "version": "3.9.5"
  }
 },
 "nbformat": 4,
 "nbformat_minor": 5
}
