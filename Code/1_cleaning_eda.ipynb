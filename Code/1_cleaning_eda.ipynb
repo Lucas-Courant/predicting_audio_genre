{
 "cells": [
  {
   "cell_type": "code",
   "execution_count": 1,
   "id": "6fba2017",
   "metadata": {
    "ExecuteTime": {
     "end_time": "2021-10-09T17:53:52.375094Z",
     "start_time": "2021-10-09T17:53:51.193070Z"
    }
   },
   "outputs": [],
   "source": [
    "import pandas as pd\n",
    "import numpy as np\n",
    "import utils\n",
    "import matplotlib.pyplot as plt\n",
    "import seaborn as sns\n",
    "from sklearn.ensemble import RandomForestClassifier, GradientBoostingClassifier\n",
    "from sklearn.model_selection import train_test_split, cross_val_score, GridSearchCV\n",
    "from sklearn.linear_model import LogisticRegression, LogisticRegressionCV\n",
    "from sklearn.neighbors import KNeighborsClassifier\n",
    "from sklearn.decomposition import PCA\n",
    "from sklearn.preprocessing import StandardScaler\n",
    "from sklearn.metrics import confusion_matrix"
   ]
  },
  {
   "cell_type": "code",
   "execution_count": null,
   "id": "91143177",
   "metadata": {},
   "outputs": [],
   "source": [
    "def load_track_metadata(filepath):\n",
    "    \"\"\"Loads track metadata and returns the top track genre, track title, and\n",
    "    artist name of the 'small' subset of tracks.\n",
    "    \n",
    "    Parameters\n",
    "    ..........\n",
    "    filepath - str\n",
    "        Should point to the tracks.csv file from the free music archive\n",
    "    \"\"\"\n",
    "    \n",
    "    tracks = utils.load('../data/fma_metadata/tracks.csv')\n",
    "    \n",
    "    \n",
    "    # these are the only metadata I want at the moment\n",
    "\n",
    "    track_metadata = ['track_genre_top', 'track_title', 'artist_name']"
   ]
  },
  {
   "cell_type": "code",
   "execution_count": 3,
   "id": "138838d5",
   "metadata": {
    "ExecuteTime": {
     "end_time": "2021-07-05T18:57:21.475968Z",
     "start_time": "2021-07-05T18:57:09.394302Z"
    }
   },
   "outputs": [],
   "source": [
    "tracks = utils.load('../data/fma_metadata/tracks.csv')\n",
    "features = utils.load('../data/fma_metadata/features.csv')"
   ]
  },
  {
   "cell_type": "code",
   "execution_count": 4,
   "id": "163813c0",
   "metadata": {
    "ExecuteTime": {
     "end_time": "2021-07-05T18:57:21.480921Z",
     "start_time": "2021-07-05T18:57:21.476969Z"
    },
    "scrolled": true
   },
   "outputs": [
    {
     "data": {
      "text/plain": [
       "{'chroma_cens',\n",
       " 'chroma_cqt',\n",
       " 'chroma_stft',\n",
       " 'mfcc',\n",
       " 'rmse',\n",
       " 'spectral_bandwidth',\n",
       " 'spectral_centroid',\n",
       " 'spectral_contrast',\n",
       " 'spectral_rolloff',\n",
       " 'tonnetz',\n",
       " 'zcr'}"
      ]
     },
     "execution_count": 4,
     "metadata": {},
     "output_type": "execute_result"
    }
   ],
   "source": [
    "audio_features = set(features.columns.get_level_values(0))\n",
    "audio_features"
   ]
  },
  {
   "cell_type": "markdown",
   "id": "7a3fc74d",
   "metadata": {},
   "source": [
    "**Interpretation:** These are the audio features included in the free music archive."
   ]
  },
  {
   "cell_type": "code",
   "execution_count": 5,
   "id": "6a6ee4d7",
   "metadata": {
    "ExecuteTime": {
     "end_time": "2021-07-05T18:57:21.487206Z",
     "start_time": "2021-07-05T18:57:21.482797Z"
    }
   },
   "outputs": [
    {
     "data": {
      "text/plain": [
       "{'kurtosis', 'max', 'mean', 'median', 'min', 'skew', 'std'}"
      ]
     },
     "execution_count": 5,
     "metadata": {},
     "output_type": "execute_result"
    }
   ],
   "source": [
    "set(features['mfcc'].columns.get_level_values(0))"
   ]
  },
  {
   "cell_type": "markdown",
   "id": "8a065479",
   "metadata": {},
   "source": [
    "**Interpretation:** These are the statistics provided for the above audio features."
   ]
  },
  {
   "cell_type": "code",
   "execution_count": 6,
   "id": "b37e6a49",
   "metadata": {
    "ExecuteTime": {
     "end_time": "2021-07-05T18:57:21.491629Z",
     "start_time": "2021-07-05T18:57:21.488551Z"
    }
   },
   "outputs": [],
   "source": [
    "# https://stackoverflow.com/questions/14507794/pandas-how-to-flatten-a-hierarchical-index-in-columns\n",
    "\n",
    "tracks.columns = ['_'.join(col) for col in tracks.columns.to_flat_index()]\n",
    "features.columns = ['_'.join(col) for col in features.columns.to_flat_index()]"
   ]
  },
  {
   "cell_type": "code",
   "execution_count": 7,
   "id": "d0df0f58",
   "metadata": {
    "ExecuteTime": {
     "end_time": "2021-07-05T18:57:21.504501Z",
     "start_time": "2021-07-05T18:57:21.492476Z"
    }
   },
   "outputs": [],
   "source": [
    "smol_tracks = tracks.loc[tracks['set_subset'] == 'small']"
   ]
  },
  {
   "cell_type": "markdown",
   "id": "ef46f690",
   "metadata": {},
   "source": [
    "**Interpretation:** I have mp3 data for the 'small' subset only at this point."
   ]
  },
  {
   "cell_type": "code",
   "execution_count": 8,
   "id": "4275937b",
   "metadata": {
    "ExecuteTime": {
     "end_time": "2021-07-05T18:57:21.508042Z",
     "start_time": "2021-07-05T18:57:21.505266Z"
    }
   },
   "outputs": [
    {
     "data": {
      "text/plain": [
       "(8000, 52)"
      ]
     },
     "execution_count": 8,
     "metadata": {},
     "output_type": "execute_result"
    }
   ],
   "source": [
    "smol_tracks.shape"
   ]
  },
  {
   "cell_type": "code",
   "execution_count": 9,
   "id": "575055f7",
   "metadata": {
    "ExecuteTime": {
     "end_time": "2021-07-05T18:57:21.521190Z",
     "start_time": "2021-07-05T18:57:21.509193Z"
    }
   },
   "outputs": [
    {
     "data": {
      "text/plain": [
       "track_lyricist              7974\n",
       "track_publisher             7924\n",
       "track_information           7841\n",
       "track_composer              7820\n",
       "artist_active_year_end      7642\n",
       "artist_wikipedia_page       7590\n",
       "track_date_recorded         7535\n",
       "artist_related_projects     7306\n",
       "artist_associated_labels    7151\n",
       "track_language_code         6995\n",
       "album_engineer              6858\n",
       "album_producer              6596\n",
       "artist_active_year_begin    6458\n",
       "artist_longitude            5101\n",
       "artist_latitude             5101\n",
       "artist_members              4475\n",
       "album_date_released         2663\n",
       "artist_location             2529\n",
       "artist_bio                  2086\n",
       "artist_website              1548\n",
       "album_information           1498\n",
       "album_type                   231\n",
       "track_license                  5\n",
       "track_interest                 0\n",
       "track_genres_all               0\n",
       "dtype: int64"
      ]
     },
     "execution_count": 9,
     "metadata": {},
     "output_type": "execute_result"
    }
   ],
   "source": [
    "smol_tracks.isna().sum().sort_values(ascending=False)[:25]"
   ]
  },
  {
   "cell_type": "markdown",
   "id": "6c1e647f",
   "metadata": {},
   "source": [
    "**Interpretation:** This metadata dataset has many null values but I will be working with the audio features dataset and am only interested in the 'genre' column from this dataset."
   ]
  },
  {
   "cell_type": "code",
   "execution_count": 10,
   "id": "33caecc5",
   "metadata": {
    "ExecuteTime": {
     "end_time": "2021-07-05T18:57:21.583657Z",
     "start_time": "2021-07-05T18:57:21.522312Z"
    }
   },
   "outputs": [
    {
     "data": {
      "text/plain": [
       "chroma_cens_kurtosis_01    0\n",
       "mfcc_median_13             0\n",
       "mfcc_skew_03               0\n",
       "mfcc_skew_02               0\n",
       "mfcc_skew_01               0\n",
       "dtype: int64"
      ]
     },
     "execution_count": 10,
     "metadata": {},
     "output_type": "execute_result"
    }
   ],
   "source": [
    "features.isnull().sum().sort_values(ascending=False)[:5]"
   ]
  },
  {
   "cell_type": "markdown",
   "id": "53b21760",
   "metadata": {},
   "source": [
    "**Interpretation:** No null values in the feature dataframe is music to my ears."
   ]
  },
  {
   "cell_type": "code",
   "execution_count": 11,
   "id": "3f0cdffb",
   "metadata": {
    "ExecuteTime": {
     "end_time": "2021-07-05T18:57:21.586190Z",
     "start_time": "2021-07-05T18:57:21.584576Z"
    }
   },
   "outputs": [],
   "source": [
    "# these are the only metadata I want at the moment\n",
    "\n",
    "track_metadata = ['track_genre_top', 'track_title', 'artist_name']"
   ]
  },
  {
   "cell_type": "code",
   "execution_count": 12,
   "id": "b6a65547",
   "metadata": {
    "ExecuteTime": {
     "end_time": "2021-07-05T18:57:21.623361Z",
     "start_time": "2021-07-05T18:57:21.586953Z"
    },
    "scrolled": true
   },
   "outputs": [],
   "source": [
    "df = features.merge(smol_tracks[track_metadata],\n",
    "                    left_index=True, right_index=True)"
   ]
  },
  {
   "cell_type": "code",
   "execution_count": 13,
   "id": "be46f76f",
   "metadata": {
    "ExecuteTime": {
     "end_time": "2021-07-05T18:57:21.632521Z",
     "start_time": "2021-07-05T18:57:21.624447Z"
    }
   },
   "outputs": [],
   "source": [
    "smol_tracks.index = smol_tracks.index.astype('string')"
   ]
  },
  {
   "cell_type": "code",
   "execution_count": 14,
   "id": "9573428b",
   "metadata": {
    "ExecuteTime": {
     "end_time": "2021-07-05T18:57:21.640433Z",
     "start_time": "2021-07-05T18:57:21.633200Z"
    }
   },
   "outputs": [
    {
     "data": {
      "text/plain": [
       "Electronic             0.125\n",
       "Experimental           0.125\n",
       "Folk                   0.125\n",
       "Hip-Hop                0.125\n",
       "Instrumental           0.125\n",
       "International          0.125\n",
       "Pop                    0.125\n",
       "Rock                   0.125\n",
       "Blues                  0.000\n",
       "Classical              0.000\n",
       "Country                0.000\n",
       "Easy Listening         0.000\n",
       "Jazz                   0.000\n",
       "Old-Time / Historic    0.000\n",
       "Soul-RnB               0.000\n",
       "Spoken                 0.000\n",
       "Name: track_genre_top, dtype: float64"
      ]
     },
     "execution_count": 14,
     "metadata": {},
     "output_type": "execute_result"
    }
   ],
   "source": [
    "df['track_genre_top'].value_counts(normalize=True)"
   ]
  },
  {
   "cell_type": "code",
   "execution_count": 15,
   "id": "11a3faf1",
   "metadata": {
    "ExecuteTime": {
     "end_time": "2021-07-05T18:57:21.655103Z",
     "start_time": "2021-07-05T18:57:21.641208Z"
    }
   },
   "outputs": [
    {
     "data": {
      "text/html": [
       "<div>\n",
       "<style scoped>\n",
       "    .dataframe tbody tr th:only-of-type {\n",
       "        vertical-align: middle;\n",
       "    }\n",
       "\n",
       "    .dataframe tbody tr th {\n",
       "        vertical-align: top;\n",
       "    }\n",
       "\n",
       "    .dataframe thead th {\n",
       "        text-align: right;\n",
       "    }\n",
       "</style>\n",
       "<table border=\"1\" class=\"dataframe\">\n",
       "  <thead>\n",
       "    <tr style=\"text-align: right;\">\n",
       "      <th></th>\n",
       "      <th>chroma_cens_kurtosis_01</th>\n",
       "      <th>chroma_cens_kurtosis_02</th>\n",
       "      <th>chroma_cens_kurtosis_03</th>\n",
       "      <th>chroma_cens_kurtosis_04</th>\n",
       "      <th>chroma_cens_kurtosis_05</th>\n",
       "      <th>chroma_cens_kurtosis_06</th>\n",
       "      <th>chroma_cens_kurtosis_07</th>\n",
       "      <th>chroma_cens_kurtosis_08</th>\n",
       "      <th>chroma_cens_kurtosis_09</th>\n",
       "      <th>chroma_cens_kurtosis_10</th>\n",
       "      <th>...</th>\n",
       "      <th>zcr_kurtosis_01</th>\n",
       "      <th>zcr_max_01</th>\n",
       "      <th>zcr_mean_01</th>\n",
       "      <th>zcr_median_01</th>\n",
       "      <th>zcr_min_01</th>\n",
       "      <th>zcr_skew_01</th>\n",
       "      <th>zcr_std_01</th>\n",
       "      <th>track_genre_top</th>\n",
       "      <th>track_title</th>\n",
       "      <th>artist_name</th>\n",
       "    </tr>\n",
       "    <tr>\n",
       "      <th>track_id</th>\n",
       "      <th></th>\n",
       "      <th></th>\n",
       "      <th></th>\n",
       "      <th></th>\n",
       "      <th></th>\n",
       "      <th></th>\n",
       "      <th></th>\n",
       "      <th></th>\n",
       "      <th></th>\n",
       "      <th></th>\n",
       "      <th></th>\n",
       "      <th></th>\n",
       "      <th></th>\n",
       "      <th></th>\n",
       "      <th></th>\n",
       "      <th></th>\n",
       "      <th></th>\n",
       "      <th></th>\n",
       "      <th></th>\n",
       "      <th></th>\n",
       "      <th></th>\n",
       "    </tr>\n",
       "  </thead>\n",
       "  <tbody>\n",
       "    <tr>\n",
       "      <th>2</th>\n",
       "      <td>7.180653</td>\n",
       "      <td>5.230309</td>\n",
       "      <td>0.249321</td>\n",
       "      <td>1.347620</td>\n",
       "      <td>1.482478</td>\n",
       "      <td>0.531371</td>\n",
       "      <td>1.481593</td>\n",
       "      <td>2.691455</td>\n",
       "      <td>0.866868</td>\n",
       "      <td>1.341231</td>\n",
       "      <td>...</td>\n",
       "      <td>5.758890</td>\n",
       "      <td>0.459473</td>\n",
       "      <td>0.085629</td>\n",
       "      <td>0.071289</td>\n",
       "      <td>0.000000</td>\n",
       "      <td>2.089872</td>\n",
       "      <td>0.061448</td>\n",
       "      <td>Hip-Hop</td>\n",
       "      <td>Food</td>\n",
       "      <td>AWOL</td>\n",
       "    </tr>\n",
       "    <tr>\n",
       "      <th>5</th>\n",
       "      <td>0.527563</td>\n",
       "      <td>-0.077654</td>\n",
       "      <td>-0.279610</td>\n",
       "      <td>0.685883</td>\n",
       "      <td>1.937570</td>\n",
       "      <td>0.880839</td>\n",
       "      <td>-0.923192</td>\n",
       "      <td>-0.927232</td>\n",
       "      <td>0.666617</td>\n",
       "      <td>1.038546</td>\n",
       "      <td>...</td>\n",
       "      <td>6.808415</td>\n",
       "      <td>0.375000</td>\n",
       "      <td>0.053114</td>\n",
       "      <td>0.041504</td>\n",
       "      <td>0.000000</td>\n",
       "      <td>2.193303</td>\n",
       "      <td>0.044861</td>\n",
       "      <td>Hip-Hop</td>\n",
       "      <td>This World</td>\n",
       "      <td>AWOL</td>\n",
       "    </tr>\n",
       "    <tr>\n",
       "      <th>10</th>\n",
       "      <td>3.702245</td>\n",
       "      <td>-0.291193</td>\n",
       "      <td>2.196742</td>\n",
       "      <td>-0.234449</td>\n",
       "      <td>1.367364</td>\n",
       "      <td>0.998411</td>\n",
       "      <td>1.770694</td>\n",
       "      <td>1.604566</td>\n",
       "      <td>0.521217</td>\n",
       "      <td>1.982386</td>\n",
       "      <td>...</td>\n",
       "      <td>21.434212</td>\n",
       "      <td>0.452148</td>\n",
       "      <td>0.077515</td>\n",
       "      <td>0.071777</td>\n",
       "      <td>0.000000</td>\n",
       "      <td>3.542325</td>\n",
       "      <td>0.040800</td>\n",
       "      <td>Pop</td>\n",
       "      <td>Freeway</td>\n",
       "      <td>Kurt Vile</td>\n",
       "    </tr>\n",
       "    <tr>\n",
       "      <th>140</th>\n",
       "      <td>0.533579</td>\n",
       "      <td>-0.623885</td>\n",
       "      <td>-1.086205</td>\n",
       "      <td>-1.081079</td>\n",
       "      <td>-0.765151</td>\n",
       "      <td>-0.072282</td>\n",
       "      <td>-0.882913</td>\n",
       "      <td>-0.582376</td>\n",
       "      <td>-0.884749</td>\n",
       "      <td>-0.645214</td>\n",
       "      <td>...</td>\n",
       "      <td>11.052547</td>\n",
       "      <td>0.379395</td>\n",
       "      <td>0.052379</td>\n",
       "      <td>0.036621</td>\n",
       "      <td>0.001953</td>\n",
       "      <td>3.143968</td>\n",
       "      <td>0.057712</td>\n",
       "      <td>Folk</td>\n",
       "      <td>Queen Of The Wires</td>\n",
       "      <td>Alec K. Redfearn &amp; the Eyesores</td>\n",
       "    </tr>\n",
       "    <tr>\n",
       "      <th>141</th>\n",
       "      <td>0.172898</td>\n",
       "      <td>-0.284804</td>\n",
       "      <td>-1.169662</td>\n",
       "      <td>-1.062855</td>\n",
       "      <td>-0.706868</td>\n",
       "      <td>-0.708281</td>\n",
       "      <td>-0.204884</td>\n",
       "      <td>0.023624</td>\n",
       "      <td>-0.642770</td>\n",
       "      <td>-0.786291</td>\n",
       "      <td>...</td>\n",
       "      <td>32.994659</td>\n",
       "      <td>0.415527</td>\n",
       "      <td>0.040267</td>\n",
       "      <td>0.034668</td>\n",
       "      <td>0.002930</td>\n",
       "      <td>4.204097</td>\n",
       "      <td>0.028665</td>\n",
       "      <td>Folk</td>\n",
       "      <td>Ohio</td>\n",
       "      <td>Alec K. Redfearn &amp; the Eyesores</td>\n",
       "    </tr>\n",
       "  </tbody>\n",
       "</table>\n",
       "<p>5 rows × 521 columns</p>\n",
       "</div>"
      ],
      "text/plain": [
       "          chroma_cens_kurtosis_01  chroma_cens_kurtosis_02  \\\n",
       "track_id                                                     \n",
       "2                        7.180653                 5.230309   \n",
       "5                        0.527563                -0.077654   \n",
       "10                       3.702245                -0.291193   \n",
       "140                      0.533579                -0.623885   \n",
       "141                      0.172898                -0.284804   \n",
       "\n",
       "          chroma_cens_kurtosis_03  chroma_cens_kurtosis_04  \\\n",
       "track_id                                                     \n",
       "2                        0.249321                 1.347620   \n",
       "5                       -0.279610                 0.685883   \n",
       "10                       2.196742                -0.234449   \n",
       "140                     -1.086205                -1.081079   \n",
       "141                     -1.169662                -1.062855   \n",
       "\n",
       "          chroma_cens_kurtosis_05  chroma_cens_kurtosis_06  \\\n",
       "track_id                                                     \n",
       "2                        1.482478                 0.531371   \n",
       "5                        1.937570                 0.880839   \n",
       "10                       1.367364                 0.998411   \n",
       "140                     -0.765151                -0.072282   \n",
       "141                     -0.706868                -0.708281   \n",
       "\n",
       "          chroma_cens_kurtosis_07  chroma_cens_kurtosis_08  \\\n",
       "track_id                                                     \n",
       "2                        1.481593                 2.691455   \n",
       "5                       -0.923192                -0.927232   \n",
       "10                       1.770694                 1.604566   \n",
       "140                     -0.882913                -0.582376   \n",
       "141                     -0.204884                 0.023624   \n",
       "\n",
       "          chroma_cens_kurtosis_09  chroma_cens_kurtosis_10  ...  \\\n",
       "track_id                                                    ...   \n",
       "2                        0.866868                 1.341231  ...   \n",
       "5                        0.666617                 1.038546  ...   \n",
       "10                       0.521217                 1.982386  ...   \n",
       "140                     -0.884749                -0.645214  ...   \n",
       "141                     -0.642770                -0.786291  ...   \n",
       "\n",
       "          zcr_kurtosis_01  zcr_max_01  zcr_mean_01  zcr_median_01  zcr_min_01  \\\n",
       "track_id                                                                        \n",
       "2                5.758890    0.459473     0.085629       0.071289    0.000000   \n",
       "5                6.808415    0.375000     0.053114       0.041504    0.000000   \n",
       "10              21.434212    0.452148     0.077515       0.071777    0.000000   \n",
       "140             11.052547    0.379395     0.052379       0.036621    0.001953   \n",
       "141             32.994659    0.415527     0.040267       0.034668    0.002930   \n",
       "\n",
       "          zcr_skew_01  zcr_std_01  track_genre_top         track_title  \\\n",
       "track_id                                                                 \n",
       "2            2.089872    0.061448          Hip-Hop                Food   \n",
       "5            2.193303    0.044861          Hip-Hop          This World   \n",
       "10           3.542325    0.040800              Pop             Freeway   \n",
       "140          3.143968    0.057712             Folk  Queen Of The Wires   \n",
       "141          4.204097    0.028665             Folk                Ohio   \n",
       "\n",
       "                              artist_name  \n",
       "track_id                                   \n",
       "2                                    AWOL  \n",
       "5                                    AWOL  \n",
       "10                              Kurt Vile  \n",
       "140       Alec K. Redfearn & the Eyesores  \n",
       "141       Alec K. Redfearn & the Eyesores  \n",
       "\n",
       "[5 rows x 521 columns]"
      ]
     },
     "execution_count": 15,
     "metadata": {},
     "output_type": "execute_result"
    }
   ],
   "source": [
    "df.head()"
   ]
  },
  {
   "cell_type": "code",
   "execution_count": 16,
   "id": "99620126",
   "metadata": {
    "ExecuteTime": {
     "end_time": "2021-07-05T18:57:21.658933Z",
     "start_time": "2021-07-05T18:57:21.656301Z"
    }
   },
   "outputs": [
    {
     "name": "stdout",
     "output_type": "stream",
     "text": [
      "category\n",
      "object\n",
      "object\n"
     ]
    },
    {
     "name": "stderr",
     "output_type": "stream",
     "text": [
      "<ipython-input-16-6ed53c4ae0e6>:2: DeprecationWarning: Converting `np.inexact` or `np.floating` to a dtype is deprecated. The current result is `float64` which is not strictly correct.\n",
      "  if dtype != np.number:\n"
     ]
    }
   ],
   "source": [
    "for dtype in df.dtypes:\n",
    "    if dtype != np.number:\n",
    "        print(dtype)"
   ]
  },
  {
   "cell_type": "markdown",
   "id": "1363a7a0",
   "metadata": {},
   "source": [
    "**Interpretation:** The only features that are non numerical are the three metadata columns which is what I expect."
   ]
  },
  {
   "cell_type": "code",
   "execution_count": 17,
   "id": "5a23349e",
   "metadata": {
    "ExecuteTime": {
     "end_time": "2021-07-05T18:57:21.667338Z",
     "start_time": "2021-07-05T18:57:21.659908Z"
    }
   },
   "outputs": [],
   "source": [
    "df.index = df.index.astype('string')"
   ]
  },
  {
   "cell_type": "markdown",
   "id": "891a76a7",
   "metadata": {},
   "source": [
    "**Interpretation:** Changing the index to a string helps with indexing."
   ]
  },
  {
   "cell_type": "code",
   "execution_count": 18,
   "id": "5d5a4678",
   "metadata": {
    "ExecuteTime": {
     "end_time": "2021-07-05T18:57:21.680308Z",
     "start_time": "2021-07-05T18:57:21.668079Z"
    }
   },
   "outputs": [],
   "source": [
    "df.drop(['99134', '98567', '98569', '108925', '98565', '133297'], inplace=True)"
   ]
  },
  {
   "cell_type": "markdown",
   "id": "22614afc",
   "metadata": {},
   "source": [
    "**Interpretation:** These tracks have known issues and should be removed per the [github wiki.](https://github.com/mdeff/fma/wiki)"
   ]
  },
  {
   "cell_type": "code",
   "execution_count": 23,
   "id": "415ff0ae",
   "metadata": {
    "ExecuteTime": {
     "end_time": "2021-07-05T18:58:27.347451Z",
     "start_time": "2021-07-05T18:58:27.345471Z"
    }
   },
   "outputs": [],
   "source": [
    "# df.to_csv('../data/features_with_genres.csv')"
   ]
  },
  {
   "cell_type": "code",
   "execution_count": 24,
   "id": "52b9c50b",
   "metadata": {
    "ExecuteTime": {
     "end_time": "2021-07-05T18:58:30.458592Z",
     "start_time": "2021-07-05T18:58:27.495037Z"
    }
   },
   "outputs": [],
   "source": [
    "corr = df.corr()"
   ]
  },
  {
   "cell_type": "code",
   "execution_count": 25,
   "id": "3a075756",
   "metadata": {
    "ExecuteTime": {
     "end_time": "2021-07-05T18:58:30.513403Z",
     "start_time": "2021-07-05T18:58:30.459436Z"
    }
   },
   "outputs": [
    {
     "name": "stdout",
     "output_type": "stream",
     "text": [
      "518\n",
      "\n",
      " 518\n"
     ]
    }
   ],
   "source": [
    "print(df.drop(columns=track_metadata).shape[1])\n",
    "\n",
    "print('\\n', len([value for value in np.triu(corr).flatten() if value == 1]))"
   ]
  },
  {
   "cell_type": "markdown",
   "id": "31ef722d",
   "metadata": {},
   "source": [
    "**Interpretation:** The ones in the correlation matrix come from the features interacting with themselves and can be removed."
   ]
  },
  {
   "cell_type": "code",
   "execution_count": 27,
   "id": "6f2dbd7d",
   "metadata": {
    "ExecuteTime": {
     "end_time": "2021-07-05T18:59:01.541762Z",
     "start_time": "2021-07-05T18:59:00.890519Z"
    }
   },
   "outputs": [
    {
     "data": {
      "image/png": "[encoded data removed]",
      "text/plain": [
       "<Figure size 1080x720 with 1 Axes>"
      ]
     },
     "metadata": {
      "needs_background": "light"
     },
     "output_type": "display_data"
    }
   ],
   "source": [
    "corr_values = [value for value in np.triu(corr).flatten()\n",
    "               if (value != 0) and (value != 1)]\n",
    "\n",
    "plt.figure(figsize = (15,10))\n",
    "plt.hist(corr_values, bins=200)\n",
    "plt.title('Correlation Values for Entire Data Frame', size=25);"
   ]
  },
  {
   "cell_type": "markdown",
   "id": "8c73f280",
   "metadata": {},
   "source": [
    "**Interpretation:** There are some features that are highly correlated with others but the majority of the features are not very correlated with each other."
   ]
  },
  {
   "cell_type": "code",
   "execution_count": 20,
   "id": "b8c83a87",
   "metadata": {
    "ExecuteTime": {
     "end_time": "2021-07-05T18:57:47.110041Z",
     "start_time": "2021-07-05T18:57:47.104750Z"
    }
   },
   "outputs": [],
   "source": [
    "mfcc_df = df[[col for col in df.columns if 'mfcc' in col]]"
   ]
  },
  {
   "cell_type": "code",
   "execution_count": 31,
   "id": "ff3cf243",
   "metadata": {
    "ExecuteTime": {
     "end_time": "2021-07-05T19:00:08.691242Z",
     "start_time": "2021-07-05T19:00:08.303380Z"
    },
    "scrolled": false
   },
   "outputs": [
    {
     "data": {
      "image/png": "[encoded data removed]",
      "text/plain": [
       "<Figure size 1080x720 with 1 Axes>"
      ]
     },
     "metadata": {
      "needs_background": "light"
     },
     "output_type": "display_data"
    }
   ],
   "source": [
    "corr_values = [value for value in np.triu(mfcc_df.corr()).flatten()\n",
    "               if (value != 0) and (value != 1)]\n",
    "\n",
    "plt.figure(figsize = (15,10))\n",
    "plt.hist(corr_values, bins=75)\n",
    "plt.title('Correlation Values for MFCC Columns', size=25);"
   ]
  },
  {
   "cell_type": "markdown",
   "id": "7285118e",
   "metadata": {},
   "source": [
    "**Interpretation:** There are some features that are highly correlated with others but the majority of the features are not very correlated with each other."
   ]
  }
 ],
 "metadata": {
  "kernelspec": {
   "display_name": "Python 3",
   "language": "python",
   "name": "python3"
  },
  "language_info": {
   "codemirror_mode": {
    "name": "ipython",
    "version": 3
   },
   "file_extension": ".py",
   "mimetype": "text/x-python",
   "name": "python",
   "nbconvert_exporter": "python",
   "pygments_lexer": "ipython3",
   "version": "3.9.5"
  }
 },
 "nbformat": 4,
 "nbformat_minor": 5
}
