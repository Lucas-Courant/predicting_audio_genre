{
 "cells": [
  {
   "cell_type": "code",
   "execution_count": 1,
   "id": "454dc57d",
   "metadata": {
    "ExecuteTime": {
     "end_time": "2021-10-12T00:19:12.505489Z",
     "start_time": "2021-10-12T00:19:07.338908Z"
    }
   },
   "outputs": [],
   "source": [
    "import numpy as np\n",
    "import pandas as pd\n",
    "import librosa\n",
    "import librosa.display\n",
    "from pathlib import Path\n",
    "from matplotlib import pyplot as plt\n",
    "from sklearn.model_selection import train_test_split\n",
    "import warnings\n",
    "from PIL import Image\n",
    "import gc"
   ]
  },
  {
   "cell_type": "markdown",
   "id": "27a6193d",
   "metadata": {},
   "source": [
    "# Spectrogram Generation\n",
    "\n",
    "This code generates and saves spectrograms from the Mp3 files downloaded from the free music archive. I fixed the memory bug present in the first two functions and will remove them shortly."
   ]
  },
  {
   "cell_type": "code",
   "execution_count": 2,
   "id": "6a412173",
   "metadata": {
    "ExecuteTime": {
     "end_time": "2021-10-12T00:19:51.001377Z",
     "start_time": "2021-10-12T00:19:50.987877Z"
    }
   },
   "outputs": [],
   "source": [
    "# https://queirozf.com/entries/suppressing-ignoring-warnings-in-python-reference-and-examples\n",
    "\n",
    "# warning happens when reading mp3 files. It is routine and can be ignored\n",
    "warnings.filterwarnings('ignore', message=\"PySoundFile failed. Trying audioread instead.\")"
   ]
  },
  {
   "cell_type": "code",
   "execution_count": 3,
   "id": "da2934a3",
   "metadata": {
    "ExecuteTime": {
     "end_time": "2021-10-12T00:19:52.005622Z",
     "start_time": "2021-10-12T00:19:51.479029Z"
    }
   },
   "outputs": [
    {
     "data": {
      "text/html": [
       "<div>\n",
       "<style scoped>\n",
       "    .dataframe tbody tr th:only-of-type {\n",
       "        vertical-align: middle;\n",
       "    }\n",
       "\n",
       "    .dataframe tbody tr th {\n",
       "        vertical-align: top;\n",
       "    }\n",
       "\n",
       "    .dataframe thead th {\n",
       "        text-align: right;\n",
       "    }\n",
       "</style>\n",
       "<table border=\"1\" class=\"dataframe\">\n",
       "  <thead>\n",
       "    <tr style=\"text-align: right;\">\n",
       "      <th></th>\n",
       "      <th>chroma_cens_kurtosis_01</th>\n",
       "      <th>chroma_cens_kurtosis_02</th>\n",
       "      <th>chroma_cens_kurtosis_03</th>\n",
       "      <th>chroma_cens_kurtosis_04</th>\n",
       "      <th>chroma_cens_kurtosis_05</th>\n",
       "      <th>chroma_cens_kurtosis_06</th>\n",
       "      <th>chroma_cens_kurtosis_07</th>\n",
       "      <th>chroma_cens_kurtosis_08</th>\n",
       "      <th>chroma_cens_kurtosis_09</th>\n",
       "      <th>chroma_cens_kurtosis_10</th>\n",
       "      <th>...</th>\n",
       "      <th>zcr_kurtosis_01</th>\n",
       "      <th>zcr_max_01</th>\n",
       "      <th>zcr_mean_01</th>\n",
       "      <th>zcr_median_01</th>\n",
       "      <th>zcr_min_01</th>\n",
       "      <th>zcr_skew_01</th>\n",
       "      <th>zcr_std_01</th>\n",
       "      <th>track_genre_top</th>\n",
       "      <th>track_title</th>\n",
       "      <th>artist_name</th>\n",
       "    </tr>\n",
       "    <tr>\n",
       "      <th>track_id</th>\n",
       "      <th></th>\n",
       "      <th></th>\n",
       "      <th></th>\n",
       "      <th></th>\n",
       "      <th></th>\n",
       "      <th></th>\n",
       "      <th></th>\n",
       "      <th></th>\n",
       "      <th></th>\n",
       "      <th></th>\n",
       "      <th></th>\n",
       "      <th></th>\n",
       "      <th></th>\n",
       "      <th></th>\n",
       "      <th></th>\n",
       "      <th></th>\n",
       "      <th></th>\n",
       "      <th></th>\n",
       "      <th></th>\n",
       "      <th></th>\n",
       "      <th></th>\n",
       "    </tr>\n",
       "  </thead>\n",
       "  <tbody>\n",
       "    <tr>\n",
       "      <th>2</th>\n",
       "      <td>7.180653</td>\n",
       "      <td>5.230309</td>\n",
       "      <td>0.249321</td>\n",
       "      <td>1.347620</td>\n",
       "      <td>1.482478</td>\n",
       "      <td>0.531371</td>\n",
       "      <td>1.481593</td>\n",
       "      <td>2.691455</td>\n",
       "      <td>0.866868</td>\n",
       "      <td>1.341231</td>\n",
       "      <td>...</td>\n",
       "      <td>5.758890</td>\n",
       "      <td>0.459473</td>\n",
       "      <td>0.085629</td>\n",
       "      <td>0.071289</td>\n",
       "      <td>0.000000</td>\n",
       "      <td>2.089872</td>\n",
       "      <td>0.061448</td>\n",
       "      <td>Hip-Hop</td>\n",
       "      <td>Food</td>\n",
       "      <td>AWOL</td>\n",
       "    </tr>\n",
       "    <tr>\n",
       "      <th>5</th>\n",
       "      <td>0.527563</td>\n",
       "      <td>-0.077654</td>\n",
       "      <td>-0.279610</td>\n",
       "      <td>0.685883</td>\n",
       "      <td>1.937570</td>\n",
       "      <td>0.880839</td>\n",
       "      <td>-0.923192</td>\n",
       "      <td>-0.927232</td>\n",
       "      <td>0.666617</td>\n",
       "      <td>1.038546</td>\n",
       "      <td>...</td>\n",
       "      <td>6.808415</td>\n",
       "      <td>0.375000</td>\n",
       "      <td>0.053114</td>\n",
       "      <td>0.041504</td>\n",
       "      <td>0.000000</td>\n",
       "      <td>2.193303</td>\n",
       "      <td>0.044861</td>\n",
       "      <td>Hip-Hop</td>\n",
       "      <td>This World</td>\n",
       "      <td>AWOL</td>\n",
       "    </tr>\n",
       "    <tr>\n",
       "      <th>10</th>\n",
       "      <td>3.702245</td>\n",
       "      <td>-0.291193</td>\n",
       "      <td>2.196742</td>\n",
       "      <td>-0.234449</td>\n",
       "      <td>1.367364</td>\n",
       "      <td>0.998411</td>\n",
       "      <td>1.770694</td>\n",
       "      <td>1.604566</td>\n",
       "      <td>0.521217</td>\n",
       "      <td>1.982386</td>\n",
       "      <td>...</td>\n",
       "      <td>21.434212</td>\n",
       "      <td>0.452148</td>\n",
       "      <td>0.077515</td>\n",
       "      <td>0.071777</td>\n",
       "      <td>0.000000</td>\n",
       "      <td>3.542325</td>\n",
       "      <td>0.040800</td>\n",
       "      <td>Pop</td>\n",
       "      <td>Freeway</td>\n",
       "      <td>Kurt Vile</td>\n",
       "    </tr>\n",
       "    <tr>\n",
       "      <th>140</th>\n",
       "      <td>0.533579</td>\n",
       "      <td>-0.623885</td>\n",
       "      <td>-1.086205</td>\n",
       "      <td>-1.081079</td>\n",
       "      <td>-0.765151</td>\n",
       "      <td>-0.072282</td>\n",
       "      <td>-0.882913</td>\n",
       "      <td>-0.582376</td>\n",
       "      <td>-0.884749</td>\n",
       "      <td>-0.645214</td>\n",
       "      <td>...</td>\n",
       "      <td>11.052547</td>\n",
       "      <td>0.379395</td>\n",
       "      <td>0.052379</td>\n",
       "      <td>0.036621</td>\n",
       "      <td>0.001953</td>\n",
       "      <td>3.143968</td>\n",
       "      <td>0.057712</td>\n",
       "      <td>Folk</td>\n",
       "      <td>Queen Of The Wires</td>\n",
       "      <td>Alec K. Redfearn &amp; the Eyesores</td>\n",
       "    </tr>\n",
       "    <tr>\n",
       "      <th>141</th>\n",
       "      <td>0.172898</td>\n",
       "      <td>-0.284804</td>\n",
       "      <td>-1.169662</td>\n",
       "      <td>-1.062855</td>\n",
       "      <td>-0.706868</td>\n",
       "      <td>-0.708281</td>\n",
       "      <td>-0.204884</td>\n",
       "      <td>0.023624</td>\n",
       "      <td>-0.642770</td>\n",
       "      <td>-0.786291</td>\n",
       "      <td>...</td>\n",
       "      <td>32.994659</td>\n",
       "      <td>0.415527</td>\n",
       "      <td>0.040267</td>\n",
       "      <td>0.034668</td>\n",
       "      <td>0.002930</td>\n",
       "      <td>4.204097</td>\n",
       "      <td>0.028665</td>\n",
       "      <td>Folk</td>\n",
       "      <td>Ohio</td>\n",
       "      <td>Alec K. Redfearn &amp; the Eyesores</td>\n",
       "    </tr>\n",
       "  </tbody>\n",
       "</table>\n",
       "<p>5 rows × 521 columns</p>\n",
       "</div>"
      ],
      "text/plain": [
       "          chroma_cens_kurtosis_01  chroma_cens_kurtosis_02  \\\n",
       "track_id                                                     \n",
       "2                        7.180653                 5.230309   \n",
       "5                        0.527563                -0.077654   \n",
       "10                       3.702245                -0.291193   \n",
       "140                      0.533579                -0.623885   \n",
       "141                      0.172898                -0.284804   \n",
       "\n",
       "          chroma_cens_kurtosis_03  chroma_cens_kurtosis_04  \\\n",
       "track_id                                                     \n",
       "2                        0.249321                 1.347620   \n",
       "5                       -0.279610                 0.685883   \n",
       "10                       2.196742                -0.234449   \n",
       "140                     -1.086205                -1.081079   \n",
       "141                     -1.169662                -1.062855   \n",
       "\n",
       "          chroma_cens_kurtosis_05  chroma_cens_kurtosis_06  \\\n",
       "track_id                                                     \n",
       "2                        1.482478                 0.531371   \n",
       "5                        1.937570                 0.880839   \n",
       "10                       1.367364                 0.998411   \n",
       "140                     -0.765151                -0.072282   \n",
       "141                     -0.706868                -0.708281   \n",
       "\n",
       "          chroma_cens_kurtosis_07  chroma_cens_kurtosis_08  \\\n",
       "track_id                                                     \n",
       "2                        1.481593                 2.691455   \n",
       "5                       -0.923192                -0.927232   \n",
       "10                       1.770694                 1.604566   \n",
       "140                     -0.882913                -0.582376   \n",
       "141                     -0.204884                 0.023624   \n",
       "\n",
       "          chroma_cens_kurtosis_09  chroma_cens_kurtosis_10  ...  \\\n",
       "track_id                                                    ...   \n",
       "2                        0.866868                 1.341231  ...   \n",
       "5                        0.666617                 1.038546  ...   \n",
       "10                       0.521217                 1.982386  ...   \n",
       "140                     -0.884749                -0.645214  ...   \n",
       "141                     -0.642770                -0.786291  ...   \n",
       "\n",
       "          zcr_kurtosis_01  zcr_max_01  zcr_mean_01  zcr_median_01  zcr_min_01  \\\n",
       "track_id                                                                        \n",
       "2                5.758890    0.459473     0.085629       0.071289    0.000000   \n",
       "5                6.808415    0.375000     0.053114       0.041504    0.000000   \n",
       "10              21.434212    0.452148     0.077515       0.071777    0.000000   \n",
       "140             11.052547    0.379395     0.052379       0.036621    0.001953   \n",
       "141             32.994659    0.415527     0.040267       0.034668    0.002930   \n",
       "\n",
       "          zcr_skew_01  zcr_std_01  track_genre_top         track_title  \\\n",
       "track_id                                                                 \n",
       "2            2.089872    0.061448          Hip-Hop                Food   \n",
       "5            2.193303    0.044861          Hip-Hop          This World   \n",
       "10           3.542325    0.040800              Pop             Freeway   \n",
       "140          3.143968    0.057712             Folk  Queen Of The Wires   \n",
       "141          4.204097    0.028665             Folk                Ohio   \n",
       "\n",
       "                              artist_name  \n",
       "track_id                                   \n",
       "2                                    AWOL  \n",
       "5                                    AWOL  \n",
       "10                              Kurt Vile  \n",
       "140       Alec K. Redfearn & the Eyesores  \n",
       "141       Alec K. Redfearn & the Eyesores  \n",
       "\n",
       "[5 rows x 521 columns]"
      ]
     },
     "execution_count": 3,
     "metadata": {},
     "output_type": "execute_result"
    }
   ],
   "source": [
    "def load_data_str_idx(filepath):\n",
    "    \"\"\"Loads csv and converts index to string.\"\"\"\n",
    "    df = pd.read_csv(filepath, index_col=0)\n",
    "    df.index = df.index.astype('string')\n",
    "    return df\n",
    "    \n",
    "df = load_data_str_idx('../data/features_with_genres.csv')\n",
    "df.head()"
   ]
  },
  {
   "cell_type": "code",
   "execution_count": 16,
   "id": "3089c07c",
   "metadata": {
    "ExecuteTime": {
     "end_time": "2021-10-10T22:30:01.592085Z",
     "start_time": "2021-10-10T22:30:01.588908Z"
    }
   },
   "outputs": [],
   "source": [
    "def generate_mfcc_spectrograms(data):\n",
    "    \"\"\"Generates spectrograms of the mel frequency cepstral coefficients. Mp3\n",
    "    files from the free music archive should be stored in an an adjacent\n",
    "    directory named 'data'. Returns a dictionary of the flattened MFCCs. To\n",
    "    return the MFCCs back into a two dimensional array reshape to (20,1291).\n",
    "    \n",
    "    Parameters\n",
    "    ----------\n",
    "    data - dataframe\n",
    "        - Dataframe with track ids as index and a column named 'track_genre_top'\n",
    "          which contains the target genre.\"\"\"\n",
    "    \n",
    "    data_dict = {}\n",
    "    \n",
    "    for i, track_id in enumerate(data.index):\n",
    "        \n",
    "        top_genre = data.loc[track_id]['track_genre_top']\n",
    "\n",
    "        track_str = str(track_id).zfill(6)\n",
    "\n",
    "        y, sr = librosa.load(f'../data/fma_small/{track_str[:3]}/{track_str}.mp3')\n",
    "\n",
    "        mfcc = librosa.feature.mfcc(y, sr)\n",
    "\n",
    "        data_dict[track_str] = mfcc.flatten()\n",
    "        \n",
    "        librosa.display.specshow(mfcc, cmap='binary')\n",
    "        plt.savefig(f'../mfcc_specs/{top_genre}/{top_genre}_{track_id}.png')\n",
    "        plt.close()\n",
    "\n",
    "    #     making it verbose\n",
    "        if i % 300 == 0:\n",
    "            print(f'currently on round {i}, track {track_str}, only\\\n",
    " {len(data.index)-i} left')\n",
    "    \n",
    "    return data_dict"
   ]
  },
  {
   "cell_type": "code",
   "execution_count": 17,
   "id": "0b47992e",
   "metadata": {
    "ExecuteTime": {
     "end_time": "2021-10-11T02:24:02.559403Z",
     "start_time": "2021-10-10T22:30:02.538208Z"
    }
   },
   "outputs": [
    {
     "name": "stdout",
     "output_type": "stream",
     "text": [
      "currently on round 0, track 000002, only7994 left\n",
      "currently on round 300, track 006439, only7694 left\n",
      "currently on round 600, track 012390, only7394 left\n",
      "currently on round 900, track 021587, only7094 left\n",
      "currently on round 1200, track 029738, only6794 left\n",
      "currently on round 1500, track 038888, only6494 left\n",
      "currently on round 1800, track 044806, only6194 left\n",
      "currently on round 2100, track 052001, only5894 left\n",
      "currently on round 2400, track 056640, only5594 left\n",
      "currently on round 2700, track 062529, only5294 left\n",
      "currently on round 3000, track 068600, only4994 left\n",
      "currently on round 3300, track 073366, only4694 left\n",
      "currently on round 3600, track 080755, only4394 left\n",
      "currently on round 3900, track 086799, only4094 left\n",
      "currently on round 4200, track 093704, only3794 left\n",
      "currently on round 4500, track 099440, only3494 left\n",
      "currently on round 4800, track 108305, only3194 left\n",
      "currently on round 5100, track 111376, only2894 left\n",
      "currently on round 5400, track 114411, only2594 left\n",
      "currently on round 5700, track 118922, only2294 left\n",
      "currently on round 6000, track 122623, only1994 left\n",
      "currently on round 6300, track 126189, only1694 left\n",
      "currently on round 6600, track 128878, only1394 left\n",
      "currently on round 6900, track 132448, only1094 left\n",
      "currently on round 7200, track 137167, only794 left\n",
      "currently on round 7500, track 142358, only494 left\n",
      "currently on round 7800, track 147126, only194 left\n"
     ]
    }
   ],
   "source": [
    "mfcc_dict = generate_mfcc_spectrograms(df)"
   ]
  },
  {
   "cell_type": "code",
   "execution_count": 20,
   "id": "9a0c24f5",
   "metadata": {
    "ExecuteTime": {
     "end_time": "2021-10-11T02:29:03.757510Z",
     "start_time": "2021-10-11T02:29:03.745189Z"
    }
   },
   "outputs": [
    {
     "data": {
      "text/plain": [
       "3767"
      ]
     },
     "execution_count": 20,
     "metadata": {},
     "output_type": "execute_result"
    }
   ],
   "source": [
    "counter = 0\n",
    "for track_idx, mfcc_array in mfcc_dict.items():\n",
    "    if len(mfcc_array) > 25820:\n",
    "        counter += 1\n",
    "counter"
   ]
  },
  {
   "cell_type": "code",
   "execution_count": 25,
   "id": "5bb01b0a",
   "metadata": {
    "ExecuteTime": {
     "end_time": "2021-10-11T02:48:05.798220Z",
     "start_time": "2021-10-11T02:48:05.790237Z"
    }
   },
   "outputs": [
    {
     "data": {
      "text/plain": [
       "('000002', 25820)"
      ]
     },
     "execution_count": 25,
     "metadata": {},
     "output_type": "execute_result"
    }
   ],
   "source": [
    "smallest_array = 10*1000000\n",
    "for track_idx, array in mfcc_dict.items():\n",
    "    if array.shape[0] < smallest_array:\n",
    "        smallest_array = array.shape[0]\n",
    "        smallest_array_idx = track_idx\n",
    "smallest_array_idx, smallest_array"
   ]
  },
  {
   "cell_type": "code",
   "execution_count": 21,
   "id": "96558805",
   "metadata": {
    "ExecuteTime": {
     "end_time": "2021-10-11T02:31:35.032322Z",
     "start_time": "2021-10-11T02:31:35.023448Z"
    }
   },
   "outputs": [
    {
     "data": {
      "text/plain": [
       "142340"
      ]
     },
     "execution_count": 21,
     "metadata": {},
     "output_type": "execute_result"
    }
   ],
   "source": [
    "counter = 0\n",
    "for track_idx, mfcc_array in mfcc_dict.items():\n",
    "    if len(mfcc_array) > 25820:\n",
    "        counter += len(mfcc_array) - 25820\n",
    "counter"
   ]
  },
  {
   "cell_type": "code",
   "execution_count": 28,
   "id": "22b71346",
   "metadata": {
    "ExecuteTime": {
     "end_time": "2021-10-11T02:51:47.671246Z",
     "start_time": "2021-10-11T02:51:47.661829Z"
    }
   },
   "outputs": [],
   "source": [
    "# create equal track length\n",
    "for track_idx, array in mfcc_dict.items():\n",
    "    mfcc_dict[track_idx] = array[:25820]"
   ]
  },
  {
   "cell_type": "code",
   "execution_count": 12,
   "id": "8e25331a",
   "metadata": {
    "ExecuteTime": {
     "end_time": "2021-10-11T17:15:11.406794Z",
     "start_time": "2021-10-11T17:15:11.397190Z"
    }
   },
   "outputs": [],
   "source": [
    "mfcc_df.index = mfcc_df.index.astype('string')\n",
    "\n",
    "sum(mfcc_df.index != df.index)"
   ]
  },
  {
   "cell_type": "code",
   "execution_count": 17,
   "id": "5f911a93",
   "metadata": {
    "ExecuteTime": {
     "end_time": "2021-10-11T17:16:03.924300Z",
     "start_time": "2021-10-11T17:16:03.919196Z"
    }
   },
   "outputs": [],
   "source": [
    "mfcc_df['genre'] = df['track_genre_top']"
   ]
  },
  {
   "cell_type": "code",
   "execution_count": 18,
   "id": "dffd34a7",
   "metadata": {
    "ExecuteTime": {
     "end_time": "2021-10-11T17:19:20.627506Z",
     "start_time": "2021-10-11T17:16:21.464704Z"
    }
   },
   "outputs": [],
   "source": [
    "mfcc_df = pd.DataFrame(mfcc_dict).T\n",
    "mfcc_df.to_csv('../data/mfcc_df.csv')"
   ]
  },
  {
   "cell_type": "code",
   "execution_count": 18,
   "id": "abc3cc00",
   "metadata": {
    "ExecuteTime": {
     "end_time": "2021-10-11T17:06:24.023099Z",
     "start_time": "2021-10-11T17:06:24.018222Z"
    }
   },
   "outputs": [],
   "source": [
    "def generate_mel_specs(data):\n",
    "    \"\"\"Generates spectrograms of the mel frequency scale. Mp3 files from the\n",
    "    free music archive should be stored in an an adjacent directory named\n",
    "    'data'. Returns None.\n",
    "    \n",
    "    Parameters\n",
    "    ----------\n",
    "    data - dataframe\n",
    "        - Dataframe with track ids as index and a column named 'track_genre_top'\n",
    "          which contains the target genre.\"\"\"\n",
    "    \n",
    "    for i, track_id in enumerate(data.index):\n",
    "\n",
    "        top_genre = data.loc[track_id]['track_genre_top']\n",
    "\n",
    "        track_str = str(track_id).zfill(6)\n",
    "\n",
    "        y, sr = librosa.load(f'../data/fma_small/{track_str[:3]}/{track_str}.mp3')\n",
    "\n",
    "        mel_spec = librosa.feature.melspectrogram(y, sr)\n",
    "\n",
    "        librosa.display.specshow(librosa.power_to_db(mel_spec,\n",
    "                                                     ref=np.max), cmap='binary')\n",
    "        plt.savefig(f'../mel_specs/{top_genre}/{top_genre}_{track_id}.png')\n",
    "        plt.close()\n",
    "\n",
    "        #     making it verbose\n",
    "        if i % 300 == 0:\n",
    "            print(f'currently on round {i}, track {track_str}, only\\\n",
    " {len(data.index)-i} left');\n",
    "\n",
    "        #     attempted memory management (doesn't work as intended)\n",
    "\n",
    "#         del mel_spec\n",
    "#         gc.collect()\n",
    "            \n",
    "    return None"
   ]
  },
  {
   "cell_type": "markdown",
   "id": "c1fe8c1a",
   "metadata": {},
   "source": [
    "Running this function on the entire dataframe uses up memory over time and crashes. Current workaround is to split the dataframe into thirds and restart the kernel after each call."
   ]
  },
  {
   "cell_type": "code",
   "execution_count": 17,
   "id": "c6035782",
   "metadata": {
    "ExecuteTime": {
     "end_time": "2021-10-11T17:06:17.934636Z",
     "start_time": "2021-10-11T17:06:17.932585Z"
    }
   },
   "outputs": [],
   "source": [
    "one_third = len(df) // 3\n",
    "two_thirds = one_third * 2"
   ]
  },
  {
   "cell_type": "code",
   "execution_count": null,
   "id": "3e1817be",
   "metadata": {},
   "outputs": [],
   "source": [
    "generate_mel_specs(df[:one_third])"
   ]
  },
  {
   "cell_type": "code",
   "execution_count": null,
   "id": "6b4219a8",
   "metadata": {},
   "outputs": [],
   "source": [
    "generate_mel_specs(df[one_third:two_thirds])"
   ]
  },
  {
   "cell_type": "code",
   "execution_count": null,
   "id": "10ccf6e6",
   "metadata": {},
   "outputs": [],
   "source": [
    "generate_mel_specs(df[two_thirds:])"
   ]
  },
  {
   "cell_type": "markdown",
   "id": "ec6b468c",
   "metadata": {},
   "source": [
    "# Testing using the pillow library next\n",
    "\n",
    "- This solved the memory issue. I will leave the above code for now while I work on adjusting the neural network code."
   ]
  },
  {
   "cell_type": "code",
   "execution_count": 4,
   "id": "c8a7054a",
   "metadata": {
    "ExecuteTime": {
     "end_time": "2021-10-12T00:20:00.936608Z",
     "start_time": "2021-10-12T00:20:00.930106Z"
    }
   },
   "outputs": [],
   "source": [
    "def generate_mel_specs(data):\n",
    "    \"\"\"Generates spectrograms of the mel frequency scale. Mp3 files from the\n",
    "    free music archive should be stored in an an adjacent directory named\n",
    "    'data'. Returns None.\n",
    "    \n",
    "    Parameters\n",
    "    ----------\n",
    "    data - dataframe\n",
    "        - Dataframe with track ids as index and a column named 'track_genre_top'\n",
    "          which contains the target genre.\"\"\"\n",
    "    \n",
    "    for i, track_id in enumerate(data.index):\n",
    "\n",
    "        top_genre = data.loc[track_id]['track_genre_top']\n",
    "\n",
    "        track_str = str(track_id).zfill(6)\n",
    "\n",
    "        y, sr = librosa.load(f'../data/fma_small/{track_str[:3]}/{track_str}.mp3')\n",
    "\n",
    "        mel_spec = librosa.feature.melspectrogram(y, sr)\n",
    "\n",
    "        db_spec = librosa.power_to_db(mel_spec, ref=np.max)\n",
    "        \n",
    "        array_img = Image.fromarray(np.uint8((db_spec / db_spec.min()*255)))\n",
    "        \n",
    "        array_img.save(f'../PIL_images/{top_genre}/{top_genre}_{track_id}.png')\n",
    "        \n",
    "        #     making it verbose\n",
    "        if i % 300 == 0:\n",
    "            print(f'currently on round {i}, track {track_str}, only\\\n",
    " {len(data.index)-i} left');\n",
    "            \n",
    "    return None"
   ]
  },
  {
   "cell_type": "code",
   "execution_count": 7,
   "id": "dd3e7183",
   "metadata": {
    "ExecuteTime": {
     "end_time": "2021-10-12T03:40:39.382674Z",
     "start_time": "2021-10-12T01:24:51.004208Z"
    }
   },
   "outputs": [
    {
     "name": "stdout",
     "output_type": "stream",
     "text": [
      "currently on round 0, track 000002, only 7994 left\n",
      "currently on round 300, track 006439, only 7694 left\n",
      "currently on round 600, track 012390, only 7394 left\n",
      "currently on round 900, track 021587, only 7094 left\n",
      "currently on round 1200, track 029738, only 6794 left\n",
      "currently on round 1500, track 038888, only 6494 left\n",
      "currently on round 1800, track 044806, only 6194 left\n",
      "currently on round 2100, track 052001, only 5894 left\n",
      "currently on round 2400, track 056640, only 5594 left\n",
      "currently on round 2700, track 062529, only 5294 left\n",
      "currently on round 3000, track 068600, only 4994 left\n",
      "currently on round 3300, track 073366, only 4694 left\n",
      "currently on round 3600, track 080755, only 4394 left\n",
      "currently on round 3900, track 086799, only 4094 left\n",
      "currently on round 4200, track 093704, only 3794 left\n",
      "currently on round 4500, track 099440, only 3494 left\n"
     ]
    },
    {
     "name": "stderr",
     "output_type": "stream",
     "text": [
      "<ipython-input-4-dada4f89b354>:24: RuntimeWarning: invalid value encountered in true_divide\n",
      "  array_img = Image.fromarray(np.uint8((db_spec / db_spec.min()*255)))\n"
     ]
    },
    {
     "name": "stdout",
     "output_type": "stream",
     "text": [
      "currently on round 4800, track 108305, only 3194 left\n",
      "currently on round 5100, track 111376, only 2894 left\n",
      "currently on round 5400, track 114411, only 2594 left\n",
      "currently on round 5700, track 118922, only 2294 left\n",
      "currently on round 6000, track 122623, only 1994 left\n",
      "currently on round 6300, track 126189, only 1694 left\n",
      "currently on round 6600, track 128878, only 1394 left\n",
      "currently on round 6900, track 132448, only 1094 left\n",
      "currently on round 7200, track 137167, only 794 left\n",
      "currently on round 7500, track 142358, only 494 left\n",
      "currently on round 7800, track 147126, only 194 left\n"
     ]
    }
   ],
   "source": [
    "generate_mel_specs(df)"
   ]
  },
  {
   "cell_type": "code",
   "execution_count": null,
   "id": "66265597",
   "metadata": {},
   "outputs": [],
   "source": []
  }
 ],
 "metadata": {
  "kernelspec": {
   "display_name": "Python 3",
   "language": "python",
   "name": "python3"
  },
  "language_info": {
   "codemirror_mode": {
    "name": "ipython",
    "version": 3
   },
   "file_extension": ".py",
   "mimetype": "text/x-python",
   "name": "python",
   "nbconvert_exporter": "python",
   "pygments_lexer": "ipython3",
   "version": "3.8.10"
  }
 },
 "nbformat": 4,
 "nbformat_minor": 5
}
