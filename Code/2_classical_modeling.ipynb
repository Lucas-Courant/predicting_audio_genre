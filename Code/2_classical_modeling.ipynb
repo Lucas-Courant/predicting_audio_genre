{
 "cells": [
  {
   "cell_type": "code",
   "execution_count": 29,
   "id": "6fba2017",
   "metadata": {
    "ExecuteTime": {
     "end_time": "2021-07-05T20:22:29.895400Z",
     "start_time": "2021-07-05T20:22:29.891114Z"
    }
   },
   "outputs": [],
   "source": [
    "import pandas as pd\n",
    "import numpy as np\n",
    "import matplotlib.pyplot as plt\n",
    "import seaborn as sns\n",
    "from sklearn.ensemble import RandomForestClassifier, GradientBoostingClassifier,\\\n",
    "                             AdaBoostClassifier\n",
    "from sklearn.model_selection import train_test_split, cross_val_score, GridSearchCV\n",
    "from sklearn.linear_model import LogisticRegression, LogisticRegressionCV\n",
    "from sklearn.neighbors import KNeighborsClassifier\n",
    "from sklearn.decomposition import PCA\n",
    "from sklearn.preprocessing import StandardScaler\n",
    "from sklearn.metrics import confusion_matrix, plot_confusion_matrix"
   ]
  },
  {
   "cell_type": "code",
   "execution_count": 2,
   "id": "c3a3cf8a",
   "metadata": {
    "ExecuteTime": {
     "end_time": "2021-07-05T20:07:18.402675Z",
     "start_time": "2021-07-05T20:07:17.960037Z"
    }
   },
   "outputs": [],
   "source": [
    "df = pd.read_csv('../data/features_with_genres.csv')"
   ]
  },
  {
   "cell_type": "markdown",
   "id": "6f2671d0",
   "metadata": {},
   "source": [
    "# Free Lunch Analysis\n",
    "\n",
    "Modeling on the entire dataset with no real thought to feature selection."
   ]
  },
  {
   "cell_type": "code",
   "execution_count": 3,
   "id": "288eaff3",
   "metadata": {
    "ExecuteTime": {
     "end_time": "2021-07-05T20:07:20.871960Z",
     "start_time": "2021-07-05T20:07:20.860676Z"
    }
   },
   "outputs": [
    {
     "data": {
      "text/plain": [
       "Folk             0.125094\n",
       "Instrumental     0.125094\n",
       "Pop              0.125094\n",
       "International    0.125094\n",
       "Experimental     0.124969\n",
       "Rock             0.124969\n",
       "Electronic       0.124969\n",
       "Hip-Hop          0.124719\n",
       "Name: track_genre_top, dtype: float64"
      ]
     },
     "execution_count": 3,
     "metadata": {},
     "output_type": "execute_result"
    }
   ],
   "source": [
    "df['track_genre_top'].value_counts(normalize=True)"
   ]
  },
  {
   "cell_type": "markdown",
   "id": "c2083215",
   "metadata": {},
   "source": [
    "**Interpretation:** The baseline accuracy is 12.5%"
   ]
  },
  {
   "cell_type": "code",
   "execution_count": 4,
   "id": "d191af2e",
   "metadata": {
    "ExecuteTime": {
     "end_time": "2021-07-05T20:07:21.577081Z",
     "start_time": "2021-07-05T20:07:21.547123Z"
    }
   },
   "outputs": [],
   "source": [
    "track_metadata = ['track_genre_top', 'track_title', 'artist_name']\n",
    "\n",
    "X = df.drop(columns=track_metadata)\n",
    "y = df['track_genre_top']\n",
    "\n",
    "X_train, X_test, y_train, y_test = train_test_split(X, y, stratify=y,\n",
    "                                                   random_state=42)"
   ]
  },
  {
   "cell_type": "code",
   "execution_count": 5,
   "id": "eed271ce",
   "metadata": {
    "ExecuteTime": {
     "end_time": "2021-07-05T20:07:21.946474Z",
     "start_time": "2021-07-05T20:07:21.878268Z"
    }
   },
   "outputs": [],
   "source": [
    "ss = StandardScaler()\n",
    "ss.fit(X_train)\n",
    "X_train_sc = ss.transform(X_train)\n",
    "X_test_sc = ss.transform(X_test)"
   ]
  },
  {
   "cell_type": "markdown",
   "id": "2d28282a",
   "metadata": {},
   "source": [
    "## Random Forest Classifier"
   ]
  },
  {
   "cell_type": "code",
   "execution_count": 62,
   "id": "06b57ef4",
   "metadata": {
    "ExecuteTime": {
     "end_time": "2021-06-30T22:46:07.775242Z",
     "start_time": "2021-06-30T22:45:50.698593Z"
    }
   },
   "outputs": [
    {
     "data": {
      "text/plain": [
       "array([0.42535446, 0.43703086, 0.4295246 , 0.41534612, 0.43786489])"
      ]
     },
     "execution_count": 62,
     "metadata": {},
     "output_type": "execute_result"
    }
   ],
   "source": [
    "forest = RandomForestClassifier(max_depth = 3, n_estimators = 750,\n",
    "                                random_state=42)\n",
    "cross_val_score(forest, X_train, y_train, n_jobs=5)"
   ]
  },
  {
   "cell_type": "code",
   "execution_count": 63,
   "id": "c650d9c6",
   "metadata": {
    "ExecuteTime": {
     "end_time": "2021-06-30T22:46:25.682065Z",
     "start_time": "2021-06-30T22:46:07.776701Z"
    }
   },
   "outputs": [
    {
     "data": {
      "text/plain": [
       "(0.4242121060530265, 0.4482068390325271)"
      ]
     },
     "execution_count": 63,
     "metadata": {},
     "output_type": "execute_result"
    }
   ],
   "source": [
    "forest.fit(X_train, y_train)\n",
    "forest.score(X_test, y_test), forest.score(X_train, y_train)"
   ]
  },
  {
   "cell_type": "markdown",
   "id": "f3085498",
   "metadata": {},
   "source": [
    "**Interpretation:** This model is overfit but not too badly."
   ]
  },
  {
   "cell_type": "markdown",
   "id": "b8d52fad",
   "metadata": {},
   "source": [
    "## Gradient Boosting Classifier"
   ]
  },
  {
   "cell_type": "code",
   "execution_count": 53,
   "id": "bb40fc53",
   "metadata": {
    "ExecuteTime": {
     "end_time": "2021-06-30T22:31:58.926883Z",
     "start_time": "2021-06-30T22:30:18.704651Z"
    }
   },
   "outputs": [
    {
     "data": {
      "text/plain": [
       "array([0.49      , 0.485     , 0.4675    , 0.4525    , 0.45614035])"
      ]
     },
     "execution_count": 53,
     "metadata": {},
     "output_type": "execute_result"
    }
   ],
   "source": [
    "gbm = GradientBoostingClassifier(min_samples_split = 10, subsample = .7,\n",
    "                                 max_features = 'sqrt', n_iter_no_change = 5,\n",
    "                                 n_estimators = 500, learning_rate = .0001,\n",
    "                                 verbose=0)\n",
    "cross_val_score(gbm, X_test, y_test)"
   ]
  },
  {
   "cell_type": "code",
   "execution_count": 54,
   "id": "479d678d",
   "metadata": {
    "ExecuteTime": {
     "end_time": "2021-06-30T22:41:02.024093Z",
     "start_time": "2021-06-30T22:39:37.574335Z"
    },
    "scrolled": false
   },
   "outputs": [
    {
     "data": {
      "text/plain": [
       "(0.4822411205602801, 0.5451209341117598)"
      ]
     },
     "execution_count": 54,
     "metadata": {},
     "output_type": "execute_result"
    }
   ],
   "source": [
    "gbm.fit(X_train, y_train)\n",
    "gbm.score(X_test, y_test), gbm.score(X_train, y_train)"
   ]
  },
  {
   "cell_type": "code",
   "execution_count": 126,
   "id": "978dca25",
   "metadata": {
    "ExecuteTime": {
     "end_time": "2021-07-01T00:37:41.184520Z",
     "start_time": "2021-07-01T00:37:41.156856Z"
    }
   },
   "outputs": [
    {
     "data": {
      "text/html": [
       "<div>\n",
       "<style scoped>\n",
       "    .dataframe tbody tr th:only-of-type {\n",
       "        vertical-align: middle;\n",
       "    }\n",
       "\n",
       "    .dataframe tbody tr th {\n",
       "        vertical-align: top;\n",
       "    }\n",
       "\n",
       "    .dataframe thead th {\n",
       "        text-align: right;\n",
       "    }\n",
       "</style>\n",
       "<table border=\"1\" class=\"dataframe\">\n",
       "  <thead>\n",
       "    <tr style=\"text-align: right;\">\n",
       "      <th></th>\n",
       "      <th>0</th>\n",
       "    </tr>\n",
       "  </thead>\n",
       "  <tbody>\n",
       "    <tr>\n",
       "      <th>mfcc_mean_03</th>\n",
       "      <td>0.018655</td>\n",
       "    </tr>\n",
       "    <tr>\n",
       "      <th>spectral_bandwidth_median_01</th>\n",
       "      <td>0.018544</td>\n",
       "    </tr>\n",
       "    <tr>\n",
       "      <th>spectral_rolloff_median_01</th>\n",
       "      <td>0.018296</td>\n",
       "    </tr>\n",
       "    <tr>\n",
       "      <th>mfcc_median_03</th>\n",
       "      <td>0.018201</td>\n",
       "    </tr>\n",
       "    <tr>\n",
       "      <th>spectral_rolloff_mean_01</th>\n",
       "      <td>0.017159</td>\n",
       "    </tr>\n",
       "    <tr>\n",
       "      <th>spectral_centroid_median_01</th>\n",
       "      <td>0.017146</td>\n",
       "    </tr>\n",
       "    <tr>\n",
       "      <th>mfcc_median_01</th>\n",
       "      <td>0.016058</td>\n",
       "    </tr>\n",
       "    <tr>\n",
       "      <th>spectral_bandwidth_mean_01</th>\n",
       "      <td>0.015332</td>\n",
       "    </tr>\n",
       "    <tr>\n",
       "      <th>mfcc_max_04</th>\n",
       "      <td>0.014835</td>\n",
       "    </tr>\n",
       "    <tr>\n",
       "      <th>spectral_centroid_mean_01</th>\n",
       "      <td>0.014701</td>\n",
       "    </tr>\n",
       "  </tbody>\n",
       "</table>\n",
       "</div>"
      ],
      "text/plain": [
       "                                     0\n",
       "mfcc_mean_03                  0.018655\n",
       "spectral_bandwidth_median_01  0.018544\n",
       "spectral_rolloff_median_01    0.018296\n",
       "mfcc_median_03                0.018201\n",
       "spectral_rolloff_mean_01      0.017159\n",
       "spectral_centroid_median_01   0.017146\n",
       "mfcc_median_01                0.016058\n",
       "spectral_bandwidth_mean_01    0.015332\n",
       "mfcc_max_04                   0.014835\n",
       "spectral_centroid_mean_01     0.014701"
      ]
     },
     "execution_count": 126,
     "metadata": {},
     "output_type": "execute_result"
    }
   ],
   "source": [
    "pd.DataFrame(gbm.feature_importances_,\n",
    "             index=X_train.columns).sort_values(by=0, ascending=False)[:10]"
   ]
  },
  {
   "cell_type": "markdown",
   "id": "67b4d892",
   "metadata": {},
   "source": [
    "**Interpretation:** The gradient boosting improved the score however it also resulted in a more overfit model. I would like to do a gridsearch on this one to see if I can reduce the overfitting."
   ]
  },
  {
   "cell_type": "code",
   "execution_count": 29,
   "id": "2e00f578",
   "metadata": {
    "ExecuteTime": {
     "end_time": "2021-07-05T19:49:23.706261Z",
     "start_time": "2021-07-05T19:47:37.482428Z"
    }
   },
   "outputs": [
    {
     "data": {
      "text/plain": [
       "array([0.41      , 0.445     , 0.38      , 0.3675    , 0.35087719])"
      ]
     },
     "execution_count": 29,
     "metadata": {},
     "output_type": "execute_result"
    }
   ],
   "source": [
    "ada = AdaBoostClassifier(n_estimators = 300, learning_rate=.01)\n",
    "cross_val_score(ada, X_test, y_test)"
   ]
  },
  {
   "cell_type": "code",
   "execution_count": 30,
   "id": "1940bdf4",
   "metadata": {
    "ExecuteTime": {
     "end_time": "2021-07-05T19:50:52.760119Z",
     "start_time": "2021-07-05T19:49:23.707824Z"
    }
   },
   "outputs": [
    {
     "data": {
      "text/plain": [
       "(0.4227113556778389, 0.4398665554628857)"
      ]
     },
     "execution_count": 30,
     "metadata": {},
     "output_type": "execute_result"
    }
   ],
   "source": [
    "ada.fit(X_train, y_train)\n",
    "ada.score(X_test, y_test), ada.score(X_train, y_train)"
   ]
  },
  {
   "cell_type": "markdown",
   "id": "42232b1d",
   "metadata": {},
   "source": [
    "## Logistic Regression"
   ]
  },
  {
   "cell_type": "code",
   "execution_count": 81,
   "id": "56cfd489",
   "metadata": {
    "ExecuteTime": {
     "end_time": "2021-06-30T23:12:35.177924Z",
     "start_time": "2021-06-30T23:11:05.587326Z"
    }
   },
   "outputs": [
    {
     "name": "stderr",
     "output_type": "stream",
     "text": [
      "/home/icculus/anaconda3/envs/audio_processing/lib/python3.9/site-packages/sklearn/linear_model/_logistic.py:763: ConvergenceWarning: lbfgs failed to converge (status=1):\n",
      "STOP: TOTAL NO. of ITERATIONS REACHED LIMIT.\n",
      "\n",
      "Increase the number of iterations (max_iter) or scale the data as shown in:\n",
      "    https://scikit-learn.org/stable/modules/preprocessing.html\n",
      "Please also refer to the documentation for alternative solver options:\n",
      "    https://scikit-learn.org/stable/modules/linear_model.html#logistic-regression\n",
      "  n_iter_i = _check_optimize_result(\n",
      "/home/icculus/anaconda3/envs/audio_processing/lib/python3.9/site-packages/sklearn/linear_model/_logistic.py:763: ConvergenceWarning: lbfgs failed to converge (status=1):\n",
      "STOP: TOTAL NO. of ITERATIONS REACHED LIMIT.\n",
      "\n",
      "Increase the number of iterations (max_iter) or scale the data as shown in:\n",
      "    https://scikit-learn.org/stable/modules/preprocessing.html\n",
      "Please also refer to the documentation for alternative solver options:\n",
      "    https://scikit-learn.org/stable/modules/linear_model.html#logistic-regression\n",
      "  n_iter_i = _check_optimize_result(\n",
      "/home/icculus/anaconda3/envs/audio_processing/lib/python3.9/site-packages/sklearn/linear_model/_logistic.py:763: ConvergenceWarning: lbfgs failed to converge (status=1):\n",
      "STOP: TOTAL NO. of ITERATIONS REACHED LIMIT.\n",
      "\n",
      "Increase the number of iterations (max_iter) or scale the data as shown in:\n",
      "    https://scikit-learn.org/stable/modules/preprocessing.html\n",
      "Please also refer to the documentation for alternative solver options:\n",
      "    https://scikit-learn.org/stable/modules/linear_model.html#logistic-regression\n",
      "  n_iter_i = _check_optimize_result(\n",
      "/home/icculus/anaconda3/envs/audio_processing/lib/python3.9/site-packages/sklearn/linear_model/_logistic.py:763: ConvergenceWarning: lbfgs failed to converge (status=1):\n",
      "STOP: TOTAL NO. of ITERATIONS REACHED LIMIT.\n",
      "\n",
      "Increase the number of iterations (max_iter) or scale the data as shown in:\n",
      "    https://scikit-learn.org/stable/modules/preprocessing.html\n",
      "Please also refer to the documentation for alternative solver options:\n",
      "    https://scikit-learn.org/stable/modules/linear_model.html#logistic-regression\n",
      "  n_iter_i = _check_optimize_result(\n",
      "/home/icculus/anaconda3/envs/audio_processing/lib/python3.9/site-packages/sklearn/linear_model/_logistic.py:763: ConvergenceWarning: lbfgs failed to converge (status=1):\n",
      "STOP: TOTAL NO. of ITERATIONS REACHED LIMIT.\n",
      "\n",
      "Increase the number of iterations (max_iter) or scale the data as shown in:\n",
      "    https://scikit-learn.org/stable/modules/preprocessing.html\n",
      "Please also refer to the documentation for alternative solver options:\n",
      "    https://scikit-learn.org/stable/modules/linear_model.html#logistic-regression\n",
      "  n_iter_i = _check_optimize_result(\n"
     ]
    },
    {
     "data": {
      "text/plain": [
       "LogisticRegressionCV(max_iter=1000)"
      ]
     },
     "execution_count": 81,
     "metadata": {},
     "output_type": "execute_result"
    }
   ],
   "source": [
    "lrcv = LogisticRegressionCV(max_iter = 1000)\n",
    "lrcv.fit(X_train_sc, y_train)"
   ]
  },
  {
   "cell_type": "code",
   "execution_count": 68,
   "id": "297974c3",
   "metadata": {
    "ExecuteTime": {
     "end_time": "2021-06-30T22:57:53.763994Z",
     "start_time": "2021-06-30T22:57:53.746387Z"
    }
   },
   "outputs": [
    {
     "data": {
      "text/plain": [
       "(0.5767883941970986, 0.6662218515429524)"
      ]
     },
     "execution_count": 68,
     "metadata": {},
     "output_type": "execute_result"
    }
   ],
   "source": [
    "lrcv.score(X_test_sc, y_test), lrcv.score(X_train_sc, y_train)"
   ]
  },
  {
   "cell_type": "code",
   "execution_count": 74,
   "id": "ed1a5396",
   "metadata": {
    "ExecuteTime": {
     "end_time": "2021-06-30T23:03:31.646615Z",
     "start_time": "2021-06-30T23:03:31.643423Z"
    }
   },
   "outputs": [
    {
     "data": {
      "text/plain": [
       "array([0.00599484, 0.00599484, 0.00599484, 0.00599484, 0.00599484,\n",
       "       0.00599484, 0.00599484, 0.00599484])"
      ]
     },
     "execution_count": 74,
     "metadata": {},
     "output_type": "execute_result"
    }
   ],
   "source": [
    "lrcv.C_"
   ]
  },
  {
   "cell_type": "markdown",
   "id": "c1aa254b",
   "metadata": {},
   "source": [
    "**Interpretation:** I will use 0.00599484 as my regularization strength. The logistic regression did not converge and I believe this is because there are too many columns for the number of rows used in each cross validation fold."
   ]
  },
  {
   "cell_type": "code",
   "execution_count": 43,
   "id": "770d9753",
   "metadata": {
    "ExecuteTime": {
     "end_time": "2021-07-02T13:51:16.076410Z",
     "start_time": "2021-07-02T13:51:14.253420Z"
    }
   },
   "outputs": [
    {
     "data": {
      "text/plain": [
       "array([0.57130942, 0.58381985, 0.57714762, 0.57964971, 0.57214345])"
      ]
     },
     "execution_count": 43,
     "metadata": {},
     "output_type": "execute_result"
    }
   ],
   "source": [
    "lr = LogisticRegression(C = .00599484, max_iter = 1000)\n",
    "cross_val_score(lr, X_train_sc, y_train)"
   ]
  },
  {
   "cell_type": "code",
   "execution_count": 44,
   "id": "39c72d08",
   "metadata": {
    "ExecuteTime": {
     "end_time": "2021-07-02T13:51:18.139451Z",
     "start_time": "2021-07-02T13:51:17.717356Z"
    }
   },
   "outputs": [
    {
     "data": {
      "text/plain": [
       "(0.5767883941970986, 0.6662218515429524)"
      ]
     },
     "execution_count": 44,
     "metadata": {},
     "output_type": "execute_result"
    }
   ],
   "source": [
    "lr.fit(X_train_sc, y_train)\n",
    "lr.score(X_test_sc, y_test), lr.score(X_train_sc, y_train)"
   ]
  },
  {
   "cell_type": "markdown",
   "id": "5a5e3d82",
   "metadata": {},
   "source": [
    "**Interpretation:** This model is overfit but it did a lot better than my tree based models. This suggests a linear relationship between frequency features and genre."
   ]
  },
  {
   "cell_type": "code",
   "execution_count": 42,
   "id": "e556d845",
   "metadata": {
    "ExecuteTime": {
     "end_time": "2021-07-01T16:22:24.490999Z",
     "start_time": "2021-07-01T16:22:24.473499Z"
    }
   },
   "outputs": [
    {
     "data": {
      "text/html": [
       "<div>\n",
       "<style scoped>\n",
       "    .dataframe tbody tr th:only-of-type {\n",
       "        vertical-align: middle;\n",
       "    }\n",
       "\n",
       "    .dataframe tbody tr th {\n",
       "        vertical-align: top;\n",
       "    }\n",
       "\n",
       "    .dataframe thead th {\n",
       "        text-align: right;\n",
       "    }\n",
       "</style>\n",
       "<table border=\"1\" class=\"dataframe\">\n",
       "  <thead>\n",
       "    <tr style=\"text-align: right;\">\n",
       "      <th></th>\n",
       "      <th>chroma_cens_kurtosis_01</th>\n",
       "      <th>chroma_cens_kurtosis_02</th>\n",
       "      <th>chroma_cens_kurtosis_03</th>\n",
       "      <th>chroma_cens_kurtosis_04</th>\n",
       "      <th>chroma_cens_kurtosis_05</th>\n",
       "      <th>chroma_cens_kurtosis_06</th>\n",
       "      <th>chroma_cens_kurtosis_07</th>\n",
       "      <th>chroma_cens_kurtosis_08</th>\n",
       "      <th>chroma_cens_kurtosis_09</th>\n",
       "      <th>chroma_cens_kurtosis_10</th>\n",
       "      <th>...</th>\n",
       "      <th>tonnetz_std_04</th>\n",
       "      <th>tonnetz_std_05</th>\n",
       "      <th>tonnetz_std_06</th>\n",
       "      <th>zcr_kurtosis_01</th>\n",
       "      <th>zcr_max_01</th>\n",
       "      <th>zcr_mean_01</th>\n",
       "      <th>zcr_median_01</th>\n",
       "      <th>zcr_min_01</th>\n",
       "      <th>zcr_skew_01</th>\n",
       "      <th>zcr_std_01</th>\n",
       "    </tr>\n",
       "  </thead>\n",
       "  <tbody>\n",
       "    <tr>\n",
       "      <th>0</th>\n",
       "      <td>-0.025476</td>\n",
       "      <td>-0.040860</td>\n",
       "      <td>0.046156</td>\n",
       "      <td>-0.020667</td>\n",
       "      <td>0.013745</td>\n",
       "      <td>-0.042973</td>\n",
       "      <td>-0.029480</td>\n",
       "      <td>0.006136</td>\n",
       "      <td>-0.043726</td>\n",
       "      <td>-0.012364</td>\n",
       "      <td>...</td>\n",
       "      <td>0.001908</td>\n",
       "      <td>0.060594</td>\n",
       "      <td>0.026367</td>\n",
       "      <td>0.035498</td>\n",
       "      <td>-0.018625</td>\n",
       "      <td>-0.096307</td>\n",
       "      <td>-0.106073</td>\n",
       "      <td>-0.046290</td>\n",
       "      <td>-0.038620</td>\n",
       "      <td>-0.049738</td>\n",
       "    </tr>\n",
       "    <tr>\n",
       "      <th>1</th>\n",
       "      <td>-0.028519</td>\n",
       "      <td>0.025212</td>\n",
       "      <td>-0.014948</td>\n",
       "      <td>0.033314</td>\n",
       "      <td>0.029537</td>\n",
       "      <td>0.010640</td>\n",
       "      <td>0.011014</td>\n",
       "      <td>0.048996</td>\n",
       "      <td>-0.003017</td>\n",
       "      <td>-0.049361</td>\n",
       "      <td>...</td>\n",
       "      <td>-0.018302</td>\n",
       "      <td>0.080415</td>\n",
       "      <td>0.059661</td>\n",
       "      <td>0.021753</td>\n",
       "      <td>0.014725</td>\n",
       "      <td>0.110615</td>\n",
       "      <td>0.106609</td>\n",
       "      <td>0.004292</td>\n",
       "      <td>0.061645</td>\n",
       "      <td>0.105421</td>\n",
       "    </tr>\n",
       "    <tr>\n",
       "      <th>2</th>\n",
       "      <td>-0.000515</td>\n",
       "      <td>0.002466</td>\n",
       "      <td>0.009605</td>\n",
       "      <td>0.029150</td>\n",
       "      <td>0.016663</td>\n",
       "      <td>-0.028863</td>\n",
       "      <td>0.020518</td>\n",
       "      <td>0.007512</td>\n",
       "      <td>-0.017631</td>\n",
       "      <td>-0.015496</td>\n",
       "      <td>...</td>\n",
       "      <td>0.056307</td>\n",
       "      <td>-0.015243</td>\n",
       "      <td>0.025717</td>\n",
       "      <td>-0.033696</td>\n",
       "      <td>-0.032843</td>\n",
       "      <td>-0.029041</td>\n",
       "      <td>-0.052745</td>\n",
       "      <td>-0.002298</td>\n",
       "      <td>-0.031203</td>\n",
       "      <td>0.046943</td>\n",
       "    </tr>\n",
       "    <tr>\n",
       "      <th>3</th>\n",
       "      <td>-0.039642</td>\n",
       "      <td>-0.001999</td>\n",
       "      <td>0.001909</td>\n",
       "      <td>0.017456</td>\n",
       "      <td>-0.012945</td>\n",
       "      <td>-0.051661</td>\n",
       "      <td>0.024997</td>\n",
       "      <td>-0.014093</td>\n",
       "      <td>0.057557</td>\n",
       "      <td>0.042876</td>\n",
       "      <td>...</td>\n",
       "      <td>-0.037456</td>\n",
       "      <td>0.009253</td>\n",
       "      <td>0.040067</td>\n",
       "      <td>-0.087244</td>\n",
       "      <td>0.041155</td>\n",
       "      <td>-0.004572</td>\n",
       "      <td>-0.047306</td>\n",
       "      <td>-0.066815</td>\n",
       "      <td>-0.073214</td>\n",
       "      <td>0.062228</td>\n",
       "    </tr>\n",
       "    <tr>\n",
       "      <th>4</th>\n",
       "      <td>0.051651</td>\n",
       "      <td>0.022450</td>\n",
       "      <td>-0.009980</td>\n",
       "      <td>0.014735</td>\n",
       "      <td>0.004337</td>\n",
       "      <td>0.051394</td>\n",
       "      <td>-0.011206</td>\n",
       "      <td>-0.000238</td>\n",
       "      <td>0.023194</td>\n",
       "      <td>0.027762</td>\n",
       "      <td>...</td>\n",
       "      <td>0.034720</td>\n",
       "      <td>0.053814</td>\n",
       "      <td>0.046613</td>\n",
       "      <td>-0.010851</td>\n",
       "      <td>-0.099041</td>\n",
       "      <td>0.024798</td>\n",
       "      <td>0.031751</td>\n",
       "      <td>0.043926</td>\n",
       "      <td>0.003313</td>\n",
       "      <td>0.020369</td>\n",
       "    </tr>\n",
       "    <tr>\n",
       "      <th>5</th>\n",
       "      <td>-0.023276</td>\n",
       "      <td>-0.007128</td>\n",
       "      <td>-0.027687</td>\n",
       "      <td>0.019164</td>\n",
       "      <td>-0.010902</td>\n",
       "      <td>-0.020055</td>\n",
       "      <td>-0.008239</td>\n",
       "      <td>-0.038517</td>\n",
       "      <td>-0.078769</td>\n",
       "      <td>-0.032976</td>\n",
       "      <td>...</td>\n",
       "      <td>-0.131480</td>\n",
       "      <td>-0.139608</td>\n",
       "      <td>-0.177339</td>\n",
       "      <td>-0.013824</td>\n",
       "      <td>0.025777</td>\n",
       "      <td>-0.041964</td>\n",
       "      <td>-0.042816</td>\n",
       "      <td>0.148997</td>\n",
       "      <td>-0.058526</td>\n",
       "      <td>-0.099874</td>\n",
       "    </tr>\n",
       "    <tr>\n",
       "      <th>6</th>\n",
       "      <td>0.005609</td>\n",
       "      <td>-0.006871</td>\n",
       "      <td>-0.008739</td>\n",
       "      <td>-0.001487</td>\n",
       "      <td>-0.022034</td>\n",
       "      <td>0.051091</td>\n",
       "      <td>-0.027552</td>\n",
       "      <td>0.017025</td>\n",
       "      <td>0.034494</td>\n",
       "      <td>0.050623</td>\n",
       "      <td>...</td>\n",
       "      <td>0.071284</td>\n",
       "      <td>-0.007914</td>\n",
       "      <td>0.001182</td>\n",
       "      <td>0.010550</td>\n",
       "      <td>0.062617</td>\n",
       "      <td>-0.016564</td>\n",
       "      <td>-0.007123</td>\n",
       "      <td>-0.111132</td>\n",
       "      <td>0.112005</td>\n",
       "      <td>-0.023881</td>\n",
       "    </tr>\n",
       "    <tr>\n",
       "      <th>7</th>\n",
       "      <td>0.060169</td>\n",
       "      <td>0.006729</td>\n",
       "      <td>0.003683</td>\n",
       "      <td>-0.091664</td>\n",
       "      <td>-0.018399</td>\n",
       "      <td>0.030427</td>\n",
       "      <td>0.019948</td>\n",
       "      <td>-0.026821</td>\n",
       "      <td>0.027897</td>\n",
       "      <td>-0.011065</td>\n",
       "      <td>...</td>\n",
       "      <td>0.023019</td>\n",
       "      <td>-0.041311</td>\n",
       "      <td>-0.022269</td>\n",
       "      <td>0.077812</td>\n",
       "      <td>0.006237</td>\n",
       "      <td>0.053033</td>\n",
       "      <td>0.117703</td>\n",
       "      <td>0.029320</td>\n",
       "      <td>0.024600</td>\n",
       "      <td>-0.061468</td>\n",
       "    </tr>\n",
       "  </tbody>\n",
       "</table>\n",
       "<p>8 rows × 518 columns</p>\n",
       "</div>"
      ],
      "text/plain": [
       "   chroma_cens_kurtosis_01  chroma_cens_kurtosis_02  chroma_cens_kurtosis_03  \\\n",
       "0                -0.025476                -0.040860                 0.046156   \n",
       "1                -0.028519                 0.025212                -0.014948   \n",
       "2                -0.000515                 0.002466                 0.009605   \n",
       "3                -0.039642                -0.001999                 0.001909   \n",
       "4                 0.051651                 0.022450                -0.009980   \n",
       "5                -0.023276                -0.007128                -0.027687   \n",
       "6                 0.005609                -0.006871                -0.008739   \n",
       "7                 0.060169                 0.006729                 0.003683   \n",
       "\n",
       "   chroma_cens_kurtosis_04  chroma_cens_kurtosis_05  chroma_cens_kurtosis_06  \\\n",
       "0                -0.020667                 0.013745                -0.042973   \n",
       "1                 0.033314                 0.029537                 0.010640   \n",
       "2                 0.029150                 0.016663                -0.028863   \n",
       "3                 0.017456                -0.012945                -0.051661   \n",
       "4                 0.014735                 0.004337                 0.051394   \n",
       "5                 0.019164                -0.010902                -0.020055   \n",
       "6                -0.001487                -0.022034                 0.051091   \n",
       "7                -0.091664                -0.018399                 0.030427   \n",
       "\n",
       "   chroma_cens_kurtosis_07  chroma_cens_kurtosis_08  chroma_cens_kurtosis_09  \\\n",
       "0                -0.029480                 0.006136                -0.043726   \n",
       "1                 0.011014                 0.048996                -0.003017   \n",
       "2                 0.020518                 0.007512                -0.017631   \n",
       "3                 0.024997                -0.014093                 0.057557   \n",
       "4                -0.011206                -0.000238                 0.023194   \n",
       "5                -0.008239                -0.038517                -0.078769   \n",
       "6                -0.027552                 0.017025                 0.034494   \n",
       "7                 0.019948                -0.026821                 0.027897   \n",
       "\n",
       "   chroma_cens_kurtosis_10  ...  tonnetz_std_04  tonnetz_std_05  \\\n",
       "0                -0.012364  ...        0.001908        0.060594   \n",
       "1                -0.049361  ...       -0.018302        0.080415   \n",
       "2                -0.015496  ...        0.056307       -0.015243   \n",
       "3                 0.042876  ...       -0.037456        0.009253   \n",
       "4                 0.027762  ...        0.034720        0.053814   \n",
       "5                -0.032976  ...       -0.131480       -0.139608   \n",
       "6                 0.050623  ...        0.071284       -0.007914   \n",
       "7                -0.011065  ...        0.023019       -0.041311   \n",
       "\n",
       "   tonnetz_std_06  zcr_kurtosis_01  zcr_max_01  zcr_mean_01  zcr_median_01  \\\n",
       "0        0.026367         0.035498   -0.018625    -0.096307      -0.106073   \n",
       "1        0.059661         0.021753    0.014725     0.110615       0.106609   \n",
       "2        0.025717        -0.033696   -0.032843    -0.029041      -0.052745   \n",
       "3        0.040067        -0.087244    0.041155    -0.004572      -0.047306   \n",
       "4        0.046613        -0.010851   -0.099041     0.024798       0.031751   \n",
       "5       -0.177339        -0.013824    0.025777    -0.041964      -0.042816   \n",
       "6        0.001182         0.010550    0.062617    -0.016564      -0.007123   \n",
       "7       -0.022269         0.077812    0.006237     0.053033       0.117703   \n",
       "\n",
       "   zcr_min_01  zcr_skew_01  zcr_std_01  \n",
       "0   -0.046290    -0.038620   -0.049738  \n",
       "1    0.004292     0.061645    0.105421  \n",
       "2   -0.002298    -0.031203    0.046943  \n",
       "3   -0.066815    -0.073214    0.062228  \n",
       "4    0.043926     0.003313    0.020369  \n",
       "5    0.148997    -0.058526   -0.099874  \n",
       "6   -0.111132     0.112005   -0.023881  \n",
       "7    0.029320     0.024600   -0.061468  \n",
       "\n",
       "[8 rows x 518 columns]"
      ]
     },
     "execution_count": 42,
     "metadata": {},
     "output_type": "execute_result"
    }
   ],
   "source": [
    "pd.DataFrame(lr.coef_, columns=X_train.columns)"
   ]
  },
  {
   "cell_type": "markdown",
   "id": "8634ddde",
   "metadata": {},
   "source": [
    "## K Nearest Neighbors"
   ]
  },
  {
   "cell_type": "code",
   "execution_count": 22,
   "id": "d76233de",
   "metadata": {
    "ExecuteTime": {
     "end_time": "2021-07-05T19:23:22.328538Z",
     "start_time": "2021-07-05T19:23:21.591510Z"
    }
   },
   "outputs": [
    {
     "data": {
      "text/plain": [
       "array([0.48457048, 0.48457048, 0.46788991, 0.44036697, 0.46455379])"
      ]
     },
     "execution_count": 22,
     "metadata": {},
     "output_type": "execute_result"
    }
   ],
   "source": [
    "knn = KNeighborsClassifier(p=2, n_neighbors=5)\n",
    "cross_val_score(knn, X_train_sc, y_train)"
   ]
  },
  {
   "cell_type": "code",
   "execution_count": 23,
   "id": "9bc45a32",
   "metadata": {
    "ExecuteTime": {
     "end_time": "2021-07-05T19:23:25.177982Z",
     "start_time": "2021-07-05T19:23:24.183180Z"
    }
   },
   "outputs": [
    {
     "data": {
      "text/plain": [
       "(0.46823411705852924, 0.6513761467889908)"
      ]
     },
     "execution_count": 23,
     "metadata": {},
     "output_type": "execute_result"
    }
   ],
   "source": [
    "knn.fit(X_train_sc, y_train)\n",
    "knn.score(X_test_sc, y_test), knn.score(X_train_sc, y_train)"
   ]
  },
  {
   "cell_type": "markdown",
   "id": "baecec34",
   "metadata": {},
   "source": [
    "# Principal Component Analysis"
   ]
  },
  {
   "cell_type": "code",
   "execution_count": 6,
   "id": "24db8fdd",
   "metadata": {
    "ExecuteTime": {
     "end_time": "2021-07-05T20:07:26.152815Z",
     "start_time": "2021-07-05T20:07:25.938648Z"
    }
   },
   "outputs": [
    {
     "data": {
      "text/plain": [
       "PCA()"
      ]
     },
     "execution_count": 6,
     "metadata": {},
     "output_type": "execute_result"
    }
   ],
   "source": [
    "pca = PCA()\n",
    "pca.fit(X_train_sc)"
   ]
  },
  {
   "cell_type": "code",
   "execution_count": 7,
   "id": "c056af07",
   "metadata": {
    "ExecuteTime": {
     "end_time": "2021-07-05T20:07:26.157425Z",
     "start_time": "2021-07-05T20:07:26.154386Z"
    }
   },
   "outputs": [
    {
     "data": {
      "text/plain": [
       "(5995, 519)"
      ]
     },
     "execution_count": 7,
     "metadata": {},
     "output_type": "execute_result"
    }
   ],
   "source": [
    "X_train.shape"
   ]
  },
  {
   "cell_type": "code",
   "execution_count": 8,
   "id": "076ac1c9",
   "metadata": {
    "ExecuteTime": {
     "end_time": "2021-07-05T20:07:26.228103Z",
     "start_time": "2021-07-05T20:07:26.225297Z"
    }
   },
   "outputs": [
    {
     "data": {
      "text/plain": [
       "77.42738533619743"
      ]
     },
     "execution_count": 8,
     "metadata": {},
     "output_type": "execute_result"
    }
   ],
   "source": [
    "len(X_train)**.5"
   ]
  },
  {
   "cell_type": "code",
   "execution_count": 9,
   "id": "c6c6127c",
   "metadata": {
    "ExecuteTime": {
     "end_time": "2021-07-05T20:07:26.382272Z",
     "start_time": "2021-07-05T20:07:26.376510Z"
    }
   },
   "outputs": [
    {
     "data": {
      "text/plain": [
       "0.7925800000000004"
      ]
     },
     "execution_count": 9,
     "metadata": {},
     "output_type": "execute_result"
    }
   ],
   "source": [
    "sum([round(val, 5) for val in pca.explained_variance_ratio_][:77])"
   ]
  },
  {
   "cell_type": "code",
   "execution_count": 13,
   "id": "837c0675",
   "metadata": {
    "ExecuteTime": {
     "end_time": "2021-07-05T20:09:00.047910Z",
     "start_time": "2021-07-05T20:08:59.829956Z"
    }
   },
   "outputs": [
    {
     "data": {
      "image/png": "[encoded data removed]",
      "text/plain": [
       "<Figure size 864x576 with 1 Axes>"
      ]
     },
     "metadata": {
      "needs_background": "light"
     },
     "output_type": "display_data"
    }
   ],
   "source": [
    "plt.figure(figsize=(12,8))\n",
    "plt.bar(x=range(100), height=np.cumsum(pca.explained_variance_ratio_)[:100],\n",
    "        color = 'cornflowerblue')\n",
    "plt.axhline(y=0.792, xmax=.74, color='mediumvioletred')\n",
    "\n",
    "plt.title('PCA Cumulative Explained Variance Ratio', size = 25)\n",
    "plt.savefig('../images/pca_cumulative_explained_variance_ratio.png');"
   ]
  },
  {
   "cell_type": "markdown",
   "id": "c1d186a4",
   "metadata": {},
   "source": [
    "**Interpretation:** As a rule of thumb I like to try reducing features down to square root of the length of my data which in this case is 77. ~80% of the variability is explained by the first 77 principal components."
   ]
  },
  {
   "cell_type": "code",
   "execution_count": 111,
   "id": "f229d409",
   "metadata": {
    "ExecuteTime": {
     "end_time": "2021-07-01T00:08:42.615356Z",
     "start_time": "2021-07-01T00:08:42.493987Z"
    }
   },
   "outputs": [],
   "source": [
    "pca = PCA(77)\n",
    "pca.fit(X_train_sc)\n",
    "\n",
    "X_train_pca = pd.DataFrame(pca.transform(X_train_sc))\n",
    "X_test_pca = pd.DataFrame(pca.transform(X_test_sc))"
   ]
  },
  {
   "cell_type": "code",
   "execution_count": 112,
   "id": "f92c6cfa",
   "metadata": {
    "ExecuteTime": {
     "end_time": "2021-07-01T00:08:43.588881Z",
     "start_time": "2021-07-01T00:08:42.656176Z"
    }
   },
   "outputs": [
    {
     "data": {
      "text/plain": [
       "array([0.52543786, 0.55629691, 0.5471226 , 0.54295246, 0.53127606])"
      ]
     },
     "execution_count": 112,
     "metadata": {},
     "output_type": "execute_result"
    }
   ],
   "source": [
    "lr = LogisticRegression(C = .00599484, max_iter = 1000)\n",
    "cross_val_score(lr, X_train_pca, y_train)"
   ]
  },
  {
   "cell_type": "code",
   "execution_count": 113,
   "id": "61294611",
   "metadata": {
    "ExecuteTime": {
     "end_time": "2021-07-01T00:08:43.909981Z",
     "start_time": "2021-07-01T00:08:43.590010Z"
    }
   },
   "outputs": [
    {
     "data": {
      "text/plain": [
       "(0.5387693846923461, 0.5694745621351126)"
      ]
     },
     "execution_count": 113,
     "metadata": {},
     "output_type": "execute_result"
    }
   ],
   "source": [
    "lr.fit(X_train_pca, y_train)\n",
    "lr.score(X_test_pca, y_test), lr.score(X_train_pca, y_train)"
   ]
  },
  {
   "cell_type": "markdown",
   "id": "4f1d8f78",
   "metadata": {},
   "source": [
    "**Interpretation:** This logistic regression has an increase in bias but a greater reduction in overfitting. It is ~5% less accurate on the test set and 10% less accurate on the training set."
   ]
  },
  {
   "cell_type": "markdown",
   "id": "88bd7a67",
   "metadata": {},
   "source": [
    "## Chroma Cens Analysis\n",
    "Instead of putting all of the features into my models I investigate specific ones to judge which are most important."
   ]
  },
  {
   "cell_type": "markdown",
   "id": "dc8812fb",
   "metadata": {},
   "source": [
    "**Audio Features**\n",
    "- 'chroma_cens\n",
    "- 'chroma_cqt'\n",
    "- 'chroma_stft'\n",
    "- 'mfcc'\n",
    "- 'rmse'\n",
    "- 'spectral_bandwidth'\n",
    "- 'spectral_centroid'\n",
    "- 'spectral_contrast'\n",
    "- 'spectral_rolloff'\n",
    "- 'tonnetz'\n",
    "- 'zcr'"
   ]
  },
  {
   "cell_type": "code",
   "execution_count": 16,
   "id": "e1db37cf",
   "metadata": {
    "ExecuteTime": {
     "end_time": "2021-07-05T20:19:36.908385Z",
     "start_time": "2021-07-05T20:19:36.905010Z"
    }
   },
   "outputs": [],
   "source": [
    "chroma_cens_cols = [col for col in df.columns if 'chroma_cens' in col]\n",
    "tonnetz_cols = [col for col in df.columns if 'tonnetz' in col]\n",
    "spectral_bdwth_cols = [col for col in df.columns if 'spectral_bandwidth' in col]\n",
    "mfcc_cols = [col for col in df.columns if 'mfcc' in col]"
   ]
  },
  {
   "cell_type": "code",
   "execution_count": 135,
   "id": "4eed77e7",
   "metadata": {
    "ExecuteTime": {
     "end_time": "2021-07-01T01:40:22.130270Z",
     "start_time": "2021-07-01T01:40:22.116999Z"
    }
   },
   "outputs": [],
   "source": [
    "X = df[chroma_cens_cols]\n",
    "y = df['track_genre_top']\n",
    "\n",
    "X_train, X_test, y_train, y_test = train_test_split(X, y, stratify=y,\n",
    "                                                   random_state=42)"
   ]
  },
  {
   "cell_type": "code",
   "execution_count": 136,
   "id": "2789710b",
   "metadata": {
    "ExecuteTime": {
     "end_time": "2021-07-01T01:40:23.237124Z",
     "start_time": "2021-07-01T01:40:23.225808Z"
    }
   },
   "outputs": [],
   "source": [
    "ss = StandardScaler()\n",
    "ss.fit(X_train)\n",
    "X_train_sc = ss.transform(X_train)\n",
    "X_test_sc = ss.transform(X_test)"
   ]
  },
  {
   "cell_type": "code",
   "execution_count": 148,
   "id": "7a205de4",
   "metadata": {
    "ExecuteTime": {
     "end_time": "2021-07-01T01:42:09.123642Z",
     "start_time": "2021-07-01T01:42:08.978828Z"
    }
   },
   "outputs": [
    {
     "data": {
      "text/plain": [
       "(0.27963981990995496, 0.30825688073394497)"
      ]
     },
     "execution_count": 148,
     "metadata": {},
     "output_type": "execute_result"
    }
   ],
   "source": [
    "lr = LogisticRegression(C = .00599484, max_iter = 1000)\n",
    "lr.fit(X_train_sc, y_train)\n",
    "lr.score(X_test_sc, y_test), lr.score(X_train_sc, y_train)"
   ]
  },
  {
   "cell_type": "markdown",
   "id": "a2ac2aac",
   "metadata": {},
   "source": [
    "**Interpretation:** While this model is better than the baseline it does not do nearly as well as the logistic regression on the full dataset. These summary statistics on the chroma energy normalized chromagram probably aren't the best features."
   ]
  },
  {
   "cell_type": "code",
   "execution_count": 150,
   "id": "8145ccd9",
   "metadata": {
    "ExecuteTime": {
     "end_time": "2021-07-01T01:45:37.996431Z",
     "start_time": "2021-07-01T01:45:37.981511Z"
    }
   },
   "outputs": [
    {
     "data": {
      "text/plain": [
       "PCA()"
      ]
     },
     "execution_count": 150,
     "metadata": {},
     "output_type": "execute_result"
    }
   ],
   "source": [
    "pca = PCA()\n",
    "pca.fit(X_train_sc)"
   ]
  },
  {
   "cell_type": "code",
   "execution_count": 139,
   "id": "81ac8972",
   "metadata": {
    "ExecuteTime": {
     "end_time": "2021-07-01T01:40:27.073706Z",
     "start_time": "2021-07-01T01:40:27.070284Z"
    }
   },
   "outputs": [
    {
     "data": {
      "text/plain": [
       "84"
      ]
     },
     "execution_count": 139,
     "metadata": {},
     "output_type": "execute_result"
    }
   ],
   "source": [
    "len(X_train.columns)"
   ]
  },
  {
   "cell_type": "code",
   "execution_count": 144,
   "id": "fe66251d",
   "metadata": {
    "ExecuteTime": {
     "end_time": "2021-07-01T01:40:55.278240Z",
     "start_time": "2021-07-01T01:40:55.273133Z"
    }
   },
   "outputs": [
    {
     "data": {
      "text/plain": [
       "0.9510099999999997"
      ]
     },
     "execution_count": 144,
     "metadata": {},
     "output_type": "execute_result"
    }
   ],
   "source": [
    "sum([round(val, 5) for val in pca.explained_variance_ratio_][:42])"
   ]
  },
  {
   "cell_type": "markdown",
   "id": "1752aa3e",
   "metadata": {},
   "source": [
    "**Interpretation:** 95% of the variability of the data is captured in the first 42 principal components."
   ]
  },
  {
   "cell_type": "code",
   "execution_count": 153,
   "id": "046b6a98",
   "metadata": {
    "ExecuteTime": {
     "end_time": "2021-07-01T01:45:47.009808Z",
     "start_time": "2021-07-01T01:45:46.984936Z"
    }
   },
   "outputs": [
    {
     "data": {
      "text/plain": [
       "PCA(n_components=42)"
      ]
     },
     "execution_count": 153,
     "metadata": {},
     "output_type": "execute_result"
    }
   ],
   "source": [
    "pca = PCA(42)\n",
    "pca.fit(X_train_sc)"
   ]
  },
  {
   "cell_type": "code",
   "execution_count": 154,
   "id": "fcd1a2c9",
   "metadata": {
    "ExecuteTime": {
     "end_time": "2021-07-01T01:45:47.144888Z",
     "start_time": "2021-07-01T01:45:47.139622Z"
    }
   },
   "outputs": [],
   "source": [
    "X_train_pca = pd.DataFrame(pca.transform(X_train_sc))\n",
    "X_test_pca = pd.DataFrame(pca.transform(X_test_sc))"
   ]
  },
  {
   "cell_type": "code",
   "execution_count": 155,
   "id": "77a7cbee",
   "metadata": {
    "ExecuteTime": {
     "end_time": "2021-07-01T01:45:47.412719Z",
     "start_time": "2021-07-01T01:45:47.273813Z"
    },
    "scrolled": true
   },
   "outputs": [
    {
     "data": {
      "text/plain": [
       "(0.2726363181590795, 0.28990825688073396)"
      ]
     },
     "execution_count": 155,
     "metadata": {},
     "output_type": "execute_result"
    }
   ],
   "source": [
    "lr = LogisticRegression(C = .00599484, max_iter = 1000)\n",
    "lr.fit(X_train_pca, y_train)\n",
    "lr.score(X_test_pca, y_test), lr.score(X_train_pca, y_train)"
   ]
  },
  {
   "cell_type": "markdown",
   "id": "18996b61",
   "metadata": {},
   "source": [
    "**Interpretation:** Principal component analysis helped to reduce overfitting in this model but not by much."
   ]
  },
  {
   "cell_type": "markdown",
   "id": "b16ec78c",
   "metadata": {},
   "source": [
    "## Tonnetz Analysis"
   ]
  },
  {
   "cell_type": "code",
   "execution_count": 189,
   "id": "ccbc3aa2",
   "metadata": {
    "ExecuteTime": {
     "end_time": "2021-07-02T22:54:25.580328Z",
     "start_time": "2021-07-02T22:54:25.568147Z"
    }
   },
   "outputs": [],
   "source": [
    "X = df[tonnetz_cols]\n",
    "y = df['track_genre_top']\n",
    "\n",
    "X_train, X_test, y_train, y_test = train_test_split(X, y, stratify=y,\n",
    "                                                   random_state=42)"
   ]
  },
  {
   "cell_type": "code",
   "execution_count": 159,
   "id": "a655ff6b",
   "metadata": {
    "ExecuteTime": {
     "end_time": "2021-07-01T01:46:56.447345Z",
     "start_time": "2021-07-01T01:46:56.435431Z"
    }
   },
   "outputs": [],
   "source": [
    "ss = StandardScaler()\n",
    "ss.fit(X_train)\n",
    "X_train_sc = ss.transform(X_train)\n",
    "X_test_sc = ss.transform(X_test)"
   ]
  },
  {
   "cell_type": "code",
   "execution_count": 164,
   "id": "f07a0aa8",
   "metadata": {
    "ExecuteTime": {
     "end_time": "2021-07-01T01:47:31.226879Z",
     "start_time": "2021-07-01T01:47:31.119585Z"
    }
   },
   "outputs": [
    {
     "data": {
      "text/plain": [
       "(0.27913956978489246, 0.31075896580483736)"
      ]
     },
     "execution_count": 164,
     "metadata": {},
     "output_type": "execute_result"
    }
   ],
   "source": [
    "lr = LogisticRegression(C = .00599484, max_iter = 1000)\n",
    "lr.fit(X_train_sc, y_train)\n",
    "lr.score(X_test_sc, y_test), lr.score(X_train_sc, y_train)"
   ]
  },
  {
   "cell_type": "markdown",
   "id": "9132ebdd",
   "metadata": {},
   "source": [
    "**Interpretation:** While this model is better than the baseline it does not do nearly as well as the logistic regression on the full dataset. These summary statistics on the tonnetz probably aren't the best features."
   ]
  },
  {
   "cell_type": "code",
   "execution_count": 165,
   "id": "f7b86aa8",
   "metadata": {
    "ExecuteTime": {
     "end_time": "2021-07-01T01:49:07.524445Z",
     "start_time": "2021-07-01T01:49:07.514553Z"
    }
   },
   "outputs": [
    {
     "data": {
      "text/plain": [
       "PCA()"
      ]
     },
     "execution_count": 165,
     "metadata": {},
     "output_type": "execute_result"
    }
   ],
   "source": [
    "pca = PCA()\n",
    "pca.fit(X_train_sc)"
   ]
  },
  {
   "cell_type": "code",
   "execution_count": 166,
   "id": "2fcde2fc",
   "metadata": {
    "ExecuteTime": {
     "end_time": "2021-07-01T01:49:08.020238Z",
     "start_time": "2021-07-01T01:49:08.017042Z"
    }
   },
   "outputs": [
    {
     "data": {
      "text/plain": [
       "42"
      ]
     },
     "execution_count": 166,
     "metadata": {},
     "output_type": "execute_result"
    }
   ],
   "source": [
    "len(X_train.columns)"
   ]
  },
  {
   "cell_type": "code",
   "execution_count": 168,
   "id": "73df8271",
   "metadata": {
    "ExecuteTime": {
     "end_time": "2021-07-01T01:49:12.927913Z",
     "start_time": "2021-07-01T01:49:12.923366Z"
    }
   },
   "outputs": [
    {
     "data": {
      "text/plain": [
       "0.9288200000000001"
      ]
     },
     "execution_count": 168,
     "metadata": {},
     "output_type": "execute_result"
    }
   ],
   "source": [
    "sum([round(val, 5) for val in pca.explained_variance_ratio_][:21])"
   ]
  },
  {
   "cell_type": "markdown",
   "id": "793c8fed",
   "metadata": {},
   "source": [
    "**Interpretation:** 93% of the variability of the data is captured in the first 21 principal components."
   ]
  },
  {
   "cell_type": "code",
   "execution_count": 170,
   "id": "936fef73",
   "metadata": {
    "ExecuteTime": {
     "end_time": "2021-07-01T01:49:21.370737Z",
     "start_time": "2021-07-01T01:49:21.353059Z"
    }
   },
   "outputs": [
    {
     "data": {
      "text/plain": [
       "PCA(n_components=21)"
      ]
     },
     "execution_count": 170,
     "metadata": {},
     "output_type": "execute_result"
    }
   ],
   "source": [
    "pca = PCA(21)\n",
    "pca.fit(X_train_sc)"
   ]
  },
  {
   "cell_type": "code",
   "execution_count": 171,
   "id": "975b4a4e",
   "metadata": {
    "ExecuteTime": {
     "end_time": "2021-07-01T01:49:22.317542Z",
     "start_time": "2021-07-01T01:49:22.312710Z"
    }
   },
   "outputs": [],
   "source": [
    "X_train_pca = pd.DataFrame(pca.transform(X_train_sc))\n",
    "X_test_pca = pd.DataFrame(pca.transform(X_test_sc))"
   ]
  },
  {
   "cell_type": "code",
   "execution_count": 173,
   "id": "e75033b8",
   "metadata": {
    "ExecuteTime": {
     "end_time": "2021-07-01T01:49:32.780671Z",
     "start_time": "2021-07-01T01:49:32.698992Z"
    }
   },
   "outputs": [
    {
     "data": {
      "text/plain": [
       "(0.26263131565782893, 0.28607172643869894)"
      ]
     },
     "execution_count": 173,
     "metadata": {},
     "output_type": "execute_result"
    }
   ],
   "source": [
    "lr = LogisticRegression(C = .00599484, max_iter = 1000)\n",
    "lr.fit(X_train_pca, y_train)\n",
    "lr.score(X_test_pca, y_test), lr.score(X_train_pca, y_train)"
   ]
  },
  {
   "cell_type": "markdown",
   "id": "a4a4c0fd",
   "metadata": {},
   "source": [
    "**Interpretation:** Principal component analysis helped to reduce overfitting in this model but not by much."
   ]
  },
  {
   "cell_type": "markdown",
   "id": "3d52b196",
   "metadata": {},
   "source": [
    "## MFCC Analysis"
   ]
  },
  {
   "cell_type": "code",
   "execution_count": 30,
   "id": "ae8a2e51",
   "metadata": {
    "ExecuteTime": {
     "end_time": "2021-07-05T20:22:48.147568Z",
     "start_time": "2021-07-05T20:22:48.128871Z"
    }
   },
   "outputs": [],
   "source": [
    "X = df[mfcc_cols]\n",
    "y = df['track_genre_top']\n",
    "\n",
    "X_train, X_test, y_train, y_test = train_test_split(X, y, stratify=y,\n",
    "                                                   random_state=42)"
   ]
  },
  {
   "cell_type": "code",
   "execution_count": 31,
   "id": "ec070a7e",
   "metadata": {
    "ExecuteTime": {
     "end_time": "2021-07-05T20:22:48.299584Z",
     "start_time": "2021-07-05T20:22:48.282853Z"
    }
   },
   "outputs": [],
   "source": [
    "ss = StandardScaler()\n",
    "ss.fit(X_train)\n",
    "X_train_sc = ss.transform(X_train)\n",
    "X_test_sc = ss.transform(X_test)"
   ]
  },
  {
   "cell_type": "code",
   "execution_count": 32,
   "id": "676dab1e",
   "metadata": {
    "ExecuteTime": {
     "end_time": "2021-07-05T20:22:48.614095Z",
     "start_time": "2021-07-05T20:22:48.482895Z"
    }
   },
   "outputs": [
    {
     "data": {
      "text/plain": [
       "(0.5222611305652827, 0.538115095913261)"
      ]
     },
     "execution_count": 32,
     "metadata": {},
     "output_type": "execute_result"
    }
   ],
   "source": [
    "lr = LogisticRegression(C = .00599484, max_iter = 1000)\n",
    "lr.fit(X_train_sc, y_train)\n",
    "lr.score(X_test_sc, y_test), lr.score(X_train_sc, y_train)"
   ]
  },
  {
   "cell_type": "code",
   "execution_count": 33,
   "id": "ec063675",
   "metadata": {
    "ExecuteTime": {
     "end_time": "2021-07-05T20:22:49.945772Z",
     "start_time": "2021-07-05T20:22:49.930819Z"
    }
   },
   "outputs": [
    {
     "data": {
      "text/html": [
       "<div>\n",
       "<style scoped>\n",
       "    .dataframe tbody tr th:only-of-type {\n",
       "        vertical-align: middle;\n",
       "    }\n",
       "\n",
       "    .dataframe tbody tr th {\n",
       "        vertical-align: top;\n",
       "    }\n",
       "\n",
       "    .dataframe thead th {\n",
       "        text-align: right;\n",
       "    }\n",
       "</style>\n",
       "<table border=\"1\" class=\"dataframe\">\n",
       "  <thead>\n",
       "    <tr style=\"text-align: right;\">\n",
       "      <th></th>\n",
       "      <th>Electronic</th>\n",
       "      <th>Experimental</th>\n",
       "      <th>Folk</th>\n",
       "      <th>Hip-Hop</th>\n",
       "      <th>Instrumental</th>\n",
       "      <th>International</th>\n",
       "      <th>Pop</th>\n",
       "      <th>Rock</th>\n",
       "    </tr>\n",
       "  </thead>\n",
       "  <tbody>\n",
       "    <tr>\n",
       "      <th>Electronic</th>\n",
       "      <td>124</td>\n",
       "      <td>12</td>\n",
       "      <td>3</td>\n",
       "      <td>53</td>\n",
       "      <td>18</td>\n",
       "      <td>16</td>\n",
       "      <td>16</td>\n",
       "      <td>8</td>\n",
       "    </tr>\n",
       "    <tr>\n",
       "      <th>Experimental</th>\n",
       "      <td>32</td>\n",
       "      <td>66</td>\n",
       "      <td>16</td>\n",
       "      <td>19</td>\n",
       "      <td>50</td>\n",
       "      <td>25</td>\n",
       "      <td>14</td>\n",
       "      <td>28</td>\n",
       "    </tr>\n",
       "    <tr>\n",
       "      <th>Folk</th>\n",
       "      <td>2</td>\n",
       "      <td>8</td>\n",
       "      <td>167</td>\n",
       "      <td>4</td>\n",
       "      <td>19</td>\n",
       "      <td>21</td>\n",
       "      <td>18</td>\n",
       "      <td>11</td>\n",
       "    </tr>\n",
       "    <tr>\n",
       "      <th>Hip-Hop</th>\n",
       "      <td>30</td>\n",
       "      <td>6</td>\n",
       "      <td>4</td>\n",
       "      <td>164</td>\n",
       "      <td>5</td>\n",
       "      <td>19</td>\n",
       "      <td>15</td>\n",
       "      <td>6</td>\n",
       "    </tr>\n",
       "    <tr>\n",
       "      <th>Instrumental</th>\n",
       "      <td>9</td>\n",
       "      <td>22</td>\n",
       "      <td>18</td>\n",
       "      <td>8</td>\n",
       "      <td>156</td>\n",
       "      <td>9</td>\n",
       "      <td>10</td>\n",
       "      <td>18</td>\n",
       "    </tr>\n",
       "    <tr>\n",
       "      <th>International</th>\n",
       "      <td>18</td>\n",
       "      <td>10</td>\n",
       "      <td>25</td>\n",
       "      <td>31</td>\n",
       "      <td>9</td>\n",
       "      <td>136</td>\n",
       "      <td>9</td>\n",
       "      <td>12</td>\n",
       "    </tr>\n",
       "    <tr>\n",
       "      <th>Pop</th>\n",
       "      <td>25</td>\n",
       "      <td>15</td>\n",
       "      <td>26</td>\n",
       "      <td>26</td>\n",
       "      <td>22</td>\n",
       "      <td>22</td>\n",
       "      <td>65</td>\n",
       "      <td>49</td>\n",
       "    </tr>\n",
       "    <tr>\n",
       "      <th>Rock</th>\n",
       "      <td>4</td>\n",
       "      <td>13</td>\n",
       "      <td>16</td>\n",
       "      <td>10</td>\n",
       "      <td>9</td>\n",
       "      <td>13</td>\n",
       "      <td>19</td>\n",
       "      <td>166</td>\n",
       "    </tr>\n",
       "  </tbody>\n",
       "</table>\n",
       "</div>"
      ],
      "text/plain": [
       "               Electronic  Experimental  Folk  Hip-Hop  Instrumental  \\\n",
       "Electronic            124            12     3       53            18   \n",
       "Experimental           32            66    16       19            50   \n",
       "Folk                    2             8   167        4            19   \n",
       "Hip-Hop                30             6     4      164             5   \n",
       "Instrumental            9            22    18        8           156   \n",
       "International          18            10    25       31             9   \n",
       "Pop                    25            15    26       26            22   \n",
       "Rock                    4            13    16       10             9   \n",
       "\n",
       "               International  Pop  Rock  \n",
       "Electronic                16   16     8  \n",
       "Experimental              25   14    28  \n",
       "Folk                      21   18    11  \n",
       "Hip-Hop                   19   15     6  \n",
       "Instrumental               9   10    18  \n",
       "International            136    9    12  \n",
       "Pop                       22   65    49  \n",
       "Rock                      13   19   166  "
      ]
     },
     "execution_count": 33,
     "metadata": {},
     "output_type": "execute_result"
    }
   ],
   "source": [
    "preds = lr.predict(X_test_sc)\n",
    "labels = sorted(list(set(y_test.values)))\n",
    "pd.DataFrame(confusion_matrix(y_test, preds),\n",
    "             columns=labels,\n",
    "             index=labels)"
   ]
  },
  {
   "cell_type": "code",
   "execution_count": 68,
   "id": "8f2dae49",
   "metadata": {
    "ExecuteTime": {
     "end_time": "2021-07-05T20:45:48.035327Z",
     "start_time": "2021-07-05T20:45:47.537696Z"
    }
   },
   "outputs": [
    {
     "data": {
      "image/png": "[encoded data removed]",
      "text/plain": [
       "<Figure size 720x720 with 1 Axes>"
      ]
     },
     "metadata": {
      "needs_background": "light"
     },
     "output_type": "display_data"
    }
   ],
   "source": [
    "# https://panjeh.medium.com/figure-size-plot-confusion-matrix-in-scikit-learn-2c66f3a69d81\n",
    "\n",
    "fig, ax = plt.subplots(figsize=(10,10))\n",
    "\n",
    "plot_confusion_matrix(lr, X_test_sc, y_test,\n",
    "                      display_labels=labels, cmap='Blues',\n",
    "                      ax=ax, colorbar=False, xticks_rotation='vertical',\n",
    "                      normalize='true')\n",
    "ax.set_title('Logistic Regression Confusion Matrix',\n",
    "             size=18, pad=20, weight='bold')\n",
    "plt.savefig('../images/lr_confusion_matrix.png');"
   ]
  },
  {
   "cell_type": "markdown",
   "id": "8023c5c8",
   "metadata": {},
   "source": [
    "**Interpretation:** The accuracy here is pretty close to the accuracy on the entire dataset! The accuracy of the logistic regression with all of the features was 57.7 on the test set and 66.6 on the training set. Not only is the accuracy close but overfitting has been reduced by a lot."
   ]
  },
  {
   "cell_type": "code",
   "execution_count": 21,
   "id": "c1f1de73",
   "metadata": {
    "ExecuteTime": {
     "end_time": "2021-07-05T20:19:44.105484Z",
     "start_time": "2021-07-05T20:19:44.076660Z"
    }
   },
   "outputs": [
    {
     "data": {
      "text/plain": [
       "PCA()"
      ]
     },
     "execution_count": 21,
     "metadata": {},
     "output_type": "execute_result"
    }
   ],
   "source": [
    "pca = PCA()\n",
    "pca.fit(X_train_sc)"
   ]
  },
  {
   "cell_type": "code",
   "execution_count": 22,
   "id": "d9b6b412",
   "metadata": {
    "ExecuteTime": {
     "end_time": "2021-07-05T20:19:44.218517Z",
     "start_time": "2021-07-05T20:19:44.215789Z"
    }
   },
   "outputs": [
    {
     "data": {
      "text/plain": [
       "140"
      ]
     },
     "execution_count": 22,
     "metadata": {},
     "output_type": "execute_result"
    }
   ],
   "source": [
    "len(X_train.columns)"
   ]
  },
  {
   "cell_type": "code",
   "execution_count": 23,
   "id": "8f79fc73",
   "metadata": {
    "ExecuteTime": {
     "end_time": "2021-07-05T20:19:44.377189Z",
     "start_time": "2021-07-05T20:19:44.372661Z"
    }
   },
   "outputs": [
    {
     "data": {
      "text/plain": [
       "0.97095"
      ]
     },
     "execution_count": 23,
     "metadata": {},
     "output_type": "execute_result"
    }
   ],
   "source": [
    "sum([round(val, 5) for val in pca.explained_variance_ratio_][:77])"
   ]
  },
  {
   "cell_type": "code",
   "execution_count": 24,
   "id": "51f8c9a2",
   "metadata": {
    "ExecuteTime": {
     "end_time": "2021-07-05T20:19:44.557165Z",
     "start_time": "2021-07-05T20:19:44.502749Z"
    }
   },
   "outputs": [
    {
     "data": {
      "text/plain": [
       "PCA(n_components=77)"
      ]
     },
     "execution_count": 24,
     "metadata": {},
     "output_type": "execute_result"
    }
   ],
   "source": [
    "pca = PCA(77)\n",
    "pca.fit(X_train_sc)"
   ]
  },
  {
   "cell_type": "code",
   "execution_count": 25,
   "id": "eeb26624",
   "metadata": {
    "ExecuteTime": {
     "end_time": "2021-07-05T20:19:44.652582Z",
     "start_time": "2021-07-05T20:19:44.645484Z"
    }
   },
   "outputs": [],
   "source": [
    "X_train_pca = pd.DataFrame(pca.transform(X_train_sc))\n",
    "X_test_pca = pd.DataFrame(pca.transform(X_test_sc))"
   ]
  },
  {
   "cell_type": "code",
   "execution_count": 26,
   "id": "5c512ecc",
   "metadata": {
    "ExecuteTime": {
     "end_time": "2021-07-05T20:19:45.329647Z",
     "start_time": "2021-07-05T20:19:44.800344Z"
    }
   },
   "outputs": [
    {
     "data": {
      "text/plain": [
       "array([0.50708924, 0.52126772, 0.49958299, 0.49791493, 0.49958299])"
      ]
     },
     "execution_count": 26,
     "metadata": {},
     "output_type": "execute_result"
    }
   ],
   "source": [
    "lr = LogisticRegression(C = .00599484, max_iter = 1000)\n",
    "cross_val_score(lr, X_train_sc, y_train)"
   ]
  },
  {
   "cell_type": "code",
   "execution_count": 27,
   "id": "1bd0be51",
   "metadata": {
    "ExecuteTime": {
     "end_time": "2021-07-05T20:19:45.459153Z",
     "start_time": "2021-07-05T20:19:45.330587Z"
    }
   },
   "outputs": [
    {
     "data": {
      "text/plain": [
       "(0.5107553776888444, 0.5286071726438699)"
      ]
     },
     "execution_count": 27,
     "metadata": {},
     "output_type": "execute_result"
    }
   ],
   "source": [
    "lr = LogisticRegression(C = .00599484, max_iter = 1000)\n",
    "lr.fit(X_train_pca, y_train)\n",
    "lr.score(X_test_pca, y_test), lr.score(X_train_pca, y_train)"
   ]
  },
  {
   "cell_type": "code",
   "execution_count": 28,
   "id": "72dcfc14",
   "metadata": {
    "ExecuteTime": {
     "end_time": "2021-07-05T20:19:58.879479Z",
     "start_time": "2021-07-05T20:19:58.862052Z"
    }
   },
   "outputs": [
    {
     "data": {
      "text/html": [
       "<div>\n",
       "<style scoped>\n",
       "    .dataframe tbody tr th:only-of-type {\n",
       "        vertical-align: middle;\n",
       "    }\n",
       "\n",
       "    .dataframe tbody tr th {\n",
       "        vertical-align: top;\n",
       "    }\n",
       "\n",
       "    .dataframe thead th {\n",
       "        text-align: right;\n",
       "    }\n",
       "</style>\n",
       "<table border=\"1\" class=\"dataframe\">\n",
       "  <thead>\n",
       "    <tr style=\"text-align: right;\">\n",
       "      <th></th>\n",
       "      <th>Electronic</th>\n",
       "      <th>Experimental</th>\n",
       "      <th>Folk</th>\n",
       "      <th>Hip-Hop</th>\n",
       "      <th>Instrumental</th>\n",
       "      <th>International</th>\n",
       "      <th>Pop</th>\n",
       "      <th>Rock</th>\n",
       "    </tr>\n",
       "  </thead>\n",
       "  <tbody>\n",
       "    <tr>\n",
       "      <th>Electronic</th>\n",
       "      <td>122</td>\n",
       "      <td>12</td>\n",
       "      <td>3</td>\n",
       "      <td>53</td>\n",
       "      <td>19</td>\n",
       "      <td>15</td>\n",
       "      <td>16</td>\n",
       "      <td>10</td>\n",
       "    </tr>\n",
       "    <tr>\n",
       "      <th>Experimental</th>\n",
       "      <td>29</td>\n",
       "      <td>62</td>\n",
       "      <td>17</td>\n",
       "      <td>20</td>\n",
       "      <td>54</td>\n",
       "      <td>26</td>\n",
       "      <td>16</td>\n",
       "      <td>26</td>\n",
       "    </tr>\n",
       "    <tr>\n",
       "      <th>Folk</th>\n",
       "      <td>4</td>\n",
       "      <td>9</td>\n",
       "      <td>164</td>\n",
       "      <td>4</td>\n",
       "      <td>20</td>\n",
       "      <td>22</td>\n",
       "      <td>17</td>\n",
       "      <td>10</td>\n",
       "    </tr>\n",
       "    <tr>\n",
       "      <th>Hip-Hop</th>\n",
       "      <td>34</td>\n",
       "      <td>8</td>\n",
       "      <td>4</td>\n",
       "      <td>158</td>\n",
       "      <td>4</td>\n",
       "      <td>21</td>\n",
       "      <td>13</td>\n",
       "      <td>7</td>\n",
       "    </tr>\n",
       "    <tr>\n",
       "      <th>Instrumental</th>\n",
       "      <td>10</td>\n",
       "      <td>21</td>\n",
       "      <td>20</td>\n",
       "      <td>10</td>\n",
       "      <td>155</td>\n",
       "      <td>8</td>\n",
       "      <td>9</td>\n",
       "      <td>17</td>\n",
       "    </tr>\n",
       "    <tr>\n",
       "      <th>International</th>\n",
       "      <td>18</td>\n",
       "      <td>12</td>\n",
       "      <td>27</td>\n",
       "      <td>32</td>\n",
       "      <td>9</td>\n",
       "      <td>132</td>\n",
       "      <td>9</td>\n",
       "      <td>11</td>\n",
       "    </tr>\n",
       "    <tr>\n",
       "      <th>Pop</th>\n",
       "      <td>20</td>\n",
       "      <td>17</td>\n",
       "      <td>26</td>\n",
       "      <td>31</td>\n",
       "      <td>20</td>\n",
       "      <td>24</td>\n",
       "      <td>63</td>\n",
       "      <td>49</td>\n",
       "    </tr>\n",
       "    <tr>\n",
       "      <th>Rock</th>\n",
       "      <td>5</td>\n",
       "      <td>10</td>\n",
       "      <td>16</td>\n",
       "      <td>11</td>\n",
       "      <td>13</td>\n",
       "      <td>12</td>\n",
       "      <td>18</td>\n",
       "      <td>165</td>\n",
       "    </tr>\n",
       "  </tbody>\n",
       "</table>\n",
       "</div>"
      ],
      "text/plain": [
       "               Electronic  Experimental  Folk  Hip-Hop  Instrumental  \\\n",
       "Electronic            122            12     3       53            19   \n",
       "Experimental           29            62    17       20            54   \n",
       "Folk                    4             9   164        4            20   \n",
       "Hip-Hop                34             8     4      158             4   \n",
       "Instrumental           10            21    20       10           155   \n",
       "International          18            12    27       32             9   \n",
       "Pop                    20            17    26       31            20   \n",
       "Rock                    5            10    16       11            13   \n",
       "\n",
       "               International  Pop  Rock  \n",
       "Electronic                15   16    10  \n",
       "Experimental              26   16    26  \n",
       "Folk                      22   17    10  \n",
       "Hip-Hop                   21   13     7  \n",
       "Instrumental               8    9    17  \n",
       "International            132    9    11  \n",
       "Pop                       24   63    49  \n",
       "Rock                      12   18   165  "
      ]
     },
     "execution_count": 28,
     "metadata": {},
     "output_type": "execute_result"
    }
   ],
   "source": [
    "preds = lr.predict(X_test_pca)\n",
    "pd.DataFrame(confusion_matrix(y_test, preds),\n",
    "             columns=labels,\n",
    "             index=labels)"
   ]
  },
  {
   "cell_type": "code",
   "execution_count": 188,
   "id": "d53ae81c",
   "metadata": {
    "ExecuteTime": {
     "end_time": "2021-06-24T13:40:38.450328Z",
     "start_time": "2021-06-24T13:38:37.438366Z"
    }
   },
   "outputs": [
    {
     "name": "stdout",
     "output_type": "stream",
     "text": [
      "      Iter       Train Loss   Remaining Time \n",
      "         1           2.0794            1.12m\n",
      "         2           2.0793            1.11m\n",
      "         3           2.0792            1.09m\n",
      "         4           2.0791            1.09m\n",
      "         5           2.0790            1.08m\n",
      "         6           2.0789            1.08m\n",
      "         7           2.0788            1.09m\n",
      "         8           2.0787            1.09m\n",
      "         9           2.0786            1.10m\n",
      "        10           2.0785            1.09m\n",
      "        20           2.0777            1.06m\n",
      "        30           2.0768            1.03m\n",
      "        40           2.0759            1.01m\n",
      "        50           2.0750           58.87s\n",
      "        60           2.0742           57.45s\n",
      "        70           2.0733           56.31s\n",
      "        80           2.0724           55.04s\n",
      "        90           2.0715           53.74s\n",
      "       100           2.0707           52.43s\n",
      "       200           2.0621           39.09s\n",
      "       300           2.0536           26.02s\n",
      "       400           2.0453           13.01s\n",
      "       500           2.0372            0.00s\n"
     ]
    },
    {
     "data": {
      "text/plain": [
       "(0.455, 0.5151666666666667)"
      ]
     },
     "execution_count": 188,
     "metadata": {},
     "output_type": "execute_result"
    }
   ],
   "source": [
    "gbm = GradientBoostingClassifier(min_samples_split = 10, subsample = 1,\n",
    "                                 max_features = 'sqrt', n_iter_no_change = 5,\n",
    "                                 n_estimators = 500, learning_rate = .0001,\n",
    "                                 tol = .0001, verbose=1)\n",
    "gbm.fit(X_train, y_train)\n",
    "gbm.score(X_test, y_test), gbm.score(X_train, y_train)"
   ]
  },
  {
   "cell_type": "code",
   "execution_count": 189,
   "id": "ec06d58f",
   "metadata": {},
   "outputs": [
    {
     "name": "stdout",
     "output_type": "stream",
     "text": [
      "      Iter       Train Loss   Remaining Time \n",
      "         1           2.0794           45.01s\n",
      "         2           2.0793           44.64s\n",
      "         3           2.0793           45.51s\n",
      "         4           2.0793           45.18s\n",
      "         5           2.0792           44.79s\n",
      "         6           2.0792           44.74s\n",
      "         7           2.0791           44.63s\n",
      "         8           2.0791           44.38s\n",
      "         9           2.0790           44.31s\n",
      "        10           2.0790           44.11s\n",
      "        20           2.0785           42.81s\n",
      "        30           2.0780           41.73s\n",
      "        40           2.0775           40.83s\n",
      "        50           2.0770           39.80s\n",
      "        60           2.0764           38.78s\n",
      "        70           2.0760           37.80s\n",
      "        80           2.0755           36.87s\n",
      "        90           2.0750           35.96s\n",
      "       100           2.0745           35.03s\n",
      "       200           2.0698           26.13s\n",
      "       300           2.0650           17.43s\n",
      "       400           2.0602            8.70s\n",
      "       500           2.0556            0.00s\n"
     ]
    },
    {
     "data": {
      "text/plain": [
       "(0.4445, 0.5128333333333334)"
      ]
     },
     "execution_count": 189,
     "metadata": {},
     "output_type": "execute_result"
    }
   ],
   "source": [
    "gbm = GradientBoostingClassifier(min_samples_split = 10, subsample = 1,\n",
    "                                 max_features = 'sqrt', n_iter_no_change = 5,\n",
    "                                 n_estimators = 500, learning_rate = .0001,\n",
    "                                 tol = .0001, verbose=1)\n",
    "gbm.fit(X_train_pca, y_train)\n",
    "gbm.score(X_test_pca, y_test), gbm.score(X_train_pca, y_train)"
   ]
  },
  {
   "cell_type": "code",
   "execution_count": 195,
   "id": "e4fe8269",
   "metadata": {
    "ExecuteTime": {
     "end_time": "2021-07-02T22:58:41.484393Z",
     "start_time": "2021-07-02T22:58:39.762233Z"
    }
   },
   "outputs": [
    {
     "data": {
      "text/plain": [
       "array([0.49040867, 0.49791493, 0.48040033, 0.48623853, 0.49374479])"
      ]
     },
     "execution_count": 195,
     "metadata": {},
     "output_type": "execute_result"
    }
   ],
   "source": [
    "knn = KNeighborsClassifier(p=1)\n",
    "cross_val_score(knn, X_train_sc, y_train)"
   ]
  },
  {
   "cell_type": "code",
   "execution_count": 196,
   "id": "50896b7f",
   "metadata": {
    "ExecuteTime": {
     "end_time": "2021-07-02T22:58:46.320873Z",
     "start_time": "2021-07-02T22:58:43.724362Z"
    }
   },
   "outputs": [
    {
     "data": {
      "text/plain": [
       "(0.49874937468734365, 0.6615512927439533)"
      ]
     },
     "execution_count": 196,
     "metadata": {},
     "output_type": "execute_result"
    }
   ],
   "source": [
    "knn.fit(X_train_sc, y_train)\n",
    "knn.score(X_test_sc, y_test), knn.score(X_train_sc, y_train)"
   ]
  },
  {
   "cell_type": "code",
   "execution_count": 197,
   "id": "2a44e2c9",
   "metadata": {
    "ExecuteTime": {
     "end_time": "2021-07-02T22:59:08.503297Z",
     "start_time": "2021-07-02T22:59:06.834037Z"
    }
   },
   "outputs": [
    {
     "data": {
      "text/plain": [
       "(0.4897448724362181, 0.6555462885738115)"
      ]
     },
     "execution_count": 197,
     "metadata": {},
     "output_type": "execute_result"
    }
   ],
   "source": [
    "knn.fit(X_train_pca, y_train)\n",
    "knn.score(X_test_pca, y_test), knn.score(X_train_pca, y_train)"
   ]
  },
  {
   "cell_type": "markdown",
   "id": "bf4315e8",
   "metadata": {},
   "source": [
    "**Interpretation:** Knn is quite over fit and I shan't pursue it at this time."
   ]
  },
  {
   "cell_type": "code",
   "execution_count": null,
   "id": "9d878f44",
   "metadata": {},
   "outputs": [],
   "source": []
  }
 ],
 "metadata": {
  "kernelspec": {
   "display_name": "Python 3",
   "language": "python",
   "name": "python3"
  },
  "language_info": {
   "codemirror_mode": {
    "name": "ipython",
    "version": 3
   },
   "file_extension": ".py",
   "mimetype": "text/x-python",
   "name": "python",
   "nbconvert_exporter": "python",
   "pygments_lexer": "ipython3",
   "version": "3.9.5"
  }
 },
 "nbformat": 4,
 "nbformat_minor": 5
}
