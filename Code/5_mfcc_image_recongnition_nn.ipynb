{
 "cells": [
  {
   "cell_type": "code",
   "execution_count": 1,
   "id": "4a155de9",
   "metadata": {
    "ExecuteTime": {
     "end_time": "2021-10-13T12:53:43.270898Z",
     "start_time": "2021-10-13T12:53:36.446797Z"
    }
   },
   "outputs": [
    {
     "name": "stderr",
     "output_type": "stream",
     "text": [
      "Using TensorFlow backend.\n"
     ]
    }
   ],
   "source": [
    "import matplotlib.pyplot as plt\n",
    "from keras.preprocessing.image import ImageDataGenerator\n",
    "from tensorflow.keras.models import Sequential\n",
    "from tensorflow.keras.layers import Dense, Flatten, Dropout, Conv2D, MaxPooling2D,\\\n",
    "                                    Input\n",
    "from tensorflow.keras.utils import to_categorical\n",
    "from tensorflow.keras.regularizers import l2\n",
    "from tensorflow.keras import backend as K\n",
    "from keras.utils import plot_model\n",
    "import math"
   ]
  },
  {
   "cell_type": "code",
   "execution_count": 2,
   "id": "965fec01",
   "metadata": {
    "ExecuteTime": {
     "end_time": "2021-10-13T12:53:45.222363Z",
     "start_time": "2021-10-13T12:53:45.213361Z"
    }
   },
   "outputs": [],
   "source": [
    "datagen = ImageDataGenerator(validation_split=.1, rescale=1./255)"
   ]
  },
  {
   "cell_type": "code",
   "execution_count": null,
   "id": "02a6d5b1",
   "metadata": {
    "ExecuteTime": {
     "start_time": "2021-10-13T12:55:27.467Z"
    }
   },
   "outputs": [
    {
     "name": "stderr",
     "output_type": "stream",
     "text": [
      "ERROR:root:Internal Python error in the inspect module.\n",
      "Below is the traceback from this internal error.\n",
      "\n",
      "ERROR:root:Internal Python error in the inspect module.\n",
      "Below is the traceback from this internal error.\n",
      "\n",
      "ERROR:root:Internal Python error in the inspect module.\n",
      "Below is the traceback from this internal error.\n",
      "\n"
     ]
    },
    {
     "name": "stdout",
     "output_type": "stream",
     "text": [
      "Traceback (most recent call last):\n",
      "  File \"C:\\Users\\098uy\\anaconda3\\envs\\neural_gpu\\lib\\site-packages\\IPython\\core\\interactiveshell.py\", line 3437, in run_code\n",
      "    exec(code_obj, self.user_global_ns, self.user_ns)\n",
      "  File \"<ipython-input-3-0dd9ecd7b9ec>\", line 1, in <module>\n",
      "    with tf.Session() as sess:\n",
      "NameError: name 'tf' is not defined\n",
      "\n",
      "During handling of the above exception, another exception occurred:\n",
      "\n",
      "Traceback (most recent call last):\n",
      "  File \"C:\\Users\\098uy\\anaconda3\\envs\\neural_gpu\\lib\\site-packages\\IPython\\core\\interactiveshell.py\", line 2061, in showtraceback\n",
      "    stb = value._render_traceback_()\n",
      "AttributeError: 'NameError' object has no attribute '_render_traceback_'\n",
      "\n",
      "During handling of the above exception, another exception occurred:\n",
      "\n",
      "Traceback (most recent call last):\n",
      "  File \"C:\\Users\\098uy\\anaconda3\\envs\\neural_gpu\\lib\\site-packages\\IPython\\core\\ultratb.py\", line 1101, in get_records\n",
      "    return _fixed_getinnerframes(etb, number_of_lines_of_context, tb_offset)\n",
      "  File \"C:\\Users\\098uy\\anaconda3\\envs\\neural_gpu\\lib\\site-packages\\IPython\\core\\ultratb.py\", line 248, in wrapped\n",
      "    return f(*args, **kwargs)\n",
      "  File \"C:\\Users\\098uy\\anaconda3\\envs\\neural_gpu\\lib\\site-packages\\IPython\\core\\ultratb.py\", line 281, in _fixed_getinnerframes\n",
      "    records = fix_frame_records_filenames(inspect.getinnerframes(etb, context))\n",
      "  File \"C:\\Users\\098uy\\anaconda3\\envs\\neural_gpu\\lib\\inspect.py\", line 1502, in getinnerframes\n",
      "    frameinfo = (tb.tb_frame,) + getframeinfo(tb, context)\n",
      "  File \"C:\\Users\\098uy\\anaconda3\\envs\\neural_gpu\\lib\\inspect.py\", line 1460, in getframeinfo\n",
      "    filename = getsourcefile(frame) or getfile(frame)\n",
      "  File \"C:\\Users\\098uy\\anaconda3\\envs\\neural_gpu\\lib\\inspect.py\", line 696, in getsourcefile\n",
      "    if getattr(getmodule(object, filename), '__loader__', None) is not None:\n",
      "  File \"C:\\Users\\098uy\\anaconda3\\envs\\neural_gpu\\lib\\inspect.py\", line 733, in getmodule\n",
      "    if ismodule(module) and hasattr(module, '__file__'):\n",
      "  File \"C:\\Users\\098uy\\anaconda3\\envs\\neural_gpu\\lib\\site-packages\\tensorflow\\__init__.py\", line 50, in __getattr__\n",
      "    module = self._load()\n",
      "  File \"C:\\Users\\098uy\\anaconda3\\envs\\neural_gpu\\lib\\site-packages\\tensorflow\\__init__.py\", line 44, in _load\n",
      "    module = _importlib.import_module(self.__name__)\n",
      "  File \"C:\\Users\\098uy\\anaconda3\\envs\\neural_gpu\\lib\\importlib\\__init__.py\", line 127, in import_module\n",
      "    return _bootstrap._gcd_import(name[level:], package, level)\n",
      "  File \"<frozen importlib._bootstrap>\", line 1006, in _gcd_import\n",
      "  File \"<frozen importlib._bootstrap>\", line 983, in _find_and_load\n",
      "  File \"<frozen importlib._bootstrap>\", line 965, in _find_and_load_unlocked\n",
      "ModuleNotFoundError: No module named 'tensorflow_core.estimator'\n",
      "ERROR! Session/line number was not unique in database. History logging moved to new session 485\n",
      "Traceback (most recent call last):\n",
      "  File \"C:\\Users\\098uy\\anaconda3\\envs\\neural_gpu\\lib\\site-packages\\IPython\\core\\interactiveshell.py\", line 3437, in run_code\n",
      "    exec(code_obj, self.user_global_ns, self.user_ns)\n",
      "  File \"<ipython-input-3-0dd9ecd7b9ec>\", line 1, in <module>\n",
      "    with tf.Session() as sess:\n",
      "NameError: name 'tf' is not defined\n",
      "\n",
      "During handling of the above exception, another exception occurred:\n",
      "\n",
      "Traceback (most recent call last):\n",
      "  File \"C:\\Users\\098uy\\anaconda3\\envs\\neural_gpu\\lib\\site-packages\\IPython\\core\\interactiveshell.py\", line 2061, in showtraceback\n",
      "    stb = value._render_traceback_()\n",
      "AttributeError: 'NameError' object has no attribute '_render_traceback_'\n",
      "\n",
      "During handling of the above exception, another exception occurred:\n",
      "\n",
      "Traceback (most recent call last):\n",
      "  File \"C:\\Users\\098uy\\anaconda3\\envs\\neural_gpu\\lib\\site-packages\\IPython\\core\\interactiveshell.py\", line 3357, in run_ast_nodes\n",
      "    if (await self.run_code(code, result,  async_=asy)):\n",
      "  File \"C:\\Users\\098uy\\anaconda3\\envs\\neural_gpu\\lib\\site-packages\\IPython\\core\\interactiveshell.py\", line 3454, in run_code\n",
      "    self.showtraceback(running_compiled_code=True)\n",
      "  File \"C:\\Users\\098uy\\anaconda3\\envs\\neural_gpu\\lib\\site-packages\\IPython\\core\\interactiveshell.py\", line 2064, in showtraceback\n",
      "    value, tb, tb_offset=tb_offset)\n",
      "  File \"C:\\Users\\098uy\\anaconda3\\envs\\neural_gpu\\lib\\site-packages\\IPython\\core\\ultratb.py\", line 1368, in structured_traceback\n",
      "    self, etype, value, tb, tb_offset, number_of_lines_of_context)\n",
      "  File \"C:\\Users\\098uy\\anaconda3\\envs\\neural_gpu\\lib\\site-packages\\IPython\\core\\ultratb.py\", line 1268, in structured_traceback\n",
      "    self, etype, value, tb, tb_offset, number_of_lines_of_context\n",
      "  File \"C:\\Users\\098uy\\anaconda3\\envs\\neural_gpu\\lib\\site-packages\\IPython\\core\\ultratb.py\", line 1125, in structured_traceback\n",
      "    tb_offset)\n",
      "  File \"C:\\Users\\098uy\\anaconda3\\envs\\neural_gpu\\lib\\site-packages\\IPython\\core\\ultratb.py\", line 1082, in format_exception_as_a_whole\n",
      "    last_unique, recursion_repeat = find_recursion(orig_etype, evalue, records)\n",
      "  File \"C:\\Users\\098uy\\anaconda3\\envs\\neural_gpu\\lib\\site-packages\\IPython\\core\\ultratb.py\", line 382, in find_recursion\n",
      "    return len(records), 0\n",
      "TypeError: object of type 'NoneType' has no len()\n",
      "\n",
      "During handling of the above exception, another exception occurred:\n",
      "\n",
      "Traceback (most recent call last):\n",
      "  File \"C:\\Users\\098uy\\anaconda3\\envs\\neural_gpu\\lib\\site-packages\\IPython\\core\\interactiveshell.py\", line 2061, in showtraceback\n",
      "    stb = value._render_traceback_()\n",
      "AttributeError: 'TypeError' object has no attribute '_render_traceback_'\n",
      "\n",
      "During handling of the above exception, another exception occurred:\n",
      "\n",
      "Traceback (most recent call last):\n",
      "  File \"C:\\Users\\098uy\\anaconda3\\envs\\neural_gpu\\lib\\site-packages\\IPython\\core\\ultratb.py\", line 1101, in get_records\n",
      "    return _fixed_getinnerframes(etb, number_of_lines_of_context, tb_offset)\n",
      "  File \"C:\\Users\\098uy\\anaconda3\\envs\\neural_gpu\\lib\\site-packages\\IPython\\core\\ultratb.py\", line 248, in wrapped\n",
      "    return f(*args, **kwargs)\n",
      "  File \"C:\\Users\\098uy\\anaconda3\\envs\\neural_gpu\\lib\\site-packages\\IPython\\core\\ultratb.py\", line 281, in _fixed_getinnerframes\n",
      "    records = fix_frame_records_filenames(inspect.getinnerframes(etb, context))\n",
      "  File \"C:\\Users\\098uy\\anaconda3\\envs\\neural_gpu\\lib\\inspect.py\", line 1502, in getinnerframes\n",
      "    frameinfo = (tb.tb_frame,) + getframeinfo(tb, context)\n",
      "  File \"C:\\Users\\098uy\\anaconda3\\envs\\neural_gpu\\lib\\inspect.py\", line 1460, in getframeinfo\n",
      "    filename = getsourcefile(frame) or getfile(frame)\n",
      "  File \"C:\\Users\\098uy\\anaconda3\\envs\\neural_gpu\\lib\\inspect.py\", line 696, in getsourcefile\n",
      "    if getattr(getmodule(object, filename), '__loader__', None) is not None:\n",
      "  File \"C:\\Users\\098uy\\anaconda3\\envs\\neural_gpu\\lib\\inspect.py\", line 733, in getmodule\n",
      "    if ismodule(module) and hasattr(module, '__file__'):\n",
      "  File \"C:\\Users\\098uy\\anaconda3\\envs\\neural_gpu\\lib\\site-packages\\tensorflow\\__init__.py\", line 50, in __getattr__\n",
      "    module = self._load()\n",
      "  File \"C:\\Users\\098uy\\anaconda3\\envs\\neural_gpu\\lib\\site-packages\\tensorflow\\__init__.py\", line 44, in _load\n",
      "    module = _importlib.import_module(self.__name__)\n",
      "  File \"C:\\Users\\098uy\\anaconda3\\envs\\neural_gpu\\lib\\importlib\\__init__.py\", line 127, in import_module\n",
      "    return _bootstrap._gcd_import(name[level:], package, level)\n",
      "  File \"<frozen importlib._bootstrap>\", line 1006, in _gcd_import\n",
      "  File \"<frozen importlib._bootstrap>\", line 983, in _find_and_load\n",
      "  File \"<frozen importlib._bootstrap>\", line 965, in _find_and_load_unlocked\n",
      "ModuleNotFoundError: No module named 'tensorflow_core.estimator'\n",
      "Traceback (most recent call last):\n",
      "  File \"C:\\Users\\098uy\\anaconda3\\envs\\neural_gpu\\lib\\site-packages\\IPython\\core\\interactiveshell.py\", line 3437, in run_code\n",
      "    exec(code_obj, self.user_global_ns, self.user_ns)\n",
      "  File \"<ipython-input-3-0dd9ecd7b9ec>\", line 1, in <module>\n",
      "    with tf.Session() as sess:\n",
      "NameError: name 'tf' is not defined\n",
      "\n",
      "During handling of the above exception, another exception occurred:\n",
      "\n",
      "Traceback (most recent call last):\n",
      "  File \"C:\\Users\\098uy\\anaconda3\\envs\\neural_gpu\\lib\\site-packages\\IPython\\core\\interactiveshell.py\", line 2061, in showtraceback\n",
      "    stb = value._render_traceback_()\n",
      "AttributeError: 'NameError' object has no attribute '_render_traceback_'\n",
      "\n",
      "During handling of the above exception, another exception occurred:\n",
      "\n",
      "Traceback (most recent call last):\n",
      "  File \"C:\\Users\\098uy\\anaconda3\\envs\\neural_gpu\\lib\\site-packages\\IPython\\core\\interactiveshell.py\", line 3357, in run_ast_nodes\n",
      "    if (await self.run_code(code, result,  async_=asy)):\n",
      "  File \"C:\\Users\\098uy\\anaconda3\\envs\\neural_gpu\\lib\\site-packages\\IPython\\core\\interactiveshell.py\", line 3454, in run_code\n",
      "    self.showtraceback(running_compiled_code=True)\n",
      "  File \"C:\\Users\\098uy\\anaconda3\\envs\\neural_gpu\\lib\\site-packages\\IPython\\core\\interactiveshell.py\", line 2064, in showtraceback\n",
      "    value, tb, tb_offset=tb_offset)\n",
      "  File \"C:\\Users\\098uy\\anaconda3\\envs\\neural_gpu\\lib\\site-packages\\IPython\\core\\ultratb.py\", line 1368, in structured_traceback\n",
      "    self, etype, value, tb, tb_offset, number_of_lines_of_context)\n",
      "  File \"C:\\Users\\098uy\\anaconda3\\envs\\neural_gpu\\lib\\site-packages\\IPython\\core\\ultratb.py\", line 1268, in structured_traceback\n",
      "    self, etype, value, tb, tb_offset, number_of_lines_of_context\n",
      "  File \"C:\\Users\\098uy\\anaconda3\\envs\\neural_gpu\\lib\\site-packages\\IPython\\core\\ultratb.py\", line 1125, in structured_traceback\n",
      "    tb_offset)\n",
      "  File \"C:\\Users\\098uy\\anaconda3\\envs\\neural_gpu\\lib\\site-packages\\IPython\\core\\ultratb.py\", line 1082, in format_exception_as_a_whole\n",
      "    last_unique, recursion_repeat = find_recursion(orig_etype, evalue, records)\n",
      "  File \"C:\\Users\\098uy\\anaconda3\\envs\\neural_gpu\\lib\\site-packages\\IPython\\core\\ultratb.py\", line 382, in find_recursion\n",
      "    return len(records), 0\n",
      "TypeError: object of type 'NoneType' has no len()\n",
      "\n",
      "During handling of the above exception, another exception occurred:\n",
      "\n",
      "Traceback (most recent call last):\n",
      "  File \"C:\\Users\\098uy\\anaconda3\\envs\\neural_gpu\\lib\\site-packages\\IPython\\core\\interactiveshell.py\", line 2061, in showtraceback\n",
      "    stb = value._render_traceback_()\n",
      "AttributeError: 'TypeError' object has no attribute '_render_traceback_'\n",
      "\n",
      "During handling of the above exception, another exception occurred:\n",
      "\n",
      "Traceback (most recent call last):\n",
      "  File \"C:\\Users\\098uy\\anaconda3\\envs\\neural_gpu\\lib\\site-packages\\IPython\\core\\interactiveshell.py\", line 2940, in _run_cell\n",
      "    return runner(coro)\n",
      "  File \"C:\\Users\\098uy\\anaconda3\\envs\\neural_gpu\\lib\\site-packages\\IPython\\core\\async_helpers.py\", line 68, in _pseudo_sync_runner\n",
      "    coro.send(None)\n",
      "  File \"C:\\Users\\098uy\\anaconda3\\envs\\neural_gpu\\lib\\site-packages\\IPython\\core\\interactiveshell.py\", line 3166, in run_cell_async\n",
      "    interactivity=interactivity, compiler=compiler, result=result)\n",
      "  File \"C:\\Users\\098uy\\anaconda3\\envs\\neural_gpu\\lib\\site-packages\\IPython\\core\\interactiveshell.py\", line 3376, in run_ast_nodes\n",
      "    self.showtraceback()\n",
      "  File \"C:\\Users\\098uy\\anaconda3\\envs\\neural_gpu\\lib\\site-packages\\IPython\\core\\interactiveshell.py\", line 2064, in showtraceback\n",
      "    value, tb, tb_offset=tb_offset)\n",
      "  File \"C:\\Users\\098uy\\anaconda3\\envs\\neural_gpu\\lib\\site-packages\\IPython\\core\\ultratb.py\", line 1368, in structured_traceback\n",
      "    self, etype, value, tb, tb_offset, number_of_lines_of_context)\n",
      "  File \"C:\\Users\\098uy\\anaconda3\\envs\\neural_gpu\\lib\\site-packages\\IPython\\core\\ultratb.py\", line 1268, in structured_traceback\n",
      "    self, etype, value, tb, tb_offset, number_of_lines_of_context\n",
      "  File \"C:\\Users\\098uy\\anaconda3\\envs\\neural_gpu\\lib\\site-packages\\IPython\\core\\ultratb.py\", line 1143, in structured_traceback\n",
      "    chained_exceptions_tb_offset)\n",
      "  File \"C:\\Users\\098uy\\anaconda3\\envs\\neural_gpu\\lib\\site-packages\\IPython\\core\\ultratb.py\", line 1082, in format_exception_as_a_whole\n",
      "    last_unique, recursion_repeat = find_recursion(orig_etype, evalue, records)\n",
      "  File \"C:\\Users\\098uy\\anaconda3\\envs\\neural_gpu\\lib\\site-packages\\IPython\\core\\ultratb.py\", line 382, in find_recursion\n",
      "    return len(records), 0\n",
      "TypeError: object of type 'NoneType' has no len()\n",
      "\n",
      "During handling of the above exception, another exception occurred:\n",
      "\n",
      "Traceback (most recent call last):\n",
      "  File \"C:\\Users\\098uy\\anaconda3\\envs\\neural_gpu\\lib\\site-packages\\IPython\\core\\interactiveshell.py\", line 2061, in showtraceback\n",
      "    stb = value._render_traceback_()\n",
      "AttributeError: 'TypeError' object has no attribute '_render_traceback_'\n",
      "\n",
      "During handling of the above exception, another exception occurred:\n",
      "\n",
      "Traceback (most recent call last):\n",
      "  File \"C:\\Users\\098uy\\anaconda3\\envs\\neural_gpu\\lib\\site-packages\\IPython\\core\\ultratb.py\", line 1101, in get_records\n",
      "    return _fixed_getinnerframes(etb, number_of_lines_of_context, tb_offset)\n",
      "  File \"C:\\Users\\098uy\\anaconda3\\envs\\neural_gpu\\lib\\site-packages\\IPython\\core\\ultratb.py\", line 248, in wrapped\n",
      "    return f(*args, **kwargs)\n",
      "  File \"C:\\Users\\098uy\\anaconda3\\envs\\neural_gpu\\lib\\site-packages\\IPython\\core\\ultratb.py\", line 281, in _fixed_getinnerframes\n",
      "    records = fix_frame_records_filenames(inspect.getinnerframes(etb, context))\n",
      "  File \"C:\\Users\\098uy\\anaconda3\\envs\\neural_gpu\\lib\\inspect.py\", line 1502, in getinnerframes\n",
      "    frameinfo = (tb.tb_frame,) + getframeinfo(tb, context)\n",
      "  File \"C:\\Users\\098uy\\anaconda3\\envs\\neural_gpu\\lib\\inspect.py\", line 1460, in getframeinfo\n",
      "    filename = getsourcefile(frame) or getfile(frame)\n",
      "  File \"C:\\Users\\098uy\\anaconda3\\envs\\neural_gpu\\lib\\inspect.py\", line 696, in getsourcefile\n",
      "    if getattr(getmodule(object, filename), '__loader__', None) is not None:\n",
      "  File \"C:\\Users\\098uy\\anaconda3\\envs\\neural_gpu\\lib\\inspect.py\", line 733, in getmodule\n",
      "    if ismodule(module) and hasattr(module, '__file__'):\n",
      "  File \"C:\\Users\\098uy\\anaconda3\\envs\\neural_gpu\\lib\\site-packages\\tensorflow\\__init__.py\", line 50, in __getattr__\n",
      "    module = self._load()\n",
      "  File \"C:\\Users\\098uy\\anaconda3\\envs\\neural_gpu\\lib\\site-packages\\tensorflow\\__init__.py\", line 44, in _load\n",
      "    module = _importlib.import_module(self.__name__)\n",
      "  File \"C:\\Users\\098uy\\anaconda3\\envs\\neural_gpu\\lib\\importlib\\__init__.py\", line 127, in import_module\n",
      "    return _bootstrap._gcd_import(name[level:], package, level)\n",
      "  File \"<frozen importlib._bootstrap>\", line 1006, in _gcd_import\n",
      "  File \"<frozen importlib._bootstrap>\", line 983, in _find_and_load\n",
      "  File \"<frozen importlib._bootstrap>\", line 965, in _find_and_load_unlocked\n",
      "ModuleNotFoundError: No module named 'tensorflow_core.estimator'\n"
     ]
    }
   ],
   "source": [
    "with tf.Session() as sess:\n",
    "  devices = sess.list_devices()"
   ]
  },
  {
   "cell_type": "code",
   "execution_count": 3,
   "id": "4045d1de",
   "metadata": {
    "ExecuteTime": {
     "end_time": "2021-10-11T19:07:43.967790Z",
     "start_time": "2021-10-11T19:07:43.682075Z"
    }
   },
   "outputs": [
    {
     "name": "stdout",
     "output_type": "stream",
     "text": [
      "Found 7198 images belonging to 8 classes.\n",
      "Found 796 images belonging to 8 classes.\n"
     ]
    }
   ],
   "source": [
    "train_generator = datagen.flow_from_directory('../mfcc_specs/',\n",
    "                                              target_size=(216,144),\n",
    "                                              batch_size=64,\n",
    "                                              color_mode='grayscale',\n",
    "                                              shuffle=True,\n",
    "                                              interpolation='lanczos',\n",
    "                                              subset='training')\n",
    "\n",
    "validation_generator = datagen.flow_from_directory('../mfcc_specs/',\n",
    "                                                  target_size=(216,144),\n",
    "                                                  color_mode='grayscale',\n",
    "                                                  shuffle=True,\n",
    "                                                  interpolation='lanczos',\n",
    "                                                  subset='validation')"
   ]
  },
  {
   "cell_type": "code",
   "execution_count": 6,
   "id": "115cc979",
   "metadata": {
    "ExecuteTime": {
     "end_time": "2021-10-11T19:20:14.201150Z",
     "start_time": "2021-10-11T19:20:14.197811Z"
    }
   },
   "outputs": [
    {
     "data": {
      "text/plain": [
       "{'Electronic': 0,\n",
       " 'Experimental': 1,\n",
       " 'Folk': 2,\n",
       " 'Hip-Hop': 3,\n",
       " 'Instrumental': 4,\n",
       " 'International': 5,\n",
       " 'Pop': 6,\n",
       " 'Rock': 7}"
      ]
     },
     "execution_count": 6,
     "metadata": {},
     "output_type": "execute_result"
    }
   ],
   "source": [
    "train_generator.class_indices"
   ]
  },
  {
   "cell_type": "code",
   "execution_count": 11,
   "id": "2daccc93",
   "metadata": {
    "ExecuteTime": {
     "end_time": "2021-10-11T19:21:20.135409Z",
     "start_time": "2021-10-11T19:21:20.089321Z"
    }
   },
   "outputs": [],
   "source": [
    "model = Sequential()\n",
    "\n",
    "model.add(Input(shape=(216,144,1), name = 'img_input'))\n",
    "\n",
    "model.add(Conv2D(32,\n",
    "                 activation='relu',\n",
    "                 kernel_size=(3,3),\n",
    "                 name='conv_1'))\n",
    "model.add(MaxPooling2D(name='pool_1'))\n",
    "\n",
    "\n",
    "model.add(Conv2D(64,\n",
    "                 activation='relu',\n",
    "                 kernel_size=(3,3),\n",
    "                 name='conv_2'))\n",
    "model.add(MaxPooling2D(name='pool_2'))\n",
    "\n",
    "\n",
    "# model.add(Conv2D(128,\n",
    "#                  activation='relu',\n",
    "#                  kernel_size=(3,3)))\n",
    "# model.add(MaxPooling2D())\n",
    "\n",
    "\n",
    "model.add(Flatten(name='flat_1'))\n",
    "\n",
    "\n",
    "\n",
    "\n",
    "# model.add(Dense(32,\n",
    "#                 activation='relu',\n",
    "#                 input_shape=(X_train[0].shape),\n",
    "#                 kernel_regularizer=l2(.00001)))\n",
    "# model.summary()\n",
    "\n",
    "# model.add(Dropout(.1))\n",
    "\n",
    "model.add(Dense(64,\n",
    "                activation='relu',\n",
    "                kernel_regularizer=l2(),\n",
    "                name='interpretation'))\n",
    "# model.summary()\n",
    "\n",
    "# model.add(Flatten())\n",
    "# model.summary()\n",
    "\n",
    "model.add(Dense(8,\n",
    "                activation='softmax',\n",
    "                name='output'))"
   ]
  },
  {
   "cell_type": "code",
   "execution_count": 12,
   "id": "a913eaac",
   "metadata": {
    "ExecuteTime": {
     "end_time": "2021-10-11T19:21:21.707556Z",
     "start_time": "2021-10-11T19:21:21.596585Z"
    }
   },
   "outputs": [
    {
     "data": {
      "image/png": "[encoded data removed]",
      "text/plain": [
       "<IPython.core.display.Image object>"
      ]
     },
     "execution_count": 12,
     "metadata": {},
     "output_type": "execute_result"
    }
   ],
   "source": [
    "plot_model(model, to_file='../images/conv2d_sequential.png')"
   ]
  },
  {
   "cell_type": "code",
   "execution_count": 13,
   "id": "b5cc67c2",
   "metadata": {
    "ExecuteTime": {
     "end_time": "2021-10-11T19:21:22.796010Z",
     "start_time": "2021-10-11T19:21:22.785734Z"
    }
   },
   "outputs": [],
   "source": [
    "model.compile(loss='categorical_crossentropy', optimizer='adam',\n",
    "              metrics=['accuracy'])"
   ]
  },
  {
   "cell_type": "code",
   "execution_count": 14,
   "id": "9ec47c6b",
   "metadata": {
    "ExecuteTime": {
     "end_time": "2021-10-11T19:30:54.246068Z",
     "start_time": "2021-10-11T19:21:23.426841Z"
    }
   },
   "outputs": [
    {
     "name": "stdout",
     "output_type": "stream",
     "text": [
      "Epoch 1/10\n",
      "112/112 [==============================] - 55s 490ms/step - loss: 2.7736 - accuracy: 0.1504 - val_loss: 2.0001 - val_accuracy: 0.2578\n",
      "Epoch 2/10\n",
      "112/112 [==============================] - 57s 508ms/step - loss: 2.0080 - accuracy: 0.2304 - val_loss: 1.8373 - val_accuracy: 0.3047\n",
      "Epoch 3/10\n",
      "112/112 [==============================] - 58s 513ms/step - loss: 1.9064 - accuracy: 0.2759 - val_loss: 1.8642 - val_accuracy: 0.2786\n",
      "Epoch 4/10\n",
      "112/112 [==============================] - 59s 523ms/step - loss: 1.8715 - accuracy: 0.2875 - val_loss: 1.8399 - val_accuracy: 0.3021\n",
      "Epoch 5/10\n",
      "112/112 [==============================] - 57s 509ms/step - loss: 1.8619 - accuracy: 0.3006 - val_loss: 1.7372 - val_accuracy: 0.3542\n",
      "Epoch 6/10\n",
      "112/112 [==============================] - 57s 508ms/step - loss: 1.8469 - accuracy: 0.3091 - val_loss: 1.8249 - val_accuracy: 0.2943\n",
      "Epoch 7/10\n",
      "112/112 [==============================] - 57s 507ms/step - loss: 1.8442 - accuracy: 0.3099 - val_loss: 1.7922 - val_accuracy: 0.3177\n",
      "Epoch 8/10\n",
      "112/112 [==============================] - 57s 511ms/step - loss: 1.8291 - accuracy: 0.3056 - val_loss: 1.7482 - val_accuracy: 0.3490\n",
      "Epoch 9/10\n",
      "112/112 [==============================] - 57s 505ms/step - loss: 1.8189 - accuracy: 0.3170 - val_loss: 1.7788 - val_accuracy: 0.3203\n",
      "Epoch 10/10\n",
      "112/112 [==============================] - 57s 506ms/step - loss: 1.8082 - accuracy: 0.3251 - val_loss: 1.8386 - val_accuracy: 0.3099\n"
     ]
    }
   ],
   "source": [
    "results = model.fit(train_generator,\n",
    "                    steps_per_epoch = 112,\n",
    "                    epochs=10,\n",
    "                    validation_data = validation_generator,\n",
    "                    validation_steps=12,\n",
    "                    verbose = 1)"
   ]
  },
  {
   "cell_type": "markdown",
   "id": "299b7ce9",
   "metadata": {
    "ExecuteTime": {
     "end_time": "2021-07-04T02:22:10.827002Z",
     "start_time": "2021-07-04T02:22:10.823560Z"
    }
   },
   "source": [
    "35,37"
   ]
  },
  {
   "cell_type": "code",
   "execution_count": 9,
   "id": "6a45de05",
   "metadata": {
    "ExecuteTime": {
     "end_time": "2021-07-04T17:49:50.226892Z",
     "start_time": "2021-07-04T17:49:46.374254Z"
    }
   },
   "outputs": [],
   "source": [
    "preds = model.predict(validation_generator)"
   ]
  },
  {
   "cell_type": "code",
   "execution_count": 20,
   "id": "7dd47cc2",
   "metadata": {
    "ExecuteTime": {
     "end_time": "2021-07-04T17:57:22.656966Z",
     "start_time": "2021-07-04T17:57:18.882930Z"
    }
   },
   "outputs": [
    {
     "name": "stdout",
     "output_type": "stream",
     "text": [
      "13/13 [==============================] - 4s 271ms/step - loss: 2.4253 - accuracy: 0.3065\n"
     ]
    },
    {
     "data": {
      "text/plain": [
       "[2.4252705574035645, 0.3065326511859894]"
      ]
     },
     "execution_count": 20,
     "metadata": {},
     "output_type": "execute_result"
    }
   ],
   "source": [
    "model.evaluate(validation_generator)"
   ]
  },
  {
   "cell_type": "code",
   "execution_count": 19,
   "id": "03d6531b",
   "metadata": {
    "ExecuteTime": {
     "end_time": "2021-07-04T17:54:13.966814Z",
     "start_time": "2021-07-04T17:54:13.962442Z"
    }
   },
   "outputs": [
    {
     "data": {
      "text/plain": [
       "array([[0.10477554, 0.1392022 , 0.0746507 , 0.08296563, 0.04473116,\n",
       "        0.15502377, 0.2205271 , 0.17812397],\n",
       "       [0.05231972, 0.13438451, 0.07149927, 0.18172036, 0.0467974 ,\n",
       "        0.39336294, 0.06827576, 0.05164004],\n",
       "       [0.0068673 , 0.1269801 , 0.3407054 , 0.0078323 , 0.12462358,\n",
       "        0.32300916, 0.05219458, 0.01778756],\n",
       "       [0.12937067, 0.119345  , 0.03139967, 0.01992351, 0.12556367,\n",
       "        0.02637611, 0.13807325, 0.40994805],\n",
       "       [0.23834538, 0.11263402, 0.02178209, 0.18499991, 0.0709701 ,\n",
       "        0.26214266, 0.0951543 , 0.01397156],\n",
       "       [0.13972238, 0.24874128, 0.0807453 , 0.04985839, 0.09569968,\n",
       "        0.08382621, 0.2157813 , 0.08562543],\n",
       "       [0.03563951, 0.1484186 , 0.16054627, 0.03870412, 0.09031805,\n",
       "        0.34909457, 0.11080602, 0.06647284],\n",
       "       [0.08462797, 0.10257515, 0.10348429, 0.08109422, 0.05686495,\n",
       "        0.2775028 , 0.14516778, 0.14868288],\n",
       "       [0.21274917, 0.10242035, 0.03332598, 0.21621822, 0.03174904,\n",
       "        0.15365183, 0.17808166, 0.07180365],\n",
       "       [0.16469918, 0.15753785, 0.02422634, 0.17997684, 0.03274587,\n",
       "        0.08601654, 0.16610743, 0.18868996]], dtype=float32)"
      ]
     },
     "execution_count": 19,
     "metadata": {},
     "output_type": "execute_result"
    }
   ],
   "source": [
    "preds[:10]"
   ]
  },
  {
   "cell_type": "code",
   "execution_count": 25,
   "id": "12b4c7e2",
   "metadata": {
    "ExecuteTime": {
     "end_time": "2021-07-04T02:21:18.528623Z",
     "start_time": "2021-07-04T02:21:18.525168Z"
    }
   },
   "outputs": [
    {
     "data": {
      "text/plain": [
       "112"
      ]
     },
     "execution_count": 25,
     "metadata": {},
     "output_type": "execute_result"
    }
   ],
   "source": [
    "math.ceil(train_generator.samples//64)"
   ]
  },
  {
   "cell_type": "code",
   "execution_count": 24,
   "id": "43dc9b42",
   "metadata": {
    "ExecuteTime": {
     "end_time": "2021-07-04T02:21:13.513836Z",
     "start_time": "2021-07-04T02:21:13.509835Z"
    }
   },
   "outputs": [
    {
     "data": {
      "text/plain": [
       "112"
      ]
     },
     "execution_count": 24,
     "metadata": {},
     "output_type": "execute_result"
    }
   ],
   "source": [
    "train_generator.samples//64"
   ]
  },
  {
   "cell_type": "code",
   "execution_count": 26,
   "id": "04ac87cb",
   "metadata": {
    "ExecuteTime": {
     "end_time": "2021-07-04T02:21:23.429474Z",
     "start_time": "2021-07-04T02:21:23.427025Z"
    }
   },
   "outputs": [
    {
     "data": {
      "text/plain": [
       "12"
      ]
     },
     "execution_count": 26,
     "metadata": {},
     "output_type": "execute_result"
    }
   ],
   "source": [
    "math.ceil(validation_generator.samples//64)"
   ]
  },
  {
   "cell_type": "code",
   "execution_count": null,
   "id": "74edc101",
   "metadata": {},
   "outputs": [],
   "source": []
  }
 ],
 "metadata": {
  "kernelspec": {
   "display_name": "neural_gpu",
   "language": "python",
   "name": "neural_gpu"
  },
  "language_info": {
   "codemirror_mode": {
    "name": "ipython",
    "version": 3
   },
   "file_extension": ".py",
   "mimetype": "text/x-python",
   "name": "python",
   "nbconvert_exporter": "python",
   "pygments_lexer": "ipython3",
   "version": "3.7.10"
  }
 },
 "nbformat": 4,
 "nbformat_minor": 5
}
