{
 "cells": [
  {
   "cell_type": "code",
   "execution_count": 22,
   "id": "a9eba422",
   "metadata": {
    "ExecuteTime": {
     "end_time": "2021-07-04T21:30:52.605543Z",
     "start_time": "2021-07-04T21:30:52.602070Z"
    }
   },
   "outputs": [],
   "source": [
    "import pandas as pd\n",
    "import numpy as np\n",
    "from PIL import Image\n",
    "from matplotlib import pyplot as plt\n",
    "from keras.preprocessing.image import ImageDataGenerator\n",
    "from tensorflow.keras.models import Sequential\n",
    "from tensorflow.keras.layers import Dense, Flatten, Dropout, Conv2D, MaxPooling2D\n",
    "from tensorflow.keras.utils import to_categorical\n",
    "from tensorflow.keras.regularizers import l2\n",
    "from tensorflow.keras import backend as K"
   ]
  },
  {
   "cell_type": "code",
   "execution_count": 26,
   "id": "19325ec7",
   "metadata": {
    "ExecuteTime": {
     "end_time": "2021-07-04T21:37:59.595152Z",
     "start_time": "2021-07-04T21:37:59.592705Z"
    }
   },
   "outputs": [],
   "source": [
    "test_img = Image.open('../mfcc_specs/Electronic/Electronic_100497.png')"
   ]
  },
  {
   "cell_type": "code",
   "execution_count": 29,
   "id": "30739023",
   "metadata": {
    "ExecuteTime": {
     "end_time": "2021-07-04T21:38:35.971117Z",
     "start_time": "2021-07-04T21:38:35.968401Z"
    }
   },
   "outputs": [],
   "source": [
    "test_img = test_img.convert('L')"
   ]
  },
  {
   "cell_type": "code",
   "execution_count": 38,
   "id": "8b8a1a23",
   "metadata": {
    "ExecuteTime": {
     "end_time": "2021-07-04T21:45:07.773321Z",
     "start_time": "2021-07-04T21:45:07.767686Z"
    }
   },
   "outputs": [
    {
     "data": {
      "image/png": "[encoded data removed]",
      "text/plain": [
       "<PIL.Image.Image image mode=L size=432x288 at 0x7F894C3BD7F0>"
      ]
     },
     "execution_count": 38,
     "metadata": {},
     "output_type": "execute_result"
    }
   ],
   "source": [
    "test_img"
   ]
  },
  {
   "cell_type": "code",
   "execution_count": 45,
   "id": "0401ba6a",
   "metadata": {
    "ExecuteTime": {
     "end_time": "2021-07-04T21:51:00.693149Z",
     "start_time": "2021-07-04T21:51:00.690093Z"
    }
   },
   "outputs": [
    {
     "data": {
      "text/plain": [
       "'L'"
      ]
     },
     "execution_count": 45,
     "metadata": {},
     "output_type": "execute_result"
    }
   ],
   "source": [
    "test_img.mode"
   ]
  },
  {
   "cell_type": "code",
   "execution_count": 39,
   "id": "93f86323",
   "metadata": {
    "ExecuteTime": {
     "end_time": "2021-07-04T21:45:18.690664Z",
     "start_time": "2021-07-04T21:45:18.688379Z"
    }
   },
   "outputs": [],
   "source": [
    "test_array = np.asarray(test_img)"
   ]
  },
  {
   "cell_type": "code",
   "execution_count": 43,
   "id": "63c0a3f5",
   "metadata": {
    "ExecuteTime": {
     "end_time": "2021-07-04T21:47:13.938970Z",
     "start_time": "2021-07-04T21:47:13.935641Z"
    }
   },
   "outputs": [
    {
     "data": {
      "text/plain": [
       "(288, 432)"
      ]
     },
     "execution_count": 43,
     "metadata": {},
     "output_type": "execute_result"
    }
   ],
   "source": [
    "test_array.shape"
   ]
  },
  {
   "cell_type": "code",
   "execution_count": 48,
   "id": "b737c259",
   "metadata": {
    "ExecuteTime": {
     "end_time": "2021-07-04T21:53:22.241866Z",
     "start_time": "2021-07-04T21:53:22.239455Z"
    }
   },
   "outputs": [],
   "source": [
    "test_img2 = Image.open('../mfcc_specs/Electronic/Electronic_100522.png')"
   ]
  },
  {
   "cell_type": "code",
   "execution_count": 49,
   "id": "65f7e6e9",
   "metadata": {
    "ExecuteTime": {
     "end_time": "2021-07-04T21:53:38.783732Z",
     "start_time": "2021-07-04T21:53:38.780917Z"
    }
   },
   "outputs": [],
   "source": [
    "test_img2 = test_img.convert('L')"
   ]
  },
  {
   "cell_type": "code",
   "execution_count": 50,
   "id": "1d366c26",
   "metadata": {
    "ExecuteTime": {
     "end_time": "2021-07-04T21:54:02.459937Z",
     "start_time": "2021-07-04T21:54:02.457512Z"
    }
   },
   "outputs": [],
   "source": [
    "test_array2 = np.asarray(test_img)"
   ]
  },
  {
   "cell_type": "code",
   "execution_count": 60,
   "id": "7f1d9dc7",
   "metadata": {
    "ExecuteTime": {
     "end_time": "2021-07-04T21:56:01.192106Z",
     "start_time": "2021-07-04T21:56:01.188754Z"
    }
   },
   "outputs": [
    {
     "data": {
      "text/plain": [
       "array([[255, 255, 255, ..., 255, 255, 255],\n",
       "       [255, 255, 255, ..., 255, 255, 255],\n",
       "       [255, 255, 255, ..., 255, 255, 255],\n",
       "       ...,\n",
       "       [255, 255, 255, ..., 255, 255, 255],\n",
       "       [255, 255, 255, ..., 255, 255, 255],\n",
       "       [255, 255, 255, ..., 255, 255, 255]], dtype=uint8)"
      ]
     },
     "execution_count": 60,
     "metadata": {},
     "output_type": "execute_result"
    }
   ],
   "source": [
    "test_array"
   ]
  },
  {
   "cell_type": "code",
   "execution_count": 65,
   "id": "3bc5b9aa",
   "metadata": {
    "ExecuteTime": {
     "end_time": "2021-07-04T21:59:10.795982Z",
     "start_time": "2021-07-04T21:59:10.792389Z"
    }
   },
   "outputs": [
    {
     "data": {
      "text/plain": [
       "(2, 288, 432)"
      ]
     },
     "execution_count": 65,
     "metadata": {},
     "output_type": "execute_result"
    }
   ],
   "source": [
    "np.stack([test_array, test_array2]).shape"
   ]
  },
  {
   "cell_type": "code",
   "execution_count": null,
   "id": "c3174858",
   "metadata": {},
   "outputs": [],
   "source": []
  }
 ],
 "metadata": {
  "kernelspec": {
   "display_name": "Python 3",
   "language": "python",
   "name": "python3"
  },
  "language_info": {
   "codemirror_mode": {
    "name": "ipython",
    "version": 3
   },
   "file_extension": ".py",
   "mimetype": "text/x-python",
   "name": "python",
   "nbconvert_exporter": "python",
   "pygments_lexer": "ipython3",
   "version": "3.9.5"
  }
 },
 "nbformat": 4,
 "nbformat_minor": 5
}
