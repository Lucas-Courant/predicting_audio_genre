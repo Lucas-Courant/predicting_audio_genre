{
 "cells": [
  {
   "cell_type": "code",
   "execution_count": 1,
   "id": "4a155de9",
   "metadata": {
    "ExecuteTime": {
     "end_time": "2021-10-13T19:57:37.801305Z",
     "start_time": "2021-10-13T19:57:33.136859Z"
    }
   },
   "outputs": [],
   "source": [
    "import matplotlib.pyplot as plt\n",
    "from keras.preprocessing.image import ImageDataGenerator\n",
    "from tensorflow.keras.models import Sequential\n",
    "from tensorflow.keras.layers import Dense, Flatten, Dropout, Conv2D, MaxPooling2D,\\\n",
    "                                    Input\n",
    "from tensorflow.keras.utils import to_categorical\n",
    "from tensorflow.keras.regularizers import l2\n",
    "from tensorflow.keras import backend as K\n",
    "from keras.utils import plot_model\n",
    "import math"
   ]
  },
  {
   "cell_type": "code",
   "execution_count": 2,
   "id": "965fec01",
   "metadata": {
    "ExecuteTime": {
     "end_time": "2021-10-13T19:57:41.893804Z",
     "start_time": "2021-10-13T19:57:41.811789Z"
    }
   },
   "outputs": [],
   "source": [
    "datagen = ImageDataGenerator(validation_split=.1, rescale=1./255)"
   ]
  },
  {
   "cell_type": "code",
   "execution_count": 3,
   "id": "4045d1de",
   "metadata": {
    "ExecuteTime": {
     "end_time": "2021-10-13T19:57:43.180316Z",
     "start_time": "2021-10-13T19:57:42.672440Z"
    }
   },
   "outputs": [
    {
     "name": "stdout",
     "output_type": "stream",
     "text": [
      "Found 7198 images belonging to 8 classes.\n",
      "Found 796 images belonging to 8 classes.\n"
     ]
    }
   ],
   "source": [
    "train_generator = datagen.flow_from_directory('../PIL_images/',\n",
    "                                              target_size=(1291,128),\n",
    "                                              batch_size=64,\n",
    "                                              color_mode='grayscale',\n",
    "                                              shuffle=True,\n",
    "                                              subset='training')\n",
    "\n",
    "validation_generator = datagen.flow_from_directory('../PIL_images/',\n",
    "                                                  target_size=(1291,128),\n",
    "                                                  color_mode='grayscale',\n",
    "                                                  shuffle=True,\n",
    "                                                  subset='validation')"
   ]
  },
  {
   "cell_type": "code",
   "execution_count": 4,
   "id": "115cc979",
   "metadata": {
    "ExecuteTime": {
     "end_time": "2021-10-13T19:57:43.643533Z",
     "start_time": "2021-10-13T19:57:43.631530Z"
    }
   },
   "outputs": [
    {
     "data": {
      "text/plain": [
       "{'Electronic': 0,\n",
       " 'Experimental': 1,\n",
       " 'Folk': 2,\n",
       " 'Hip-Hop': 3,\n",
       " 'Instrumental': 4,\n",
       " 'International': 5,\n",
       " 'Pop': 6,\n",
       " 'Rock': 7}"
      ]
     },
     "execution_count": 4,
     "metadata": {},
     "output_type": "execute_result"
    }
   ],
   "source": [
    "train_generator.class_indices"
   ]
  },
  {
   "cell_type": "code",
   "execution_count": 5,
   "id": "2daccc93",
   "metadata": {
    "ExecuteTime": {
     "end_time": "2021-10-13T19:57:45.483893Z",
     "start_time": "2021-10-13T19:57:45.268862Z"
    }
   },
   "outputs": [],
   "source": [
    "model = Sequential()\n",
    "\n",
    "model.add(Input(shape=(1291,128,1), name = 'img_input'))\n",
    "\n",
    "model.add(Conv2D(32,\n",
    "                 activation='relu',\n",
    "                 kernel_size=(3,3),\n",
    "                 name='conv_1'))\n",
    "model.add(MaxPooling2D(name='pool_1'))\n",
    "\n",
    "\n",
    "model.add(Conv2D(64,\n",
    "                 activation='relu',\n",
    "                 kernel_size=(3,3),\n",
    "                 name='conv_2'))\n",
    "model.add(MaxPooling2D(name='pool_2'))\n",
    "\n",
    "\n",
    "# model.add(Conv2D(128,\n",
    "#                  activation='relu',\n",
    "#                  kernel_size=(3,3)))\n",
    "# model.add(MaxPooling2D())\n",
    "\n",
    "\n",
    "model.add(Flatten(name='flat_1'))\n",
    "\n",
    "\n",
    "\n",
    "\n",
    "# model.add(Dense(32,\n",
    "#                 activation='relu',\n",
    "#                 input_shape=(X_train[0].shape),\n",
    "#                 kernel_regularizer=l2(.00001)))\n",
    "# model.summary()\n",
    "\n",
    "# model.add(Dropout(.1))\n",
    "\n",
    "model.add(Dense(64,\n",
    "                activation='relu',\n",
    "                kernel_regularizer=l2(),\n",
    "                name='interpretation'))\n",
    "# model.summary()\n",
    "\n",
    "# model.add(Flatten())\n",
    "# model.summary()\n",
    "\n",
    "model.add(Dense(8,\n",
    "                activation='softmax',\n",
    "                name='output'))"
   ]
  },
  {
   "cell_type": "code",
   "execution_count": 6,
   "id": "a913eaac",
   "metadata": {
    "ExecuteTime": {
     "end_time": "2021-10-13T19:57:46.936930Z",
     "start_time": "2021-10-13T19:57:46.380856Z"
    }
   },
   "outputs": [
    {
     "data": {
      "image/png": "[encoded data removed]",
      "text/plain": [
       "<IPython.core.display.Image object>"
      ]
     },
     "execution_count": 6,
     "metadata": {},
     "output_type": "execute_result"
    }
   ],
   "source": [
    "plot_model(model, to_file='../images/conv2d_sequential.png')"
   ]
  },
  {
   "cell_type": "code",
   "execution_count": 7,
   "id": "b5cc67c2",
   "metadata": {
    "ExecuteTime": {
     "end_time": "2021-10-13T19:57:48.745117Z",
     "start_time": "2021-10-13T19:57:48.722279Z"
    }
   },
   "outputs": [],
   "source": [
    "model.compile(loss='categorical_crossentropy', optimizer='adam',\n",
    "              metrics=['accuracy'])"
   ]
  },
  {
   "cell_type": "code",
   "execution_count": null,
   "id": "9ec47c6b",
   "metadata": {
    "ExecuteTime": {
     "start_time": "2021-10-13T19:57:50.957Z"
    }
   },
   "outputs": [
    {
     "name": "stdout",
     "output_type": "stream",
     "text": [
      "Epoch 1/10\n",
      "112/112 [==============================] - 353s 3s/step - loss: 3.6188 - accuracy: 0.1654 - val_loss: 2.1977 - val_accuracy: 0.2474\n",
      "Epoch 2/10\n",
      " 97/112 [========================>.....] - ETA: 48s - loss: 2.0586 - accuracy: 0.2622"
     ]
    }
   ],
   "source": [
    "results = model.fit(train_generator,\n",
    "                    steps_per_epoch = 112,\n",
    "                    epochs=10,\n",
    "                    validation_data = validation_generator,\n",
    "                    validation_steps=12,\n",
    "                    verbose = 1)"
   ]
  },
  {
   "cell_type": "markdown",
   "id": "299b7ce9",
   "metadata": {
    "ExecuteTime": {
     "end_time": "2021-07-04T02:22:10.827002Z",
     "start_time": "2021-07-04T02:22:10.823560Z"
    }
   },
   "source": [
    "35,37"
   ]
  },
  {
   "cell_type": "code",
   "execution_count": 9,
   "id": "6a45de05",
   "metadata": {
    "ExecuteTime": {
     "end_time": "2021-07-04T17:49:50.226892Z",
     "start_time": "2021-07-04T17:49:46.374254Z"
    }
   },
   "outputs": [],
   "source": [
    "preds = model.predict(validation_generator)"
   ]
  },
  {
   "cell_type": "code",
   "execution_count": 20,
   "id": "7dd47cc2",
   "metadata": {
    "ExecuteTime": {
     "end_time": "2021-07-04T17:57:22.656966Z",
     "start_time": "2021-07-04T17:57:18.882930Z"
    }
   },
   "outputs": [
    {
     "name": "stdout",
     "output_type": "stream",
     "text": [
      "13/13 [==============================] - 4s 271ms/step - loss: 2.4253 - accuracy: 0.3065\n"
     ]
    },
    {
     "data": {
      "text/plain": [
       "[2.4252705574035645, 0.3065326511859894]"
      ]
     },
     "execution_count": 20,
     "metadata": {},
     "output_type": "execute_result"
    }
   ],
   "source": [
    "model.evaluate(validation_generator)"
   ]
  },
  {
   "cell_type": "code",
   "execution_count": 19,
   "id": "03d6531b",
   "metadata": {
    "ExecuteTime": {
     "end_time": "2021-07-04T17:54:13.966814Z",
     "start_time": "2021-07-04T17:54:13.962442Z"
    }
   },
   "outputs": [
    {
     "data": {
      "text/plain": [
       "array([[0.10477554, 0.1392022 , 0.0746507 , 0.08296563, 0.04473116,\n",
       "        0.15502377, 0.2205271 , 0.17812397],\n",
       "       [0.05231972, 0.13438451, 0.07149927, 0.18172036, 0.0467974 ,\n",
       "        0.39336294, 0.06827576, 0.05164004],\n",
       "       [0.0068673 , 0.1269801 , 0.3407054 , 0.0078323 , 0.12462358,\n",
       "        0.32300916, 0.05219458, 0.01778756],\n",
       "       [0.12937067, 0.119345  , 0.03139967, 0.01992351, 0.12556367,\n",
       "        0.02637611, 0.13807325, 0.40994805],\n",
       "       [0.23834538, 0.11263402, 0.02178209, 0.18499991, 0.0709701 ,\n",
       "        0.26214266, 0.0951543 , 0.01397156],\n",
       "       [0.13972238, 0.24874128, 0.0807453 , 0.04985839, 0.09569968,\n",
       "        0.08382621, 0.2157813 , 0.08562543],\n",
       "       [0.03563951, 0.1484186 , 0.16054627, 0.03870412, 0.09031805,\n",
       "        0.34909457, 0.11080602, 0.06647284],\n",
       "       [0.08462797, 0.10257515, 0.10348429, 0.08109422, 0.05686495,\n",
       "        0.2775028 , 0.14516778, 0.14868288],\n",
       "       [0.21274917, 0.10242035, 0.03332598, 0.21621822, 0.03174904,\n",
       "        0.15365183, 0.17808166, 0.07180365],\n",
       "       [0.16469918, 0.15753785, 0.02422634, 0.17997684, 0.03274587,\n",
       "        0.08601654, 0.16610743, 0.18868996]], dtype=float32)"
      ]
     },
     "execution_count": 19,
     "metadata": {},
     "output_type": "execute_result"
    }
   ],
   "source": [
    "preds[:10]"
   ]
  },
  {
   "cell_type": "code",
   "execution_count": 25,
   "id": "12b4c7e2",
   "metadata": {
    "ExecuteTime": {
     "end_time": "2021-07-04T02:21:18.528623Z",
     "start_time": "2021-07-04T02:21:18.525168Z"
    }
   },
   "outputs": [
    {
     "data": {
      "text/plain": [
       "112"
      ]
     },
     "execution_count": 25,
     "metadata": {},
     "output_type": "execute_result"
    }
   ],
   "source": [
    "math.ceil(train_generator.samples//64)"
   ]
  },
  {
   "cell_type": "code",
   "execution_count": 24,
   "id": "43dc9b42",
   "metadata": {
    "ExecuteTime": {
     "end_time": "2021-07-04T02:21:13.513836Z",
     "start_time": "2021-07-04T02:21:13.509835Z"
    }
   },
   "outputs": [
    {
     "data": {
      "text/plain": [
       "112"
      ]
     },
     "execution_count": 24,
     "metadata": {},
     "output_type": "execute_result"
    }
   ],
   "source": [
    "train_generator.samples//64"
   ]
  },
  {
   "cell_type": "code",
   "execution_count": 26,
   "id": "04ac87cb",
   "metadata": {
    "ExecuteTime": {
     "end_time": "2021-07-04T02:21:23.429474Z",
     "start_time": "2021-07-04T02:21:23.427025Z"
    }
   },
   "outputs": [
    {
     "data": {
      "text/plain": [
       "12"
      ]
     },
     "execution_count": 26,
     "metadata": {},
     "output_type": "execute_result"
    }
   ],
   "source": [
    "math.ceil(validation_generator.samples//64)"
   ]
  },
  {
   "cell_type": "code",
   "execution_count": null,
   "id": "74edc101",
   "metadata": {},
   "outputs": [],
   "source": []
  }
 ],
 "metadata": {
  "kernelspec": {
   "display_name": "Python [conda env:audio_project]",
   "language": "python",
   "name": "conda-env-audio_project-py"
  },
  "language_info": {
   "codemirror_mode": {
    "name": "ipython",
    "version": 3
   },
   "file_extension": ".py",
   "mimetype": "text/x-python",
   "name": "python",
   "nbconvert_exporter": "python",
   "pygments_lexer": "ipython3",
   "version": "3.8.10"
  }
 },
 "nbformat": 4,
 "nbformat_minor": 5
}
