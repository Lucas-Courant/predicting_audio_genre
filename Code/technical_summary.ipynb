{
 "cells": [
  {
   "cell_type": "code",
   "execution_count": 1,
   "id": "6fba2017",
   "metadata": {
    "ExecuteTime": {
     "end_time": "2021-07-02T04:10:55.008427Z",
     "start_time": "2021-07-02T04:10:54.115707Z"
    }
   },
   "outputs": [],
   "source": [
    "import pandas as pd\n",
    "import numpy as np\n",
    "import utils\n",
    "import librosa\n",
    "import librosa.display\n",
    "import soundfile as sf\n",
    "import matplotlib.pyplot as plt\n",
    "import seaborn as sns\n",
    "from sklearn.ensemble import RandomForestClassifier, GradientBoostingClassifier\n",
    "from sklearn.model_selection import train_test_split, cross_val_score, GridSearchCV\n",
    "from sklearn.linear_model import LogisticRegression, LogisticRegressionCV\n",
    "from sklearn.decomposition import PCA\n",
    "from sklearn.preprocessing import StandardScaler"
   ]
  },
  {
   "cell_type": "markdown",
   "id": "17ed3b09",
   "metadata": {},
   "source": [
    "# Executive Summary\n",
    "\n",
    "### Goal\n",
    "The goal of this notebook is to elucidate the components of an audio signal that cause us to perceive that audio in one way or another. To do this I attempt to predict the human construct of genre based on various audio features. The data I use were pulled from the [free music archive](https://github.com/mdeff/fma) github.\n",
    "\n",
    "### Data\n",
    "The audio columns are actually statistics of audio features extracted using the [librosa library](http://man.hubwiz.com/docset/LibROSA.docset/Contents/Resources/Documents/index.html). The feature statistics which best accounted for the variability in the data were the mel frequency cepstral coefficient (mfcc) statistics. The mel frequency scale is discussed further below.\n",
    "\n",
    "### Metrics\n",
    "Predicting genre with linear regression using these statistics was 52.2% accurate which is a significant improvement over the dummy baseline of 12.5%.\n",
    "\n",
    "### Limitations\n",
    "Genre is subjective. It is an attempt to put words to a feeling. Two people can listen to a song and classify it in different genres. To get around this I used the most broad definitions of genre provided. No matter what I do the models I build will inherit the perception of genre of whoever encoded this data."
   ]
  },
  {
   "cell_type": "markdown",
   "id": "64857a30",
   "metadata": {},
   "source": [
    "# Mel Frequency Cepstral Coefficients\n",
    "\n",
    "The mel frequency cepstral coefficients (mfccs) are an abstraction of a spectrogram that attempt to capture the components of an audio signal that describe for our perception of that signal. For instance in speech we have the concepts of vowels and consonants. These features describe the construction of a word and our understanding of that word. The mel frequency cepstral coefficients can not be compared directly to vowels and consonants but they abstract audio into components that describe what humans hear.\n",
    "\n",
    "start with wave\n",
    "\n",
    "\n",
    "![waveform](../images/waveform.png)\n",
    "\n",
    "The first step to extracting mfccs is to preform the short time fourier transform on small time windows of the audio signal. This looks at sections of the signal and extracts the frequency components that make up that signal. This is the spectrogram of a 30 second clip of the song colorful lights which is track 065488 in the F.M.A.\n",
    "\n",
    "\n",
    "![spectrogram](../images/stft.png)\n",
    "\n",
    "\n",
    "\n",
    "![mel filter bins](../images/mel_filter_bins.png)\n",
    "\n",
    "\n",
    "![mel spectrogram](../images/mel_spec.png)\n",
    "\n",
    "\n",
    "![mfccs.png](../images/mfccs.png)"
   ]
  }
 ],
 "metadata": {
  "kernelspec": {
   "display_name": "Python 3",
   "language": "python",
   "name": "python3"
  },
  "language_info": {
   "codemirror_mode": {
    "name": "ipython",
    "version": 3
   },
   "file_extension": ".py",
   "mimetype": "text/x-python",
   "name": "python",
   "nbconvert_exporter": "python",
   "pygments_lexer": "ipython3",
   "version": "3.9.5"
  }
 },
 "nbformat": 4,
 "nbformat_minor": 5
}
