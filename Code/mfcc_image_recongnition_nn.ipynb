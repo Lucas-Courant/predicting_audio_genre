{
 "cells": [
  {
   "cell_type": "code",
   "execution_count": 16,
   "id": "4a155de9",
   "metadata": {
    "ExecuteTime": {
     "end_time": "2021-07-03T23:52:07.676606Z",
     "start_time": "2021-07-03T23:52:07.673338Z"
    }
   },
   "outputs": [],
   "source": [
    "import matplotlib.pyplot as plt\n",
    "from keras.preprocessing.image import ImageDataGenerator\n",
    "from tensorflow.keras.models import Sequential\n",
    "from tensorflow.keras.layers import Dense, Flatten, Dropout, Conv2D, MaxPooling2D\n",
    "from tensorflow.keras.utils import to_categorical\n",
    "from tensorflow.keras.regularizers import l2\n",
    "from tensorflow.keras import backend as K\n",
    "import math"
   ]
  },
  {
   "cell_type": "code",
   "execution_count": 6,
   "id": "965fec01",
   "metadata": {
    "ExecuteTime": {
     "end_time": "2021-07-03T23:31:33.466835Z",
     "start_time": "2021-07-03T23:31:33.464448Z"
    }
   },
   "outputs": [],
   "source": [
    "datagen = ImageDataGenerator(validation_split=.1)"
   ]
  },
  {
   "cell_type": "code",
   "execution_count": 35,
   "id": "4045d1de",
   "metadata": {
    "ExecuteTime": {
     "end_time": "2021-07-04T02:54:00.614720Z",
     "start_time": "2021-07-04T02:54:00.412811Z"
    }
   },
   "outputs": [
    {
     "name": "stdout",
     "output_type": "stream",
     "text": [
      "Found 7198 images belonging to 8 classes.\n",
      "Found 796 images belonging to 8 classes.\n"
     ]
    }
   ],
   "source": [
    "train_generator = datagen.flow_from_directory('../mfcc_specs/',\n",
    "                                              target_size=(216,144),\n",
    "                                              batch_size=64,\n",
    "                                              shuffle=True,\n",
    "                                              interpolation='lanczos',\n",
    "                                              subset='training')\n",
    "\n",
    "validation_generator = datagen.flow_from_directory('../mfcc_specs/',\n",
    "                                                  target_size=(216,144),\n",
    "                                                  batch_size=64,\n",
    "                                                  shuffle=True,\n",
    "                                                  interpolation='lanczos',\n",
    "                                                  subset='validation')"
   ]
  },
  {
   "cell_type": "code",
   "execution_count": 8,
   "id": "115cc979",
   "metadata": {
    "ExecuteTime": {
     "end_time": "2021-07-03T23:33:22.943012Z",
     "start_time": "2021-07-03T23:33:22.939042Z"
    }
   },
   "outputs": [
    {
     "data": {
      "text/plain": [
       "{'Electronic': 0,\n",
       " 'Experimental': 1,\n",
       " 'Folk': 2,\n",
       " 'Hip-Hop': 3,\n",
       " 'Instrumental': 4,\n",
       " 'International': 5,\n",
       " 'Pop': 6,\n",
       " 'Rock': 7}"
      ]
     },
     "execution_count": 8,
     "metadata": {},
     "output_type": "execute_result"
    }
   ],
   "source": [
    "train_generator.class_indices"
   ]
  },
  {
   "cell_type": "code",
   "execution_count": 9,
   "id": "77cb1873",
   "metadata": {
    "ExecuteTime": {
     "end_time": "2021-07-03T23:33:29.860599Z",
     "start_time": "2021-07-03T23:33:29.856772Z"
    }
   },
   "outputs": [
    {
     "data": {
      "text/plain": [
       "['Electronic/Electronic_110690.png',\n",
       " 'Electronic/Electronic_110691.png',\n",
       " 'Electronic/Electronic_111413.png',\n",
       " 'Electronic/Electronic_111416.png',\n",
       " 'Electronic/Electronic_111819.png']"
      ]
     },
     "execution_count": 9,
     "metadata": {},
     "output_type": "execute_result"
    }
   ],
   "source": [
    "train_generator.filenames[:5]"
   ]
  },
  {
   "cell_type": "code",
   "execution_count": 36,
   "id": "2daccc93",
   "metadata": {
    "ExecuteTime": {
     "end_time": "2021-07-04T02:54:02.620411Z",
     "start_time": "2021-07-04T02:54:02.608029Z"
    }
   },
   "outputs": [],
   "source": [
    "model = Sequential()\n",
    "\n",
    "model.add(Conv2D(32,\n",
    "                 activation='relu',\n",
    "                 kernel_size=(3,3)))\n",
    "model.add(MaxPooling2D())\n",
    "\n",
    "\n",
    "model.add(Conv2D(64,\n",
    "                 activation='relu',\n",
    "                 kernel_size=(3,3)))\n",
    "model.add(MaxPooling2D())\n",
    "\n",
    "\n",
    "# model.add(Conv2D(128,\n",
    "#                  activation='relu',\n",
    "#                  kernel_size=(3,3)))\n",
    "# model.add(MaxPooling2D())\n",
    "\n",
    "\n",
    "model.add(Flatten())\n",
    "\n",
    "\n",
    "\n",
    "\n",
    "# model.add(Dense(32,\n",
    "#                 activation='relu',\n",
    "#                 input_shape=(X_train[0].shape),\n",
    "#                 kernel_regularizer=l2(.00001)))\n",
    "# model.summary()\n",
    "\n",
    "# model.add(Dropout(.1))\n",
    "\n",
    "model.add(Dense(64,\n",
    "                activation='relu',\n",
    "                kernel_regularizer=l2()))\n",
    "# model.summary()\n",
    "\n",
    "# model.add(Flatten())\n",
    "# model.summary()\n",
    "\n",
    "model.add(Dense(8,\n",
    "                activation='softmax'))"
   ]
  },
  {
   "cell_type": "code",
   "execution_count": 37,
   "id": "b5cc67c2",
   "metadata": {
    "ExecuteTime": {
     "end_time": "2021-07-04T02:54:03.286752Z",
     "start_time": "2021-07-04T02:54:03.278021Z"
    }
   },
   "outputs": [],
   "source": [
    "model.compile(loss='categorical_crossentropy', optimizer='adam',\n",
    "            metrics=['accuracy'])"
   ]
  },
  {
   "cell_type": "code",
   "execution_count": 38,
   "id": "9ec47c6b",
   "metadata": {
    "ExecuteTime": {
     "end_time": "2021-07-04T03:21:14.799938Z",
     "start_time": "2021-07-04T02:54:17.249749Z"
    }
   },
   "outputs": [
    {
     "name": "stdout",
     "output_type": "stream",
     "text": [
      "Epoch 1/20\n",
      "112/112 [==============================] - 82s 726ms/step - loss: 105.7119 - accuracy: 0.1346 - val_loss: 2.8204 - val_accuracy: 0.1341\n",
      "Epoch 2/20\n",
      "112/112 [==============================] - 79s 706ms/step - loss: 2.7668 - accuracy: 0.1689 - val_loss: 2.7340 - val_accuracy: 0.1602\n",
      "Epoch 3/20\n",
      "112/112 [==============================] - 79s 703ms/step - loss: 2.6786 - accuracy: 0.1701 - val_loss: 2.6364 - val_accuracy: 0.1667\n",
      "Epoch 4/20\n",
      "112/112 [==============================] - 79s 706ms/step - loss: 2.6083 - accuracy: 0.1730 - val_loss: 2.6210 - val_accuracy: 0.1706\n",
      "Epoch 5/20\n",
      "112/112 [==============================] - 81s 719ms/step - loss: 2.5440 - accuracy: 0.1852 - val_loss: 2.5509 - val_accuracy: 0.1888\n",
      "Epoch 6/20\n",
      "112/112 [==============================] - 81s 726ms/step - loss: 2.4924 - accuracy: 0.1894 - val_loss: 2.5185 - val_accuracy: 0.1888\n",
      "Epoch 7/20\n",
      "112/112 [==============================] - 81s 727ms/step - loss: 2.4504 - accuracy: 0.1902 - val_loss: 2.4506 - val_accuracy: 0.2018\n",
      "Epoch 8/20\n",
      "112/112 [==============================] - 81s 721ms/step - loss: 2.4234 - accuracy: 0.1947 - val_loss: 2.4423 - val_accuracy: 0.1953\n",
      "Epoch 9/20\n",
      "112/112 [==============================] - 80s 717ms/step - loss: 2.3838 - accuracy: 0.2040 - val_loss: 2.3790 - val_accuracy: 0.2148\n",
      "Epoch 10/20\n",
      "112/112 [==============================] - 81s 719ms/step - loss: 2.3433 - accuracy: 0.1976 - val_loss: 2.3468 - val_accuracy: 0.2148\n",
      "Epoch 11/20\n",
      "112/112 [==============================] - 80s 717ms/step - loss: 2.3035 - accuracy: 0.2196 - val_loss: 2.3493 - val_accuracy: 0.2148\n",
      "Epoch 12/20\n",
      "112/112 [==============================] - 81s 725ms/step - loss: 2.2702 - accuracy: 0.2381 - val_loss: 2.3126 - val_accuracy: 0.1953\n",
      "Epoch 13/20\n",
      "112/112 [==============================] - 80s 717ms/step - loss: 2.2412 - accuracy: 0.2425 - val_loss: 2.2625 - val_accuracy: 0.2487\n",
      "Epoch 14/20\n",
      "112/112 [==============================] - 80s 713ms/step - loss: 2.2381 - accuracy: 0.2337 - val_loss: 2.2304 - val_accuracy: 0.2461\n",
      "Epoch 15/20\n",
      "112/112 [==============================] - 82s 736ms/step - loss: 2.1946 - accuracy: 0.2404 - val_loss: 2.2146 - val_accuracy: 0.2513\n",
      "Epoch 16/20\n",
      "112/112 [==============================] - 81s 724ms/step - loss: 2.1632 - accuracy: 0.2500 - val_loss: 2.1721 - val_accuracy: 0.2865\n",
      "Epoch 17/20\n",
      "112/112 [==============================] - 82s 730ms/step - loss: 2.1729 - accuracy: 0.2350 - val_loss: 2.1657 - val_accuracy: 0.2721\n",
      "Epoch 18/20\n",
      "112/112 [==============================] - 82s 731ms/step - loss: 2.1059 - accuracy: 0.2745 - val_loss: 2.1420 - val_accuracy: 0.2552\n",
      "Epoch 19/20\n",
      "112/112 [==============================] - 81s 722ms/step - loss: 2.0767 - accuracy: 0.2724 - val_loss: 2.1254 - val_accuracy: 0.2552\n",
      "Epoch 20/20\n",
      "112/112 [==============================] - 83s 740ms/step - loss: 2.0928 - accuracy: 0.2509 - val_loss: 2.1110 - val_accuracy: 0.2578\n"
     ]
    }
   ],
   "source": [
    "results = model.fit_generator(train_generator,\n",
    "                               steps_per_epoch = 112,\n",
    "                               epochs=20,\n",
    "                               validation_data = validation_generator,\n",
    "                               validation_steps=12,\n",
    "                               verbose = 1)"
   ]
  },
  {
   "cell_type": "markdown",
   "id": "299b7ce9",
   "metadata": {
    "ExecuteTime": {
     "end_time": "2021-07-04T02:22:10.827002Z",
     "start_time": "2021-07-04T02:22:10.823560Z"
    }
   },
   "source": [
    "35,37"
   ]
  },
  {
   "cell_type": "code",
   "execution_count": 25,
   "id": "12b4c7e2",
   "metadata": {
    "ExecuteTime": {
     "end_time": "2021-07-04T02:21:18.528623Z",
     "start_time": "2021-07-04T02:21:18.525168Z"
    }
   },
   "outputs": [
    {
     "data": {
      "text/plain": [
       "112"
      ]
     },
     "execution_count": 25,
     "metadata": {},
     "output_type": "execute_result"
    }
   ],
   "source": [
    "math.ceil(train_generator.samples//64)"
   ]
  },
  {
   "cell_type": "code",
   "execution_count": 24,
   "id": "43dc9b42",
   "metadata": {
    "ExecuteTime": {
     "end_time": "2021-07-04T02:21:13.513836Z",
     "start_time": "2021-07-04T02:21:13.509835Z"
    }
   },
   "outputs": [
    {
     "data": {
      "text/plain": [
       "112"
      ]
     },
     "execution_count": 24,
     "metadata": {},
     "output_type": "execute_result"
    }
   ],
   "source": [
    "train_generator.samples//64"
   ]
  },
  {
   "cell_type": "code",
   "execution_count": 26,
   "id": "04ac87cb",
   "metadata": {
    "ExecuteTime": {
     "end_time": "2021-07-04T02:21:23.429474Z",
     "start_time": "2021-07-04T02:21:23.427025Z"
    }
   },
   "outputs": [
    {
     "data": {
      "text/plain": [
       "12"
      ]
     },
     "execution_count": 26,
     "metadata": {},
     "output_type": "execute_result"
    }
   ],
   "source": [
    "math.ceil(validation_generator.samples//64)"
   ]
  },
  {
   "cell_type": "code",
   "execution_count": null,
   "id": "74edc101",
   "metadata": {},
   "outputs": [],
   "source": []
  }
 ],
 "metadata": {
  "kernelspec": {
   "display_name": "Python 3",
   "language": "python",
   "name": "python3"
  },
  "language_info": {
   "codemirror_mode": {
    "name": "ipython",
    "version": 3
   },
   "file_extension": ".py",
   "mimetype": "text/x-python",
   "name": "python",
   "nbconvert_exporter": "python",
   "pygments_lexer": "ipython3",
   "version": "3.9.5"
  }
 },
 "nbformat": 4,
 "nbformat_minor": 5
}
