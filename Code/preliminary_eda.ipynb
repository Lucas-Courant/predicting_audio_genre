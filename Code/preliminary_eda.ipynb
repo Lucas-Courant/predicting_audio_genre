{
 "cells": [
  {
   "cell_type": "code",
   "execution_count": 1,
   "id": "6fba2017",
   "metadata": {
    "ExecuteTime": {
     "end_time": "2021-06-29T17:38:29.632250Z",
     "start_time": "2021-06-29T17:38:28.702092Z"
    }
   },
   "outputs": [],
   "source": [
    "import pandas as pd\n",
    "import numpy as np\n",
    "import utils\n",
    "import librosa\n",
    "import librosa.display\n",
    "import soundfile as sf\n",
    "import matplotlib.pyplot as plt\n",
    "import seaborn as sns\n",
    "from sklearn.ensemble import RandomForestClassifier, GradientBoostingClassifier\n",
    "from sklearn.model_selection import train_test_split, cross_val_score, GridSearchCV\n",
    "from sklearn.linear_model import LogisticRegression\n",
    "from sklearn.decomposition import PCA\n",
    "from sklearn.preprocessing import StandardScaler"
   ]
  },
  {
   "cell_type": "code",
   "execution_count": 2,
   "id": "138838d5",
   "metadata": {
    "ExecuteTime": {
     "end_time": "2021-06-29T17:38:40.785474Z",
     "start_time": "2021-06-29T17:38:29.633294Z"
    }
   },
   "outputs": [],
   "source": [
    "tracks = utils.load('../data/fma_metadata/tracks.csv')\n",
    "features = utils.load('../data/fma_metadata/features.csv')"
   ]
  },
  {
   "cell_type": "code",
   "execution_count": 3,
   "id": "992113f0",
   "metadata": {
    "ExecuteTime": {
     "end_time": "2021-06-29T17:38:40.790378Z",
     "start_time": "2021-06-29T17:38:40.786640Z"
    }
   },
   "outputs": [
    {
     "data": {
      "text/plain": [
       "(pandas.core.frame.DataFrame, pandas.core.frame.DataFrame)"
      ]
     },
     "execution_count": 3,
     "metadata": {},
     "output_type": "execute_result"
    }
   ],
   "source": [
    "type(tracks), type(features)"
   ]
  },
  {
   "cell_type": "code",
   "execution_count": 4,
   "id": "ff523603",
   "metadata": {
    "ExecuteTime": {
     "end_time": "2021-06-29T17:38:40.798115Z",
     "start_time": "2021-06-29T17:38:40.791938Z"
    }
   },
   "outputs": [],
   "source": [
    "%config Completer.use_jedi = False"
   ]
  },
  {
   "cell_type": "code",
   "execution_count": 5,
   "id": "09178d74",
   "metadata": {
    "ExecuteTime": {
     "end_time": "2021-06-29T17:38:40.812366Z",
     "start_time": "2021-06-29T17:38:40.799122Z"
    }
   },
   "outputs": [
    {
     "data": {
      "text/html": [
       "<div>\n",
       "<style scoped>\n",
       "    .dataframe tbody tr th:only-of-type {\n",
       "        vertical-align: middle;\n",
       "    }\n",
       "\n",
       "    .dataframe tbody tr th {\n",
       "        vertical-align: top;\n",
       "    }\n",
       "\n",
       "    .dataframe thead th {\n",
       "        text-align: right;\n",
       "    }\n",
       "</style>\n",
       "<table border=\"1\" class=\"dataframe\">\n",
       "  <thead>\n",
       "    <tr style=\"text-align: right;\">\n",
       "      <th>number</th>\n",
       "      <th>01</th>\n",
       "      <th>02</th>\n",
       "      <th>03</th>\n",
       "      <th>04</th>\n",
       "      <th>05</th>\n",
       "      <th>06</th>\n",
       "      <th>07</th>\n",
       "      <th>08</th>\n",
       "      <th>09</th>\n",
       "      <th>10</th>\n",
       "      <th>11</th>\n",
       "      <th>12</th>\n",
       "    </tr>\n",
       "    <tr>\n",
       "      <th>track_id</th>\n",
       "      <th></th>\n",
       "      <th></th>\n",
       "      <th></th>\n",
       "      <th></th>\n",
       "      <th></th>\n",
       "      <th></th>\n",
       "      <th></th>\n",
       "      <th></th>\n",
       "      <th></th>\n",
       "      <th></th>\n",
       "      <th></th>\n",
       "      <th></th>\n",
       "    </tr>\n",
       "  </thead>\n",
       "  <tbody>\n",
       "    <tr>\n",
       "      <th>2</th>\n",
       "      <td>7.180653</td>\n",
       "      <td>5.230309</td>\n",
       "      <td>0.249321</td>\n",
       "      <td>1.347620</td>\n",
       "      <td>1.482478</td>\n",
       "      <td>0.531371</td>\n",
       "      <td>1.481593</td>\n",
       "      <td>2.691455</td>\n",
       "      <td>0.866868</td>\n",
       "      <td>1.341231</td>\n",
       "      <td>1.347792</td>\n",
       "      <td>1.237658</td>\n",
       "    </tr>\n",
       "    <tr>\n",
       "      <th>3</th>\n",
       "      <td>1.888963</td>\n",
       "      <td>0.760539</td>\n",
       "      <td>0.345297</td>\n",
       "      <td>2.295201</td>\n",
       "      <td>1.654031</td>\n",
       "      <td>0.067592</td>\n",
       "      <td>1.366848</td>\n",
       "      <td>1.054094</td>\n",
       "      <td>0.108103</td>\n",
       "      <td>0.619185</td>\n",
       "      <td>1.038253</td>\n",
       "      <td>1.292235</td>\n",
       "    </tr>\n",
       "    <tr>\n",
       "      <th>5</th>\n",
       "      <td>0.527563</td>\n",
       "      <td>-0.077654</td>\n",
       "      <td>-0.279610</td>\n",
       "      <td>0.685883</td>\n",
       "      <td>1.937570</td>\n",
       "      <td>0.880839</td>\n",
       "      <td>-0.923192</td>\n",
       "      <td>-0.927232</td>\n",
       "      <td>0.666617</td>\n",
       "      <td>1.038546</td>\n",
       "      <td>0.268932</td>\n",
       "      <td>1.125141</td>\n",
       "    </tr>\n",
       "    <tr>\n",
       "      <th>10</th>\n",
       "      <td>3.702245</td>\n",
       "      <td>-0.291193</td>\n",
       "      <td>2.196742</td>\n",
       "      <td>-0.234449</td>\n",
       "      <td>1.367364</td>\n",
       "      <td>0.998411</td>\n",
       "      <td>1.770694</td>\n",
       "      <td>1.604566</td>\n",
       "      <td>0.521217</td>\n",
       "      <td>1.982386</td>\n",
       "      <td>4.326824</td>\n",
       "      <td>1.300406</td>\n",
       "    </tr>\n",
       "    <tr>\n",
       "      <th>20</th>\n",
       "      <td>-0.193837</td>\n",
       "      <td>-0.198527</td>\n",
       "      <td>0.201546</td>\n",
       "      <td>0.258556</td>\n",
       "      <td>0.775204</td>\n",
       "      <td>0.084794</td>\n",
       "      <td>-0.289294</td>\n",
       "      <td>-0.816410</td>\n",
       "      <td>0.043851</td>\n",
       "      <td>-0.804761</td>\n",
       "      <td>-0.990958</td>\n",
       "      <td>-0.430381</td>\n",
       "    </tr>\n",
       "    <tr>\n",
       "      <th>...</th>\n",
       "      <td>...</td>\n",
       "      <td>...</td>\n",
       "      <td>...</td>\n",
       "      <td>...</td>\n",
       "      <td>...</td>\n",
       "      <td>...</td>\n",
       "      <td>...</td>\n",
       "      <td>...</td>\n",
       "      <td>...</td>\n",
       "      <td>...</td>\n",
       "      <td>...</td>\n",
       "      <td>...</td>\n",
       "    </tr>\n",
       "    <tr>\n",
       "      <th>155316</th>\n",
       "      <td>-0.490129</td>\n",
       "      <td>0.463834</td>\n",
       "      <td>2.321970</td>\n",
       "      <td>-0.084352</td>\n",
       "      <td>1.662914</td>\n",
       "      <td>2.115189</td>\n",
       "      <td>-0.237794</td>\n",
       "      <td>5.695442</td>\n",
       "      <td>0.830353</td>\n",
       "      <td>1.951819</td>\n",
       "      <td>-0.190785</td>\n",
       "      <td>-0.186416</td>\n",
       "    </tr>\n",
       "    <tr>\n",
       "      <th>155317</th>\n",
       "      <td>-0.461559</td>\n",
       "      <td>-0.229601</td>\n",
       "      <td>-0.496632</td>\n",
       "      <td>-0.422033</td>\n",
       "      <td>0.130612</td>\n",
       "      <td>-0.263825</td>\n",
       "      <td>-0.628103</td>\n",
       "      <td>-0.082687</td>\n",
       "      <td>-0.229483</td>\n",
       "      <td>-0.492753</td>\n",
       "      <td>-0.746905</td>\n",
       "      <td>-0.041635</td>\n",
       "    </tr>\n",
       "    <tr>\n",
       "      <th>155318</th>\n",
       "      <td>0.552473</td>\n",
       "      <td>-0.110498</td>\n",
       "      <td>-0.532014</td>\n",
       "      <td>0.263131</td>\n",
       "      <td>-0.224011</td>\n",
       "      <td>-0.530972</td>\n",
       "      <td>1.713526</td>\n",
       "      <td>1.418444</td>\n",
       "      <td>1.325197</td>\n",
       "      <td>0.120333</td>\n",
       "      <td>1.307971</td>\n",
       "      <td>-0.284805</td>\n",
       "    </tr>\n",
       "    <tr>\n",
       "      <th>155319</th>\n",
       "      <td>-0.176901</td>\n",
       "      <td>0.187208</td>\n",
       "      <td>-0.050664</td>\n",
       "      <td>0.368843</td>\n",
       "      <td>0.066005</td>\n",
       "      <td>-0.857354</td>\n",
       "      <td>-0.780860</td>\n",
       "      <td>0.626281</td>\n",
       "      <td>-0.630938</td>\n",
       "      <td>-0.787229</td>\n",
       "      <td>1.402555</td>\n",
       "      <td>-0.673350</td>\n",
       "    </tr>\n",
       "    <tr>\n",
       "      <th>155320</th>\n",
       "      <td>0.489665</td>\n",
       "      <td>1.862421</td>\n",
       "      <td>0.854461</td>\n",
       "      <td>-0.103666</td>\n",
       "      <td>-0.249835</td>\n",
       "      <td>0.360283</td>\n",
       "      <td>-0.366701</td>\n",
       "      <td>0.033578</td>\n",
       "      <td>-0.834606</td>\n",
       "      <td>-1.154845</td>\n",
       "      <td>-0.834298</td>\n",
       "      <td>-0.235041</td>\n",
       "    </tr>\n",
       "  </tbody>\n",
       "</table>\n",
       "<p>106574 rows × 12 columns</p>\n",
       "</div>"
      ],
      "text/plain": [
       "number          01        02        03        04        05        06  \\\n",
       "track_id                                                               \n",
       "2         7.180653  5.230309  0.249321  1.347620  1.482478  0.531371   \n",
       "3         1.888963  0.760539  0.345297  2.295201  1.654031  0.067592   \n",
       "5         0.527563 -0.077654 -0.279610  0.685883  1.937570  0.880839   \n",
       "10        3.702245 -0.291193  2.196742 -0.234449  1.367364  0.998411   \n",
       "20       -0.193837 -0.198527  0.201546  0.258556  0.775204  0.084794   \n",
       "...            ...       ...       ...       ...       ...       ...   \n",
       "155316   -0.490129  0.463834  2.321970 -0.084352  1.662914  2.115189   \n",
       "155317   -0.461559 -0.229601 -0.496632 -0.422033  0.130612 -0.263825   \n",
       "155318    0.552473 -0.110498 -0.532014  0.263131 -0.224011 -0.530972   \n",
       "155319   -0.176901  0.187208 -0.050664  0.368843  0.066005 -0.857354   \n",
       "155320    0.489665  1.862421  0.854461 -0.103666 -0.249835  0.360283   \n",
       "\n",
       "number          07        08        09        10        11        12  \n",
       "track_id                                                              \n",
       "2         1.481593  2.691455  0.866868  1.341231  1.347792  1.237658  \n",
       "3         1.366848  1.054094  0.108103  0.619185  1.038253  1.292235  \n",
       "5        -0.923192 -0.927232  0.666617  1.038546  0.268932  1.125141  \n",
       "10        1.770694  1.604566  0.521217  1.982386  4.326824  1.300406  \n",
       "20       -0.289294 -0.816410  0.043851 -0.804761 -0.990958 -0.430381  \n",
       "...            ...       ...       ...       ...       ...       ...  \n",
       "155316   -0.237794  5.695442  0.830353  1.951819 -0.190785 -0.186416  \n",
       "155317   -0.628103 -0.082687 -0.229483 -0.492753 -0.746905 -0.041635  \n",
       "155318    1.713526  1.418444  1.325197  0.120333  1.307971 -0.284805  \n",
       "155319   -0.780860  0.626281 -0.630938 -0.787229  1.402555 -0.673350  \n",
       "155320   -0.366701  0.033578 -0.834606 -1.154845 -0.834298 -0.235041  \n",
       "\n",
       "[106574 rows x 12 columns]"
      ]
     },
     "execution_count": 5,
     "metadata": {},
     "output_type": "execute_result"
    }
   ],
   "source": [
    "features['chroma_cens']['kurtosis']"
   ]
  },
  {
   "cell_type": "code",
   "execution_count": 6,
   "id": "163813c0",
   "metadata": {
    "ExecuteTime": {
     "end_time": "2021-06-29T17:38:40.815563Z",
     "start_time": "2021-06-29T17:38:40.813126Z"
    }
   },
   "outputs": [
    {
     "data": {
      "text/plain": [
       "{'chroma_cens',\n",
       " 'chroma_cqt',\n",
       " 'chroma_stft',\n",
       " 'mfcc',\n",
       " 'rmse',\n",
       " 'spectral_bandwidth',\n",
       " 'spectral_centroid',\n",
       " 'spectral_contrast',\n",
       " 'spectral_rolloff',\n",
       " 'tonnetz',\n",
       " 'zcr'}"
      ]
     },
     "execution_count": 6,
     "metadata": {},
     "output_type": "execute_result"
    }
   ],
   "source": [
    "set(features.columns.get_level_values(0))"
   ]
  },
  {
   "cell_type": "code",
   "execution_count": 7,
   "id": "2d065a94",
   "metadata": {
    "ExecuteTime": {
     "end_time": "2021-06-29T17:38:40.849039Z",
     "start_time": "2021-06-29T17:38:40.816267Z"
    }
   },
   "outputs": [
    {
     "data": {
      "text/html": [
       "<div>\n",
       "<style scoped>\n",
       "    .dataframe tbody tr th:only-of-type {\n",
       "        vertical-align: middle;\n",
       "    }\n",
       "\n",
       "    .dataframe tbody tr th {\n",
       "        vertical-align: top;\n",
       "    }\n",
       "\n",
       "    .dataframe thead tr th {\n",
       "        text-align: left;\n",
       "    }\n",
       "\n",
       "    .dataframe thead tr:last-of-type th {\n",
       "        text-align: right;\n",
       "    }\n",
       "</style>\n",
       "<table border=\"1\" class=\"dataframe\">\n",
       "  <thead>\n",
       "    <tr>\n",
       "      <th>statistics</th>\n",
       "      <th colspan=\"10\" halign=\"left\">kurtosis</th>\n",
       "      <th>...</th>\n",
       "      <th colspan=\"10\" halign=\"left\">std</th>\n",
       "    </tr>\n",
       "    <tr>\n",
       "      <th>number</th>\n",
       "      <th>01</th>\n",
       "      <th>02</th>\n",
       "      <th>03</th>\n",
       "      <th>04</th>\n",
       "      <th>05</th>\n",
       "      <th>06</th>\n",
       "      <th>07</th>\n",
       "      <th>08</th>\n",
       "      <th>09</th>\n",
       "      <th>10</th>\n",
       "      <th>...</th>\n",
       "      <th>03</th>\n",
       "      <th>04</th>\n",
       "      <th>05</th>\n",
       "      <th>06</th>\n",
       "      <th>07</th>\n",
       "      <th>08</th>\n",
       "      <th>09</th>\n",
       "      <th>10</th>\n",
       "      <th>11</th>\n",
       "      <th>12</th>\n",
       "    </tr>\n",
       "    <tr>\n",
       "      <th>track_id</th>\n",
       "      <th></th>\n",
       "      <th></th>\n",
       "      <th></th>\n",
       "      <th></th>\n",
       "      <th></th>\n",
       "      <th></th>\n",
       "      <th></th>\n",
       "      <th></th>\n",
       "      <th></th>\n",
       "      <th></th>\n",
       "      <th></th>\n",
       "      <th></th>\n",
       "      <th></th>\n",
       "      <th></th>\n",
       "      <th></th>\n",
       "      <th></th>\n",
       "      <th></th>\n",
       "      <th></th>\n",
       "      <th></th>\n",
       "      <th></th>\n",
       "      <th></th>\n",
       "    </tr>\n",
       "  </thead>\n",
       "  <tbody>\n",
       "    <tr>\n",
       "      <th>2</th>\n",
       "      <td>7.180653</td>\n",
       "      <td>5.230309</td>\n",
       "      <td>0.249321</td>\n",
       "      <td>1.347620</td>\n",
       "      <td>1.482478</td>\n",
       "      <td>0.531371</td>\n",
       "      <td>1.481593</td>\n",
       "      <td>2.691455</td>\n",
       "      <td>0.866868</td>\n",
       "      <td>1.341231</td>\n",
       "      <td>...</td>\n",
       "      <td>0.092350</td>\n",
       "      <td>0.077237</td>\n",
       "      <td>0.074284</td>\n",
       "      <td>0.077322</td>\n",
       "      <td>0.077279</td>\n",
       "      <td>0.068588</td>\n",
       "      <td>0.079606</td>\n",
       "      <td>0.085470</td>\n",
       "      <td>0.085498</td>\n",
       "      <td>0.098219</td>\n",
       "    </tr>\n",
       "    <tr>\n",
       "      <th>3</th>\n",
       "      <td>1.888963</td>\n",
       "      <td>0.760539</td>\n",
       "      <td>0.345297</td>\n",
       "      <td>2.295201</td>\n",
       "      <td>1.654031</td>\n",
       "      <td>0.067592</td>\n",
       "      <td>1.366848</td>\n",
       "      <td>1.054094</td>\n",
       "      <td>0.108103</td>\n",
       "      <td>0.619185</td>\n",
       "      <td>...</td>\n",
       "      <td>0.102759</td>\n",
       "      <td>0.090946</td>\n",
       "      <td>0.075314</td>\n",
       "      <td>0.102431</td>\n",
       "      <td>0.083249</td>\n",
       "      <td>0.100854</td>\n",
       "      <td>0.089236</td>\n",
       "      <td>0.083384</td>\n",
       "      <td>0.079806</td>\n",
       "      <td>0.071072</td>\n",
       "    </tr>\n",
       "    <tr>\n",
       "      <th>5</th>\n",
       "      <td>0.527563</td>\n",
       "      <td>-0.077654</td>\n",
       "      <td>-0.279610</td>\n",
       "      <td>0.685883</td>\n",
       "      <td>1.937570</td>\n",
       "      <td>0.880839</td>\n",
       "      <td>-0.923192</td>\n",
       "      <td>-0.927232</td>\n",
       "      <td>0.666617</td>\n",
       "      <td>1.038546</td>\n",
       "      <td>...</td>\n",
       "      <td>0.100257</td>\n",
       "      <td>0.072991</td>\n",
       "      <td>0.071584</td>\n",
       "      <td>0.076366</td>\n",
       "      <td>0.126677</td>\n",
       "      <td>0.131232</td>\n",
       "      <td>0.108912</td>\n",
       "      <td>0.101764</td>\n",
       "      <td>0.089526</td>\n",
       "      <td>0.088002</td>\n",
       "    </tr>\n",
       "    <tr>\n",
       "      <th>10</th>\n",
       "      <td>3.702245</td>\n",
       "      <td>-0.291193</td>\n",
       "      <td>2.196742</td>\n",
       "      <td>-0.234449</td>\n",
       "      <td>1.367364</td>\n",
       "      <td>0.998411</td>\n",
       "      <td>1.770694</td>\n",
       "      <td>1.604566</td>\n",
       "      <td>0.521217</td>\n",
       "      <td>1.982386</td>\n",
       "      <td>...</td>\n",
       "      <td>0.056647</td>\n",
       "      <td>0.118345</td>\n",
       "      <td>0.080761</td>\n",
       "      <td>0.071630</td>\n",
       "      <td>0.083277</td>\n",
       "      <td>0.069644</td>\n",
       "      <td>0.104290</td>\n",
       "      <td>0.077502</td>\n",
       "      <td>0.074136</td>\n",
       "      <td>0.090781</td>\n",
       "    </tr>\n",
       "    <tr>\n",
       "      <th>20</th>\n",
       "      <td>-0.193837</td>\n",
       "      <td>-0.198527</td>\n",
       "      <td>0.201546</td>\n",
       "      <td>0.258556</td>\n",
       "      <td>0.775204</td>\n",
       "      <td>0.084794</td>\n",
       "      <td>-0.289294</td>\n",
       "      <td>-0.816410</td>\n",
       "      <td>0.043851</td>\n",
       "      <td>-0.804761</td>\n",
       "      <td>...</td>\n",
       "      <td>0.147100</td>\n",
       "      <td>0.112692</td>\n",
       "      <td>0.130581</td>\n",
       "      <td>0.126656</td>\n",
       "      <td>0.146840</td>\n",
       "      <td>0.165409</td>\n",
       "      <td>0.112400</td>\n",
       "      <td>0.157284</td>\n",
       "      <td>0.178552</td>\n",
       "      <td>0.137254</td>\n",
       "    </tr>\n",
       "    <tr>\n",
       "      <th>...</th>\n",
       "      <td>...</td>\n",
       "      <td>...</td>\n",
       "      <td>...</td>\n",
       "      <td>...</td>\n",
       "      <td>...</td>\n",
       "      <td>...</td>\n",
       "      <td>...</td>\n",
       "      <td>...</td>\n",
       "      <td>...</td>\n",
       "      <td>...</td>\n",
       "      <td>...</td>\n",
       "      <td>...</td>\n",
       "      <td>...</td>\n",
       "      <td>...</td>\n",
       "      <td>...</td>\n",
       "      <td>...</td>\n",
       "      <td>...</td>\n",
       "      <td>...</td>\n",
       "      <td>...</td>\n",
       "      <td>...</td>\n",
       "      <td>...</td>\n",
       "    </tr>\n",
       "    <tr>\n",
       "      <th>155316</th>\n",
       "      <td>-0.490129</td>\n",
       "      <td>0.463834</td>\n",
       "      <td>2.321970</td>\n",
       "      <td>-0.084352</td>\n",
       "      <td>1.662914</td>\n",
       "      <td>2.115189</td>\n",
       "      <td>-0.237794</td>\n",
       "      <td>5.695442</td>\n",
       "      <td>0.830353</td>\n",
       "      <td>1.951819</td>\n",
       "      <td>...</td>\n",
       "      <td>0.145356</td>\n",
       "      <td>0.106066</td>\n",
       "      <td>0.171739</td>\n",
       "      <td>0.136452</td>\n",
       "      <td>0.126534</td>\n",
       "      <td>0.090267</td>\n",
       "      <td>0.093647</td>\n",
       "      <td>0.124365</td>\n",
       "      <td>0.095462</td>\n",
       "      <td>0.120004</td>\n",
       "    </tr>\n",
       "    <tr>\n",
       "      <th>155317</th>\n",
       "      <td>-0.461559</td>\n",
       "      <td>-0.229601</td>\n",
       "      <td>-0.496632</td>\n",
       "      <td>-0.422033</td>\n",
       "      <td>0.130612</td>\n",
       "      <td>-0.263825</td>\n",
       "      <td>-0.628103</td>\n",
       "      <td>-0.082687</td>\n",
       "      <td>-0.229483</td>\n",
       "      <td>-0.492753</td>\n",
       "      <td>...</td>\n",
       "      <td>0.178551</td>\n",
       "      <td>0.127296</td>\n",
       "      <td>0.165922</td>\n",
       "      <td>0.142604</td>\n",
       "      <td>0.123660</td>\n",
       "      <td>0.102164</td>\n",
       "      <td>0.109767</td>\n",
       "      <td>0.159251</td>\n",
       "      <td>0.110519</td>\n",
       "      <td>0.184411</td>\n",
       "    </tr>\n",
       "    <tr>\n",
       "      <th>155318</th>\n",
       "      <td>0.552473</td>\n",
       "      <td>-0.110498</td>\n",
       "      <td>-0.532014</td>\n",
       "      <td>0.263131</td>\n",
       "      <td>-0.224011</td>\n",
       "      <td>-0.530972</td>\n",
       "      <td>1.713526</td>\n",
       "      <td>1.418444</td>\n",
       "      <td>1.325197</td>\n",
       "      <td>0.120333</td>\n",
       "      <td>...</td>\n",
       "      <td>0.149176</td>\n",
       "      <td>0.098879</td>\n",
       "      <td>0.134045</td>\n",
       "      <td>0.103426</td>\n",
       "      <td>0.089903</td>\n",
       "      <td>0.083497</td>\n",
       "      <td>0.084681</td>\n",
       "      <td>0.121973</td>\n",
       "      <td>0.090587</td>\n",
       "      <td>0.111838</td>\n",
       "    </tr>\n",
       "    <tr>\n",
       "      <th>155319</th>\n",
       "      <td>-0.176901</td>\n",
       "      <td>0.187208</td>\n",
       "      <td>-0.050664</td>\n",
       "      <td>0.368843</td>\n",
       "      <td>0.066005</td>\n",
       "      <td>-0.857354</td>\n",
       "      <td>-0.780860</td>\n",
       "      <td>0.626281</td>\n",
       "      <td>-0.630938</td>\n",
       "      <td>-0.787229</td>\n",
       "      <td>...</td>\n",
       "      <td>0.096664</td>\n",
       "      <td>0.129895</td>\n",
       "      <td>0.093302</td>\n",
       "      <td>0.151940</td>\n",
       "      <td>0.115668</td>\n",
       "      <td>0.094326</td>\n",
       "      <td>0.120498</td>\n",
       "      <td>0.106149</td>\n",
       "      <td>0.103376</td>\n",
       "      <td>0.103931</td>\n",
       "    </tr>\n",
       "    <tr>\n",
       "      <th>155320</th>\n",
       "      <td>0.489665</td>\n",
       "      <td>1.862421</td>\n",
       "      <td>0.854461</td>\n",
       "      <td>-0.103666</td>\n",
       "      <td>-0.249835</td>\n",
       "      <td>0.360283</td>\n",
       "      <td>-0.366701</td>\n",
       "      <td>0.033578</td>\n",
       "      <td>-0.834606</td>\n",
       "      <td>-1.154845</td>\n",
       "      <td>...</td>\n",
       "      <td>0.130722</td>\n",
       "      <td>0.092180</td>\n",
       "      <td>0.137882</td>\n",
       "      <td>0.110525</td>\n",
       "      <td>0.111855</td>\n",
       "      <td>0.128800</td>\n",
       "      <td>0.116368</td>\n",
       "      <td>0.166231</td>\n",
       "      <td>0.106998</td>\n",
       "      <td>0.109930</td>\n",
       "    </tr>\n",
       "  </tbody>\n",
       "</table>\n",
       "<p>106574 rows × 84 columns</p>\n",
       "</div>"
      ],
      "text/plain": [
       "statistics  kurtosis                                                    \\\n",
       "number            01        02        03        04        05        06   \n",
       "track_id                                                                 \n",
       "2           7.180653  5.230309  0.249321  1.347620  1.482478  0.531371   \n",
       "3           1.888963  0.760539  0.345297  2.295201  1.654031  0.067592   \n",
       "5           0.527563 -0.077654 -0.279610  0.685883  1.937570  0.880839   \n",
       "10          3.702245 -0.291193  2.196742 -0.234449  1.367364  0.998411   \n",
       "20         -0.193837 -0.198527  0.201546  0.258556  0.775204  0.084794   \n",
       "...              ...       ...       ...       ...       ...       ...   \n",
       "155316     -0.490129  0.463834  2.321970 -0.084352  1.662914  2.115189   \n",
       "155317     -0.461559 -0.229601 -0.496632 -0.422033  0.130612 -0.263825   \n",
       "155318      0.552473 -0.110498 -0.532014  0.263131 -0.224011 -0.530972   \n",
       "155319     -0.176901  0.187208 -0.050664  0.368843  0.066005 -0.857354   \n",
       "155320      0.489665  1.862421  0.854461 -0.103666 -0.249835  0.360283   \n",
       "\n",
       "statistics                                          ...       std            \\\n",
       "number            07        08        09        10  ...        03        04   \n",
       "track_id                                            ...                       \n",
       "2           1.481593  2.691455  0.866868  1.341231  ...  0.092350  0.077237   \n",
       "3           1.366848  1.054094  0.108103  0.619185  ...  0.102759  0.090946   \n",
       "5          -0.923192 -0.927232  0.666617  1.038546  ...  0.100257  0.072991   \n",
       "10          1.770694  1.604566  0.521217  1.982386  ...  0.056647  0.118345   \n",
       "20         -0.289294 -0.816410  0.043851 -0.804761  ...  0.147100  0.112692   \n",
       "...              ...       ...       ...       ...  ...       ...       ...   \n",
       "155316     -0.237794  5.695442  0.830353  1.951819  ...  0.145356  0.106066   \n",
       "155317     -0.628103 -0.082687 -0.229483 -0.492753  ...  0.178551  0.127296   \n",
       "155318      1.713526  1.418444  1.325197  0.120333  ...  0.149176  0.098879   \n",
       "155319     -0.780860  0.626281 -0.630938 -0.787229  ...  0.096664  0.129895   \n",
       "155320     -0.366701  0.033578 -0.834606 -1.154845  ...  0.130722  0.092180   \n",
       "\n",
       "statistics                                                              \\\n",
       "number            05        06        07        08        09        10   \n",
       "track_id                                                                 \n",
       "2           0.074284  0.077322  0.077279  0.068588  0.079606  0.085470   \n",
       "3           0.075314  0.102431  0.083249  0.100854  0.089236  0.083384   \n",
       "5           0.071584  0.076366  0.126677  0.131232  0.108912  0.101764   \n",
       "10          0.080761  0.071630  0.083277  0.069644  0.104290  0.077502   \n",
       "20          0.130581  0.126656  0.146840  0.165409  0.112400  0.157284   \n",
       "...              ...       ...       ...       ...       ...       ...   \n",
       "155316      0.171739  0.136452  0.126534  0.090267  0.093647  0.124365   \n",
       "155317      0.165922  0.142604  0.123660  0.102164  0.109767  0.159251   \n",
       "155318      0.134045  0.103426  0.089903  0.083497  0.084681  0.121973   \n",
       "155319      0.093302  0.151940  0.115668  0.094326  0.120498  0.106149   \n",
       "155320      0.137882  0.110525  0.111855  0.128800  0.116368  0.166231   \n",
       "\n",
       "statistics                      \n",
       "number            11        12  \n",
       "track_id                        \n",
       "2           0.085498  0.098219  \n",
       "3           0.079806  0.071072  \n",
       "5           0.089526  0.088002  \n",
       "10          0.074136  0.090781  \n",
       "20          0.178552  0.137254  \n",
       "...              ...       ...  \n",
       "155316      0.095462  0.120004  \n",
       "155317      0.110519  0.184411  \n",
       "155318      0.090587  0.111838  \n",
       "155319      0.103376  0.103931  \n",
       "155320      0.106998  0.109930  \n",
       "\n",
       "[106574 rows x 84 columns]"
      ]
     },
     "execution_count": 7,
     "metadata": {},
     "output_type": "execute_result"
    }
   ],
   "source": [
    "features['chroma_cens']"
   ]
  },
  {
   "cell_type": "code",
   "execution_count": 8,
   "id": "b37e6a49",
   "metadata": {
    "ExecuteTime": {
     "end_time": "2021-06-29T17:38:40.855149Z",
     "start_time": "2021-06-29T17:38:40.852108Z"
    }
   },
   "outputs": [],
   "source": [
    "# https://stackoverflow.com/questions/14507794/pandas-how-to-flatten-a-hierarchical-index-in-columns\n",
    "tracks.columns = ['_'.join(col) for col in tracks.columns.to_flat_index()]\n",
    "features.columns = ['_'.join(col) for col in features.columns.to_flat_index()]"
   ]
  },
  {
   "cell_type": "code",
   "execution_count": 9,
   "id": "d0df0f58",
   "metadata": {
    "ExecuteTime": {
     "end_time": "2021-06-29T17:38:40.866214Z",
     "start_time": "2021-06-29T17:38:40.856498Z"
    }
   },
   "outputs": [],
   "source": [
    "smol_tracks = tracks.loc[tracks['set_subset'] == 'small']"
   ]
  },
  {
   "cell_type": "code",
   "execution_count": 10,
   "id": "4275937b",
   "metadata": {
    "ExecuteTime": {
     "end_time": "2021-06-29T17:38:40.869772Z",
     "start_time": "2021-06-29T17:38:40.867044Z"
    }
   },
   "outputs": [
    {
     "data": {
      "text/plain": [
       "(8000, 52)"
      ]
     },
     "execution_count": 10,
     "metadata": {},
     "output_type": "execute_result"
    }
   ],
   "source": [
    "smol_tracks.shape"
   ]
  },
  {
   "cell_type": "code",
   "execution_count": 11,
   "id": "e29e745c",
   "metadata": {
    "ExecuteTime": {
     "end_time": "2021-06-29T17:38:40.886495Z",
     "start_time": "2021-06-29T17:38:40.870681Z"
    }
   },
   "outputs": [
    {
     "data": {
      "text/html": [
       "<div>\n",
       "<style scoped>\n",
       "    .dataframe tbody tr th:only-of-type {\n",
       "        vertical-align: middle;\n",
       "    }\n",
       "\n",
       "    .dataframe tbody tr th {\n",
       "        vertical-align: top;\n",
       "    }\n",
       "\n",
       "    .dataframe thead th {\n",
       "        text-align: right;\n",
       "    }\n",
       "</style>\n",
       "<table border=\"1\" class=\"dataframe\">\n",
       "  <thead>\n",
       "    <tr style=\"text-align: right;\">\n",
       "      <th></th>\n",
       "      <th>album_comments</th>\n",
       "      <th>album_date_created</th>\n",
       "      <th>album_date_released</th>\n",
       "      <th>album_engineer</th>\n",
       "      <th>album_favorites</th>\n",
       "      <th>album_id</th>\n",
       "      <th>album_information</th>\n",
       "      <th>album_listens</th>\n",
       "      <th>album_producer</th>\n",
       "      <th>album_tags</th>\n",
       "      <th>...</th>\n",
       "      <th>track_information</th>\n",
       "      <th>track_interest</th>\n",
       "      <th>track_language_code</th>\n",
       "      <th>track_license</th>\n",
       "      <th>track_listens</th>\n",
       "      <th>track_lyricist</th>\n",
       "      <th>track_number</th>\n",
       "      <th>track_publisher</th>\n",
       "      <th>track_tags</th>\n",
       "      <th>track_title</th>\n",
       "    </tr>\n",
       "    <tr>\n",
       "      <th>track_id</th>\n",
       "      <th></th>\n",
       "      <th></th>\n",
       "      <th></th>\n",
       "      <th></th>\n",
       "      <th></th>\n",
       "      <th></th>\n",
       "      <th></th>\n",
       "      <th></th>\n",
       "      <th></th>\n",
       "      <th></th>\n",
       "      <th></th>\n",
       "      <th></th>\n",
       "      <th></th>\n",
       "      <th></th>\n",
       "      <th></th>\n",
       "      <th></th>\n",
       "      <th></th>\n",
       "      <th></th>\n",
       "      <th></th>\n",
       "      <th></th>\n",
       "      <th></th>\n",
       "    </tr>\n",
       "  </thead>\n",
       "  <tbody>\n",
       "    <tr>\n",
       "      <th>2</th>\n",
       "      <td>0</td>\n",
       "      <td>2008-11-26 01:44:45</td>\n",
       "      <td>2009-01-05</td>\n",
       "      <td>NaN</td>\n",
       "      <td>4</td>\n",
       "      <td>1</td>\n",
       "      <td>&lt;p&gt;&lt;/p&gt;</td>\n",
       "      <td>6073</td>\n",
       "      <td>NaN</td>\n",
       "      <td>[]</td>\n",
       "      <td>...</td>\n",
       "      <td>NaN</td>\n",
       "      <td>4656</td>\n",
       "      <td>en</td>\n",
       "      <td>Attribution-NonCommercial-ShareAlike 3.0 Inter...</td>\n",
       "      <td>1293</td>\n",
       "      <td>NaN</td>\n",
       "      <td>3</td>\n",
       "      <td>NaN</td>\n",
       "      <td>[]</td>\n",
       "      <td>Food</td>\n",
       "    </tr>\n",
       "    <tr>\n",
       "      <th>5</th>\n",
       "      <td>0</td>\n",
       "      <td>2008-11-26 01:44:45</td>\n",
       "      <td>2009-01-05</td>\n",
       "      <td>NaN</td>\n",
       "      <td>4</td>\n",
       "      <td>1</td>\n",
       "      <td>&lt;p&gt;&lt;/p&gt;</td>\n",
       "      <td>6073</td>\n",
       "      <td>NaN</td>\n",
       "      <td>[]</td>\n",
       "      <td>...</td>\n",
       "      <td>NaN</td>\n",
       "      <td>1933</td>\n",
       "      <td>en</td>\n",
       "      <td>Attribution-NonCommercial-ShareAlike 3.0 Inter...</td>\n",
       "      <td>1151</td>\n",
       "      <td>NaN</td>\n",
       "      <td>6</td>\n",
       "      <td>NaN</td>\n",
       "      <td>[]</td>\n",
       "      <td>This World</td>\n",
       "    </tr>\n",
       "    <tr>\n",
       "      <th>10</th>\n",
       "      <td>0</td>\n",
       "      <td>2008-11-26 01:45:08</td>\n",
       "      <td>2008-02-06</td>\n",
       "      <td>NaN</td>\n",
       "      <td>4</td>\n",
       "      <td>6</td>\n",
       "      <td>NaN</td>\n",
       "      <td>47632</td>\n",
       "      <td>NaN</td>\n",
       "      <td>[]</td>\n",
       "      <td>...</td>\n",
       "      <td>NaN</td>\n",
       "      <td>54881</td>\n",
       "      <td>en</td>\n",
       "      <td>Attribution-NonCommercial-NoDerivatives (aka M...</td>\n",
       "      <td>50135</td>\n",
       "      <td>NaN</td>\n",
       "      <td>1</td>\n",
       "      <td>NaN</td>\n",
       "      <td>[]</td>\n",
       "      <td>Freeway</td>\n",
       "    </tr>\n",
       "    <tr>\n",
       "      <th>140</th>\n",
       "      <td>1</td>\n",
       "      <td>2008-11-26 01:49:59</td>\n",
       "      <td>2007-05-22</td>\n",
       "      <td>NaN</td>\n",
       "      <td>1</td>\n",
       "      <td>61</td>\n",
       "      <td>&lt;p&gt;Alec K. Redfearn &amp;amp; The Eyesores: Ellen ...</td>\n",
       "      <td>1300</td>\n",
       "      <td>Alec K. Refearn, Rob Pemberton</td>\n",
       "      <td>[]</td>\n",
       "      <td>...</td>\n",
       "      <td>NaN</td>\n",
       "      <td>1593</td>\n",
       "      <td>en</td>\n",
       "      <td>Attribution-Noncommercial-No Derivative Works ...</td>\n",
       "      <td>1299</td>\n",
       "      <td>NaN</td>\n",
       "      <td>2</td>\n",
       "      <td>NaN</td>\n",
       "      <td>[]</td>\n",
       "      <td>Queen Of The Wires</td>\n",
       "    </tr>\n",
       "    <tr>\n",
       "      <th>141</th>\n",
       "      <td>0</td>\n",
       "      <td>2008-11-26 01:49:57</td>\n",
       "      <td>2009-01-16</td>\n",
       "      <td>NaN</td>\n",
       "      <td>1</td>\n",
       "      <td>60</td>\n",
       "      <td>&lt;p&gt;A full ensamble of strings, drums, electron...</td>\n",
       "      <td>1304</td>\n",
       "      <td>NaN</td>\n",
       "      <td>[]</td>\n",
       "      <td>...</td>\n",
       "      <td>NaN</td>\n",
       "      <td>839</td>\n",
       "      <td>en</td>\n",
       "      <td>Attribution-Noncommercial-No Derivative Works ...</td>\n",
       "      <td>725</td>\n",
       "      <td>NaN</td>\n",
       "      <td>4</td>\n",
       "      <td>NaN</td>\n",
       "      <td>[]</td>\n",
       "      <td>Ohio</td>\n",
       "    </tr>\n",
       "  </tbody>\n",
       "</table>\n",
       "<p>5 rows × 52 columns</p>\n",
       "</div>"
      ],
      "text/plain": [
       "          album_comments  album_date_created album_date_released  \\\n",
       "track_id                                                           \n",
       "2                      0 2008-11-26 01:44:45          2009-01-05   \n",
       "5                      0 2008-11-26 01:44:45          2009-01-05   \n",
       "10                     0 2008-11-26 01:45:08          2008-02-06   \n",
       "140                    1 2008-11-26 01:49:59          2007-05-22   \n",
       "141                    0 2008-11-26 01:49:57          2009-01-16   \n",
       "\n",
       "         album_engineer  album_favorites  album_id  \\\n",
       "track_id                                             \n",
       "2                   NaN                4         1   \n",
       "5                   NaN                4         1   \n",
       "10                  NaN                4         6   \n",
       "140                 NaN                1        61   \n",
       "141                 NaN                1        60   \n",
       "\n",
       "                                          album_information  album_listens  \\\n",
       "track_id                                                                     \n",
       "2                                                   <p></p>           6073   \n",
       "5                                                   <p></p>           6073   \n",
       "10                                                      NaN          47632   \n",
       "140       <p>Alec K. Redfearn &amp; The Eyesores: Ellen ...           1300   \n",
       "141       <p>A full ensamble of strings, drums, electron...           1304   \n",
       "\n",
       "                          album_producer album_tags  ... track_information  \\\n",
       "track_id                                             ...                     \n",
       "2                                    NaN         []  ...               NaN   \n",
       "5                                    NaN         []  ...               NaN   \n",
       "10                                   NaN         []  ...               NaN   \n",
       "140       Alec K. Refearn, Rob Pemberton         []  ...               NaN   \n",
       "141                                  NaN         []  ...               NaN   \n",
       "\n",
       "          track_interest track_language_code  \\\n",
       "track_id                                       \n",
       "2                   4656                  en   \n",
       "5                   1933                  en   \n",
       "10                 54881                  en   \n",
       "140                 1593                  en   \n",
       "141                  839                  en   \n",
       "\n",
       "                                              track_license track_listens  \\\n",
       "track_id                                                                    \n",
       "2         Attribution-NonCommercial-ShareAlike 3.0 Inter...          1293   \n",
       "5         Attribution-NonCommercial-ShareAlike 3.0 Inter...          1151   \n",
       "10        Attribution-NonCommercial-NoDerivatives (aka M...         50135   \n",
       "140       Attribution-Noncommercial-No Derivative Works ...          1299   \n",
       "141       Attribution-Noncommercial-No Derivative Works ...           725   \n",
       "\n",
       "         track_lyricist track_number  track_publisher track_tags  \\\n",
       "track_id                                                           \n",
       "2                   NaN            3              NaN         []   \n",
       "5                   NaN            6              NaN         []   \n",
       "10                  NaN            1              NaN         []   \n",
       "140                 NaN            2              NaN         []   \n",
       "141                 NaN            4              NaN         []   \n",
       "\n",
       "                 track_title  \n",
       "track_id                      \n",
       "2                       Food  \n",
       "5                 This World  \n",
       "10                   Freeway  \n",
       "140       Queen Of The Wires  \n",
       "141                     Ohio  \n",
       "\n",
       "[5 rows x 52 columns]"
      ]
     },
     "execution_count": 11,
     "metadata": {},
     "output_type": "execute_result"
    }
   ],
   "source": [
    "smol_tracks.head()"
   ]
  },
  {
   "cell_type": "code",
   "execution_count": 12,
   "id": "575055f7",
   "metadata": {
    "ExecuteTime": {
     "end_time": "2021-06-29T17:38:40.899396Z",
     "start_time": "2021-06-29T17:38:40.887312Z"
    }
   },
   "outputs": [
    {
     "data": {
      "text/plain": [
       "track_lyricist              7974\n",
       "track_publisher             7924\n",
       "track_information           7841\n",
       "track_composer              7820\n",
       "artist_active_year_end      7642\n",
       "artist_wikipedia_page       7590\n",
       "track_date_recorded         7535\n",
       "artist_related_projects     7306\n",
       "artist_associated_labels    7151\n",
       "track_language_code         6995\n",
       "album_engineer              6858\n",
       "album_producer              6596\n",
       "artist_active_year_begin    6458\n",
       "artist_longitude            5101\n",
       "artist_latitude             5101\n",
       "artist_members              4475\n",
       "album_date_released         2663\n",
       "artist_location             2529\n",
       "artist_bio                  2086\n",
       "artist_website              1548\n",
       "album_information           1498\n",
       "album_type                   231\n",
       "track_license                  5\n",
       "track_interest                 0\n",
       "track_genres_all               0\n",
       "dtype: int64"
      ]
     },
     "execution_count": 12,
     "metadata": {},
     "output_type": "execute_result"
    }
   ],
   "source": [
    "smol_tracks.isna().sum().sort_values(ascending=False)[:25]"
   ]
  },
  {
   "cell_type": "code",
   "execution_count": 13,
   "id": "67bc9edd",
   "metadata": {
    "ExecuteTime": {
     "end_time": "2021-06-29T17:38:40.913445Z",
     "start_time": "2021-06-29T17:38:40.900162Z"
    },
    "scrolled": true
   },
   "outputs": [
    {
     "data": {
      "text/html": [
       "<div>\n",
       "<style scoped>\n",
       "    .dataframe tbody tr th:only-of-type {\n",
       "        vertical-align: middle;\n",
       "    }\n",
       "\n",
       "    .dataframe tbody tr th {\n",
       "        vertical-align: top;\n",
       "    }\n",
       "\n",
       "    .dataframe thead th {\n",
       "        text-align: right;\n",
       "    }\n",
       "</style>\n",
       "<table border=\"1\" class=\"dataframe\">\n",
       "  <thead>\n",
       "    <tr style=\"text-align: right;\">\n",
       "      <th></th>\n",
       "      <th>chroma_cens_kurtosis_01</th>\n",
       "      <th>chroma_cens_kurtosis_02</th>\n",
       "      <th>chroma_cens_kurtosis_03</th>\n",
       "      <th>chroma_cens_kurtosis_04</th>\n",
       "      <th>chroma_cens_kurtosis_05</th>\n",
       "      <th>chroma_cens_kurtosis_06</th>\n",
       "      <th>chroma_cens_kurtosis_07</th>\n",
       "      <th>chroma_cens_kurtosis_08</th>\n",
       "      <th>chroma_cens_kurtosis_09</th>\n",
       "      <th>chroma_cens_kurtosis_10</th>\n",
       "      <th>...</th>\n",
       "      <th>tonnetz_std_04</th>\n",
       "      <th>tonnetz_std_05</th>\n",
       "      <th>tonnetz_std_06</th>\n",
       "      <th>zcr_kurtosis_01</th>\n",
       "      <th>zcr_max_01</th>\n",
       "      <th>zcr_mean_01</th>\n",
       "      <th>zcr_median_01</th>\n",
       "      <th>zcr_min_01</th>\n",
       "      <th>zcr_skew_01</th>\n",
       "      <th>zcr_std_01</th>\n",
       "    </tr>\n",
       "    <tr>\n",
       "      <th>track_id</th>\n",
       "      <th></th>\n",
       "      <th></th>\n",
       "      <th></th>\n",
       "      <th></th>\n",
       "      <th></th>\n",
       "      <th></th>\n",
       "      <th></th>\n",
       "      <th></th>\n",
       "      <th></th>\n",
       "      <th></th>\n",
       "      <th></th>\n",
       "      <th></th>\n",
       "      <th></th>\n",
       "      <th></th>\n",
       "      <th></th>\n",
       "      <th></th>\n",
       "      <th></th>\n",
       "      <th></th>\n",
       "      <th></th>\n",
       "      <th></th>\n",
       "      <th></th>\n",
       "    </tr>\n",
       "  </thead>\n",
       "  <tbody>\n",
       "    <tr>\n",
       "      <th>2</th>\n",
       "      <td>7.180653</td>\n",
       "      <td>5.230309</td>\n",
       "      <td>0.249321</td>\n",
       "      <td>1.347620</td>\n",
       "      <td>1.482478</td>\n",
       "      <td>0.531371</td>\n",
       "      <td>1.481593</td>\n",
       "      <td>2.691455</td>\n",
       "      <td>0.866868</td>\n",
       "      <td>1.341231</td>\n",
       "      <td>...</td>\n",
       "      <td>0.054125</td>\n",
       "      <td>0.012226</td>\n",
       "      <td>0.012111</td>\n",
       "      <td>5.758890</td>\n",
       "      <td>0.459473</td>\n",
       "      <td>0.085629</td>\n",
       "      <td>0.071289</td>\n",
       "      <td>0.000000</td>\n",
       "      <td>2.089872</td>\n",
       "      <td>0.061448</td>\n",
       "    </tr>\n",
       "    <tr>\n",
       "      <th>3</th>\n",
       "      <td>1.888963</td>\n",
       "      <td>0.760539</td>\n",
       "      <td>0.345297</td>\n",
       "      <td>2.295201</td>\n",
       "      <td>1.654031</td>\n",
       "      <td>0.067592</td>\n",
       "      <td>1.366848</td>\n",
       "      <td>1.054094</td>\n",
       "      <td>0.108103</td>\n",
       "      <td>0.619185</td>\n",
       "      <td>...</td>\n",
       "      <td>0.063831</td>\n",
       "      <td>0.014212</td>\n",
       "      <td>0.017740</td>\n",
       "      <td>2.824694</td>\n",
       "      <td>0.466309</td>\n",
       "      <td>0.084578</td>\n",
       "      <td>0.063965</td>\n",
       "      <td>0.000000</td>\n",
       "      <td>1.716724</td>\n",
       "      <td>0.069330</td>\n",
       "    </tr>\n",
       "    <tr>\n",
       "      <th>5</th>\n",
       "      <td>0.527563</td>\n",
       "      <td>-0.077654</td>\n",
       "      <td>-0.279610</td>\n",
       "      <td>0.685883</td>\n",
       "      <td>1.937570</td>\n",
       "      <td>0.880839</td>\n",
       "      <td>-0.923192</td>\n",
       "      <td>-0.927232</td>\n",
       "      <td>0.666617</td>\n",
       "      <td>1.038546</td>\n",
       "      <td>...</td>\n",
       "      <td>0.040730</td>\n",
       "      <td>0.012691</td>\n",
       "      <td>0.014759</td>\n",
       "      <td>6.808415</td>\n",
       "      <td>0.375000</td>\n",
       "      <td>0.053114</td>\n",
       "      <td>0.041504</td>\n",
       "      <td>0.000000</td>\n",
       "      <td>2.193303</td>\n",
       "      <td>0.044861</td>\n",
       "    </tr>\n",
       "    <tr>\n",
       "      <th>10</th>\n",
       "      <td>3.702245</td>\n",
       "      <td>-0.291193</td>\n",
       "      <td>2.196742</td>\n",
       "      <td>-0.234449</td>\n",
       "      <td>1.367364</td>\n",
       "      <td>0.998411</td>\n",
       "      <td>1.770694</td>\n",
       "      <td>1.604566</td>\n",
       "      <td>0.521217</td>\n",
       "      <td>1.982386</td>\n",
       "      <td>...</td>\n",
       "      <td>0.074358</td>\n",
       "      <td>0.017952</td>\n",
       "      <td>0.013921</td>\n",
       "      <td>21.434212</td>\n",
       "      <td>0.452148</td>\n",
       "      <td>0.077515</td>\n",
       "      <td>0.071777</td>\n",
       "      <td>0.000000</td>\n",
       "      <td>3.542325</td>\n",
       "      <td>0.040800</td>\n",
       "    </tr>\n",
       "    <tr>\n",
       "      <th>20</th>\n",
       "      <td>-0.193837</td>\n",
       "      <td>-0.198527</td>\n",
       "      <td>0.201546</td>\n",
       "      <td>0.258556</td>\n",
       "      <td>0.775204</td>\n",
       "      <td>0.084794</td>\n",
       "      <td>-0.289294</td>\n",
       "      <td>-0.816410</td>\n",
       "      <td>0.043851</td>\n",
       "      <td>-0.804761</td>\n",
       "      <td>...</td>\n",
       "      <td>0.095003</td>\n",
       "      <td>0.022492</td>\n",
       "      <td>0.021355</td>\n",
       "      <td>16.669037</td>\n",
       "      <td>0.469727</td>\n",
       "      <td>0.047225</td>\n",
       "      <td>0.040039</td>\n",
       "      <td>0.000977</td>\n",
       "      <td>3.189831</td>\n",
       "      <td>0.030993</td>\n",
       "    </tr>\n",
       "  </tbody>\n",
       "</table>\n",
       "<p>5 rows × 518 columns</p>\n",
       "</div>"
      ],
      "text/plain": [
       "          chroma_cens_kurtosis_01  chroma_cens_kurtosis_02  \\\n",
       "track_id                                                     \n",
       "2                        7.180653                 5.230309   \n",
       "3                        1.888963                 0.760539   \n",
       "5                        0.527563                -0.077654   \n",
       "10                       3.702245                -0.291193   \n",
       "20                      -0.193837                -0.198527   \n",
       "\n",
       "          chroma_cens_kurtosis_03  chroma_cens_kurtosis_04  \\\n",
       "track_id                                                     \n",
       "2                        0.249321                 1.347620   \n",
       "3                        0.345297                 2.295201   \n",
       "5                       -0.279610                 0.685883   \n",
       "10                       2.196742                -0.234449   \n",
       "20                       0.201546                 0.258556   \n",
       "\n",
       "          chroma_cens_kurtosis_05  chroma_cens_kurtosis_06  \\\n",
       "track_id                                                     \n",
       "2                        1.482478                 0.531371   \n",
       "3                        1.654031                 0.067592   \n",
       "5                        1.937570                 0.880839   \n",
       "10                       1.367364                 0.998411   \n",
       "20                       0.775204                 0.084794   \n",
       "\n",
       "          chroma_cens_kurtosis_07  chroma_cens_kurtosis_08  \\\n",
       "track_id                                                     \n",
       "2                        1.481593                 2.691455   \n",
       "3                        1.366848                 1.054094   \n",
       "5                       -0.923192                -0.927232   \n",
       "10                       1.770694                 1.604566   \n",
       "20                      -0.289294                -0.816410   \n",
       "\n",
       "          chroma_cens_kurtosis_09  chroma_cens_kurtosis_10  ...  \\\n",
       "track_id                                                    ...   \n",
       "2                        0.866868                 1.341231  ...   \n",
       "3                        0.108103                 0.619185  ...   \n",
       "5                        0.666617                 1.038546  ...   \n",
       "10                       0.521217                 1.982386  ...   \n",
       "20                       0.043851                -0.804761  ...   \n",
       "\n",
       "          tonnetz_std_04  tonnetz_std_05  tonnetz_std_06  zcr_kurtosis_01  \\\n",
       "track_id                                                                    \n",
       "2               0.054125        0.012226        0.012111         5.758890   \n",
       "3               0.063831        0.014212        0.017740         2.824694   \n",
       "5               0.040730        0.012691        0.014759         6.808415   \n",
       "10              0.074358        0.017952        0.013921        21.434212   \n",
       "20              0.095003        0.022492        0.021355        16.669037   \n",
       "\n",
       "          zcr_max_01  zcr_mean_01  zcr_median_01  zcr_min_01  zcr_skew_01  \\\n",
       "track_id                                                                    \n",
       "2           0.459473     0.085629       0.071289    0.000000     2.089872   \n",
       "3           0.466309     0.084578       0.063965    0.000000     1.716724   \n",
       "5           0.375000     0.053114       0.041504    0.000000     2.193303   \n",
       "10          0.452148     0.077515       0.071777    0.000000     3.542325   \n",
       "20          0.469727     0.047225       0.040039    0.000977     3.189831   \n",
       "\n",
       "          zcr_std_01  \n",
       "track_id              \n",
       "2           0.061448  \n",
       "3           0.069330  \n",
       "5           0.044861  \n",
       "10          0.040800  \n",
       "20          0.030993  \n",
       "\n",
       "[5 rows x 518 columns]"
      ]
     },
     "execution_count": 13,
     "metadata": {},
     "output_type": "execute_result"
    }
   ],
   "source": [
    "features.head()"
   ]
  },
  {
   "cell_type": "code",
   "execution_count": 14,
   "id": "33caecc5",
   "metadata": {
    "ExecuteTime": {
     "end_time": "2021-06-29T17:38:41.008673Z",
     "start_time": "2021-06-29T17:38:40.914592Z"
    }
   },
   "outputs": [
    {
     "data": {
      "text/plain": [
       "chroma_cens_kurtosis_01    0\n",
       "mfcc_median_13             0\n",
       "mfcc_skew_03               0\n",
       "mfcc_skew_02               0\n",
       "mfcc_skew_01               0\n",
       "dtype: int64"
      ]
     },
     "execution_count": 14,
     "metadata": {},
     "output_type": "execute_result"
    }
   ],
   "source": [
    "features.isnull().sum().sort_values(ascending=False)[:5]"
   ]
  },
  {
   "cell_type": "code",
   "execution_count": 15,
   "id": "3f0cdffb",
   "metadata": {
    "ExecuteTime": {
     "end_time": "2021-06-29T17:38:41.010971Z",
     "start_time": "2021-06-29T17:38:41.009484Z"
    }
   },
   "outputs": [],
   "source": [
    "track_metadata = ['track_genre_top', 'track_title', 'artist_name']"
   ]
  },
  {
   "cell_type": "code",
   "execution_count": 16,
   "id": "b6a65547",
   "metadata": {
    "ExecuteTime": {
     "end_time": "2021-06-29T17:38:41.042515Z",
     "start_time": "2021-06-29T17:38:41.011676Z"
    },
    "scrolled": true
   },
   "outputs": [],
   "source": [
    "df = features.merge(smol_tracks[track_metadata],\n",
    "                    left_index=True, right_index=True)"
   ]
  },
  {
   "cell_type": "code",
   "execution_count": 17,
   "id": "11a3faf1",
   "metadata": {
    "ExecuteTime": {
     "end_time": "2021-06-29T17:38:41.056209Z",
     "start_time": "2021-06-29T17:38:41.043270Z"
    }
   },
   "outputs": [
    {
     "data": {
      "text/html": [
       "<div>\n",
       "<style scoped>\n",
       "    .dataframe tbody tr th:only-of-type {\n",
       "        vertical-align: middle;\n",
       "    }\n",
       "\n",
       "    .dataframe tbody tr th {\n",
       "        vertical-align: top;\n",
       "    }\n",
       "\n",
       "    .dataframe thead th {\n",
       "        text-align: right;\n",
       "    }\n",
       "</style>\n",
       "<table border=\"1\" class=\"dataframe\">\n",
       "  <thead>\n",
       "    <tr style=\"text-align: right;\">\n",
       "      <th></th>\n",
       "      <th>chroma_cens_kurtosis_01</th>\n",
       "      <th>chroma_cens_kurtosis_02</th>\n",
       "      <th>chroma_cens_kurtosis_03</th>\n",
       "      <th>chroma_cens_kurtosis_04</th>\n",
       "      <th>chroma_cens_kurtosis_05</th>\n",
       "      <th>chroma_cens_kurtosis_06</th>\n",
       "      <th>chroma_cens_kurtosis_07</th>\n",
       "      <th>chroma_cens_kurtosis_08</th>\n",
       "      <th>chroma_cens_kurtosis_09</th>\n",
       "      <th>chroma_cens_kurtosis_10</th>\n",
       "      <th>...</th>\n",
       "      <th>zcr_kurtosis_01</th>\n",
       "      <th>zcr_max_01</th>\n",
       "      <th>zcr_mean_01</th>\n",
       "      <th>zcr_median_01</th>\n",
       "      <th>zcr_min_01</th>\n",
       "      <th>zcr_skew_01</th>\n",
       "      <th>zcr_std_01</th>\n",
       "      <th>track_genre_top</th>\n",
       "      <th>track_title</th>\n",
       "      <th>artist_name</th>\n",
       "    </tr>\n",
       "    <tr>\n",
       "      <th>track_id</th>\n",
       "      <th></th>\n",
       "      <th></th>\n",
       "      <th></th>\n",
       "      <th></th>\n",
       "      <th></th>\n",
       "      <th></th>\n",
       "      <th></th>\n",
       "      <th></th>\n",
       "      <th></th>\n",
       "      <th></th>\n",
       "      <th></th>\n",
       "      <th></th>\n",
       "      <th></th>\n",
       "      <th></th>\n",
       "      <th></th>\n",
       "      <th></th>\n",
       "      <th></th>\n",
       "      <th></th>\n",
       "      <th></th>\n",
       "      <th></th>\n",
       "      <th></th>\n",
       "    </tr>\n",
       "  </thead>\n",
       "  <tbody>\n",
       "    <tr>\n",
       "      <th>2</th>\n",
       "      <td>7.180653</td>\n",
       "      <td>5.230309</td>\n",
       "      <td>0.249321</td>\n",
       "      <td>1.347620</td>\n",
       "      <td>1.482478</td>\n",
       "      <td>0.531371</td>\n",
       "      <td>1.481593</td>\n",
       "      <td>2.691455</td>\n",
       "      <td>0.866868</td>\n",
       "      <td>1.341231</td>\n",
       "      <td>...</td>\n",
       "      <td>5.758890</td>\n",
       "      <td>0.459473</td>\n",
       "      <td>0.085629</td>\n",
       "      <td>0.071289</td>\n",
       "      <td>0.000000</td>\n",
       "      <td>2.089872</td>\n",
       "      <td>0.061448</td>\n",
       "      <td>Hip-Hop</td>\n",
       "      <td>Food</td>\n",
       "      <td>AWOL</td>\n",
       "    </tr>\n",
       "    <tr>\n",
       "      <th>5</th>\n",
       "      <td>0.527563</td>\n",
       "      <td>-0.077654</td>\n",
       "      <td>-0.279610</td>\n",
       "      <td>0.685883</td>\n",
       "      <td>1.937570</td>\n",
       "      <td>0.880839</td>\n",
       "      <td>-0.923192</td>\n",
       "      <td>-0.927232</td>\n",
       "      <td>0.666617</td>\n",
       "      <td>1.038546</td>\n",
       "      <td>...</td>\n",
       "      <td>6.808415</td>\n",
       "      <td>0.375000</td>\n",
       "      <td>0.053114</td>\n",
       "      <td>0.041504</td>\n",
       "      <td>0.000000</td>\n",
       "      <td>2.193303</td>\n",
       "      <td>0.044861</td>\n",
       "      <td>Hip-Hop</td>\n",
       "      <td>This World</td>\n",
       "      <td>AWOL</td>\n",
       "    </tr>\n",
       "    <tr>\n",
       "      <th>10</th>\n",
       "      <td>3.702245</td>\n",
       "      <td>-0.291193</td>\n",
       "      <td>2.196742</td>\n",
       "      <td>-0.234449</td>\n",
       "      <td>1.367364</td>\n",
       "      <td>0.998411</td>\n",
       "      <td>1.770694</td>\n",
       "      <td>1.604566</td>\n",
       "      <td>0.521217</td>\n",
       "      <td>1.982386</td>\n",
       "      <td>...</td>\n",
       "      <td>21.434212</td>\n",
       "      <td>0.452148</td>\n",
       "      <td>0.077515</td>\n",
       "      <td>0.071777</td>\n",
       "      <td>0.000000</td>\n",
       "      <td>3.542325</td>\n",
       "      <td>0.040800</td>\n",
       "      <td>Pop</td>\n",
       "      <td>Freeway</td>\n",
       "      <td>Kurt Vile</td>\n",
       "    </tr>\n",
       "    <tr>\n",
       "      <th>140</th>\n",
       "      <td>0.533579</td>\n",
       "      <td>-0.623885</td>\n",
       "      <td>-1.086205</td>\n",
       "      <td>-1.081079</td>\n",
       "      <td>-0.765151</td>\n",
       "      <td>-0.072282</td>\n",
       "      <td>-0.882913</td>\n",
       "      <td>-0.582376</td>\n",
       "      <td>-0.884749</td>\n",
       "      <td>-0.645214</td>\n",
       "      <td>...</td>\n",
       "      <td>11.052547</td>\n",
       "      <td>0.379395</td>\n",
       "      <td>0.052379</td>\n",
       "      <td>0.036621</td>\n",
       "      <td>0.001953</td>\n",
       "      <td>3.143968</td>\n",
       "      <td>0.057712</td>\n",
       "      <td>Folk</td>\n",
       "      <td>Queen Of The Wires</td>\n",
       "      <td>Alec K. Redfearn &amp; the Eyesores</td>\n",
       "    </tr>\n",
       "    <tr>\n",
       "      <th>141</th>\n",
       "      <td>0.172898</td>\n",
       "      <td>-0.284804</td>\n",
       "      <td>-1.169662</td>\n",
       "      <td>-1.062855</td>\n",
       "      <td>-0.706868</td>\n",
       "      <td>-0.708281</td>\n",
       "      <td>-0.204884</td>\n",
       "      <td>0.023624</td>\n",
       "      <td>-0.642770</td>\n",
       "      <td>-0.786291</td>\n",
       "      <td>...</td>\n",
       "      <td>32.994659</td>\n",
       "      <td>0.415527</td>\n",
       "      <td>0.040267</td>\n",
       "      <td>0.034668</td>\n",
       "      <td>0.002930</td>\n",
       "      <td>4.204097</td>\n",
       "      <td>0.028665</td>\n",
       "      <td>Folk</td>\n",
       "      <td>Ohio</td>\n",
       "      <td>Alec K. Redfearn &amp; the Eyesores</td>\n",
       "    </tr>\n",
       "  </tbody>\n",
       "</table>\n",
       "<p>5 rows × 521 columns</p>\n",
       "</div>"
      ],
      "text/plain": [
       "          chroma_cens_kurtosis_01  chroma_cens_kurtosis_02  \\\n",
       "track_id                                                     \n",
       "2                        7.180653                 5.230309   \n",
       "5                        0.527563                -0.077654   \n",
       "10                       3.702245                -0.291193   \n",
       "140                      0.533579                -0.623885   \n",
       "141                      0.172898                -0.284804   \n",
       "\n",
       "          chroma_cens_kurtosis_03  chroma_cens_kurtosis_04  \\\n",
       "track_id                                                     \n",
       "2                        0.249321                 1.347620   \n",
       "5                       -0.279610                 0.685883   \n",
       "10                       2.196742                -0.234449   \n",
       "140                     -1.086205                -1.081079   \n",
       "141                     -1.169662                -1.062855   \n",
       "\n",
       "          chroma_cens_kurtosis_05  chroma_cens_kurtosis_06  \\\n",
       "track_id                                                     \n",
       "2                        1.482478                 0.531371   \n",
       "5                        1.937570                 0.880839   \n",
       "10                       1.367364                 0.998411   \n",
       "140                     -0.765151                -0.072282   \n",
       "141                     -0.706868                -0.708281   \n",
       "\n",
       "          chroma_cens_kurtosis_07  chroma_cens_kurtosis_08  \\\n",
       "track_id                                                     \n",
       "2                        1.481593                 2.691455   \n",
       "5                       -0.923192                -0.927232   \n",
       "10                       1.770694                 1.604566   \n",
       "140                     -0.882913                -0.582376   \n",
       "141                     -0.204884                 0.023624   \n",
       "\n",
       "          chroma_cens_kurtosis_09  chroma_cens_kurtosis_10  ...  \\\n",
       "track_id                                                    ...   \n",
       "2                        0.866868                 1.341231  ...   \n",
       "5                        0.666617                 1.038546  ...   \n",
       "10                       0.521217                 1.982386  ...   \n",
       "140                     -0.884749                -0.645214  ...   \n",
       "141                     -0.642770                -0.786291  ...   \n",
       "\n",
       "          zcr_kurtosis_01  zcr_max_01  zcr_mean_01  zcr_median_01  zcr_min_01  \\\n",
       "track_id                                                                        \n",
       "2                5.758890    0.459473     0.085629       0.071289    0.000000   \n",
       "5                6.808415    0.375000     0.053114       0.041504    0.000000   \n",
       "10              21.434212    0.452148     0.077515       0.071777    0.000000   \n",
       "140             11.052547    0.379395     0.052379       0.036621    0.001953   \n",
       "141             32.994659    0.415527     0.040267       0.034668    0.002930   \n",
       "\n",
       "          zcr_skew_01  zcr_std_01  track_genre_top         track_title  \\\n",
       "track_id                                                                 \n",
       "2            2.089872    0.061448          Hip-Hop                Food   \n",
       "5            2.193303    0.044861          Hip-Hop          This World   \n",
       "10           3.542325    0.040800              Pop             Freeway   \n",
       "140          3.143968    0.057712             Folk  Queen Of The Wires   \n",
       "141          4.204097    0.028665             Folk                Ohio   \n",
       "\n",
       "                              artist_name  \n",
       "track_id                                   \n",
       "2                                    AWOL  \n",
       "5                                    AWOL  \n",
       "10                              Kurt Vile  \n",
       "140       Alec K. Redfearn & the Eyesores  \n",
       "141       Alec K. Redfearn & the Eyesores  \n",
       "\n",
       "[5 rows x 521 columns]"
      ]
     },
     "execution_count": 17,
     "metadata": {},
     "output_type": "execute_result"
    }
   ],
   "source": [
    "df.head()"
   ]
  },
  {
   "cell_type": "code",
   "execution_count": 18,
   "id": "99620126",
   "metadata": {
    "ExecuteTime": {
     "end_time": "2021-06-29T17:38:41.059950Z",
     "start_time": "2021-06-29T17:38:41.057091Z"
    }
   },
   "outputs": [
    {
     "name": "stdout",
     "output_type": "stream",
     "text": [
      "category\n",
      "object\n",
      "object\n"
     ]
    },
    {
     "name": "stderr",
     "output_type": "stream",
     "text": [
      "<ipython-input-18-6ed53c4ae0e6>:2: DeprecationWarning: Converting `np.inexact` or `np.floating` to a dtype is deprecated. The current result is `float64` which is not strictly correct.\n",
      "  if dtype != np.number:\n"
     ]
    }
   ],
   "source": [
    "for dtype in df.dtypes:\n",
    "    if dtype != np.number:\n",
    "        print(dtype)"
   ]
  },
  {
   "cell_type": "code",
   "execution_count": 19,
   "id": "5a23349e",
   "metadata": {
    "ExecuteTime": {
     "end_time": "2021-06-29T17:38:41.069131Z",
     "start_time": "2021-06-29T17:38:41.060898Z"
    }
   },
   "outputs": [],
   "source": [
    "df.index = df.index.astype('string')"
   ]
  },
  {
   "cell_type": "markdown",
   "id": "22614afc",
   "metadata": {},
   "source": [
    "These tracks have known issues and are unreadable."
   ]
  },
  {
   "cell_type": "code",
   "execution_count": 20,
   "id": "5d5a4678",
   "metadata": {
    "ExecuteTime": {
     "end_time": "2021-06-29T17:38:41.080165Z",
     "start_time": "2021-06-29T17:38:41.069973Z"
    }
   },
   "outputs": [],
   "source": [
    "df.drop(['99134', '98567', '98569', '108925', '98565', '133297'], inplace=True)"
   ]
  },
  {
   "cell_type": "code",
   "execution_count": 21,
   "id": "415ff0ae",
   "metadata": {
    "ExecuteTime": {
     "end_time": "2021-06-29T17:40:27.404443Z",
     "start_time": "2021-06-29T17:40:24.460091Z"
    }
   },
   "outputs": [],
   "source": [
    "df.to_csv('../data/features_with_genres.csv')"
   ]
  },
  {
   "cell_type": "code",
   "execution_count": 36,
   "id": "52b9c50b",
   "metadata": {
    "ExecuteTime": {
     "end_time": "2021-06-24T20:31:13.220073Z",
     "start_time": "2021-06-24T20:31:10.090023Z"
    }
   },
   "outputs": [],
   "source": [
    "corr = df.corr()"
   ]
  },
  {
   "cell_type": "code",
   "execution_count": 37,
   "id": "660da3d6",
   "metadata": {
    "ExecuteTime": {
     "end_time": "2021-06-24T20:31:13.235575Z",
     "start_time": "2021-06-24T20:31:13.221573Z"
    }
   },
   "outputs": [
    {
     "data": {
      "text/plain": [
       "268324"
      ]
     },
     "execution_count": 37,
     "metadata": {},
     "output_type": "execute_result"
    }
   ],
   "source": [
    "len(corr.values.flatten())"
   ]
  },
  {
   "cell_type": "code",
   "execution_count": 40,
   "id": "8609e4ac",
   "metadata": {},
   "outputs": [
    {
     "data": {
      "text/html": [
       "<div>\n",
       "<style scoped>\n",
       "    .dataframe tbody tr th:only-of-type {\n",
       "        vertical-align: middle;\n",
       "    }\n",
       "\n",
       "    .dataframe tbody tr th {\n",
       "        vertical-align: top;\n",
       "    }\n",
       "\n",
       "    .dataframe thead th {\n",
       "        text-align: right;\n",
       "    }\n",
       "</style>\n",
       "<table border=\"1\" class=\"dataframe\">\n",
       "  <thead>\n",
       "    <tr style=\"text-align: right;\">\n",
       "      <th></th>\n",
       "      <th>chroma_cens_kurtosis_01</th>\n",
       "      <th>chroma_cens_kurtosis_02</th>\n",
       "      <th>chroma_cens_kurtosis_03</th>\n",
       "      <th>chroma_cens_kurtosis_04</th>\n",
       "      <th>chroma_cens_kurtosis_05</th>\n",
       "      <th>chroma_cens_kurtosis_06</th>\n",
       "      <th>chroma_cens_kurtosis_07</th>\n",
       "      <th>chroma_cens_kurtosis_08</th>\n",
       "      <th>chroma_cens_kurtosis_09</th>\n",
       "      <th>chroma_cens_kurtosis_10</th>\n",
       "      <th>...</th>\n",
       "      <th>tonnetz_std_04</th>\n",
       "      <th>tonnetz_std_05</th>\n",
       "      <th>tonnetz_std_06</th>\n",
       "      <th>zcr_kurtosis_01</th>\n",
       "      <th>zcr_max_01</th>\n",
       "      <th>zcr_mean_01</th>\n",
       "      <th>zcr_median_01</th>\n",
       "      <th>zcr_min_01</th>\n",
       "      <th>zcr_skew_01</th>\n",
       "      <th>zcr_std_01</th>\n",
       "    </tr>\n",
       "  </thead>\n",
       "  <tbody>\n",
       "    <tr>\n",
       "      <th>chroma_cens_kurtosis_01</th>\n",
       "      <td>1.000000</td>\n",
       "      <td>0.333799</td>\n",
       "      <td>0.047314</td>\n",
       "      <td>0.183893</td>\n",
       "      <td>0.216923</td>\n",
       "      <td>0.209492</td>\n",
       "      <td>0.145475</td>\n",
       "      <td>0.223332</td>\n",
       "      <td>0.221560</td>\n",
       "      <td>0.172495</td>\n",
       "      <td>...</td>\n",
       "      <td>-0.182373</td>\n",
       "      <td>-0.151990</td>\n",
       "      <td>-0.136600</td>\n",
       "      <td>-0.008573</td>\n",
       "      <td>-0.028872</td>\n",
       "      <td>0.033587</td>\n",
       "      <td>0.045052</td>\n",
       "      <td>-0.002953</td>\n",
       "      <td>-0.026875</td>\n",
       "      <td>-0.009319</td>\n",
       "    </tr>\n",
       "    <tr>\n",
       "      <th>chroma_cens_kurtosis_02</th>\n",
       "      <td>0.333799</td>\n",
       "      <td>1.000000</td>\n",
       "      <td>0.090431</td>\n",
       "      <td>0.294354</td>\n",
       "      <td>0.284165</td>\n",
       "      <td>0.172308</td>\n",
       "      <td>0.139419</td>\n",
       "      <td>0.178085</td>\n",
       "      <td>0.320730</td>\n",
       "      <td>0.167317</td>\n",
       "      <td>...</td>\n",
       "      <td>-0.196685</td>\n",
       "      <td>-0.160046</td>\n",
       "      <td>-0.144811</td>\n",
       "      <td>-0.009148</td>\n",
       "      <td>-0.030996</td>\n",
       "      <td>0.058468</td>\n",
       "      <td>0.068913</td>\n",
       "      <td>0.014279</td>\n",
       "      <td>-0.042154</td>\n",
       "      <td>-0.003265</td>\n",
       "    </tr>\n",
       "    <tr>\n",
       "      <th>chroma_cens_kurtosis_03</th>\n",
       "      <td>0.047314</td>\n",
       "      <td>0.090431</td>\n",
       "      <td>1.000000</td>\n",
       "      <td>0.136519</td>\n",
       "      <td>0.061075</td>\n",
       "      <td>0.036194</td>\n",
       "      <td>0.066842</td>\n",
       "      <td>0.076790</td>\n",
       "      <td>0.038855</td>\n",
       "      <td>0.053856</td>\n",
       "      <td>...</td>\n",
       "      <td>-0.025665</td>\n",
       "      <td>-0.013930</td>\n",
       "      <td>-0.002361</td>\n",
       "      <td>-0.008530</td>\n",
       "      <td>-0.020845</td>\n",
       "      <td>-0.005047</td>\n",
       "      <td>-0.002326</td>\n",
       "      <td>0.000930</td>\n",
       "      <td>-0.014647</td>\n",
       "      <td>-0.008898</td>\n",
       "    </tr>\n",
       "    <tr>\n",
       "      <th>chroma_cens_kurtosis_04</th>\n",
       "      <td>0.183893</td>\n",
       "      <td>0.294354</td>\n",
       "      <td>0.136519</td>\n",
       "      <td>1.000000</td>\n",
       "      <td>0.368300</td>\n",
       "      <td>0.221327</td>\n",
       "      <td>0.159154</td>\n",
       "      <td>0.143106</td>\n",
       "      <td>0.255472</td>\n",
       "      <td>0.125954</td>\n",
       "      <td>...</td>\n",
       "      <td>-0.241133</td>\n",
       "      <td>-0.190101</td>\n",
       "      <td>-0.178557</td>\n",
       "      <td>-0.022580</td>\n",
       "      <td>-0.017248</td>\n",
       "      <td>0.091038</td>\n",
       "      <td>0.100325</td>\n",
       "      <td>0.000624</td>\n",
       "      <td>-0.057835</td>\n",
       "      <td>0.012334</td>\n",
       "    </tr>\n",
       "    <tr>\n",
       "      <th>chroma_cens_kurtosis_05</th>\n",
       "      <td>0.216923</td>\n",
       "      <td>0.284165</td>\n",
       "      <td>0.061075</td>\n",
       "      <td>0.368300</td>\n",
       "      <td>1.000000</td>\n",
       "      <td>0.455206</td>\n",
       "      <td>0.199415</td>\n",
       "      <td>0.119762</td>\n",
       "      <td>0.196315</td>\n",
       "      <td>0.150748</td>\n",
       "      <td>...</td>\n",
       "      <td>-0.202567</td>\n",
       "      <td>-0.153066</td>\n",
       "      <td>-0.155795</td>\n",
       "      <td>-0.001363</td>\n",
       "      <td>-0.028221</td>\n",
       "      <td>0.035483</td>\n",
       "      <td>0.047916</td>\n",
       "      <td>-0.000837</td>\n",
       "      <td>-0.023603</td>\n",
       "      <td>-0.015832</td>\n",
       "    </tr>\n",
       "    <tr>\n",
       "      <th>...</th>\n",
       "      <td>...</td>\n",
       "      <td>...</td>\n",
       "      <td>...</td>\n",
       "      <td>...</td>\n",
       "      <td>...</td>\n",
       "      <td>...</td>\n",
       "      <td>...</td>\n",
       "      <td>...</td>\n",
       "      <td>...</td>\n",
       "      <td>...</td>\n",
       "      <td>...</td>\n",
       "      <td>...</td>\n",
       "      <td>...</td>\n",
       "      <td>...</td>\n",
       "      <td>...</td>\n",
       "      <td>...</td>\n",
       "      <td>...</td>\n",
       "      <td>...</td>\n",
       "      <td>...</td>\n",
       "      <td>...</td>\n",
       "      <td>...</td>\n",
       "    </tr>\n",
       "    <tr>\n",
       "      <th>zcr_mean_01</th>\n",
       "      <td>0.033587</td>\n",
       "      <td>0.058468</td>\n",
       "      <td>-0.005047</td>\n",
       "      <td>0.091038</td>\n",
       "      <td>0.035483</td>\n",
       "      <td>0.049332</td>\n",
       "      <td>0.044450</td>\n",
       "      <td>-0.000690</td>\n",
       "      <td>0.047863</td>\n",
       "      <td>0.024148</td>\n",
       "      <td>...</td>\n",
       "      <td>-0.335179</td>\n",
       "      <td>-0.359458</td>\n",
       "      <td>-0.357540</td>\n",
       "      <td>-0.235784</td>\n",
       "      <td>0.288176</td>\n",
       "      <td>1.000000</td>\n",
       "      <td>0.936524</td>\n",
       "      <td>0.260580</td>\n",
       "      <td>-0.366380</td>\n",
       "      <td>0.599569</td>\n",
       "    </tr>\n",
       "    <tr>\n",
       "      <th>zcr_median_01</th>\n",
       "      <td>0.045052</td>\n",
       "      <td>0.068913</td>\n",
       "      <td>-0.002326</td>\n",
       "      <td>0.100325</td>\n",
       "      <td>0.047916</td>\n",
       "      <td>0.053088</td>\n",
       "      <td>0.053866</td>\n",
       "      <td>0.008212</td>\n",
       "      <td>0.060986</td>\n",
       "      <td>0.029698</td>\n",
       "      <td>...</td>\n",
       "      <td>-0.324748</td>\n",
       "      <td>-0.349183</td>\n",
       "      <td>-0.353846</td>\n",
       "      <td>-0.196111</td>\n",
       "      <td>0.132330</td>\n",
       "      <td>0.936524</td>\n",
       "      <td>1.000000</td>\n",
       "      <td>0.314266</td>\n",
       "      <td>-0.362515</td>\n",
       "      <td>0.331326</td>\n",
       "    </tr>\n",
       "    <tr>\n",
       "      <th>zcr_min_01</th>\n",
       "      <td>-0.002953</td>\n",
       "      <td>0.014279</td>\n",
       "      <td>0.000930</td>\n",
       "      <td>0.000624</td>\n",
       "      <td>-0.000837</td>\n",
       "      <td>0.008904</td>\n",
       "      <td>0.037953</td>\n",
       "      <td>-0.001703</td>\n",
       "      <td>-0.010689</td>\n",
       "      <td>0.011585</td>\n",
       "      <td>...</td>\n",
       "      <td>-0.056512</td>\n",
       "      <td>-0.076998</td>\n",
       "      <td>-0.091982</td>\n",
       "      <td>0.042920</td>\n",
       "      <td>-0.014343</td>\n",
       "      <td>0.260580</td>\n",
       "      <td>0.314266</td>\n",
       "      <td>1.000000</td>\n",
       "      <td>0.007259</td>\n",
       "      <td>-0.047815</td>\n",
       "    </tr>\n",
       "    <tr>\n",
       "      <th>zcr_skew_01</th>\n",
       "      <td>-0.026875</td>\n",
       "      <td>-0.042154</td>\n",
       "      <td>-0.014647</td>\n",
       "      <td>-0.057835</td>\n",
       "      <td>-0.023603</td>\n",
       "      <td>-0.023223</td>\n",
       "      <td>-0.034288</td>\n",
       "      <td>-0.030090</td>\n",
       "      <td>-0.046899</td>\n",
       "      <td>-0.022305</td>\n",
       "      <td>...</td>\n",
       "      <td>0.243768</td>\n",
       "      <td>0.251667</td>\n",
       "      <td>0.258965</td>\n",
       "      <td>0.849865</td>\n",
       "      <td>0.478248</td>\n",
       "      <td>-0.366380</td>\n",
       "      <td>-0.362515</td>\n",
       "      <td>0.007259</td>\n",
       "      <td>1.000000</td>\n",
       "      <td>-0.012133</td>\n",
       "    </tr>\n",
       "    <tr>\n",
       "      <th>zcr_std_01</th>\n",
       "      <td>-0.009319</td>\n",
       "      <td>-0.003265</td>\n",
       "      <td>-0.008898</td>\n",
       "      <td>0.012334</td>\n",
       "      <td>-0.015832</td>\n",
       "      <td>0.007804</td>\n",
       "      <td>-0.009769</td>\n",
       "      <td>-0.022992</td>\n",
       "      <td>-0.009648</td>\n",
       "      <td>-0.000636</td>\n",
       "      <td>...</td>\n",
       "      <td>-0.145252</td>\n",
       "      <td>-0.161750</td>\n",
       "      <td>-0.139124</td>\n",
       "      <td>-0.120893</td>\n",
       "      <td>0.689577</td>\n",
       "      <td>0.599569</td>\n",
       "      <td>0.331326</td>\n",
       "      <td>-0.047815</td>\n",
       "      <td>-0.012133</td>\n",
       "      <td>1.000000</td>\n",
       "    </tr>\n",
       "  </tbody>\n",
       "</table>\n",
       "<p>518 rows × 518 columns</p>\n",
       "</div>"
      ],
      "text/plain": [
       "                         chroma_cens_kurtosis_01  chroma_cens_kurtosis_02  \\\n",
       "chroma_cens_kurtosis_01                 1.000000                 0.333799   \n",
       "chroma_cens_kurtosis_02                 0.333799                 1.000000   \n",
       "chroma_cens_kurtosis_03                 0.047314                 0.090431   \n",
       "chroma_cens_kurtosis_04                 0.183893                 0.294354   \n",
       "chroma_cens_kurtosis_05                 0.216923                 0.284165   \n",
       "...                                          ...                      ...   \n",
       "zcr_mean_01                             0.033587                 0.058468   \n",
       "zcr_median_01                           0.045052                 0.068913   \n",
       "zcr_min_01                             -0.002953                 0.014279   \n",
       "zcr_skew_01                            -0.026875                -0.042154   \n",
       "zcr_std_01                             -0.009319                -0.003265   \n",
       "\n",
       "                         chroma_cens_kurtosis_03  chroma_cens_kurtosis_04  \\\n",
       "chroma_cens_kurtosis_01                 0.047314                 0.183893   \n",
       "chroma_cens_kurtosis_02                 0.090431                 0.294354   \n",
       "chroma_cens_kurtosis_03                 1.000000                 0.136519   \n",
       "chroma_cens_kurtosis_04                 0.136519                 1.000000   \n",
       "chroma_cens_kurtosis_05                 0.061075                 0.368300   \n",
       "...                                          ...                      ...   \n",
       "zcr_mean_01                            -0.005047                 0.091038   \n",
       "zcr_median_01                          -0.002326                 0.100325   \n",
       "zcr_min_01                              0.000930                 0.000624   \n",
       "zcr_skew_01                            -0.014647                -0.057835   \n",
       "zcr_std_01                             -0.008898                 0.012334   \n",
       "\n",
       "                         chroma_cens_kurtosis_05  chroma_cens_kurtosis_06  \\\n",
       "chroma_cens_kurtosis_01                 0.216923                 0.209492   \n",
       "chroma_cens_kurtosis_02                 0.284165                 0.172308   \n",
       "chroma_cens_kurtosis_03                 0.061075                 0.036194   \n",
       "chroma_cens_kurtosis_04                 0.368300                 0.221327   \n",
       "chroma_cens_kurtosis_05                 1.000000                 0.455206   \n",
       "...                                          ...                      ...   \n",
       "zcr_mean_01                             0.035483                 0.049332   \n",
       "zcr_median_01                           0.047916                 0.053088   \n",
       "zcr_min_01                             -0.000837                 0.008904   \n",
       "zcr_skew_01                            -0.023603                -0.023223   \n",
       "zcr_std_01                             -0.015832                 0.007804   \n",
       "\n",
       "                         chroma_cens_kurtosis_07  chroma_cens_kurtosis_08  \\\n",
       "chroma_cens_kurtosis_01                 0.145475                 0.223332   \n",
       "chroma_cens_kurtosis_02                 0.139419                 0.178085   \n",
       "chroma_cens_kurtosis_03                 0.066842                 0.076790   \n",
       "chroma_cens_kurtosis_04                 0.159154                 0.143106   \n",
       "chroma_cens_kurtosis_05                 0.199415                 0.119762   \n",
       "...                                          ...                      ...   \n",
       "zcr_mean_01                             0.044450                -0.000690   \n",
       "zcr_median_01                           0.053866                 0.008212   \n",
       "zcr_min_01                              0.037953                -0.001703   \n",
       "zcr_skew_01                            -0.034288                -0.030090   \n",
       "zcr_std_01                             -0.009769                -0.022992   \n",
       "\n",
       "                         chroma_cens_kurtosis_09  chroma_cens_kurtosis_10  \\\n",
       "chroma_cens_kurtosis_01                 0.221560                 0.172495   \n",
       "chroma_cens_kurtosis_02                 0.320730                 0.167317   \n",
       "chroma_cens_kurtosis_03                 0.038855                 0.053856   \n",
       "chroma_cens_kurtosis_04                 0.255472                 0.125954   \n",
       "chroma_cens_kurtosis_05                 0.196315                 0.150748   \n",
       "...                                          ...                      ...   \n",
       "zcr_mean_01                             0.047863                 0.024148   \n",
       "zcr_median_01                           0.060986                 0.029698   \n",
       "zcr_min_01                             -0.010689                 0.011585   \n",
       "zcr_skew_01                            -0.046899                -0.022305   \n",
       "zcr_std_01                             -0.009648                -0.000636   \n",
       "\n",
       "                         ...  tonnetz_std_04  tonnetz_std_05  tonnetz_std_06  \\\n",
       "chroma_cens_kurtosis_01  ...       -0.182373       -0.151990       -0.136600   \n",
       "chroma_cens_kurtosis_02  ...       -0.196685       -0.160046       -0.144811   \n",
       "chroma_cens_kurtosis_03  ...       -0.025665       -0.013930       -0.002361   \n",
       "chroma_cens_kurtosis_04  ...       -0.241133       -0.190101       -0.178557   \n",
       "chroma_cens_kurtosis_05  ...       -0.202567       -0.153066       -0.155795   \n",
       "...                      ...             ...             ...             ...   \n",
       "zcr_mean_01              ...       -0.335179       -0.359458       -0.357540   \n",
       "zcr_median_01            ...       -0.324748       -0.349183       -0.353846   \n",
       "zcr_min_01               ...       -0.056512       -0.076998       -0.091982   \n",
       "zcr_skew_01              ...        0.243768        0.251667        0.258965   \n",
       "zcr_std_01               ...       -0.145252       -0.161750       -0.139124   \n",
       "\n",
       "                         zcr_kurtosis_01  zcr_max_01  zcr_mean_01  \\\n",
       "chroma_cens_kurtosis_01        -0.008573   -0.028872     0.033587   \n",
       "chroma_cens_kurtosis_02        -0.009148   -0.030996     0.058468   \n",
       "chroma_cens_kurtosis_03        -0.008530   -0.020845    -0.005047   \n",
       "chroma_cens_kurtosis_04        -0.022580   -0.017248     0.091038   \n",
       "chroma_cens_kurtosis_05        -0.001363   -0.028221     0.035483   \n",
       "...                                  ...         ...          ...   \n",
       "zcr_mean_01                    -0.235784    0.288176     1.000000   \n",
       "zcr_median_01                  -0.196111    0.132330     0.936524   \n",
       "zcr_min_01                      0.042920   -0.014343     0.260580   \n",
       "zcr_skew_01                     0.849865    0.478248    -0.366380   \n",
       "zcr_std_01                     -0.120893    0.689577     0.599569   \n",
       "\n",
       "                         zcr_median_01  zcr_min_01  zcr_skew_01  zcr_std_01  \n",
       "chroma_cens_kurtosis_01       0.045052   -0.002953    -0.026875   -0.009319  \n",
       "chroma_cens_kurtosis_02       0.068913    0.014279    -0.042154   -0.003265  \n",
       "chroma_cens_kurtosis_03      -0.002326    0.000930    -0.014647   -0.008898  \n",
       "chroma_cens_kurtosis_04       0.100325    0.000624    -0.057835    0.012334  \n",
       "chroma_cens_kurtosis_05       0.047916   -0.000837    -0.023603   -0.015832  \n",
       "...                                ...         ...          ...         ...  \n",
       "zcr_mean_01                   0.936524    0.260580    -0.366380    0.599569  \n",
       "zcr_median_01                 1.000000    0.314266    -0.362515    0.331326  \n",
       "zcr_min_01                    0.314266    1.000000     0.007259   -0.047815  \n",
       "zcr_skew_01                  -0.362515    0.007259     1.000000   -0.012133  \n",
       "zcr_std_01                    0.331326   -0.047815    -0.012133    1.000000  \n",
       "\n",
       "[518 rows x 518 columns]"
      ]
     },
     "execution_count": 40,
     "metadata": {},
     "output_type": "execute_result"
    }
   ],
   "source": [
    "corr"
   ]
  },
  {
   "cell_type": "code",
   "execution_count": 56,
   "id": "1afb24ac",
   "metadata": {},
   "outputs": [
    {
     "data": {
      "text/plain": [
       "268324"
      ]
     },
     "execution_count": 56,
     "metadata": {},
     "output_type": "execute_result"
    }
   ],
   "source": [
    "len(np.triu(corr).flatten())"
   ]
  },
  {
   "cell_type": "code",
   "execution_count": 66,
   "id": "6f2dbd7d",
   "metadata": {
    "ExecuteTime": {
     "end_time": "2021-06-24T20:31:13.313090Z",
     "start_time": "2021-06-24T20:31:13.237076Z"
    }
   },
   "outputs": [
    {
     "data": {
      "text/plain": [
       "0.9955111394165266"
      ]
     },
     "execution_count": 66,
     "metadata": {},
     "output_type": "execute_result"
    }
   ],
   "source": [
    "corr_values = [value for value in np.triu(corr).flatten() if (value != 1) and (value != 0)]\n",
    "max(corr_values)"
   ]
  },
  {
   "cell_type": "code",
   "execution_count": 68,
   "id": "3cd54849",
   "metadata": {},
   "outputs": [],
   "source": [
    "for value in corr_values:\n",
    "    if value == 0:\n",
    "        print('its a 0')"
   ]
  },
  {
   "cell_type": "code",
   "execution_count": 70,
   "id": "d9795402",
   "metadata": {
    "ExecuteTime": {
     "end_time": "2021-06-24T20:31:14.460288Z",
     "start_time": "2021-06-24T20:31:13.314590Z"
    }
   },
   "outputs": [
    {
     "data": {
      "image/png": "[encoded data removed]",
      "text/plain": [
       "<Figure size 1080x720 with 1 Axes>"
      ]
     },
     "metadata": {
      "needs_background": "light"
     },
     "output_type": "display_data"
    }
   ],
   "source": [
    "plt.figure(figsize = (15,10))\n",
    "plt.hist(corr_values, bins=200);"
   ]
  },
  {
   "cell_type": "markdown",
   "id": "6f2671d0",
   "metadata": {},
   "source": [
    "## Free Lunch Analysis"
   ]
  },
  {
   "cell_type": "code",
   "execution_count": 23,
   "id": "d191af2e",
   "metadata": {
    "ExecuteTime": {
     "end_time": "2021-06-24T20:31:15.219920Z",
     "start_time": "2021-06-24T20:31:15.175912Z"
    }
   },
   "outputs": [],
   "source": [
    "X = df.drop(columns=track_metadata)\n",
    "y = df['track_genre_top']\n",
    "\n",
    "X_train, X_test, y_train, y_test = train_test_split(X, y, stratify=y,\n",
    "                                                   random_state=42)"
   ]
  },
  {
   "cell_type": "code",
   "execution_count": 24,
   "id": "eed271ce",
   "metadata": {
    "ExecuteTime": {
     "end_time": "2021-06-24T20:31:15.313004Z",
     "start_time": "2021-06-24T20:31:15.221420Z"
    }
   },
   "outputs": [],
   "source": [
    "ss = StandardScaler()\n",
    "ss.fit(X_train)\n",
    "X_train_sc = ss.transform(X_train)\n",
    "X_test_sc = ss.transform(X_test)"
   ]
  },
  {
   "cell_type": "code",
   "execution_count": 24,
   "id": "c650d9c6",
   "metadata": {
    "ExecuteTime": {
     "end_time": "2021-06-24T13:38:37.359353Z",
     "start_time": "2021-06-24T13:38:14.789322Z"
    }
   },
   "outputs": [
    {
     "data": {
      "text/plain": [
       "(0.4185, 0.44416666666666665)"
      ]
     },
     "execution_count": 24,
     "metadata": {},
     "output_type": "execute_result"
    }
   ],
   "source": [
    "forest = RandomForestClassifier(max_depth = 3, n_estimators = 1000)\n",
    "forest.fit(X_train_sc, y_train)\n",
    "forest.score(X_test_sc, y_test), forest.score(X_train_sc, y_train)"
   ]
  },
  {
   "cell_type": "code",
   "execution_count": 25,
   "id": "e28ba425",
   "metadata": {
    "ExecuteTime": {
     "end_time": "2021-06-24T13:38:37.374856Z",
     "start_time": "2021-06-24T13:38:37.360353Z"
    }
   },
   "outputs": [
    {
     "data": {
      "text/plain": [
       "(6000, 518)"
      ]
     },
     "execution_count": 25,
     "metadata": {},
     "output_type": "execute_result"
    }
   ],
   "source": [
    "X_train.shape"
   ]
  },
  {
   "cell_type": "code",
   "execution_count": 26,
   "id": "288eaff3",
   "metadata": {
    "ExecuteTime": {
     "end_time": "2021-06-24T13:38:37.390359Z",
     "start_time": "2021-06-24T13:38:37.376356Z"
    }
   },
   "outputs": [
    {
     "data": {
      "text/plain": [
       "Electronic             0.125\n",
       "Experimental           0.125\n",
       "Folk                   0.125\n",
       "Hip-Hop                0.125\n",
       "Instrumental           0.125\n",
       "International          0.125\n",
       "Pop                    0.125\n",
       "Rock                   0.125\n",
       "Blues                  0.000\n",
       "Classical              0.000\n",
       "Country                0.000\n",
       "Easy Listening         0.000\n",
       "Jazz                   0.000\n",
       "Old-Time / Historic    0.000\n",
       "Soul-RnB               0.000\n",
       "Spoken                 0.000\n",
       "Name: track_genre_top, dtype: float64"
      ]
     },
     "execution_count": 26,
     "metadata": {},
     "output_type": "execute_result"
    }
   ],
   "source": [
    "y_train.value_counts(normalize=True)"
   ]
  },
  {
   "cell_type": "code",
   "execution_count": 27,
   "id": "5240a96d",
   "metadata": {
    "ExecuteTime": {
     "end_time": "2021-06-24T13:38:37.421365Z",
     "start_time": "2021-06-24T13:38:37.391859Z"
    }
   },
   "outputs": [
    {
     "data": {
      "text/html": [
       "<div>\n",
       "<style scoped>\n",
       "    .dataframe tbody tr th:only-of-type {\n",
       "        vertical-align: middle;\n",
       "    }\n",
       "\n",
       "    .dataframe tbody tr th {\n",
       "        vertical-align: top;\n",
       "    }\n",
       "\n",
       "    .dataframe thead th {\n",
       "        text-align: right;\n",
       "    }\n",
       "</style>\n",
       "<table border=\"1\" class=\"dataframe\">\n",
       "  <thead>\n",
       "    <tr style=\"text-align: right;\">\n",
       "      <th></th>\n",
       "      <th>chroma_cens_kurtosis_01</th>\n",
       "      <th>chroma_cens_kurtosis_02</th>\n",
       "      <th>chroma_cens_kurtosis_03</th>\n",
       "      <th>chroma_cens_kurtosis_04</th>\n",
       "      <th>chroma_cens_kurtosis_05</th>\n",
       "      <th>chroma_cens_kurtosis_06</th>\n",
       "      <th>chroma_cens_kurtosis_07</th>\n",
       "      <th>chroma_cens_kurtosis_08</th>\n",
       "      <th>chroma_cens_kurtosis_09</th>\n",
       "      <th>chroma_cens_kurtosis_10</th>\n",
       "      <th>...</th>\n",
       "      <th>tonnetz_std_04</th>\n",
       "      <th>tonnetz_std_05</th>\n",
       "      <th>tonnetz_std_06</th>\n",
       "      <th>zcr_kurtosis_01</th>\n",
       "      <th>zcr_max_01</th>\n",
       "      <th>zcr_mean_01</th>\n",
       "      <th>zcr_median_01</th>\n",
       "      <th>zcr_min_01</th>\n",
       "      <th>zcr_skew_01</th>\n",
       "      <th>zcr_std_01</th>\n",
       "    </tr>\n",
       "    <tr>\n",
       "      <th>track_id</th>\n",
       "      <th></th>\n",
       "      <th></th>\n",
       "      <th></th>\n",
       "      <th></th>\n",
       "      <th></th>\n",
       "      <th></th>\n",
       "      <th></th>\n",
       "      <th></th>\n",
       "      <th></th>\n",
       "      <th></th>\n",
       "      <th></th>\n",
       "      <th></th>\n",
       "      <th></th>\n",
       "      <th></th>\n",
       "      <th></th>\n",
       "      <th></th>\n",
       "      <th></th>\n",
       "      <th></th>\n",
       "      <th></th>\n",
       "      <th></th>\n",
       "      <th></th>\n",
       "    </tr>\n",
       "  </thead>\n",
       "  <tbody>\n",
       "    <tr>\n",
       "      <th>13201</th>\n",
       "      <td>0.420879</td>\n",
       "      <td>-0.822415</td>\n",
       "      <td>-0.853196</td>\n",
       "      <td>0.464956</td>\n",
       "      <td>3.814499</td>\n",
       "      <td>0.425468</td>\n",
       "      <td>-0.947115</td>\n",
       "      <td>-1.060195</td>\n",
       "      <td>-0.475784</td>\n",
       "      <td>-0.689962</td>\n",
       "      <td>...</td>\n",
       "      <td>0.105723</td>\n",
       "      <td>0.018722</td>\n",
       "      <td>0.019031</td>\n",
       "      <td>12.586129</td>\n",
       "      <td>0.429199</td>\n",
       "      <td>0.062467</td>\n",
       "      <td>0.055664</td>\n",
       "      <td>0.0</td>\n",
       "      <td>2.446809</td>\n",
       "      <td>0.045005</td>\n",
       "    </tr>\n",
       "    <tr>\n",
       "      <th>112585</th>\n",
       "      <td>-0.672624</td>\n",
       "      <td>-0.335451</td>\n",
       "      <td>-0.110136</td>\n",
       "      <td>-0.218467</td>\n",
       "      <td>0.169417</td>\n",
       "      <td>0.010902</td>\n",
       "      <td>0.672023</td>\n",
       "      <td>0.139868</td>\n",
       "      <td>-0.694096</td>\n",
       "      <td>-0.767099</td>\n",
       "      <td>...</td>\n",
       "      <td>0.058745</td>\n",
       "      <td>0.017428</td>\n",
       "      <td>0.017723</td>\n",
       "      <td>7.194702</td>\n",
       "      <td>0.481934</td>\n",
       "      <td>0.076092</td>\n",
       "      <td>0.059570</td>\n",
       "      <td>0.0</td>\n",
       "      <td>2.291025</td>\n",
       "      <td>0.060461</td>\n",
       "    </tr>\n",
       "    <tr>\n",
       "      <th>119979</th>\n",
       "      <td>-0.876021</td>\n",
       "      <td>-0.795852</td>\n",
       "      <td>-0.918822</td>\n",
       "      <td>-1.041375</td>\n",
       "      <td>-0.998280</td>\n",
       "      <td>-0.886390</td>\n",
       "      <td>-0.382970</td>\n",
       "      <td>0.392757</td>\n",
       "      <td>-0.258268</td>\n",
       "      <td>-0.598918</td>\n",
       "      <td>...</td>\n",
       "      <td>0.047526</td>\n",
       "      <td>0.016716</td>\n",
       "      <td>0.010916</td>\n",
       "      <td>3.456737</td>\n",
       "      <td>0.495117</td>\n",
       "      <td>0.079870</td>\n",
       "      <td>0.044922</td>\n",
       "      <td>0.0</td>\n",
       "      <td>1.957966</td>\n",
       "      <td>0.101695</td>\n",
       "    </tr>\n",
       "    <tr>\n",
       "      <th>60331</th>\n",
       "      <td>11.559152</td>\n",
       "      <td>12.706867</td>\n",
       "      <td>-1.306750</td>\n",
       "      <td>-1.148779</td>\n",
       "      <td>-1.239072</td>\n",
       "      <td>2.460004</td>\n",
       "      <td>3.498828</td>\n",
       "      <td>5.826253</td>\n",
       "      <td>8.835379</td>\n",
       "      <td>13.576900</td>\n",
       "      <td>...</td>\n",
       "      <td>0.087272</td>\n",
       "      <td>0.020342</td>\n",
       "      <td>0.013623</td>\n",
       "      <td>-0.644161</td>\n",
       "      <td>0.343262</td>\n",
       "      <td>0.085409</td>\n",
       "      <td>0.095215</td>\n",
       "      <td>0.0</td>\n",
       "      <td>0.038523</td>\n",
       "      <td>0.058724</td>\n",
       "    </tr>\n",
       "    <tr>\n",
       "      <th>113260</th>\n",
       "      <td>-0.768486</td>\n",
       "      <td>-0.760685</td>\n",
       "      <td>0.382141</td>\n",
       "      <td>-0.374696</td>\n",
       "      <td>-0.447805</td>\n",
       "      <td>-1.324002</td>\n",
       "      <td>-0.983642</td>\n",
       "      <td>0.612836</td>\n",
       "      <td>-0.132008</td>\n",
       "      <td>-0.511389</td>\n",
       "      <td>...</td>\n",
       "      <td>0.125314</td>\n",
       "      <td>0.028787</td>\n",
       "      <td>0.028133</td>\n",
       "      <td>8.704784</td>\n",
       "      <td>0.206055</td>\n",
       "      <td>0.034916</td>\n",
       "      <td>0.029297</td>\n",
       "      <td>0.0</td>\n",
       "      <td>2.401070</td>\n",
       "      <td>0.024702</td>\n",
       "    </tr>\n",
       "  </tbody>\n",
       "</table>\n",
       "<p>5 rows × 518 columns</p>\n",
       "</div>"
      ],
      "text/plain": [
       "          chroma_cens_kurtosis_01  chroma_cens_kurtosis_02  \\\n",
       "track_id                                                     \n",
       "13201                    0.420879                -0.822415   \n",
       "112585                  -0.672624                -0.335451   \n",
       "119979                  -0.876021                -0.795852   \n",
       "60331                   11.559152                12.706867   \n",
       "113260                  -0.768486                -0.760685   \n",
       "\n",
       "          chroma_cens_kurtosis_03  chroma_cens_kurtosis_04  \\\n",
       "track_id                                                     \n",
       "13201                   -0.853196                 0.464956   \n",
       "112585                  -0.110136                -0.218467   \n",
       "119979                  -0.918822                -1.041375   \n",
       "60331                   -1.306750                -1.148779   \n",
       "113260                   0.382141                -0.374696   \n",
       "\n",
       "          chroma_cens_kurtosis_05  chroma_cens_kurtosis_06  \\\n",
       "track_id                                                     \n",
       "13201                    3.814499                 0.425468   \n",
       "112585                   0.169417                 0.010902   \n",
       "119979                  -0.998280                -0.886390   \n",
       "60331                   -1.239072                 2.460004   \n",
       "113260                  -0.447805                -1.324002   \n",
       "\n",
       "          chroma_cens_kurtosis_07  chroma_cens_kurtosis_08  \\\n",
       "track_id                                                     \n",
       "13201                   -0.947115                -1.060195   \n",
       "112585                   0.672023                 0.139868   \n",
       "119979                  -0.382970                 0.392757   \n",
       "60331                    3.498828                 5.826253   \n",
       "113260                  -0.983642                 0.612836   \n",
       "\n",
       "          chroma_cens_kurtosis_09  chroma_cens_kurtosis_10  ...  \\\n",
       "track_id                                                    ...   \n",
       "13201                   -0.475784                -0.689962  ...   \n",
       "112585                  -0.694096                -0.767099  ...   \n",
       "119979                  -0.258268                -0.598918  ...   \n",
       "60331                    8.835379                13.576900  ...   \n",
       "113260                  -0.132008                -0.511389  ...   \n",
       "\n",
       "          tonnetz_std_04  tonnetz_std_05  tonnetz_std_06  zcr_kurtosis_01  \\\n",
       "track_id                                                                    \n",
       "13201           0.105723        0.018722        0.019031        12.586129   \n",
       "112585          0.058745        0.017428        0.017723         7.194702   \n",
       "119979          0.047526        0.016716        0.010916         3.456737   \n",
       "60331           0.087272        0.020342        0.013623        -0.644161   \n",
       "113260          0.125314        0.028787        0.028133         8.704784   \n",
       "\n",
       "          zcr_max_01  zcr_mean_01  zcr_median_01  zcr_min_01  zcr_skew_01  \\\n",
       "track_id                                                                    \n",
       "13201       0.429199     0.062467       0.055664         0.0     2.446809   \n",
       "112585      0.481934     0.076092       0.059570         0.0     2.291025   \n",
       "119979      0.495117     0.079870       0.044922         0.0     1.957966   \n",
       "60331       0.343262     0.085409       0.095215         0.0     0.038523   \n",
       "113260      0.206055     0.034916       0.029297         0.0     2.401070   \n",
       "\n",
       "          zcr_std_01  \n",
       "track_id              \n",
       "13201       0.045005  \n",
       "112585      0.060461  \n",
       "119979      0.101695  \n",
       "60331       0.058724  \n",
       "113260      0.024702  \n",
       "\n",
       "[5 rows x 518 columns]"
      ]
     },
     "execution_count": 27,
     "metadata": {},
     "output_type": "execute_result"
    }
   ],
   "source": [
    "X_train.head()"
   ]
  },
  {
   "cell_type": "code",
   "execution_count": 28,
   "id": "56047bb3",
   "metadata": {
    "ExecuteTime": {
     "end_time": "2021-06-24T13:38:37.436866Z",
     "start_time": "2021-06-24T13:38:37.422864Z"
    }
   },
   "outputs": [
    {
     "data": {
      "text/plain": [
       "22.759613353482084"
      ]
     },
     "execution_count": 28,
     "metadata": {},
     "output_type": "execute_result"
    }
   ],
   "source": [
    "518**.5"
   ]
  },
  {
   "cell_type": "code",
   "execution_count": 29,
   "id": "479d678d",
   "metadata": {
    "ExecuteTime": {
     "end_time": "2021-06-24T13:40:38.450328Z",
     "start_time": "2021-06-24T13:38:37.438366Z"
    }
   },
   "outputs": [
    {
     "name": "stdout",
     "output_type": "stream",
     "text": [
      "      Iter       Train Loss   Remaining Time \n",
      "         1           2.0794            2.05m\n",
      "         2           2.0793            2.02m\n",
      "         3           2.0792            2.00m\n",
      "         4           2.0791            1.99m\n",
      "         5           2.0790            1.98m\n",
      "         6           2.0789            1.98m\n",
      "         7           2.0788            1.97m\n",
      "         8           2.0787            1.96m\n",
      "         9           2.0786            1.96m\n",
      "        10           2.0785            1.96m\n",
      "        20           2.0776            1.92m\n",
      "        30           2.0766            1.88m\n",
      "        40           2.0756            1.84m\n",
      "        50           2.0747            1.80m\n",
      "        60           2.0737            1.76m\n",
      "        70           2.0728            1.72m\n",
      "        80           2.0719            1.68m\n",
      "        90           2.0709            1.64m\n",
      "       100           2.0700            1.60m\n",
      "       200           2.0607            1.20m\n",
      "       300           2.0518           48.15s\n",
      "       400           2.0429           24.07s\n",
      "       500           2.0341            0.00s\n"
     ]
    },
    {
     "data": {
      "text/plain": [
       "(0.464, 0.5426666666666666)"
      ]
     },
     "execution_count": 29,
     "metadata": {},
     "output_type": "execute_result"
    }
   ],
   "source": [
    "gbm = GradientBoostingClassifier(min_samples_split = 10, subsample = 1,\n",
    "                                 max_features = 'sqrt', n_iter_no_change = 5,\n",
    "                                 n_estimators = 500, learning_rate = .0001,\n",
    "                                 tol = .0001, verbose=1)\n",
    "gbm.fit(X_train, y_train)\n",
    "gbm.score(X_test, y_test), gbm.score(X_train, y_train)"
   ]
  },
  {
   "cell_type": "code",
   "execution_count": 30,
   "id": "8207ac92",
   "metadata": {
    "ExecuteTime": {
     "end_time": "2021-06-24T13:40:38.605356Z",
     "start_time": "2021-06-24T13:40:38.452329Z"
    }
   },
   "outputs": [
    {
     "data": {
      "text/plain": [
       "0.464"
      ]
     },
     "execution_count": 30,
     "metadata": {},
     "output_type": "execute_result"
    }
   ],
   "source": [
    "(gbm.predict(X_test) == y_test).mean()"
   ]
  },
  {
   "cell_type": "code",
   "execution_count": 31,
   "id": "39c72d08",
   "metadata": {
    "ExecuteTime": {
     "end_time": "2021-06-24T13:43:06.064884Z",
     "start_time": "2021-06-24T13:40:38.606355Z"
    }
   },
   "outputs": [
    {
     "name": "stderr",
     "output_type": "stream",
     "text": [
      "C:\\Users\\098uy\\anaconda3\\envs\\audio_project\\lib\\site-packages\\sklearn\\linear_model\\_sag.py:328: ConvergenceWarning: The max_iter was reached which means the coef_ did not converge\n",
      "  warnings.warn(\"The max_iter was reached which means \"\n"
     ]
    },
    {
     "data": {
      "text/plain": [
       "LogisticRegression(C=0.01, max_iter=1000, penalty='l1', solver='saga')"
      ]
     },
     "execution_count": 31,
     "metadata": {},
     "output_type": "execute_result"
    }
   ],
   "source": [
    "lr = LogisticRegression(penalty = 'l1', solver = 'saga', C = .01, max_iter = 1000)\n",
    "lr.fit(X_train_sc, y_train)"
   ]
  },
  {
   "cell_type": "code",
   "execution_count": 32,
   "id": "ddb256e0",
   "metadata": {
    "ExecuteTime": {
     "end_time": "2021-06-24T13:43:06.095389Z",
     "start_time": "2021-06-24T13:43:06.066384Z"
    }
   },
   "outputs": [
    {
     "data": {
      "text/plain": [
       "(0.5175, 0.5245)"
      ]
     },
     "execution_count": 32,
     "metadata": {},
     "output_type": "execute_result"
    }
   ],
   "source": [
    "lr.score(X_test_sc, y_test), lr.score(X_train_sc, y_train)"
   ]
  },
  {
   "cell_type": "code",
   "execution_count": 33,
   "id": "369012f2",
   "metadata": {
    "ExecuteTime": {
     "end_time": "2021-06-24T13:43:06.110892Z",
     "start_time": "2021-06-24T13:43:06.096389Z"
    },
    "scrolled": true
   },
   "outputs": [
    {
     "data": {
      "text/plain": [
       "22.759613353482084"
      ]
     },
     "execution_count": 33,
     "metadata": {},
     "output_type": "execute_result"
    }
   ],
   "source": [
    "518**.5"
   ]
  },
  {
   "cell_type": "code",
   "execution_count": 34,
   "id": "24db8fdd",
   "metadata": {
    "ExecuteTime": {
     "end_time": "2021-06-24T13:43:06.327929Z",
     "start_time": "2021-06-24T13:43:06.112392Z"
    }
   },
   "outputs": [
    {
     "data": {
      "text/plain": [
       "PCA()"
      ]
     },
     "execution_count": 34,
     "metadata": {},
     "output_type": "execute_result"
    }
   ],
   "source": [
    "pca = PCA()\n",
    "pca.fit(X_train_sc)"
   ]
  },
  {
   "cell_type": "code",
   "execution_count": 35,
   "id": "c6c6127c",
   "metadata": {
    "ExecuteTime": {
     "end_time": "2021-06-24T13:43:06.343432Z",
     "start_time": "2021-06-24T13:43:06.329429Z"
    }
   },
   "outputs": [
    {
     "data": {
      "text/plain": [
       "0.8402800000000001"
      ]
     },
     "execution_count": 35,
     "metadata": {},
     "output_type": "execute_result"
    }
   ],
   "source": [
    "sum([round(val, 5) for val in pca.explained_variance_ratio_][:100])"
   ]
  },
  {
   "cell_type": "code",
   "execution_count": 36,
   "id": "076ac1c9",
   "metadata": {
    "ExecuteTime": {
     "end_time": "2021-06-24T13:43:06.358934Z",
     "start_time": "2021-06-24T13:43:06.344932Z"
    }
   },
   "outputs": [
    {
     "data": {
      "text/plain": [
       "6000"
      ]
     },
     "execution_count": 36,
     "metadata": {},
     "output_type": "execute_result"
    }
   ],
   "source": [
    "len(X_train)"
   ]
  },
  {
   "cell_type": "code",
   "execution_count": 37,
   "id": "c222d28f",
   "metadata": {
    "ExecuteTime": {
     "end_time": "2021-06-24T13:43:06.374437Z",
     "start_time": "2021-06-24T13:43:06.360935Z"
    }
   },
   "outputs": [
    {
     "data": {
      "text/plain": [
       "77.45966692414834"
      ]
     },
     "execution_count": 37,
     "metadata": {},
     "output_type": "execute_result"
    }
   ],
   "source": [
    "6000**.5"
   ]
  },
  {
   "cell_type": "code",
   "execution_count": 38,
   "id": "f229d409",
   "metadata": {
    "ExecuteTime": {
     "end_time": "2021-06-24T13:43:06.591474Z",
     "start_time": "2021-06-24T13:43:06.375438Z"
    }
   },
   "outputs": [
    {
     "data": {
      "text/plain": [
       "PCA(n_components=518)"
      ]
     },
     "execution_count": 38,
     "metadata": {},
     "output_type": "execute_result"
    }
   ],
   "source": [
    "pca = PCA(518)\n",
    "pca.fit(X_train_sc)"
   ]
  },
  {
   "cell_type": "code",
   "execution_count": 39,
   "id": "1b80c983",
   "metadata": {
    "ExecuteTime": {
     "end_time": "2021-06-24T13:43:06.668988Z",
     "start_time": "2021-06-24T13:43:06.592975Z"
    }
   },
   "outputs": [],
   "source": [
    "X_train_pca = pd.DataFrame(pca.transform(X_train_sc))\n",
    "X_test_pca = pd.DataFrame(pca.transform(X_test_sc))"
   ]
  },
  {
   "cell_type": "code",
   "execution_count": 40,
   "id": "e9357484",
   "metadata": {
    "ExecuteTime": {
     "end_time": "2021-06-24T13:43:32.697497Z",
     "start_time": "2021-06-24T13:43:06.669989Z"
    }
   },
   "outputs": [
    {
     "data": {
      "text/plain": [
       "(0.4725, 0.5315)"
      ]
     },
     "execution_count": 40,
     "metadata": {},
     "output_type": "execute_result"
    }
   ],
   "source": [
    "forest = RandomForestClassifier(max_depth = 3, n_estimators = 1000)\n",
    "forest.fit(X_train_pca, y_train)\n",
    "forest.score(X_test_pca, y_test), forest.score(X_train_pca, y_train)"
   ]
  },
  {
   "cell_type": "code",
   "execution_count": 102,
   "id": "af4fb47a",
   "metadata": {
    "ExecuteTime": {
     "end_time": "2021-06-24T14:03:01.594763Z",
     "start_time": "2021-06-24T14:03:00.329544Z"
    }
   },
   "outputs": [
    {
     "data": {
      "text/plain": [
       "LogisticRegression(C=0.01, max_iter=2000, solver='newton-cg')"
      ]
     },
     "execution_count": 102,
     "metadata": {},
     "output_type": "execute_result"
    }
   ],
   "source": [
    "lr = LogisticRegression(penalty = 'l2', solver = 'newton-cg', C = .01,\n",
    "                        max_iter = 2000)\n",
    "lr.fit(X_train_pca, y_train)"
   ]
  },
  {
   "cell_type": "code",
   "execution_count": 103,
   "id": "0c243870",
   "metadata": {
    "ExecuteTime": {
     "end_time": "2021-06-24T14:03:03.073034Z",
     "start_time": "2021-06-24T14:03:03.047530Z"
    }
   },
   "outputs": [
    {
     "data": {
      "text/plain": [
       "(0.576, 0.6773333333333333)"
      ]
     },
     "execution_count": 103,
     "metadata": {},
     "output_type": "execute_result"
    }
   ],
   "source": [
    "lr.score(X_test_pca, y_test), lr.score(X_train_pca, y_train)"
   ]
  },
  {
   "cell_type": "code",
   "execution_count": 43,
   "id": "dbd207f7",
   "metadata": {
    "ExecuteTime": {
     "end_time": "2021-06-24T13:43:37.627351Z",
     "start_time": "2021-06-24T13:43:35.210432Z"
    },
    "scrolled": true
   },
   "outputs": [
    {
     "data": {
      "text/html": [
       "<div>\n",
       "<style scoped>\n",
       "    .dataframe tbody tr th:only-of-type {\n",
       "        vertical-align: middle;\n",
       "    }\n",
       "\n",
       "    .dataframe tbody tr th {\n",
       "        vertical-align: top;\n",
       "    }\n",
       "\n",
       "    .dataframe thead th {\n",
       "        text-align: right;\n",
       "    }\n",
       "</style>\n",
       "<table border=\"1\" class=\"dataframe\">\n",
       "  <thead>\n",
       "    <tr style=\"text-align: right;\">\n",
       "      <th></th>\n",
       "      <th>0</th>\n",
       "      <th>1</th>\n",
       "      <th>2</th>\n",
       "      <th>3</th>\n",
       "      <th>4</th>\n",
       "      <th>5</th>\n",
       "      <th>6</th>\n",
       "      <th>7</th>\n",
       "      <th>8</th>\n",
       "      <th>9</th>\n",
       "      <th>...</th>\n",
       "      <th>508</th>\n",
       "      <th>509</th>\n",
       "      <th>510</th>\n",
       "      <th>511</th>\n",
       "      <th>512</th>\n",
       "      <th>513</th>\n",
       "      <th>514</th>\n",
       "      <th>515</th>\n",
       "      <th>516</th>\n",
       "      <th>517</th>\n",
       "    </tr>\n",
       "  </thead>\n",
       "  <tbody>\n",
       "    <tr>\n",
       "      <th>0</th>\n",
       "      <td>1.000000e+00</td>\n",
       "      <td>4.995281e-16</td>\n",
       "      <td>-3.041345e-16</td>\n",
       "      <td>-1.466973e-16</td>\n",
       "      <td>-7.664502e-17</td>\n",
       "      <td>2.597042e-16</td>\n",
       "      <td>-2.250543e-16</td>\n",
       "      <td>8.029899e-16</td>\n",
       "      <td>-3.179501e-16</td>\n",
       "      <td>1.233572e-16</td>\n",
       "      <td>...</td>\n",
       "      <td>5.619843e-15</td>\n",
       "      <td>-6.676267e-15</td>\n",
       "      <td>-1.041811e-14</td>\n",
       "      <td>-2.346798e-15</td>\n",
       "      <td>8.963992e-15</td>\n",
       "      <td>2.425589e-14</td>\n",
       "      <td>1.260467e-14</td>\n",
       "      <td>-1.252784e-14</td>\n",
       "      <td>1.904827e-14</td>\n",
       "      <td>7.207174e-14</td>\n",
       "    </tr>\n",
       "    <tr>\n",
       "      <th>1</th>\n",
       "      <td>4.995281e-16</td>\n",
       "      <td>1.000000e+00</td>\n",
       "      <td>-3.557283e-18</td>\n",
       "      <td>2.101589e-16</td>\n",
       "      <td>6.801712e-16</td>\n",
       "      <td>-2.083903e-16</td>\n",
       "      <td>6.521918e-16</td>\n",
       "      <td>-1.111631e-16</td>\n",
       "      <td>-2.021850e-16</td>\n",
       "      <td>-5.891550e-16</td>\n",
       "      <td>...</td>\n",
       "      <td>6.666928e-15</td>\n",
       "      <td>-8.049482e-15</td>\n",
       "      <td>-2.867763e-15</td>\n",
       "      <td>-1.376164e-14</td>\n",
       "      <td>-3.214601e-15</td>\n",
       "      <td>-7.518697e-16</td>\n",
       "      <td>5.218965e-15</td>\n",
       "      <td>6.230426e-16</td>\n",
       "      <td>1.954364e-14</td>\n",
       "      <td>3.306586e-14</td>\n",
       "    </tr>\n",
       "    <tr>\n",
       "      <th>2</th>\n",
       "      <td>-3.041345e-16</td>\n",
       "      <td>-3.557283e-18</td>\n",
       "      <td>1.000000e+00</td>\n",
       "      <td>5.980546e-16</td>\n",
       "      <td>-4.345650e-16</td>\n",
       "      <td>7.153779e-17</td>\n",
       "      <td>-2.573860e-16</td>\n",
       "      <td>2.582907e-16</td>\n",
       "      <td>8.487840e-17</td>\n",
       "      <td>-3.186525e-16</td>\n",
       "      <td>...</td>\n",
       "      <td>-2.136582e-16</td>\n",
       "      <td>-3.605645e-15</td>\n",
       "      <td>4.228766e-15</td>\n",
       "      <td>-3.897161e-15</td>\n",
       "      <td>-4.323327e-15</td>\n",
       "      <td>-2.208224e-14</td>\n",
       "      <td>8.315001e-15</td>\n",
       "      <td>5.024832e-15</td>\n",
       "      <td>1.694331e-14</td>\n",
       "      <td>-2.565918e-14</td>\n",
       "    </tr>\n",
       "    <tr>\n",
       "      <th>3</th>\n",
       "      <td>-1.466973e-16</td>\n",
       "      <td>2.101589e-16</td>\n",
       "      <td>5.980546e-16</td>\n",
       "      <td>1.000000e+00</td>\n",
       "      <td>-4.179815e-17</td>\n",
       "      <td>-1.010954e-16</td>\n",
       "      <td>-5.978554e-17</td>\n",
       "      <td>3.052142e-16</td>\n",
       "      <td>-1.642046e-16</td>\n",
       "      <td>-7.687968e-16</td>\n",
       "      <td>...</td>\n",
       "      <td>1.441801e-16</td>\n",
       "      <td>-9.915777e-16</td>\n",
       "      <td>-6.873975e-15</td>\n",
       "      <td>-3.453529e-15</td>\n",
       "      <td>-1.332316e-16</td>\n",
       "      <td>2.898104e-14</td>\n",
       "      <td>-4.819439e-15</td>\n",
       "      <td>2.379316e-14</td>\n",
       "      <td>9.080796e-15</td>\n",
       "      <td>-2.563770e-15</td>\n",
       "    </tr>\n",
       "    <tr>\n",
       "      <th>4</th>\n",
       "      <td>-7.664502e-17</td>\n",
       "      <td>6.801712e-16</td>\n",
       "      <td>-4.345650e-16</td>\n",
       "      <td>-4.179815e-17</td>\n",
       "      <td>1.000000e+00</td>\n",
       "      <td>3.722854e-16</td>\n",
       "      <td>-2.947684e-16</td>\n",
       "      <td>3.866570e-16</td>\n",
       "      <td>2.657483e-17</td>\n",
       "      <td>-5.830527e-16</td>\n",
       "      <td>...</td>\n",
       "      <td>9.519218e-16</td>\n",
       "      <td>2.324071e-15</td>\n",
       "      <td>2.432605e-15</td>\n",
       "      <td>-3.363625e-16</td>\n",
       "      <td>-1.405921e-15</td>\n",
       "      <td>-1.702433e-15</td>\n",
       "      <td>-1.419679e-14</td>\n",
       "      <td>-1.362894e-14</td>\n",
       "      <td>-1.828570e-14</td>\n",
       "      <td>-9.135125e-15</td>\n",
       "    </tr>\n",
       "    <tr>\n",
       "      <th>...</th>\n",
       "      <td>...</td>\n",
       "      <td>...</td>\n",
       "      <td>...</td>\n",
       "      <td>...</td>\n",
       "      <td>...</td>\n",
       "      <td>...</td>\n",
       "      <td>...</td>\n",
       "      <td>...</td>\n",
       "      <td>...</td>\n",
       "      <td>...</td>\n",
       "      <td>...</td>\n",
       "      <td>...</td>\n",
       "      <td>...</td>\n",
       "      <td>...</td>\n",
       "      <td>...</td>\n",
       "      <td>...</td>\n",
       "      <td>...</td>\n",
       "      <td>...</td>\n",
       "      <td>...</td>\n",
       "      <td>...</td>\n",
       "      <td>...</td>\n",
       "    </tr>\n",
       "    <tr>\n",
       "      <th>513</th>\n",
       "      <td>2.425589e-14</td>\n",
       "      <td>-7.518697e-16</td>\n",
       "      <td>-2.208224e-14</td>\n",
       "      <td>2.898104e-14</td>\n",
       "      <td>-1.702433e-15</td>\n",
       "      <td>4.906892e-15</td>\n",
       "      <td>-9.065236e-15</td>\n",
       "      <td>-1.030918e-14</td>\n",
       "      <td>7.667622e-15</td>\n",
       "      <td>-1.903658e-14</td>\n",
       "      <td>...</td>\n",
       "      <td>-8.063345e-16</td>\n",
       "      <td>3.360781e-16</td>\n",
       "      <td>1.861328e-15</td>\n",
       "      <td>1.467096e-15</td>\n",
       "      <td>-1.855110e-18</td>\n",
       "      <td>1.000000e+00</td>\n",
       "      <td>1.463852e-15</td>\n",
       "      <td>-4.216858e-15</td>\n",
       "      <td>-5.091000e-15</td>\n",
       "      <td>1.454756e-15</td>\n",
       "    </tr>\n",
       "    <tr>\n",
       "      <th>514</th>\n",
       "      <td>1.260467e-14</td>\n",
       "      <td>5.218965e-15</td>\n",
       "      <td>8.315001e-15</td>\n",
       "      <td>-4.819439e-15</td>\n",
       "      <td>-1.419679e-14</td>\n",
       "      <td>7.395611e-15</td>\n",
       "      <td>-4.669815e-15</td>\n",
       "      <td>-6.707758e-15</td>\n",
       "      <td>-2.689189e-15</td>\n",
       "      <td>4.042638e-15</td>\n",
       "      <td>...</td>\n",
       "      <td>-4.124036e-16</td>\n",
       "      <td>9.404675e-16</td>\n",
       "      <td>2.037610e-16</td>\n",
       "      <td>-2.642330e-15</td>\n",
       "      <td>-2.250497e-15</td>\n",
       "      <td>1.463852e-15</td>\n",
       "      <td>1.000000e+00</td>\n",
       "      <td>4.042114e-16</td>\n",
       "      <td>2.807249e-15</td>\n",
       "      <td>-9.978746e-16</td>\n",
       "    </tr>\n",
       "    <tr>\n",
       "      <th>515</th>\n",
       "      <td>-1.252784e-14</td>\n",
       "      <td>6.230426e-16</td>\n",
       "      <td>5.024832e-15</td>\n",
       "      <td>2.379316e-14</td>\n",
       "      <td>-1.362894e-14</td>\n",
       "      <td>-4.094644e-14</td>\n",
       "      <td>9.157722e-15</td>\n",
       "      <td>7.265077e-15</td>\n",
       "      <td>1.150353e-14</td>\n",
       "      <td>-2.299116e-15</td>\n",
       "      <td>...</td>\n",
       "      <td>-8.437125e-17</td>\n",
       "      <td>-1.847972e-15</td>\n",
       "      <td>-9.404185e-16</td>\n",
       "      <td>-3.511537e-16</td>\n",
       "      <td>-4.907699e-16</td>\n",
       "      <td>-4.216858e-15</td>\n",
       "      <td>4.042114e-16</td>\n",
       "      <td>1.000000e+00</td>\n",
       "      <td>-6.323095e-16</td>\n",
       "      <td>1.737637e-15</td>\n",
       "    </tr>\n",
       "    <tr>\n",
       "      <th>516</th>\n",
       "      <td>1.904827e-14</td>\n",
       "      <td>1.954364e-14</td>\n",
       "      <td>1.694331e-14</td>\n",
       "      <td>9.080796e-15</td>\n",
       "      <td>-1.828570e-14</td>\n",
       "      <td>2.199879e-14</td>\n",
       "      <td>7.232642e-16</td>\n",
       "      <td>-2.895380e-15</td>\n",
       "      <td>-4.159120e-14</td>\n",
       "      <td>-6.382752e-15</td>\n",
       "      <td>...</td>\n",
       "      <td>-1.011040e-15</td>\n",
       "      <td>7.767812e-16</td>\n",
       "      <td>7.091412e-16</td>\n",
       "      <td>3.222781e-15</td>\n",
       "      <td>1.098977e-16</td>\n",
       "      <td>-5.091000e-15</td>\n",
       "      <td>2.807249e-15</td>\n",
       "      <td>-6.323095e-16</td>\n",
       "      <td>1.000000e+00</td>\n",
       "      <td>2.092160e-15</td>\n",
       "    </tr>\n",
       "    <tr>\n",
       "      <th>517</th>\n",
       "      <td>7.207174e-14</td>\n",
       "      <td>3.306586e-14</td>\n",
       "      <td>-2.565918e-14</td>\n",
       "      <td>-2.563770e-15</td>\n",
       "      <td>-9.135125e-15</td>\n",
       "      <td>-5.116442e-14</td>\n",
       "      <td>8.066165e-16</td>\n",
       "      <td>1.088449e-14</td>\n",
       "      <td>-4.945105e-15</td>\n",
       "      <td>2.350250e-14</td>\n",
       "      <td>...</td>\n",
       "      <td>-5.476156e-15</td>\n",
       "      <td>1.822579e-15</td>\n",
       "      <td>-6.132041e-16</td>\n",
       "      <td>1.258838e-15</td>\n",
       "      <td>-2.303887e-15</td>\n",
       "      <td>1.454756e-15</td>\n",
       "      <td>-9.978746e-16</td>\n",
       "      <td>1.737637e-15</td>\n",
       "      <td>2.092160e-15</td>\n",
       "      <td>1.000000e+00</td>\n",
       "    </tr>\n",
       "  </tbody>\n",
       "</table>\n",
       "<p>518 rows × 518 columns</p>\n",
       "</div>"
      ],
      "text/plain": [
       "              0             1             2             3             4    \\\n",
       "0    1.000000e+00  4.995281e-16 -3.041345e-16 -1.466973e-16 -7.664502e-17   \n",
       "1    4.995281e-16  1.000000e+00 -3.557283e-18  2.101589e-16  6.801712e-16   \n",
       "2   -3.041345e-16 -3.557283e-18  1.000000e+00  5.980546e-16 -4.345650e-16   \n",
       "3   -1.466973e-16  2.101589e-16  5.980546e-16  1.000000e+00 -4.179815e-17   \n",
       "4   -7.664502e-17  6.801712e-16 -4.345650e-16 -4.179815e-17  1.000000e+00   \n",
       "..            ...           ...           ...           ...           ...   \n",
       "513  2.425589e-14 -7.518697e-16 -2.208224e-14  2.898104e-14 -1.702433e-15   \n",
       "514  1.260467e-14  5.218965e-15  8.315001e-15 -4.819439e-15 -1.419679e-14   \n",
       "515 -1.252784e-14  6.230426e-16  5.024832e-15  2.379316e-14 -1.362894e-14   \n",
       "516  1.904827e-14  1.954364e-14  1.694331e-14  9.080796e-15 -1.828570e-14   \n",
       "517  7.207174e-14  3.306586e-14 -2.565918e-14 -2.563770e-15 -9.135125e-15   \n",
       "\n",
       "              5             6             7             8             9    \\\n",
       "0    2.597042e-16 -2.250543e-16  8.029899e-16 -3.179501e-16  1.233572e-16   \n",
       "1   -2.083903e-16  6.521918e-16 -1.111631e-16 -2.021850e-16 -5.891550e-16   \n",
       "2    7.153779e-17 -2.573860e-16  2.582907e-16  8.487840e-17 -3.186525e-16   \n",
       "3   -1.010954e-16 -5.978554e-17  3.052142e-16 -1.642046e-16 -7.687968e-16   \n",
       "4    3.722854e-16 -2.947684e-16  3.866570e-16  2.657483e-17 -5.830527e-16   \n",
       "..            ...           ...           ...           ...           ...   \n",
       "513  4.906892e-15 -9.065236e-15 -1.030918e-14  7.667622e-15 -1.903658e-14   \n",
       "514  7.395611e-15 -4.669815e-15 -6.707758e-15 -2.689189e-15  4.042638e-15   \n",
       "515 -4.094644e-14  9.157722e-15  7.265077e-15  1.150353e-14 -2.299116e-15   \n",
       "516  2.199879e-14  7.232642e-16 -2.895380e-15 -4.159120e-14 -6.382752e-15   \n",
       "517 -5.116442e-14  8.066165e-16  1.088449e-14 -4.945105e-15  2.350250e-14   \n",
       "\n",
       "     ...           508           509           510           511  \\\n",
       "0    ...  5.619843e-15 -6.676267e-15 -1.041811e-14 -2.346798e-15   \n",
       "1    ...  6.666928e-15 -8.049482e-15 -2.867763e-15 -1.376164e-14   \n",
       "2    ... -2.136582e-16 -3.605645e-15  4.228766e-15 -3.897161e-15   \n",
       "3    ...  1.441801e-16 -9.915777e-16 -6.873975e-15 -3.453529e-15   \n",
       "4    ...  9.519218e-16  2.324071e-15  2.432605e-15 -3.363625e-16   \n",
       "..   ...           ...           ...           ...           ...   \n",
       "513  ... -8.063345e-16  3.360781e-16  1.861328e-15  1.467096e-15   \n",
       "514  ... -4.124036e-16  9.404675e-16  2.037610e-16 -2.642330e-15   \n",
       "515  ... -8.437125e-17 -1.847972e-15 -9.404185e-16 -3.511537e-16   \n",
       "516  ... -1.011040e-15  7.767812e-16  7.091412e-16  3.222781e-15   \n",
       "517  ... -5.476156e-15  1.822579e-15 -6.132041e-16  1.258838e-15   \n",
       "\n",
       "              512           513           514           515           516  \\\n",
       "0    8.963992e-15  2.425589e-14  1.260467e-14 -1.252784e-14  1.904827e-14   \n",
       "1   -3.214601e-15 -7.518697e-16  5.218965e-15  6.230426e-16  1.954364e-14   \n",
       "2   -4.323327e-15 -2.208224e-14  8.315001e-15  5.024832e-15  1.694331e-14   \n",
       "3   -1.332316e-16  2.898104e-14 -4.819439e-15  2.379316e-14  9.080796e-15   \n",
       "4   -1.405921e-15 -1.702433e-15 -1.419679e-14 -1.362894e-14 -1.828570e-14   \n",
       "..            ...           ...           ...           ...           ...   \n",
       "513 -1.855110e-18  1.000000e+00  1.463852e-15 -4.216858e-15 -5.091000e-15   \n",
       "514 -2.250497e-15  1.463852e-15  1.000000e+00  4.042114e-16  2.807249e-15   \n",
       "515 -4.907699e-16 -4.216858e-15  4.042114e-16  1.000000e+00 -6.323095e-16   \n",
       "516  1.098977e-16 -5.091000e-15  2.807249e-15 -6.323095e-16  1.000000e+00   \n",
       "517 -2.303887e-15  1.454756e-15 -9.978746e-16  1.737637e-15  2.092160e-15   \n",
       "\n",
       "              517  \n",
       "0    7.207174e-14  \n",
       "1    3.306586e-14  \n",
       "2   -2.565918e-14  \n",
       "3   -2.563770e-15  \n",
       "4   -9.135125e-15  \n",
       "..            ...  \n",
       "513  1.454756e-15  \n",
       "514 -9.978746e-16  \n",
       "515  1.737637e-15  \n",
       "516  2.092160e-15  \n",
       "517  1.000000e+00  \n",
       "\n",
       "[518 rows x 518 columns]"
      ]
     },
     "execution_count": 43,
     "metadata": {},
     "output_type": "execute_result"
    }
   ],
   "source": [
    "X_train_pca.corr()"
   ]
  },
  {
   "cell_type": "markdown",
   "id": "88bd7a67",
   "metadata": {},
   "source": [
    "## Chroma Cens Analysis"
   ]
  },
  {
   "cell_type": "markdown",
   "id": "dc8812fb",
   "metadata": {},
   "source": [
    "{'chroma_cens',\n",
    " 'chroma_cqt',\n",
    " 'chroma_stft',\n",
    " 'mfcc',\n",
    " 'rmse',\n",
    " 'spectral_bandwidth',\n",
    " 'spectral_centroid',\n",
    " 'spectral_contrast',\n",
    " 'spectral_rolloff',\n",
    " 'tonnetz',\n",
    " 'zcr'}"
   ]
  },
  {
   "cell_type": "code",
   "execution_count": 171,
   "id": "e1db37cf",
   "metadata": {},
   "outputs": [],
   "source": [
    "chroma_cens_cols = [col for col in df.columns if 'chroma_cens' in col]\n",
    "tonnetz_cols = [col for col in df.columns if 'tonnetz' in col]\n",
    "spectral_bdwth_cols = [col for col in df.columns if 'spectral_bandwidth' in col]\n",
    "mfcc_cols = [col for col in df.columns if 'mfcc' in col]"
   ]
  },
  {
   "cell_type": "code",
   "execution_count": 79,
   "id": "4eed77e7",
   "metadata": {
    "ExecuteTime": {
     "end_time": "2021-06-24T20:31:15.219920Z",
     "start_time": "2021-06-24T20:31:15.175912Z"
    }
   },
   "outputs": [],
   "source": [
    "X = df.drop(columns=track_metadata)[chroma_cens_cols]\n",
    "y = df['track_genre_top']\n",
    "\n",
    "X_train, X_test, y_train, y_test = train_test_split(X, y, stratify=y,\n",
    "                                                   random_state=42)"
   ]
  },
  {
   "cell_type": "code",
   "execution_count": 80,
   "id": "2789710b",
   "metadata": {
    "ExecuteTime": {
     "end_time": "2021-06-24T20:31:15.313004Z",
     "start_time": "2021-06-24T20:31:15.221420Z"
    }
   },
   "outputs": [],
   "source": [
    "ss = StandardScaler()\n",
    "ss.fit(X_train)\n",
    "X_train_sc = ss.transform(X_train)\n",
    "X_test_sc = ss.transform(X_test)"
   ]
  },
  {
   "cell_type": "code",
   "execution_count": 101,
   "id": "8145ccd9",
   "metadata": {
    "ExecuteTime": {
     "end_time": "2021-06-24T13:43:06.327929Z",
     "start_time": "2021-06-24T13:43:06.112392Z"
    }
   },
   "outputs": [
    {
     "data": {
      "text/plain": [
       "PCA(n_components=60)"
      ]
     },
     "execution_count": 101,
     "metadata": {},
     "output_type": "execute_result"
    }
   ],
   "source": [
    "pca = PCA(60)\n",
    "pca.fit(X_train_sc)"
   ]
  },
  {
   "cell_type": "code",
   "execution_count": 102,
   "id": "858c01f6",
   "metadata": {},
   "outputs": [
    {
     "data": {
      "text/plain": [
       "77.45966692414834"
      ]
     },
     "execution_count": 102,
     "metadata": {},
     "output_type": "execute_result"
    }
   ],
   "source": [
    "6000**.5"
   ]
  },
  {
   "cell_type": "code",
   "execution_count": 103,
   "id": "81ac8972",
   "metadata": {},
   "outputs": [
    {
     "data": {
      "text/plain": [
       "84"
      ]
     },
     "execution_count": 103,
     "metadata": {},
     "output_type": "execute_result"
    }
   ],
   "source": [
    "len(X_train.columns)"
   ]
  },
  {
   "cell_type": "code",
   "execution_count": 104,
   "id": "fe66251d",
   "metadata": {
    "ExecuteTime": {
     "end_time": "2021-06-24T13:43:06.343432Z",
     "start_time": "2021-06-24T13:43:06.329429Z"
    }
   },
   "outputs": [
    {
     "data": {
      "text/plain": [
       "0.9876299999999999"
      ]
     },
     "execution_count": 104,
     "metadata": {},
     "output_type": "execute_result"
    }
   ],
   "source": [
    "sum([round(val, 5) for val in pca.explained_variance_ratio_][:60])"
   ]
  },
  {
   "cell_type": "code",
   "execution_count": 105,
   "id": "046b6a98",
   "metadata": {
    "ExecuteTime": {
     "end_time": "2021-06-24T13:43:06.327929Z",
     "start_time": "2021-06-24T13:43:06.112392Z"
    }
   },
   "outputs": [
    {
     "data": {
      "text/plain": [
       "PCA(n_components=30)"
      ]
     },
     "execution_count": 105,
     "metadata": {},
     "output_type": "execute_result"
    }
   ],
   "source": [
    "pca = PCA(30)\n",
    "pca.fit(X_train_sc)"
   ]
  },
  {
   "cell_type": "code",
   "execution_count": 106,
   "id": "fcd1a2c9",
   "metadata": {},
   "outputs": [],
   "source": [
    "X_train_pca = pd.DataFrame(pca.transform(X_train_sc))\n",
    "X_test_pca = pd.DataFrame(pca.transform(X_test_sc))"
   ]
  },
  {
   "cell_type": "code",
   "execution_count": 107,
   "id": "7a205de4",
   "metadata": {},
   "outputs": [
    {
     "data": {
      "text/plain": [
       "(0.2355, 0.24633333333333332)"
      ]
     },
     "execution_count": 107,
     "metadata": {},
     "output_type": "execute_result"
    }
   ],
   "source": [
    "lr = LogisticRegression(penalty = 'l1', solver = 'saga', C = .01, max_iter = 1000)\n",
    "lr.fit(X_train_sc, y_train)\n",
    "lr.score(X_test_sc, y_test), lr.score(X_train_sc, y_train)"
   ]
  },
  {
   "cell_type": "code",
   "execution_count": 108,
   "id": "77a7cbee",
   "metadata": {
    "scrolled": true
   },
   "outputs": [
    {
     "data": {
      "text/plain": [
       "(0.2515, 0.25333333333333335)"
      ]
     },
     "execution_count": 108,
     "metadata": {},
     "output_type": "execute_result"
    }
   ],
   "source": [
    "lr = LogisticRegression(penalty = 'l1', solver = 'saga', C = .01, max_iter = 1000)\n",
    "lr.fit(X_train_pca, y_train)\n",
    "lr.score(X_test_pca, y_test), lr.score(X_train_pca, y_train)"
   ]
  },
  {
   "cell_type": "markdown",
   "id": "b16ec78c",
   "metadata": {},
   "source": [
    "## Tonnetz Analysis"
   ]
  },
  {
   "cell_type": "code",
   "execution_count": 109,
   "id": "ccbc3aa2",
   "metadata": {
    "ExecuteTime": {
     "end_time": "2021-06-24T20:31:15.219920Z",
     "start_time": "2021-06-24T20:31:15.175912Z"
    }
   },
   "outputs": [],
   "source": [
    "X = df.drop(columns=track_metadata)[tonnetz_cols]\n",
    "y = df['track_genre_top']\n",
    "\n",
    "X_train, X_test, y_train, y_test = train_test_split(X, y, stratify=y,\n",
    "                                                   random_state=42)"
   ]
  },
  {
   "cell_type": "code",
   "execution_count": 110,
   "id": "a655ff6b",
   "metadata": {
    "ExecuteTime": {
     "end_time": "2021-06-24T20:31:15.313004Z",
     "start_time": "2021-06-24T20:31:15.221420Z"
    }
   },
   "outputs": [],
   "source": [
    "ss = StandardScaler()\n",
    "ss.fit(X_train)\n",
    "X_train_sc = ss.transform(X_train)\n",
    "X_test_sc = ss.transform(X_test)"
   ]
  },
  {
   "cell_type": "code",
   "execution_count": 121,
   "id": "f7b86aa8",
   "metadata": {
    "ExecuteTime": {
     "end_time": "2021-06-24T13:43:06.327929Z",
     "start_time": "2021-06-24T13:43:06.112392Z"
    }
   },
   "outputs": [
    {
     "data": {
      "text/plain": [
       "PCA()"
      ]
     },
     "execution_count": 121,
     "metadata": {},
     "output_type": "execute_result"
    }
   ],
   "source": [
    "pca = PCA()\n",
    "pca.fit(X_train_sc)"
   ]
  },
  {
   "cell_type": "code",
   "execution_count": 122,
   "id": "f76a4241",
   "metadata": {},
   "outputs": [
    {
     "data": {
      "text/plain": [
       "77.45966692414834"
      ]
     },
     "execution_count": 122,
     "metadata": {},
     "output_type": "execute_result"
    }
   ],
   "source": [
    "6000**.5"
   ]
  },
  {
   "cell_type": "code",
   "execution_count": 123,
   "id": "2fcde2fc",
   "metadata": {},
   "outputs": [
    {
     "data": {
      "text/plain": [
       "42"
      ]
     },
     "execution_count": 123,
     "metadata": {},
     "output_type": "execute_result"
    }
   ],
   "source": [
    "len(X_train.columns)"
   ]
  },
  {
   "cell_type": "code",
   "execution_count": 148,
   "id": "73df8271",
   "metadata": {
    "ExecuteTime": {
     "end_time": "2021-06-24T13:43:06.343432Z",
     "start_time": "2021-06-24T13:43:06.329429Z"
    }
   },
   "outputs": [
    {
     "data": {
      "text/plain": [
       "0.9680099999999999"
      ]
     },
     "execution_count": 148,
     "metadata": {},
     "output_type": "execute_result"
    }
   ],
   "source": [
    "sum([round(val, 5) for val in pca.explained_variance_ratio_][:25])"
   ]
  },
  {
   "cell_type": "code",
   "execution_count": 149,
   "id": "936fef73",
   "metadata": {
    "ExecuteTime": {
     "end_time": "2021-06-24T13:43:06.327929Z",
     "start_time": "2021-06-24T13:43:06.112392Z"
    }
   },
   "outputs": [
    {
     "data": {
      "text/plain": [
       "PCA(n_components=25)"
      ]
     },
     "execution_count": 149,
     "metadata": {},
     "output_type": "execute_result"
    }
   ],
   "source": [
    "pca = PCA(25)\n",
    "pca.fit(X_train_sc)"
   ]
  },
  {
   "cell_type": "code",
   "execution_count": 150,
   "id": "975b4a4e",
   "metadata": {},
   "outputs": [],
   "source": [
    "X_train_pca = pd.DataFrame(pca.transform(X_train_sc))\n",
    "X_test_pca = pd.DataFrame(pca.transform(X_test_sc))"
   ]
  },
  {
   "cell_type": "code",
   "execution_count": 151,
   "id": "f07a0aa8",
   "metadata": {},
   "outputs": [
    {
     "data": {
      "text/plain": [
       "(0.2615, 0.26366666666666666)"
      ]
     },
     "execution_count": 151,
     "metadata": {},
     "output_type": "execute_result"
    }
   ],
   "source": [
    "lr = LogisticRegression(penalty = 'l1', solver = 'saga', C = .01, max_iter = 1000)\n",
    "lr.fit(X_train_sc, y_train)\n",
    "lr.score(X_test_sc, y_test), lr.score(X_train_sc, y_train)"
   ]
  },
  {
   "cell_type": "code",
   "execution_count": 152,
   "id": "e75033b8",
   "metadata": {},
   "outputs": [
    {
     "data": {
      "text/plain": [
       "(0.237, 0.25733333333333336)"
      ]
     },
     "execution_count": 152,
     "metadata": {},
     "output_type": "execute_result"
    }
   ],
   "source": [
    "lr = LogisticRegression(penalty = 'l1', solver = 'saga', C = .01, max_iter = 1000)\n",
    "lr.fit(X_train_pca, y_train)\n",
    "lr.score(X_test_pca, y_test), lr.score(X_train_pca, y_train)"
   ]
  },
  {
   "cell_type": "markdown",
   "id": "3d52b196",
   "metadata": {},
   "source": [
    "## MFCC Analysis"
   ]
  },
  {
   "cell_type": "code",
   "execution_count": 172,
   "id": "ae8a2e51",
   "metadata": {
    "ExecuteTime": {
     "end_time": "2021-06-24T20:31:15.219920Z",
     "start_time": "2021-06-24T20:31:15.175912Z"
    }
   },
   "outputs": [],
   "source": [
    "X = df.drop(columns=track_metadata)[mfcc_cols]\n",
    "y = df['track_genre_top']\n",
    "\n",
    "X_train, X_test, y_train, y_test = train_test_split(X, y, stratify=y,\n",
    "                                                   random_state=42)"
   ]
  },
  {
   "cell_type": "code",
   "execution_count": 173,
   "id": "ec070a7e",
   "metadata": {
    "ExecuteTime": {
     "end_time": "2021-06-24T20:31:15.313004Z",
     "start_time": "2021-06-24T20:31:15.221420Z"
    }
   },
   "outputs": [],
   "source": [
    "ss = StandardScaler()\n",
    "ss.fit(X_train)\n",
    "X_train_sc = ss.transform(X_train)\n",
    "X_test_sc = ss.transform(X_test)"
   ]
  },
  {
   "cell_type": "code",
   "execution_count": 174,
   "id": "c1f1de73",
   "metadata": {
    "ExecuteTime": {
     "end_time": "2021-06-24T13:43:06.327929Z",
     "start_time": "2021-06-24T13:43:06.112392Z"
    }
   },
   "outputs": [
    {
     "data": {
      "text/plain": [
       "PCA()"
      ]
     },
     "execution_count": 174,
     "metadata": {},
     "output_type": "execute_result"
    }
   ],
   "source": [
    "pca = PCA()\n",
    "pca.fit(X_train_sc)"
   ]
  },
  {
   "cell_type": "code",
   "execution_count": 175,
   "id": "7097cf5c",
   "metadata": {},
   "outputs": [
    {
     "data": {
      "text/plain": [
       "77.45966692414834"
      ]
     },
     "execution_count": 175,
     "metadata": {},
     "output_type": "execute_result"
    }
   ],
   "source": [
    "6000**.5"
   ]
  },
  {
   "cell_type": "code",
   "execution_count": 176,
   "id": "d9b6b412",
   "metadata": {},
   "outputs": [
    {
     "data": {
      "text/plain": [
       "140"
      ]
     },
     "execution_count": 176,
     "metadata": {},
     "output_type": "execute_result"
    }
   ],
   "source": [
    "len(X_train.columns)"
   ]
  },
  {
   "cell_type": "code",
   "execution_count": 183,
   "id": "8f79fc73",
   "metadata": {
    "ExecuteTime": {
     "end_time": "2021-06-24T13:43:06.343432Z",
     "start_time": "2021-06-24T13:43:06.329429Z"
    }
   },
   "outputs": [
    {
     "data": {
      "text/plain": [
       "0.91656"
      ]
     },
     "execution_count": 183,
     "metadata": {},
     "output_type": "execute_result"
    }
   ],
   "source": [
    "sum([round(val, 5) for val in pca.explained_variance_ratio_][:55])"
   ]
  },
  {
   "cell_type": "code",
   "execution_count": 184,
   "id": "51f8c9a2",
   "metadata": {
    "ExecuteTime": {
     "end_time": "2021-06-24T13:43:06.327929Z",
     "start_time": "2021-06-24T13:43:06.112392Z"
    }
   },
   "outputs": [
    {
     "data": {
      "text/plain": [
       "PCA(n_components=55)"
      ]
     },
     "execution_count": 184,
     "metadata": {},
     "output_type": "execute_result"
    }
   ],
   "source": [
    "pca = PCA(55)\n",
    "pca.fit(X_train_sc)"
   ]
  },
  {
   "cell_type": "code",
   "execution_count": 185,
   "id": "eeb26624",
   "metadata": {},
   "outputs": [],
   "source": [
    "X_train_pca = pd.DataFrame(pca.transform(X_train_sc))\n",
    "X_test_pca = pd.DataFrame(pca.transform(X_test_sc))"
   ]
  },
  {
   "cell_type": "code",
   "execution_count": 186,
   "id": "676dab1e",
   "metadata": {},
   "outputs": [
    {
     "data": {
      "text/plain": [
       "(0.4575, 0.4696666666666667)"
      ]
     },
     "execution_count": 186,
     "metadata": {},
     "output_type": "execute_result"
    }
   ],
   "source": [
    "lr = LogisticRegression(penalty = 'l1', solver = 'saga', C = .01, max_iter = 1000)\n",
    "lr.fit(X_train_sc, y_train)\n",
    "lr.score(X_test_sc, y_test), lr.score(X_train_sc, y_train)"
   ]
  },
  {
   "cell_type": "code",
   "execution_count": 187,
   "id": "1bd0be51",
   "metadata": {},
   "outputs": [
    {
     "data": {
      "text/plain": [
       "(0.4595, 0.4625)"
      ]
     },
     "execution_count": 187,
     "metadata": {},
     "output_type": "execute_result"
    }
   ],
   "source": [
    "lr = LogisticRegression(penalty = 'l1', solver = 'saga', C = .01, max_iter = 1000)\n",
    "lr.fit(X_train_pca, y_train)\n",
    "lr.score(X_test_pca, y_test), lr.score(X_train_pca, y_train)"
   ]
  },
  {
   "cell_type": "code",
   "execution_count": 188,
   "id": "d53ae81c",
   "metadata": {
    "ExecuteTime": {
     "end_time": "2021-06-24T13:40:38.450328Z",
     "start_time": "2021-06-24T13:38:37.438366Z"
    }
   },
   "outputs": [
    {
     "name": "stdout",
     "output_type": "stream",
     "text": [
      "      Iter       Train Loss   Remaining Time \n",
      "         1           2.0794            1.12m\n",
      "         2           2.0793            1.11m\n",
      "         3           2.0792            1.09m\n",
      "         4           2.0791            1.09m\n",
      "         5           2.0790            1.08m\n",
      "         6           2.0789            1.08m\n",
      "         7           2.0788            1.09m\n",
      "         8           2.0787            1.09m\n",
      "         9           2.0786            1.10m\n",
      "        10           2.0785            1.09m\n",
      "        20           2.0777            1.06m\n",
      "        30           2.0768            1.03m\n",
      "        40           2.0759            1.01m\n",
      "        50           2.0750           58.87s\n",
      "        60           2.0742           57.45s\n",
      "        70           2.0733           56.31s\n",
      "        80           2.0724           55.04s\n",
      "        90           2.0715           53.74s\n",
      "       100           2.0707           52.43s\n",
      "       200           2.0621           39.09s\n",
      "       300           2.0536           26.02s\n",
      "       400           2.0453           13.01s\n",
      "       500           2.0372            0.00s\n"
     ]
    },
    {
     "data": {
      "text/plain": [
       "(0.455, 0.5151666666666667)"
      ]
     },
     "execution_count": 188,
     "metadata": {},
     "output_type": "execute_result"
    }
   ],
   "source": [
    "gbm = GradientBoostingClassifier(min_samples_split = 10, subsample = 1,\n",
    "                                 max_features = 'sqrt', n_iter_no_change = 5,\n",
    "                                 n_estimators = 500, learning_rate = .0001,\n",
    "                                 tol = .0001, verbose=1)\n",
    "gbm.fit(X_train, y_train)\n",
    "gbm.score(X_test, y_test), gbm.score(X_train, y_train)"
   ]
  },
  {
   "cell_type": "code",
   "execution_count": 189,
   "id": "ec06d58f",
   "metadata": {},
   "outputs": [
    {
     "name": "stdout",
     "output_type": "stream",
     "text": [
      "      Iter       Train Loss   Remaining Time \n",
      "         1           2.0794           45.01s\n",
      "         2           2.0793           44.64s\n",
      "         3           2.0793           45.51s\n",
      "         4           2.0793           45.18s\n",
      "         5           2.0792           44.79s\n",
      "         6           2.0792           44.74s\n",
      "         7           2.0791           44.63s\n",
      "         8           2.0791           44.38s\n",
      "         9           2.0790           44.31s\n",
      "        10           2.0790           44.11s\n",
      "        20           2.0785           42.81s\n",
      "        30           2.0780           41.73s\n",
      "        40           2.0775           40.83s\n",
      "        50           2.0770           39.80s\n",
      "        60           2.0764           38.78s\n",
      "        70           2.0760           37.80s\n",
      "        80           2.0755           36.87s\n",
      "        90           2.0750           35.96s\n",
      "       100           2.0745           35.03s\n",
      "       200           2.0698           26.13s\n",
      "       300           2.0650           17.43s\n",
      "       400           2.0602            8.70s\n",
      "       500           2.0556            0.00s\n"
     ]
    },
    {
     "data": {
      "text/plain": [
       "(0.4445, 0.5128333333333334)"
      ]
     },
     "execution_count": 189,
     "metadata": {},
     "output_type": "execute_result"
    }
   ],
   "source": [
    "gbm = GradientBoostingClassifier(min_samples_split = 10, subsample = 1,\n",
    "                                 max_features = 'sqrt', n_iter_no_change = 5,\n",
    "                                 n_estimators = 500, learning_rate = .0001,\n",
    "                                 tol = .0001, verbose=1)\n",
    "gbm.fit(X_train_pca, y_train)\n",
    "gbm.score(X_test_pca, y_test), gbm.score(X_train_pca, y_train)"
   ]
  },
  {
   "cell_type": "code",
   "execution_count": 48,
   "id": "020f56b4",
   "metadata": {
    "ExecuteTime": {
     "end_time": "2021-06-24T20:47:08.766555Z",
     "start_time": "2021-06-24T20:47:08.502156Z"
    },
    "scrolled": true
   },
   "outputs": [
    {
     "name": "stderr",
     "output_type": "stream",
     "text": [
      "C:\\Users\\098uy\\anaconda3\\envs\\audio_project\\lib\\site-packages\\librosa\\core\\audio.py:165: UserWarning: PySoundFile failed. Trying audioread instead.\n",
      "  warnings.warn(\"PySoundFile failed. Trying audioread instead.\")\n"
     ]
    }
   ],
   "source": [
    "y, sr = librosa.load('../data/fma_small/065/065488.mp3', sr=48000)"
   ]
  },
  {
   "cell_type": "code",
   "execution_count": 49,
   "id": "c5ed4c0f",
   "metadata": {
    "ExecuteTime": {
     "end_time": "2021-06-24T20:47:08.781559Z",
     "start_time": "2021-06-24T20:47:08.768056Z"
    },
    "scrolled": true
   },
   "outputs": [
    {
     "data": {
      "text/plain": [
       "(1439471, 1440000)"
      ]
     },
     "execution_count": 49,
     "metadata": {},
     "output_type": "execute_result"
    }
   ],
   "source": [
    "len(y), 48000 * 30"
   ]
  },
  {
   "cell_type": "markdown",
   "id": "6d091bda",
   "metadata": {},
   "source": [
    "Librosa has a default sampling rate of 22,050 hertz. Audio track is ~30s long."
   ]
  },
  {
   "cell_type": "code",
   "execution_count": 50,
   "id": "0629d015",
   "metadata": {
    "ExecuteTime": {
     "end_time": "2021-06-24T20:47:09.136329Z",
     "start_time": "2021-06-24T20:47:09.130328Z"
    }
   },
   "outputs": [
    {
     "data": {
      "text/plain": [
       "array([-0.11154175, -0.10891724, -0.10017395, -0.08799744, -0.0776825 ,\n",
       "       -0.07331848, -0.07492065, -0.07995605, -0.08572388, -0.09016418,\n",
       "       -0.09378052, -0.09928894, -0.10588074, -0.10832214, -0.10362244,\n",
       "       -0.09367371, -0.08152771, -0.07066345, -0.06495667, -0.06567383],\n",
       "      dtype=float32)"
      ]
     },
     "execution_count": 50,
     "metadata": {},
     "output_type": "execute_result"
    }
   ],
   "source": [
    "y[50000:50020]"
   ]
  },
  {
   "cell_type": "code",
   "execution_count": 51,
   "id": "bd179e6c",
   "metadata": {
    "ExecuteTime": {
     "end_time": "2021-06-24T20:47:10.109460Z",
     "start_time": "2021-06-24T20:47:09.502855Z"
    }
   },
   "outputs": [
    {
     "data": {
      "image/png": "[encoded data removed]",
      "text/plain": [
       "<Figure size 2160x1080 with 1 Axes>"
      ]
     },
     "metadata": {
      "needs_background": "light"
     },
     "output_type": "display_data"
    }
   ],
   "source": [
    "fig = plt.figure(figsize = (30, 15))\n",
    "librosa.display.waveshow(y);"
   ]
  },
  {
   "cell_type": "code",
   "execution_count": 52,
   "id": "5f0baf62",
   "metadata": {
    "ExecuteTime": {
     "end_time": "2021-06-24T20:47:11.284505Z",
     "start_time": "2021-06-24T20:47:10.578882Z"
    }
   },
   "outputs": [
    {
     "data": {
      "text/plain": [
       "[<matplotlib.lines.Line2D at 0x151e7155190>]"
      ]
     },
     "execution_count": 52,
     "metadata": {},
     "output_type": "execute_result"
    },
    {
     "data": {
      "image/png": "[encoded data removed]",
      "text/plain": [
       "<Figure size 2160x1080 with 1 Axes>"
      ]
     },
     "metadata": {
      "needs_background": "light"
     },
     "output_type": "display_data"
    }
   ],
   "source": [
    "fig = plt.figure(figsize= (30, 15))\n",
    "plt.plot(y)"
   ]
  },
  {
   "cell_type": "code",
   "execution_count": 53,
   "id": "3575e4d3",
   "metadata": {
    "ExecuteTime": {
     "end_time": "2021-06-24T20:47:14.269845Z",
     "start_time": "2021-06-24T20:47:14.169328Z"
    }
   },
   "outputs": [],
   "source": [
    "mfcc = librosa.feature.mfcc(y, hop_length=512)"
   ]
  },
  {
   "cell_type": "code",
   "execution_count": 50,
   "id": "5f36e9f2",
   "metadata": {
    "ExecuteTime": {
     "end_time": "2021-06-24T13:43:39.394280Z",
     "start_time": "2021-06-24T13:43:39.380278Z"
    }
   },
   "outputs": [
    {
     "data": {
      "text/plain": [
       "array([-375.26352, -303.60452, -279.19446, ..., -360.68008, -312.98932,\n",
       "       -233.67032], dtype=float32)"
      ]
     },
     "execution_count": 50,
     "metadata": {},
     "output_type": "execute_result"
    }
   ],
   "source": [
    "mfcc[0]"
   ]
  },
  {
   "cell_type": "code",
   "execution_count": 51,
   "id": "73543488",
   "metadata": {
    "ExecuteTime": {
     "end_time": "2021-06-24T13:43:39.409784Z",
     "start_time": "2021-06-24T13:43:39.395781Z"
    }
   },
   "outputs": [
    {
     "data": {
      "text/plain": [
       "(20, 2812)"
      ]
     },
     "execution_count": 51,
     "metadata": {},
     "output_type": "execute_result"
    }
   ],
   "source": [
    "mfcc.shape"
   ]
  },
  {
   "cell_type": "code",
   "execution_count": 97,
   "id": "c378bf75",
   "metadata": {
    "ExecuteTime": {
     "end_time": "2021-06-24T13:56:29.874276Z",
     "start_time": "2021-06-24T13:56:29.736753Z"
    }
   },
   "outputs": [
    {
     "data": {
      "text/plain": [
       "<matplotlib.collections.QuadMesh at 0x2290e8dcd30>"
      ]
     },
     "execution_count": 97,
     "metadata": {},
     "output_type": "execute_result"
    },
    {
     "data": {
      "image/png": "[encoded data removed]",
      "text/plain": [
       "<Figure size 1296x648 with 1 Axes>"
      ]
     },
     "metadata": {},
     "output_type": "display_data"
    }
   ],
   "source": [
    "fig = plt.figure(figsize = (18, 9))\n",
    "librosa.display.specshow(mfcc, cmap='bwr')"
   ]
  },
  {
   "cell_type": "code",
   "execution_count": 53,
   "id": "5434f107-729f-440f-994c-4dff64d0f21f",
   "metadata": {
    "ExecuteTime": {
     "end_time": "2021-06-24T13:43:39.657826Z",
     "start_time": "2021-06-24T13:43:39.643823Z"
    }
   },
   "outputs": [],
   "source": [
    "mfcc_delta = librosa.feature.delta(mfcc)"
   ]
  },
  {
   "cell_type": "code",
   "execution_count": 54,
   "id": "e56a1117-e480-43fa-a0e7-790722747a19",
   "metadata": {
    "ExecuteTime": {
     "end_time": "2021-06-24T13:43:39.673156Z",
     "start_time": "2021-06-24T13:43:39.659327Z"
    }
   },
   "outputs": [
    {
     "data": {
      "text/plain": [
       "(20, 2812)"
      ]
     },
     "execution_count": 54,
     "metadata": {},
     "output_type": "execute_result"
    }
   ],
   "source": [
    "# look more into this\n",
    "mfcc_delta.shape"
   ]
  },
  {
   "cell_type": "code",
   "execution_count": 98,
   "id": "9ff3f70e-1381-41b1-adb7-894ede1415de",
   "metadata": {
    "ExecuteTime": {
     "end_time": "2021-06-24T13:56:37.302667Z",
     "start_time": "2021-06-24T13:56:37.165639Z"
    }
   },
   "outputs": [
    {
     "data": {
      "text/plain": [
       "<matplotlib.collections.QuadMesh at 0x22910a304c0>"
      ]
     },
     "execution_count": 98,
     "metadata": {},
     "output_type": "execute_result"
    },
    {
     "data": {
      "image/png": "[encoded data removed]",
      "text/plain": [
       "<Figure size 1296x648 with 1 Axes>"
      ]
     },
     "metadata": {},
     "output_type": "display_data"
    }
   ],
   "source": [
    "fig = plt.figure(figsize = (18, 9))\n",
    "librosa.display.specshow(mfcc_delta, cmap='bwr')"
   ]
  },
  {
   "cell_type": "code",
   "execution_count": 56,
   "id": "8f6f5947",
   "metadata": {
    "ExecuteTime": {
     "end_time": "2021-06-24T20:49:24.404240Z",
     "start_time": "2021-06-24T20:49:21.541878Z"
    }
   },
   "outputs": [],
   "source": [
    "y_harmonic, y_percussive = librosa.effects.hpss(y)"
   ]
  },
  {
   "cell_type": "code",
   "execution_count": 57,
   "id": "b03cfd4f-8054-43ca-a157-4fad35bb3a1d",
   "metadata": {
    "ExecuteTime": {
     "end_time": "2021-06-24T13:43:42.803457Z",
     "start_time": "2021-06-24T13:43:42.788951Z"
    }
   },
   "outputs": [
    {
     "data": {
      "text/plain": [
       "((1439471,), (1439471,))"
      ]
     },
     "execution_count": 57,
     "metadata": {},
     "output_type": "execute_result"
    }
   ],
   "source": [
    "y_harmonic.shape, y_percussive.shape"
   ]
  },
  {
   "cell_type": "code",
   "execution_count": 99,
   "id": "de937ce9-f4ef-43db-a2bf-76de3f70459a",
   "metadata": {
    "ExecuteTime": {
     "end_time": "2021-06-24T13:56:49.415377Z",
     "start_time": "2021-06-24T13:56:49.003306Z"
    }
   },
   "outputs": [
    {
     "data": {
      "text/plain": [
       "<librosa.display.AdaptiveWaveplot at 0x22910a59be0>"
      ]
     },
     "execution_count": 99,
     "metadata": {},
     "output_type": "execute_result"
    },
    {
     "data": {
      "image/png": "[encoded data removed]",
      "text/plain": [
       "<Figure size 1296x648 with 1 Axes>"
      ]
     },
     "metadata": {
      "needs_background": "light"
     },
     "output_type": "display_data"
    }
   ],
   "source": [
    "fig = plt.figure(figsize = (18, 9))\n",
    "librosa.display.waveshow(y_harmonic)"
   ]
  },
  {
   "cell_type": "code",
   "execution_count": 59,
   "id": "64c10556-653e-4625-af62-c7217b6ee817",
   "metadata": {
    "ExecuteTime": {
     "end_time": "2021-06-24T13:43:43.780126Z",
     "start_time": "2021-06-24T13:43:43.378058Z"
    }
   },
   "outputs": [
    {
     "data": {
      "text/plain": [
       "<librosa.display.AdaptiveWaveplot at 0x2291207abb0>"
      ]
     },
     "execution_count": 59,
     "metadata": {},
     "output_type": "execute_result"
    },
    {
     "data": {
      "image/png": "[encoded data removed]",
      "text/plain": [
       "<Figure size 2160x1080 with 1 Axes>"
      ]
     },
     "metadata": {
      "needs_background": "light"
     },
     "output_type": "display_data"
    }
   ],
   "source": [
    "fig = plt.figure(figsize = (18, 9))\n",
    "librosa.display.waveshow(y_percussive)"
   ]
  },
  {
   "cell_type": "code",
   "execution_count": 60,
   "id": "c128cb7e-8c5f-4d94-ba64-b989822703ab",
   "metadata": {
    "ExecuteTime": {
     "end_time": "2021-06-24T13:43:43.795629Z",
     "start_time": "2021-06-24T13:43:43.781126Z"
    }
   },
   "outputs": [],
   "source": [
    "sf.write('percussive_test_file_48000.wav', y_percussive, 48000)"
   ]
  },
  {
   "cell_type": "code",
   "execution_count": 61,
   "id": "f772efbc-e8d7-4c97-ba12-b94ca6a6eeb3",
   "metadata": {
    "ExecuteTime": {
     "end_time": "2021-06-24T13:43:43.810841Z",
     "start_time": "2021-06-24T13:43:43.797129Z"
    }
   },
   "outputs": [],
   "source": [
    "sf.write('harmonic_test_file_48000.wav', y_harmonic, 48000)"
   ]
  },
  {
   "cell_type": "code",
   "execution_count": 62,
   "id": "9052f292-ae72-404a-be49-cedd058b155b",
   "metadata": {
    "ExecuteTime": {
     "end_time": "2021-06-24T13:43:44.384440Z",
     "start_time": "2021-06-24T13:43:43.811841Z"
    }
   },
   "outputs": [],
   "source": [
    "tempo, beat_frames = librosa.beat.beat_track(y=y_percussive, sr = 48000)"
   ]
  },
  {
   "cell_type": "code",
   "execution_count": 63,
   "id": "7a0d6cbf-15bc-46a5-975b-8fd7b19f60e1",
   "metadata": {
    "ExecuteTime": {
     "end_time": "2021-06-24T13:43:44.399943Z",
     "start_time": "2021-06-24T13:43:44.385440Z"
    }
   },
   "outputs": [
    {
     "data": {
      "text/plain": [
       "100.44642857142857"
      ]
     },
     "execution_count": 63,
     "metadata": {},
     "output_type": "execute_result"
    }
   ],
   "source": [
    "tempo"
   ]
  },
  {
   "cell_type": "code",
   "execution_count": 64,
   "id": "48411747-0446-48fa-8390-0dc91b6a17b1",
   "metadata": {
    "ExecuteTime": {
     "end_time": "2021-06-24T13:43:44.415446Z",
     "start_time": "2021-06-24T13:43:44.401443Z"
    }
   },
   "outputs": [
    {
     "name": "stdout",
     "output_type": "stream",
     "text": [
      "(50,)\n"
     ]
    },
    {
     "data": {
      "text/plain": [
       "array([   3,   57,  113,  170,  226,  282,  337,  395,  450,  507,  563,\n",
       "        619,  676,  733,  795,  857,  909,  958, 1012, 1082, 1139, 1196,\n",
       "       1254, 1307, 1370, 1421, 1476, 1533, 1584, 1630, 1683, 1733, 1784,\n",
       "       1843, 1897, 1959, 2014, 2075, 2124, 2184, 2238, 2292, 2352, 2407,\n",
       "       2463, 2529, 2583, 2635, 2689, 2743])"
      ]
     },
     "execution_count": 64,
     "metadata": {},
     "output_type": "execute_result"
    }
   ],
   "source": [
    "print(beat_frames.shape)\n",
    "beat_frames"
   ]
  },
  {
   "cell_type": "code",
   "execution_count": 65,
   "id": "3a35be84-9fc7-4499-bffb-b9214eb66eaa",
   "metadata": {
    "ExecuteTime": {
     "end_time": "2021-06-24T13:43:44.430832Z",
     "start_time": "2021-06-24T13:43:44.416445Z"
    }
   },
   "outputs": [],
   "source": [
    "beat_mfcc_delta = librosa.util.sync(np.vstack([mfcc, mfcc_delta]), beat_frames)"
   ]
  },
  {
   "cell_type": "code",
   "execution_count": 66,
   "id": "d92f243c-1ea3-4300-88f5-4ad878292278",
   "metadata": {
    "ExecuteTime": {
     "end_time": "2021-06-24T13:43:44.446115Z",
     "start_time": "2021-06-24T13:43:44.432332Z"
    }
   },
   "outputs": [
    {
     "data": {
      "text/plain": [
       "(40, 51)"
      ]
     },
     "execution_count": 66,
     "metadata": {},
     "output_type": "execute_result"
    }
   ],
   "source": [
    "beat_mfcc_delta.shape"
   ]
  },
  {
   "cell_type": "markdown",
   "id": "13365a45",
   "metadata": {},
   "source": [
    "more filters later"
   ]
  },
  {
   "cell_type": "code",
   "execution_count": 100,
   "id": "ff8aaf8c-d933-4400-83ce-11cc04b0a99c",
   "metadata": {
    "ExecuteTime": {
     "end_time": "2021-06-24T13:58:05.747576Z",
     "start_time": "2021-06-24T13:58:05.682065Z"
    }
   },
   "outputs": [
    {
     "data": {
      "text/plain": [
       "<matplotlib.collections.QuadMesh at 0x2290e87e490>"
      ]
     },
     "execution_count": 100,
     "metadata": {},
     "output_type": "execute_result"
    },
    {
     "data": {
      "image/png": "[encoded data removed]",
      "text/plain": [
       "<Figure size 1296x648 with 1 Axes>"
      ]
     },
     "metadata": {},
     "output_type": "display_data"
    }
   ],
   "source": [
    "fig = plt.figure(figsize = (18, 9))\n",
    "librosa.display.specshow(beat_mfcc_delta, cmap='bwr')"
   ]
  },
  {
   "cell_type": "code",
   "execution_count": 61,
   "id": "cbf8d8da",
   "metadata": {
    "ExecuteTime": {
     "end_time": "2021-06-24T20:50:48.591909Z",
     "start_time": "2021-06-24T20:50:48.582908Z"
    }
   },
   "outputs": [
    {
     "data": {
      "text/plain": [
       "1439471"
      ]
     },
     "execution_count": 61,
     "metadata": {},
     "output_type": "execute_result"
    }
   ],
   "source": [
    "len(y_harmonic)"
   ]
  },
  {
   "cell_type": "code",
   "execution_count": 62,
   "id": "ef126e79",
   "metadata": {
    "ExecuteTime": {
     "end_time": "2021-06-24T20:51:02.410519Z",
     "start_time": "2021-06-24T20:51:02.407018Z"
    }
   },
   "outputs": [
    {
     "data": {
      "text/plain": [
       "2811.466796875"
      ]
     },
     "execution_count": 62,
     "metadata": {},
     "output_type": "execute_result"
    }
   ],
   "source": [
    "1439471 / 512"
   ]
  },
  {
   "cell_type": "code",
   "execution_count": 57,
   "id": "366d34ad-abac-4a31-9569-8ad4b3acf843",
   "metadata": {
    "ExecuteTime": {
     "end_time": "2021-06-24T20:49:29.354616Z",
     "start_time": "2021-06-24T20:49:28.233422Z"
    }
   },
   "outputs": [],
   "source": [
    "chromagram = librosa.feature.chroma_cqt(y=y_harmonic, sr= 48000)"
   ]
  },
  {
   "cell_type": "code",
   "execution_count": 58,
   "id": "c9729c6e-aa7a-49ce-8e2b-0e1229099fd4",
   "metadata": {
    "ExecuteTime": {
     "end_time": "2021-06-24T20:49:30.418123Z",
     "start_time": "2021-06-24T20:49:30.402620Z"
    }
   },
   "outputs": [
    {
     "data": {
      "text/plain": [
       "(12, 2812)"
      ]
     },
     "execution_count": 58,
     "metadata": {},
     "output_type": "execute_result"
    }
   ],
   "source": [
    "chromagram.shape"
   ]
  },
  {
   "cell_type": "code",
   "execution_count": 68,
   "id": "f782578c",
   "metadata": {
    "ExecuteTime": {
     "end_time": "2021-06-24T20:52:38.000448Z",
     "start_time": "2021-06-24T20:52:37.822417Z"
    }
   },
   "outputs": [
    {
     "data": {
      "image/png": "[encoded data removed]",
      "text/plain": [
       "<Figure size 432x288 with 1 Axes>"
      ]
     },
     "metadata": {
      "needs_background": "light"
     },
     "output_type": "display_data"
    }
   ],
   "source": [
    "plt.hist(chromagram[0], bins = 75);"
   ]
  },
  {
   "cell_type": "code",
   "execution_count": 101,
   "id": "1557aa3a-f25d-4b9e-b07c-520fc50ea04a",
   "metadata": {
    "ExecuteTime": {
     "end_time": "2021-06-24T13:58:15.729556Z",
     "start_time": "2021-06-24T13:58:15.599034Z"
    }
   },
   "outputs": [
    {
     "data": {
      "text/plain": [
       "<matplotlib.collections.QuadMesh at 0x22910cc99a0>"
      ]
     },
     "execution_count": 101,
     "metadata": {},
     "output_type": "execute_result"
    },
    {
     "data": {
      "image/png": "[encoded data removed]",
      "text/plain": [
       "<Figure size 1296x648 with 1 Axes>"
      ]
     },
     "metadata": {},
     "output_type": "display_data"
    }
   ],
   "source": [
    "fig = plt.figure(figsize = (18, 9))\n",
    "librosa.display.specshow(chromagram, cmap='bwr')"
   ]
  },
  {
   "cell_type": "code",
   "execution_count": 71,
   "id": "f761820a-f354-4758-9933-db2ceca09973",
   "metadata": {
    "ExecuteTime": {
     "end_time": "2021-06-24T13:43:45.995605Z",
     "start_time": "2021-06-24T13:43:45.981600Z"
    }
   },
   "outputs": [],
   "source": [
    "beat_chroma = librosa.util.sync(chromagram, beat_frames, aggregate=np.median)"
   ]
  },
  {
   "cell_type": "code",
   "execution_count": 72,
   "id": "3203dc71-b884-445e-a41d-896a171e5208",
   "metadata": {
    "ExecuteTime": {
     "end_time": "2021-06-24T13:43:46.011108Z",
     "start_time": "2021-06-24T13:43:45.996606Z"
    }
   },
   "outputs": [
    {
     "data": {
      "text/plain": [
       "(12, 51)"
      ]
     },
     "execution_count": 72,
     "metadata": {},
     "output_type": "execute_result"
    }
   ],
   "source": [
    "beat_chroma.shape"
   ]
  },
  {
   "cell_type": "code",
   "execution_count": 96,
   "id": "5ae7cea7-03f6-4a5e-a20a-8b2e12e5b817",
   "metadata": {
    "ExecuteTime": {
     "end_time": "2021-06-24T13:55:57.156471Z",
     "start_time": "2021-06-24T13:55:56.959937Z"
    }
   },
   "outputs": [
    {
     "data": {
      "text/plain": [
       "<matplotlib.collections.QuadMesh at 0x2290e82e700>"
      ]
     },
     "execution_count": 96,
     "metadata": {},
     "output_type": "execute_result"
    },
    {
     "data": {
      "image/png": "[encoded data removed]",
      "text/plain": [
       "<Figure size 1296x648 with 1 Axes>"
      ]
     },
     "metadata": {
      "needs_background": "light"
     },
     "output_type": "display_data"
    }
   ],
   "source": [
    "fig = plt.figure(figsize = (18, 9))\n",
    "librosa.display.specshow(beat_chroma, cmap='bwr', sr = 870,\n",
    "                         x_axis = 's', y_axis = 'chroma')"
   ]
  },
  {
   "cell_type": "code",
   "execution_count": 74,
   "id": "bbd7c8b9-8fb1-45fe-8e7e-4711de736cb3",
   "metadata": {
    "ExecuteTime": {
     "end_time": "2021-06-24T13:43:46.119640Z",
     "start_time": "2021-06-24T13:43:46.105125Z"
    }
   },
   "outputs": [],
   "source": [
    "beat_features = np.vstack([beat_chroma, beat_mfcc_delta])"
   ]
  },
  {
   "cell_type": "code",
   "execution_count": 75,
   "id": "33157642-d8c2-42fd-92b4-32f6715b5ca8",
   "metadata": {
    "ExecuteTime": {
     "end_time": "2021-06-24T13:43:46.135142Z",
     "start_time": "2021-06-24T13:43:46.121140Z"
    }
   },
   "outputs": [
    {
     "data": {
      "text/plain": [
       "(52, 51)"
      ]
     },
     "execution_count": 75,
     "metadata": {},
     "output_type": "execute_result"
    }
   ],
   "source": [
    "beat_features.shape"
   ]
  },
  {
   "cell_type": "code",
   "execution_count": 76,
   "id": "11cfcf39-2c10-4117-8a1c-c0710935474f",
   "metadata": {
    "ExecuteTime": {
     "end_time": "2021-06-24T13:43:46.181650Z",
     "start_time": "2021-06-24T13:43:46.136643Z"
    }
   },
   "outputs": [
    {
     "data": {
      "text/html": [
       "<div>\n",
       "<style scoped>\n",
       "    .dataframe tbody tr th:only-of-type {\n",
       "        vertical-align: middle;\n",
       "    }\n",
       "\n",
       "    .dataframe tbody tr th {\n",
       "        vertical-align: top;\n",
       "    }\n",
       "\n",
       "    .dataframe thead th {\n",
       "        text-align: right;\n",
       "    }\n",
       "</style>\n",
       "<table border=\"1\" class=\"dataframe\">\n",
       "  <thead>\n",
       "    <tr style=\"text-align: right;\">\n",
       "      <th></th>\n",
       "      <th>0</th>\n",
       "      <th>1</th>\n",
       "      <th>2</th>\n",
       "      <th>3</th>\n",
       "      <th>4</th>\n",
       "      <th>5</th>\n",
       "      <th>6</th>\n",
       "      <th>7</th>\n",
       "      <th>8</th>\n",
       "      <th>9</th>\n",
       "      <th>...</th>\n",
       "      <th>41</th>\n",
       "      <th>42</th>\n",
       "      <th>43</th>\n",
       "      <th>44</th>\n",
       "      <th>45</th>\n",
       "      <th>46</th>\n",
       "      <th>47</th>\n",
       "      <th>48</th>\n",
       "      <th>49</th>\n",
       "      <th>50</th>\n",
       "    </tr>\n",
       "  </thead>\n",
       "  <tbody>\n",
       "    <tr>\n",
       "      <th>0</th>\n",
       "      <td>0.140591</td>\n",
       "      <td>0.143195</td>\n",
       "      <td>0.103118</td>\n",
       "      <td>0.073659</td>\n",
       "      <td>0.182720</td>\n",
       "      <td>0.030481</td>\n",
       "      <td>0.067744</td>\n",
       "      <td>0.143341</td>\n",
       "      <td>0.112983</td>\n",
       "      <td>0.410379</td>\n",
       "      <td>...</td>\n",
       "      <td>0.718724</td>\n",
       "      <td>1.000000</td>\n",
       "      <td>0.362366</td>\n",
       "      <td>0.150746</td>\n",
       "      <td>0.052955</td>\n",
       "      <td>0.064587</td>\n",
       "      <td>0.106315</td>\n",
       "      <td>0.138361</td>\n",
       "      <td>0.061327</td>\n",
       "      <td>0.240933</td>\n",
       "    </tr>\n",
       "    <tr>\n",
       "      <th>1</th>\n",
       "      <td>0.268241</td>\n",
       "      <td>0.251624</td>\n",
       "      <td>0.147504</td>\n",
       "      <td>0.090298</td>\n",
       "      <td>0.214915</td>\n",
       "      <td>0.048427</td>\n",
       "      <td>0.092101</td>\n",
       "      <td>0.147165</td>\n",
       "      <td>0.197657</td>\n",
       "      <td>0.112224</td>\n",
       "      <td>...</td>\n",
       "      <td>0.161562</td>\n",
       "      <td>0.141423</td>\n",
       "      <td>0.212489</td>\n",
       "      <td>0.178161</td>\n",
       "      <td>0.085869</td>\n",
       "      <td>0.105818</td>\n",
       "      <td>0.145367</td>\n",
       "      <td>0.202202</td>\n",
       "      <td>0.081068</td>\n",
       "      <td>0.175876</td>\n",
       "    </tr>\n",
       "    <tr>\n",
       "      <th>2</th>\n",
       "      <td>0.315231</td>\n",
       "      <td>0.257086</td>\n",
       "      <td>0.524504</td>\n",
       "      <td>0.285720</td>\n",
       "      <td>0.348350</td>\n",
       "      <td>0.189084</td>\n",
       "      <td>0.446223</td>\n",
       "      <td>0.333543</td>\n",
       "      <td>0.520590</td>\n",
       "      <td>0.148376</td>\n",
       "      <td>...</td>\n",
       "      <td>0.128740</td>\n",
       "      <td>0.084215</td>\n",
       "      <td>0.284878</td>\n",
       "      <td>0.419671</td>\n",
       "      <td>0.210965</td>\n",
       "      <td>0.336595</td>\n",
       "      <td>0.278612</td>\n",
       "      <td>0.506896</td>\n",
       "      <td>0.185177</td>\n",
       "      <td>0.179448</td>\n",
       "    </tr>\n",
       "    <tr>\n",
       "      <th>3</th>\n",
       "      <td>1.000000</td>\n",
       "      <td>1.000000</td>\n",
       "      <td>1.000000</td>\n",
       "      <td>1.000000</td>\n",
       "      <td>0.881800</td>\n",
       "      <td>0.636310</td>\n",
       "      <td>0.346864</td>\n",
       "      <td>1.000000</td>\n",
       "      <td>1.000000</td>\n",
       "      <td>1.000000</td>\n",
       "      <td>...</td>\n",
       "      <td>1.000000</td>\n",
       "      <td>0.182154</td>\n",
       "      <td>1.000000</td>\n",
       "      <td>0.882403</td>\n",
       "      <td>1.000000</td>\n",
       "      <td>0.199461</td>\n",
       "      <td>1.000000</td>\n",
       "      <td>0.905861</td>\n",
       "      <td>1.000000</td>\n",
       "      <td>0.245042</td>\n",
       "    </tr>\n",
       "    <tr>\n",
       "      <th>4</th>\n",
       "      <td>0.404290</td>\n",
       "      <td>0.776869</td>\n",
       "      <td>0.802358</td>\n",
       "      <td>0.792786</td>\n",
       "      <td>1.000000</td>\n",
       "      <td>0.330113</td>\n",
       "      <td>0.516725</td>\n",
       "      <td>0.958284</td>\n",
       "      <td>0.729286</td>\n",
       "      <td>0.753970</td>\n",
       "      <td>...</td>\n",
       "      <td>0.583098</td>\n",
       "      <td>0.164307</td>\n",
       "      <td>0.831907</td>\n",
       "      <td>1.000000</td>\n",
       "      <td>0.501834</td>\n",
       "      <td>0.242835</td>\n",
       "      <td>0.857405</td>\n",
       "      <td>1.000000</td>\n",
       "      <td>0.561245</td>\n",
       "      <td>0.205216</td>\n",
       "    </tr>\n",
       "    <tr>\n",
       "      <th>5</th>\n",
       "      <td>0.538746</td>\n",
       "      <td>0.528688</td>\n",
       "      <td>0.458218</td>\n",
       "      <td>0.336409</td>\n",
       "      <td>0.601165</td>\n",
       "      <td>0.061027</td>\n",
       "      <td>0.300690</td>\n",
       "      <td>0.558972</td>\n",
       "      <td>0.379746</td>\n",
       "      <td>0.292511</td>\n",
       "      <td>...</td>\n",
       "      <td>0.155357</td>\n",
       "      <td>0.063477</td>\n",
       "      <td>0.441416</td>\n",
       "      <td>0.580075</td>\n",
       "      <td>0.109641</td>\n",
       "      <td>0.196147</td>\n",
       "      <td>0.394860</td>\n",
       "      <td>0.567653</td>\n",
       "      <td>0.130442</td>\n",
       "      <td>0.117120</td>\n",
       "    </tr>\n",
       "    <tr>\n",
       "      <th>6</th>\n",
       "      <td>0.349541</td>\n",
       "      <td>0.349945</td>\n",
       "      <td>0.341969</td>\n",
       "      <td>0.244826</td>\n",
       "      <td>0.454802</td>\n",
       "      <td>0.069336</td>\n",
       "      <td>0.206167</td>\n",
       "      <td>0.389500</td>\n",
       "      <td>0.288646</td>\n",
       "      <td>0.181487</td>\n",
       "      <td>...</td>\n",
       "      <td>0.091605</td>\n",
       "      <td>0.094493</td>\n",
       "      <td>0.328088</td>\n",
       "      <td>0.405336</td>\n",
       "      <td>0.095238</td>\n",
       "      <td>0.162548</td>\n",
       "      <td>0.282916</td>\n",
       "      <td>0.361043</td>\n",
       "      <td>0.141781</td>\n",
       "      <td>0.188217</td>\n",
       "    </tr>\n",
       "    <tr>\n",
       "      <th>7</th>\n",
       "      <td>0.200043</td>\n",
       "      <td>0.261891</td>\n",
       "      <td>0.508728</td>\n",
       "      <td>0.321712</td>\n",
       "      <td>0.442475</td>\n",
       "      <td>1.000000</td>\n",
       "      <td>1.000000</td>\n",
       "      <td>0.281811</td>\n",
       "      <td>0.181256</td>\n",
       "      <td>0.228343</td>\n",
       "      <td>...</td>\n",
       "      <td>0.246420</td>\n",
       "      <td>0.315980</td>\n",
       "      <td>0.374979</td>\n",
       "      <td>0.490328</td>\n",
       "      <td>0.813232</td>\n",
       "      <td>1.000000</td>\n",
       "      <td>0.248570</td>\n",
       "      <td>0.554804</td>\n",
       "      <td>0.345767</td>\n",
       "      <td>1.000000</td>\n",
       "    </tr>\n",
       "    <tr>\n",
       "      <th>8</th>\n",
       "      <td>0.117074</td>\n",
       "      <td>0.196168</td>\n",
       "      <td>0.218642</td>\n",
       "      <td>0.106623</td>\n",
       "      <td>0.237961</td>\n",
       "      <td>0.071887</td>\n",
       "      <td>0.088645</td>\n",
       "      <td>0.185300</td>\n",
       "      <td>0.152867</td>\n",
       "      <td>0.092848</td>\n",
       "      <td>...</td>\n",
       "      <td>0.125047</td>\n",
       "      <td>0.111414</td>\n",
       "      <td>0.182561</td>\n",
       "      <td>0.343713</td>\n",
       "      <td>0.125788</td>\n",
       "      <td>0.109324</td>\n",
       "      <td>0.138055</td>\n",
       "      <td>0.319564</td>\n",
       "      <td>0.138823</td>\n",
       "      <td>0.328372</td>\n",
       "    </tr>\n",
       "    <tr>\n",
       "      <th>9</th>\n",
       "      <td>0.065563</td>\n",
       "      <td>0.202384</td>\n",
       "      <td>0.194104</td>\n",
       "      <td>0.098748</td>\n",
       "      <td>0.198205</td>\n",
       "      <td>0.025479</td>\n",
       "      <td>0.053826</td>\n",
       "      <td>0.212908</td>\n",
       "      <td>0.463606</td>\n",
       "      <td>0.108947</td>\n",
       "      <td>...</td>\n",
       "      <td>0.135583</td>\n",
       "      <td>0.183011</td>\n",
       "      <td>0.175663</td>\n",
       "      <td>0.231772</td>\n",
       "      <td>0.133710</td>\n",
       "      <td>0.149412</td>\n",
       "      <td>0.128276</td>\n",
       "      <td>0.225066</td>\n",
       "      <td>0.091169</td>\n",
       "      <td>0.405565</td>\n",
       "    </tr>\n",
       "    <tr>\n",
       "      <th>10</th>\n",
       "      <td>0.042615</td>\n",
       "      <td>0.134665</td>\n",
       "      <td>0.113483</td>\n",
       "      <td>0.068628</td>\n",
       "      <td>0.178069</td>\n",
       "      <td>0.025249</td>\n",
       "      <td>0.042966</td>\n",
       "      <td>0.145292</td>\n",
       "      <td>0.107402</td>\n",
       "      <td>0.062083</td>\n",
       "      <td>...</td>\n",
       "      <td>0.062375</td>\n",
       "      <td>0.082162</td>\n",
       "      <td>0.135493</td>\n",
       "      <td>0.161000</td>\n",
       "      <td>0.060313</td>\n",
       "      <td>0.079773</td>\n",
       "      <td>0.104978</td>\n",
       "      <td>0.156347</td>\n",
       "      <td>0.074809</td>\n",
       "      <td>0.198958</td>\n",
       "    </tr>\n",
       "    <tr>\n",
       "      <th>11</th>\n",
       "      <td>0.046940</td>\n",
       "      <td>0.110350</td>\n",
       "      <td>0.144749</td>\n",
       "      <td>0.080682</td>\n",
       "      <td>0.185409</td>\n",
       "      <td>0.092975</td>\n",
       "      <td>0.079842</td>\n",
       "      <td>0.131267</td>\n",
       "      <td>0.090369</td>\n",
       "      <td>0.047076</td>\n",
       "      <td>...</td>\n",
       "      <td>0.060942</td>\n",
       "      <td>0.087215</td>\n",
       "      <td>0.132674</td>\n",
       "      <td>0.153685</td>\n",
       "      <td>0.073525</td>\n",
       "      <td>0.109909</td>\n",
       "      <td>0.099207</td>\n",
       "      <td>0.141054</td>\n",
       "      <td>0.047255</td>\n",
       "      <td>0.124556</td>\n",
       "    </tr>\n",
       "    <tr>\n",
       "      <th>12</th>\n",
       "      <td>-319.354156</td>\n",
       "      <td>-285.438904</td>\n",
       "      <td>-238.390884</td>\n",
       "      <td>-300.385773</td>\n",
       "      <td>-239.560471</td>\n",
       "      <td>-247.886551</td>\n",
       "      <td>-208.582672</td>\n",
       "      <td>-280.688904</td>\n",
       "      <td>-229.335815</td>\n",
       "      <td>-281.865356</td>\n",
       "      <td>...</td>\n",
       "      <td>-356.504120</td>\n",
       "      <td>-299.298492</td>\n",
       "      <td>-336.592712</td>\n",
       "      <td>-345.935455</td>\n",
       "      <td>-330.804413</td>\n",
       "      <td>-307.023224</td>\n",
       "      <td>-365.428223</td>\n",
       "      <td>-362.394501</td>\n",
       "      <td>-384.500641</td>\n",
       "      <td>-336.742737</td>\n",
       "    </tr>\n",
       "    <tr>\n",
       "      <th>13</th>\n",
       "      <td>95.264221</td>\n",
       "      <td>123.995903</td>\n",
       "      <td>147.761932</td>\n",
       "      <td>155.990646</td>\n",
       "      <td>153.903900</td>\n",
       "      <td>157.341385</td>\n",
       "      <td>177.171631</td>\n",
       "      <td>117.285110</td>\n",
       "      <td>155.697510</td>\n",
       "      <td>129.667603</td>\n",
       "      <td>...</td>\n",
       "      <td>156.484360</td>\n",
       "      <td>175.271408</td>\n",
       "      <td>139.111618</td>\n",
       "      <td>148.784622</td>\n",
       "      <td>146.953293</td>\n",
       "      <td>172.610825</td>\n",
       "      <td>131.457581</td>\n",
       "      <td>148.965561</td>\n",
       "      <td>128.716034</td>\n",
       "      <td>137.157104</td>\n",
       "    </tr>\n",
       "    <tr>\n",
       "      <th>14</th>\n",
       "      <td>26.805868</td>\n",
       "      <td>16.333754</td>\n",
       "      <td>1.127398</td>\n",
       "      <td>29.019896</td>\n",
       "      <td>3.647394</td>\n",
       "      <td>10.923508</td>\n",
       "      <td>1.577281</td>\n",
       "      <td>12.473599</td>\n",
       "      <td>4.690827</td>\n",
       "      <td>18.220419</td>\n",
       "      <td>...</td>\n",
       "      <td>74.788170</td>\n",
       "      <td>53.203186</td>\n",
       "      <td>57.149906</td>\n",
       "      <td>71.460487</td>\n",
       "      <td>53.068035</td>\n",
       "      <td>55.592075</td>\n",
       "      <td>61.000267</td>\n",
       "      <td>74.363548</td>\n",
       "      <td>73.678520</td>\n",
       "      <td>43.485847</td>\n",
       "    </tr>\n",
       "    <tr>\n",
       "      <th>15</th>\n",
       "      <td>71.113106</td>\n",
       "      <td>61.026466</td>\n",
       "      <td>38.112957</td>\n",
       "      <td>20.038870</td>\n",
       "      <td>33.262569</td>\n",
       "      <td>41.535252</td>\n",
       "      <td>28.453102</td>\n",
       "      <td>63.357010</td>\n",
       "      <td>38.616314</td>\n",
       "      <td>55.548801</td>\n",
       "      <td>...</td>\n",
       "      <td>17.776052</td>\n",
       "      <td>22.400703</td>\n",
       "      <td>36.132572</td>\n",
       "      <td>42.819172</td>\n",
       "      <td>36.335793</td>\n",
       "      <td>27.126980</td>\n",
       "      <td>37.651291</td>\n",
       "      <td>29.997066</td>\n",
       "      <td>34.181320</td>\n",
       "      <td>28.725382</td>\n",
       "    </tr>\n",
       "    <tr>\n",
       "      <th>16</th>\n",
       "      <td>-7.557012</td>\n",
       "      <td>-2.144396</td>\n",
       "      <td>-7.013205</td>\n",
       "      <td>6.048090</td>\n",
       "      <td>-11.940385</td>\n",
       "      <td>-3.962091</td>\n",
       "      <td>-1.802889</td>\n",
       "      <td>-2.853531</td>\n",
       "      <td>-9.156170</td>\n",
       "      <td>-5.703618</td>\n",
       "      <td>...</td>\n",
       "      <td>-3.483731</td>\n",
       "      <td>0.876391</td>\n",
       "      <td>5.146415</td>\n",
       "      <td>2.501416</td>\n",
       "      <td>7.521651</td>\n",
       "      <td>8.238299</td>\n",
       "      <td>18.898140</td>\n",
       "      <td>14.856165</td>\n",
       "      <td>9.777794</td>\n",
       "      <td>1.134599</td>\n",
       "    </tr>\n",
       "    <tr>\n",
       "      <th>17</th>\n",
       "      <td>0.149749</td>\n",
       "      <td>-5.720110</td>\n",
       "      <td>2.023273</td>\n",
       "      <td>6.443385</td>\n",
       "      <td>7.615593</td>\n",
       "      <td>8.506005</td>\n",
       "      <td>17.086718</td>\n",
       "      <td>6.550681</td>\n",
       "      <td>7.675781</td>\n",
       "      <td>-0.586590</td>\n",
       "      <td>...</td>\n",
       "      <td>-5.024930</td>\n",
       "      <td>-4.251783</td>\n",
       "      <td>1.383289</td>\n",
       "      <td>-7.966894</td>\n",
       "      <td>-2.514095</td>\n",
       "      <td>3.570318</td>\n",
       "      <td>3.457069</td>\n",
       "      <td>7.670484</td>\n",
       "      <td>-2.177724</td>\n",
       "      <td>-10.574503</td>\n",
       "    </tr>\n",
       "    <tr>\n",
       "      <th>18</th>\n",
       "      <td>14.032937</td>\n",
       "      <td>12.899278</td>\n",
       "      <td>12.912740</td>\n",
       "      <td>11.406772</td>\n",
       "      <td>25.275143</td>\n",
       "      <td>23.782766</td>\n",
       "      <td>23.578480</td>\n",
       "      <td>24.264965</td>\n",
       "      <td>19.122648</td>\n",
       "      <td>18.234760</td>\n",
       "      <td>...</td>\n",
       "      <td>-2.364274</td>\n",
       "      <td>-0.661432</td>\n",
       "      <td>-1.846746</td>\n",
       "      <td>8.266006</td>\n",
       "      <td>5.498076</td>\n",
       "      <td>8.663851</td>\n",
       "      <td>-1.203786</td>\n",
       "      <td>-0.173200</td>\n",
       "      <td>-4.311632</td>\n",
       "      <td>-6.440691</td>\n",
       "    </tr>\n",
       "    <tr>\n",
       "      <th>19</th>\n",
       "      <td>-9.589095</td>\n",
       "      <td>-7.708902</td>\n",
       "      <td>-4.768863</td>\n",
       "      <td>-3.354024</td>\n",
       "      <td>-3.189608</td>\n",
       "      <td>-11.043540</td>\n",
       "      <td>-7.782317</td>\n",
       "      <td>-5.197773</td>\n",
       "      <td>-9.192860</td>\n",
       "      <td>-11.237305</td>\n",
       "      <td>...</td>\n",
       "      <td>-2.386627</td>\n",
       "      <td>-3.176505</td>\n",
       "      <td>1.997223</td>\n",
       "      <td>-0.378053</td>\n",
       "      <td>0.014542</td>\n",
       "      <td>5.145596</td>\n",
       "      <td>2.926320</td>\n",
       "      <td>-3.520820</td>\n",
       "      <td>-1.975221</td>\n",
       "      <td>-10.338448</td>\n",
       "    </tr>\n",
       "    <tr>\n",
       "      <th>20</th>\n",
       "      <td>12.403385</td>\n",
       "      <td>8.266261</td>\n",
       "      <td>3.521374</td>\n",
       "      <td>0.904514</td>\n",
       "      <td>-4.451100</td>\n",
       "      <td>-5.108131</td>\n",
       "      <td>-9.247429</td>\n",
       "      <td>-1.896847</td>\n",
       "      <td>-7.996212</td>\n",
       "      <td>-1.266965</td>\n",
       "      <td>...</td>\n",
       "      <td>-0.196807</td>\n",
       "      <td>1.126242</td>\n",
       "      <td>6.044413</td>\n",
       "      <td>-1.477121</td>\n",
       "      <td>0.955173</td>\n",
       "      <td>2.251246</td>\n",
       "      <td>8.546371</td>\n",
       "      <td>5.612900</td>\n",
       "      <td>3.509200</td>\n",
       "      <td>-5.297237</td>\n",
       "    </tr>\n",
       "    <tr>\n",
       "      <th>21</th>\n",
       "      <td>28.862913</td>\n",
       "      <td>27.224796</td>\n",
       "      <td>22.623901</td>\n",
       "      <td>15.240704</td>\n",
       "      <td>13.764032</td>\n",
       "      <td>10.208154</td>\n",
       "      <td>6.968937</td>\n",
       "      <td>11.166985</td>\n",
       "      <td>11.296185</td>\n",
       "      <td>17.959766</td>\n",
       "      <td>...</td>\n",
       "      <td>6.728874</td>\n",
       "      <td>11.025067</td>\n",
       "      <td>10.267719</td>\n",
       "      <td>14.715981</td>\n",
       "      <td>15.707561</td>\n",
       "      <td>5.433228</td>\n",
       "      <td>12.048586</td>\n",
       "      <td>16.237553</td>\n",
       "      <td>9.743665</td>\n",
       "      <td>8.411262</td>\n",
       "    </tr>\n",
       "    <tr>\n",
       "      <th>22</th>\n",
       "      <td>6.170616</td>\n",
       "      <td>12.693359</td>\n",
       "      <td>10.410324</td>\n",
       "      <td>3.546126</td>\n",
       "      <td>3.712008</td>\n",
       "      <td>-0.322648</td>\n",
       "      <td>-3.065091</td>\n",
       "      <td>3.337035</td>\n",
       "      <td>0.684643</td>\n",
       "      <td>3.823541</td>\n",
       "      <td>...</td>\n",
       "      <td>13.712470</td>\n",
       "      <td>11.587772</td>\n",
       "      <td>14.731730</td>\n",
       "      <td>13.305575</td>\n",
       "      <td>13.428076</td>\n",
       "      <td>12.496309</td>\n",
       "      <td>14.497257</td>\n",
       "      <td>17.221981</td>\n",
       "      <td>13.825344</td>\n",
       "      <td>8.735010</td>\n",
       "    </tr>\n",
       "    <tr>\n",
       "      <th>23</th>\n",
       "      <td>-6.491600</td>\n",
       "      <td>-1.139676</td>\n",
       "      <td>1.177563</td>\n",
       "      <td>-0.819675</td>\n",
       "      <td>-3.127637</td>\n",
       "      <td>-1.700946</td>\n",
       "      <td>-0.298064</td>\n",
       "      <td>-3.342049</td>\n",
       "      <td>-6.995844</td>\n",
       "      <td>-7.834720</td>\n",
       "      <td>...</td>\n",
       "      <td>17.591246</td>\n",
       "      <td>15.476271</td>\n",
       "      <td>15.036555</td>\n",
       "      <td>13.975294</td>\n",
       "      <td>10.689525</td>\n",
       "      <td>17.002733</td>\n",
       "      <td>16.339203</td>\n",
       "      <td>15.470979</td>\n",
       "      <td>16.562052</td>\n",
       "      <td>9.676519</td>\n",
       "    </tr>\n",
       "    <tr>\n",
       "      <th>24</th>\n",
       "      <td>7.915081</td>\n",
       "      <td>9.125533</td>\n",
       "      <td>8.760653</td>\n",
       "      <td>12.911178</td>\n",
       "      <td>8.603834</td>\n",
       "      <td>12.961760</td>\n",
       "      <td>12.594617</td>\n",
       "      <td>12.930775</td>\n",
       "      <td>5.431726</td>\n",
       "      <td>6.792762</td>\n",
       "      <td>...</td>\n",
       "      <td>17.391981</td>\n",
       "      <td>18.768749</td>\n",
       "      <td>17.948414</td>\n",
       "      <td>21.514360</td>\n",
       "      <td>20.343395</td>\n",
       "      <td>16.923309</td>\n",
       "      <td>19.451057</td>\n",
       "      <td>14.080822</td>\n",
       "      <td>17.889620</td>\n",
       "      <td>15.700082</td>\n",
       "    </tr>\n",
       "    <tr>\n",
       "      <th>25</th>\n",
       "      <td>6.306034</td>\n",
       "      <td>13.768865</td>\n",
       "      <td>14.234909</td>\n",
       "      <td>11.439788</td>\n",
       "      <td>7.019936</td>\n",
       "      <td>6.728306</td>\n",
       "      <td>6.476393</td>\n",
       "      <td>12.918200</td>\n",
       "      <td>14.391278</td>\n",
       "      <td>13.302971</td>\n",
       "      <td>...</td>\n",
       "      <td>12.835297</td>\n",
       "      <td>11.295808</td>\n",
       "      <td>13.405597</td>\n",
       "      <td>11.059657</td>\n",
       "      <td>11.993145</td>\n",
       "      <td>12.920656</td>\n",
       "      <td>16.758774</td>\n",
       "      <td>11.118817</td>\n",
       "      <td>14.749770</td>\n",
       "      <td>10.533558</td>\n",
       "    </tr>\n",
       "    <tr>\n",
       "      <th>26</th>\n",
       "      <td>8.946549</td>\n",
       "      <td>10.899046</td>\n",
       "      <td>9.532872</td>\n",
       "      <td>3.617042</td>\n",
       "      <td>4.947925</td>\n",
       "      <td>-0.344810</td>\n",
       "      <td>-4.794239</td>\n",
       "      <td>5.315039</td>\n",
       "      <td>9.802361</td>\n",
       "      <td>7.912905</td>\n",
       "      <td>...</td>\n",
       "      <td>7.688153</td>\n",
       "      <td>9.008877</td>\n",
       "      <td>10.366564</td>\n",
       "      <td>7.648282</td>\n",
       "      <td>9.279922</td>\n",
       "      <td>10.414055</td>\n",
       "      <td>11.959868</td>\n",
       "      <td>10.588965</td>\n",
       "      <td>8.786694</td>\n",
       "      <td>9.600522</td>\n",
       "    </tr>\n",
       "    <tr>\n",
       "      <th>27</th>\n",
       "      <td>19.740606</td>\n",
       "      <td>19.833921</td>\n",
       "      <td>15.542048</td>\n",
       "      <td>14.379471</td>\n",
       "      <td>13.703074</td>\n",
       "      <td>18.348270</td>\n",
       "      <td>9.835483</td>\n",
       "      <td>10.803185</td>\n",
       "      <td>4.931256</td>\n",
       "      <td>7.100218</td>\n",
       "      <td>...</td>\n",
       "      <td>8.323689</td>\n",
       "      <td>10.631231</td>\n",
       "      <td>10.463808</td>\n",
       "      <td>14.440931</td>\n",
       "      <td>17.141844</td>\n",
       "      <td>8.880974</td>\n",
       "      <td>12.563007</td>\n",
       "      <td>12.541743</td>\n",
       "      <td>7.489459</td>\n",
       "      <td>10.039037</td>\n",
       "    </tr>\n",
       "    <tr>\n",
       "      <th>28</th>\n",
       "      <td>23.939241</td>\n",
       "      <td>21.161097</td>\n",
       "      <td>18.525097</td>\n",
       "      <td>24.322981</td>\n",
       "      <td>19.728041</td>\n",
       "      <td>24.277225</td>\n",
       "      <td>24.348913</td>\n",
       "      <td>12.216905</td>\n",
       "      <td>1.651437</td>\n",
       "      <td>6.449617</td>\n",
       "      <td>...</td>\n",
       "      <td>14.139962</td>\n",
       "      <td>10.282111</td>\n",
       "      <td>14.108305</td>\n",
       "      <td>10.963537</td>\n",
       "      <td>10.900100</td>\n",
       "      <td>9.468394</td>\n",
       "      <td>13.935883</td>\n",
       "      <td>13.375057</td>\n",
       "      <td>13.018617</td>\n",
       "      <td>7.492741</td>\n",
       "    </tr>\n",
       "    <tr>\n",
       "      <th>29</th>\n",
       "      <td>12.318883</td>\n",
       "      <td>13.454814</td>\n",
       "      <td>9.648417</td>\n",
       "      <td>19.892435</td>\n",
       "      <td>13.667091</td>\n",
       "      <td>12.700510</td>\n",
       "      <td>15.718985</td>\n",
       "      <td>10.596549</td>\n",
       "      <td>5.151259</td>\n",
       "      <td>11.663922</td>\n",
       "      <td>...</td>\n",
       "      <td>16.823097</td>\n",
       "      <td>14.477860</td>\n",
       "      <td>15.654055</td>\n",
       "      <td>12.407933</td>\n",
       "      <td>8.019210</td>\n",
       "      <td>12.393089</td>\n",
       "      <td>12.984320</td>\n",
       "      <td>12.976927</td>\n",
       "      <td>17.292135</td>\n",
       "      <td>10.483104</td>\n",
       "    </tr>\n",
       "    <tr>\n",
       "      <th>30</th>\n",
       "      <td>7.343453</td>\n",
       "      <td>10.666454</td>\n",
       "      <td>9.909415</td>\n",
       "      <td>12.164096</td>\n",
       "      <td>11.777374</td>\n",
       "      <td>7.099024</td>\n",
       "      <td>7.066889</td>\n",
       "      <td>16.356161</td>\n",
       "      <td>18.321793</td>\n",
       "      <td>19.729748</td>\n",
       "      <td>...</td>\n",
       "      <td>13.730015</td>\n",
       "      <td>13.030117</td>\n",
       "      <td>12.445123</td>\n",
       "      <td>16.806280</td>\n",
       "      <td>14.505108</td>\n",
       "      <td>11.168164</td>\n",
       "      <td>12.260117</td>\n",
       "      <td>11.383745</td>\n",
       "      <td>15.453578</td>\n",
       "      <td>11.764009</td>\n",
       "    </tr>\n",
       "    <tr>\n",
       "      <th>31</th>\n",
       "      <td>11.388774</td>\n",
       "      <td>7.048932</td>\n",
       "      <td>7.597433</td>\n",
       "      <td>3.459740</td>\n",
       "      <td>8.408683</td>\n",
       "      <td>3.255170</td>\n",
       "      <td>3.116592</td>\n",
       "      <td>15.475437</td>\n",
       "      <td>13.766860</td>\n",
       "      <td>14.512773</td>\n",
       "      <td>...</td>\n",
       "      <td>9.966899</td>\n",
       "      <td>8.877259</td>\n",
       "      <td>12.187448</td>\n",
       "      <td>10.756860</td>\n",
       "      <td>10.970000</td>\n",
       "      <td>7.180939</td>\n",
       "      <td>11.892735</td>\n",
       "      <td>9.748634</td>\n",
       "      <td>11.498058</td>\n",
       "      <td>11.340991</td>\n",
       "    </tr>\n",
       "    <tr>\n",
       "      <th>32</th>\n",
       "      <td>4.505487</td>\n",
       "      <td>2.438528</td>\n",
       "      <td>-1.970958</td>\n",
       "      <td>2.293655</td>\n",
       "      <td>-1.693763</td>\n",
       "      <td>1.806644</td>\n",
       "      <td>-1.357612</td>\n",
       "      <td>1.071556</td>\n",
       "      <td>-1.306681</td>\n",
       "      <td>1.113028</td>\n",
       "      <td>...</td>\n",
       "      <td>1.302042</td>\n",
       "      <td>3.224335</td>\n",
       "      <td>-4.532492</td>\n",
       "      <td>0.161217</td>\n",
       "      <td>1.611856</td>\n",
       "      <td>0.492866</td>\n",
       "      <td>-2.592851</td>\n",
       "      <td>-0.910466</td>\n",
       "      <td>1.320638</td>\n",
       "      <td>0.610419</td>\n",
       "    </tr>\n",
       "    <tr>\n",
       "      <th>33</th>\n",
       "      <td>3.856357</td>\n",
       "      <td>0.481380</td>\n",
       "      <td>0.493618</td>\n",
       "      <td>-0.188057</td>\n",
       "      <td>-0.504423</td>\n",
       "      <td>0.668537</td>\n",
       "      <td>-0.185550</td>\n",
       "      <td>-0.355101</td>\n",
       "      <td>0.263931</td>\n",
       "      <td>-0.031674</td>\n",
       "      <td>...</td>\n",
       "      <td>0.635693</td>\n",
       "      <td>-0.642846</td>\n",
       "      <td>0.278982</td>\n",
       "      <td>-0.522933</td>\n",
       "      <td>0.570276</td>\n",
       "      <td>-0.197015</td>\n",
       "      <td>0.107420</td>\n",
       "      <td>-0.747744</td>\n",
       "      <td>0.428531</td>\n",
       "      <td>-0.123189</td>\n",
       "    </tr>\n",
       "    <tr>\n",
       "      <th>34</th>\n",
       "      <td>-1.544324</td>\n",
       "      <td>-0.869487</td>\n",
       "      <td>0.809531</td>\n",
       "      <td>-0.770777</td>\n",
       "      <td>0.462290</td>\n",
       "      <td>-0.379567</td>\n",
       "      <td>0.311730</td>\n",
       "      <td>-0.485092</td>\n",
       "      <td>0.698308</td>\n",
       "      <td>-0.547737</td>\n",
       "      <td>...</td>\n",
       "      <td>-0.511146</td>\n",
       "      <td>-1.576168</td>\n",
       "      <td>2.281220</td>\n",
       "      <td>-0.607423</td>\n",
       "      <td>-0.503981</td>\n",
       "      <td>-0.378542</td>\n",
       "      <td>1.519302</td>\n",
       "      <td>0.111609</td>\n",
       "      <td>-0.721784</td>\n",
       "      <td>-0.670769</td>\n",
       "    </tr>\n",
       "    <tr>\n",
       "      <th>35</th>\n",
       "      <td>-1.023095</td>\n",
       "      <td>-0.760975</td>\n",
       "      <td>0.231979</td>\n",
       "      <td>-0.229451</td>\n",
       "      <td>0.582088</td>\n",
       "      <td>-0.528853</td>\n",
       "      <td>0.547774</td>\n",
       "      <td>-0.555613</td>\n",
       "      <td>0.627521</td>\n",
       "      <td>-0.595341</td>\n",
       "      <td>...</td>\n",
       "      <td>-0.143141</td>\n",
       "      <td>0.473196</td>\n",
       "      <td>-0.276955</td>\n",
       "      <td>0.247819</td>\n",
       "      <td>-0.025907</td>\n",
       "      <td>0.129034</td>\n",
       "      <td>-0.524536</td>\n",
       "      <td>0.386410</td>\n",
       "      <td>-0.199503</td>\n",
       "      <td>-0.021255</td>\n",
       "    </tr>\n",
       "    <tr>\n",
       "      <th>36</th>\n",
       "      <td>0.290965</td>\n",
       "      <td>-0.359475</td>\n",
       "      <td>0.874205</td>\n",
       "      <td>-0.890660</td>\n",
       "      <td>0.165095</td>\n",
       "      <td>0.076037</td>\n",
       "      <td>0.403405</td>\n",
       "      <td>-0.644208</td>\n",
       "      <td>0.428130</td>\n",
       "      <td>-0.318067</td>\n",
       "      <td>...</td>\n",
       "      <td>-0.014174</td>\n",
       "      <td>-0.240171</td>\n",
       "      <td>0.268548</td>\n",
       "      <td>0.370610</td>\n",
       "      <td>-0.227473</td>\n",
       "      <td>0.093651</td>\n",
       "      <td>-0.066318</td>\n",
       "      <td>0.183172</td>\n",
       "      <td>-0.235321</td>\n",
       "      <td>0.109332</td>\n",
       "    </tr>\n",
       "    <tr>\n",
       "      <th>37</th>\n",
       "      <td>-0.975526</td>\n",
       "      <td>0.131146</td>\n",
       "      <td>0.075830</td>\n",
       "      <td>0.051998</td>\n",
       "      <td>-0.104676</td>\n",
       "      <td>0.202622</td>\n",
       "      <td>0.028289</td>\n",
       "      <td>-0.192871</td>\n",
       "      <td>0.086545</td>\n",
       "      <td>-0.068874</td>\n",
       "      <td>...</td>\n",
       "      <td>-0.049149</td>\n",
       "      <td>0.491446</td>\n",
       "      <td>-0.575264</td>\n",
       "      <td>0.189656</td>\n",
       "      <td>0.087323</td>\n",
       "      <td>0.152810</td>\n",
       "      <td>-0.184261</td>\n",
       "      <td>-0.083994</td>\n",
       "      <td>-0.235637</td>\n",
       "      <td>0.001732</td>\n",
       "    </tr>\n",
       "    <tr>\n",
       "      <th>38</th>\n",
       "      <td>0.556847</td>\n",
       "      <td>-0.182144</td>\n",
       "      <td>0.243742</td>\n",
       "      <td>-0.207719</td>\n",
       "      <td>0.280002</td>\n",
       "      <td>-0.203824</td>\n",
       "      <td>0.224454</td>\n",
       "      <td>-0.249222</td>\n",
       "      <td>0.262500</td>\n",
       "      <td>-0.305028</td>\n",
       "      <td>...</td>\n",
       "      <td>0.041681</td>\n",
       "      <td>-0.196651</td>\n",
       "      <td>0.178864</td>\n",
       "      <td>-0.029700</td>\n",
       "      <td>0.126705</td>\n",
       "      <td>-0.100848</td>\n",
       "      <td>0.051730</td>\n",
       "      <td>-0.100166</td>\n",
       "      <td>-0.007517</td>\n",
       "      <td>-0.150344</td>\n",
       "    </tr>\n",
       "    <tr>\n",
       "      <th>39</th>\n",
       "      <td>0.194611</td>\n",
       "      <td>0.256818</td>\n",
       "      <td>-0.155274</td>\n",
       "      <td>0.175639</td>\n",
       "      <td>-0.186880</td>\n",
       "      <td>0.186677</td>\n",
       "      <td>-0.204037</td>\n",
       "      <td>0.259138</td>\n",
       "      <td>-0.187057</td>\n",
       "      <td>0.047597</td>\n",
       "      <td>...</td>\n",
       "      <td>-0.179177</td>\n",
       "      <td>0.244444</td>\n",
       "      <td>-0.064115</td>\n",
       "      <td>0.025395</td>\n",
       "      <td>-0.111145</td>\n",
       "      <td>0.041120</td>\n",
       "      <td>-0.056679</td>\n",
       "      <td>0.111441</td>\n",
       "      <td>-0.207348</td>\n",
       "      <td>-0.151415</td>\n",
       "    </tr>\n",
       "    <tr>\n",
       "      <th>40</th>\n",
       "      <td>-0.260998</td>\n",
       "      <td>-0.137018</td>\n",
       "      <td>0.090008</td>\n",
       "      <td>-0.165040</td>\n",
       "      <td>-0.072764</td>\n",
       "      <td>0.012903</td>\n",
       "      <td>-0.053224</td>\n",
       "      <td>0.076304</td>\n",
       "      <td>0.117628</td>\n",
       "      <td>-0.070648</td>\n",
       "      <td>...</td>\n",
       "      <td>-0.145227</td>\n",
       "      <td>0.060798</td>\n",
       "      <td>0.098057</td>\n",
       "      <td>0.039556</td>\n",
       "      <td>0.007187</td>\n",
       "      <td>-0.005943</td>\n",
       "      <td>-0.120530</td>\n",
       "      <td>0.161825</td>\n",
       "      <td>-0.198311</td>\n",
       "      <td>-0.098679</td>\n",
       "    </tr>\n",
       "    <tr>\n",
       "      <th>41</th>\n",
       "      <td>0.290731</td>\n",
       "      <td>0.013004</td>\n",
       "      <td>-0.090463</td>\n",
       "      <td>-0.116665</td>\n",
       "      <td>-0.125849</td>\n",
       "      <td>0.131107</td>\n",
       "      <td>-0.189961</td>\n",
       "      <td>0.228309</td>\n",
       "      <td>-0.072926</td>\n",
       "      <td>0.147925</td>\n",
       "      <td>...</td>\n",
       "      <td>0.068048</td>\n",
       "      <td>-0.124164</td>\n",
       "      <td>0.090672</td>\n",
       "      <td>-0.009495</td>\n",
       "      <td>0.051521</td>\n",
       "      <td>-0.091933</td>\n",
       "      <td>0.140295</td>\n",
       "      <td>0.011788</td>\n",
       "      <td>-0.026055</td>\n",
       "      <td>-0.096252</td>\n",
       "    </tr>\n",
       "    <tr>\n",
       "      <th>42</th>\n",
       "      <td>1.482290</td>\n",
       "      <td>-0.121631</td>\n",
       "      <td>0.106561</td>\n",
       "      <td>-0.155871</td>\n",
       "      <td>0.161185</td>\n",
       "      <td>-0.208787</td>\n",
       "      <td>0.131191</td>\n",
       "      <td>-0.130470</td>\n",
       "      <td>0.168322</td>\n",
       "      <td>-0.099633</td>\n",
       "      <td>...</td>\n",
       "      <td>-0.069288</td>\n",
       "      <td>-0.059441</td>\n",
       "      <td>0.042269</td>\n",
       "      <td>0.112052</td>\n",
       "      <td>-0.057274</td>\n",
       "      <td>0.069291</td>\n",
       "      <td>0.071394</td>\n",
       "      <td>-0.041222</td>\n",
       "      <td>-0.122900</td>\n",
       "      <td>-0.049992</td>\n",
       "    </tr>\n",
       "    <tr>\n",
       "      <th>43</th>\n",
       "      <td>0.732543</td>\n",
       "      <td>0.130160</td>\n",
       "      <td>0.030200</td>\n",
       "      <td>-0.161914</td>\n",
       "      <td>0.099084</td>\n",
       "      <td>-0.025348</td>\n",
       "      <td>-0.029771</td>\n",
       "      <td>0.018227</td>\n",
       "      <td>-0.038883</td>\n",
       "      <td>-0.004126</td>\n",
       "      <td>...</td>\n",
       "      <td>-0.122339</td>\n",
       "      <td>-0.087734</td>\n",
       "      <td>0.126256</td>\n",
       "      <td>0.061086</td>\n",
       "      <td>-0.159393</td>\n",
       "      <td>-0.071502</td>\n",
       "      <td>0.252035</td>\n",
       "      <td>0.019394</td>\n",
       "      <td>-0.087927</td>\n",
       "      <td>-0.195561</td>\n",
       "    </tr>\n",
       "    <tr>\n",
       "      <th>44</th>\n",
       "      <td>0.525841</td>\n",
       "      <td>-0.057750</td>\n",
       "      <td>0.064254</td>\n",
       "      <td>-0.136234</td>\n",
       "      <td>0.227901</td>\n",
       "      <td>-0.229110</td>\n",
       "      <td>0.201215</td>\n",
       "      <td>-0.215471</td>\n",
       "      <td>0.289781</td>\n",
       "      <td>-0.313658</td>\n",
       "      <td>...</td>\n",
       "      <td>0.014199</td>\n",
       "      <td>-0.066634</td>\n",
       "      <td>0.121922</td>\n",
       "      <td>-0.023761</td>\n",
       "      <td>-0.082968</td>\n",
       "      <td>-0.017245</td>\n",
       "      <td>-0.037775</td>\n",
       "      <td>0.085215</td>\n",
       "      <td>0.050403</td>\n",
       "      <td>-0.110357</td>\n",
       "    </tr>\n",
       "    <tr>\n",
       "      <th>45</th>\n",
       "      <td>1.743675</td>\n",
       "      <td>0.003122</td>\n",
       "      <td>-0.015604</td>\n",
       "      <td>-0.141358</td>\n",
       "      <td>0.064847</td>\n",
       "      <td>-0.048364</td>\n",
       "      <td>0.097681</td>\n",
       "      <td>-0.047517</td>\n",
       "      <td>0.162986</td>\n",
       "      <td>-0.166766</td>\n",
       "      <td>...</td>\n",
       "      <td>-0.015785</td>\n",
       "      <td>-0.096471</td>\n",
       "      <td>0.174180</td>\n",
       "      <td>0.009866</td>\n",
       "      <td>-0.033281</td>\n",
       "      <td>-0.058105</td>\n",
       "      <td>-0.094586</td>\n",
       "      <td>0.160168</td>\n",
       "      <td>-0.028848</td>\n",
       "      <td>0.053289</td>\n",
       "    </tr>\n",
       "    <tr>\n",
       "      <th>46</th>\n",
       "      <td>0.027578</td>\n",
       "      <td>-0.027590</td>\n",
       "      <td>-0.111978</td>\n",
       "      <td>0.045745</td>\n",
       "      <td>-0.020145</td>\n",
       "      <td>-0.045572</td>\n",
       "      <td>0.070275</td>\n",
       "      <td>-0.019322</td>\n",
       "      <td>0.071420</td>\n",
       "      <td>-0.012954</td>\n",
       "      <td>...</td>\n",
       "      <td>-0.056588</td>\n",
       "      <td>0.095482</td>\n",
       "      <td>-0.101232</td>\n",
       "      <td>0.074364</td>\n",
       "      <td>-0.020489</td>\n",
       "      <td>-0.055553</td>\n",
       "      <td>-0.008341</td>\n",
       "      <td>0.137687</td>\n",
       "      <td>-0.122290</td>\n",
       "      <td>-0.058377</td>\n",
       "    </tr>\n",
       "    <tr>\n",
       "      <th>47</th>\n",
       "      <td>-0.460710</td>\n",
       "      <td>0.000667</td>\n",
       "      <td>-0.135403</td>\n",
       "      <td>-0.000379</td>\n",
       "      <td>0.047946</td>\n",
       "      <td>0.001954</td>\n",
       "      <td>-0.063923</td>\n",
       "      <td>-0.009635</td>\n",
       "      <td>-0.163838</td>\n",
       "      <td>0.099131</td>\n",
       "      <td>...</td>\n",
       "      <td>-0.063323</td>\n",
       "      <td>0.037443</td>\n",
       "      <td>-0.029271</td>\n",
       "      <td>0.034192</td>\n",
       "      <td>-0.050284</td>\n",
       "      <td>0.103050</td>\n",
       "      <td>0.032494</td>\n",
       "      <td>-0.013480</td>\n",
       "      <td>-0.157688</td>\n",
       "      <td>0.068112</td>\n",
       "    </tr>\n",
       "    <tr>\n",
       "      <th>48</th>\n",
       "      <td>-0.735250</td>\n",
       "      <td>-0.029691</td>\n",
       "      <td>0.031326</td>\n",
       "      <td>-0.111311</td>\n",
       "      <td>0.097262</td>\n",
       "      <td>-0.037713</td>\n",
       "      <td>-0.008396</td>\n",
       "      <td>-0.151684</td>\n",
       "      <td>-0.121890</td>\n",
       "      <td>-0.005623</td>\n",
       "      <td>...</td>\n",
       "      <td>-0.085523</td>\n",
       "      <td>-0.011978</td>\n",
       "      <td>0.085059</td>\n",
       "      <td>0.006057</td>\n",
       "      <td>-0.033507</td>\n",
       "      <td>-0.039861</td>\n",
       "      <td>0.139683</td>\n",
       "      <td>-0.054577</td>\n",
       "      <td>-0.074797</td>\n",
       "      <td>0.108497</td>\n",
       "    </tr>\n",
       "    <tr>\n",
       "      <th>49</th>\n",
       "      <td>0.834770</td>\n",
       "      <td>-0.054836</td>\n",
       "      <td>0.060462</td>\n",
       "      <td>-0.108931</td>\n",
       "      <td>0.098502</td>\n",
       "      <td>-0.082431</td>\n",
       "      <td>0.056707</td>\n",
       "      <td>-0.132426</td>\n",
       "      <td>0.078999</td>\n",
       "      <td>-0.132709</td>\n",
       "      <td>...</td>\n",
       "      <td>-0.003278</td>\n",
       "      <td>-0.066758</td>\n",
       "      <td>0.076778</td>\n",
       "      <td>-0.027432</td>\n",
       "      <td>0.027107</td>\n",
       "      <td>-0.126925</td>\n",
       "      <td>0.056861</td>\n",
       "      <td>0.041340</td>\n",
       "      <td>0.041843</td>\n",
       "      <td>-0.165652</td>\n",
       "    </tr>\n",
       "    <tr>\n",
       "      <th>50</th>\n",
       "      <td>1.205576</td>\n",
       "      <td>0.083835</td>\n",
       "      <td>-0.071308</td>\n",
       "      <td>0.039793</td>\n",
       "      <td>-0.048776</td>\n",
       "      <td>0.069422</td>\n",
       "      <td>-0.094031</td>\n",
       "      <td>0.120739</td>\n",
       "      <td>0.015767</td>\n",
       "      <td>-0.041321</td>\n",
       "      <td>...</td>\n",
       "      <td>-0.019583</td>\n",
       "      <td>-0.145226</td>\n",
       "      <td>0.136787</td>\n",
       "      <td>-0.003931</td>\n",
       "      <td>-0.018368</td>\n",
       "      <td>-0.029539</td>\n",
       "      <td>-0.010676</td>\n",
       "      <td>0.091977</td>\n",
       "      <td>-0.082719</td>\n",
       "      <td>-0.026289</td>\n",
       "    </tr>\n",
       "    <tr>\n",
       "      <th>51</th>\n",
       "      <td>-0.991637</td>\n",
       "      <td>-0.026127</td>\n",
       "      <td>-0.083794</td>\n",
       "      <td>0.106101</td>\n",
       "      <td>0.005633</td>\n",
       "      <td>0.002825</td>\n",
       "      <td>-0.019252</td>\n",
       "      <td>0.092001</td>\n",
       "      <td>-0.020939</td>\n",
       "      <td>-0.069448</td>\n",
       "      <td>...</td>\n",
       "      <td>-0.099479</td>\n",
       "      <td>0.022005</td>\n",
       "      <td>-0.029418</td>\n",
       "      <td>0.065768</td>\n",
       "      <td>-0.057403</td>\n",
       "      <td>-0.021473</td>\n",
       "      <td>0.001376</td>\n",
       "      <td>0.115051</td>\n",
       "      <td>-0.192306</td>\n",
       "      <td>0.117742</td>\n",
       "    </tr>\n",
       "  </tbody>\n",
       "</table>\n",
       "<p>52 rows × 51 columns</p>\n",
       "</div>"
      ],
      "text/plain": [
       "            0           1           2           3           4           5   \\\n",
       "0     0.140591    0.143195    0.103118    0.073659    0.182720    0.030481   \n",
       "1     0.268241    0.251624    0.147504    0.090298    0.214915    0.048427   \n",
       "2     0.315231    0.257086    0.524504    0.285720    0.348350    0.189084   \n",
       "3     1.000000    1.000000    1.000000    1.000000    0.881800    0.636310   \n",
       "4     0.404290    0.776869    0.802358    0.792786    1.000000    0.330113   \n",
       "5     0.538746    0.528688    0.458218    0.336409    0.601165    0.061027   \n",
       "6     0.349541    0.349945    0.341969    0.244826    0.454802    0.069336   \n",
       "7     0.200043    0.261891    0.508728    0.321712    0.442475    1.000000   \n",
       "8     0.117074    0.196168    0.218642    0.106623    0.237961    0.071887   \n",
       "9     0.065563    0.202384    0.194104    0.098748    0.198205    0.025479   \n",
       "10    0.042615    0.134665    0.113483    0.068628    0.178069    0.025249   \n",
       "11    0.046940    0.110350    0.144749    0.080682    0.185409    0.092975   \n",
       "12 -319.354156 -285.438904 -238.390884 -300.385773 -239.560471 -247.886551   \n",
       "13   95.264221  123.995903  147.761932  155.990646  153.903900  157.341385   \n",
       "14   26.805868   16.333754    1.127398   29.019896    3.647394   10.923508   \n",
       "15   71.113106   61.026466   38.112957   20.038870   33.262569   41.535252   \n",
       "16   -7.557012   -2.144396   -7.013205    6.048090  -11.940385   -3.962091   \n",
       "17    0.149749   -5.720110    2.023273    6.443385    7.615593    8.506005   \n",
       "18   14.032937   12.899278   12.912740   11.406772   25.275143   23.782766   \n",
       "19   -9.589095   -7.708902   -4.768863   -3.354024   -3.189608  -11.043540   \n",
       "20   12.403385    8.266261    3.521374    0.904514   -4.451100   -5.108131   \n",
       "21   28.862913   27.224796   22.623901   15.240704   13.764032   10.208154   \n",
       "22    6.170616   12.693359   10.410324    3.546126    3.712008   -0.322648   \n",
       "23   -6.491600   -1.139676    1.177563   -0.819675   -3.127637   -1.700946   \n",
       "24    7.915081    9.125533    8.760653   12.911178    8.603834   12.961760   \n",
       "25    6.306034   13.768865   14.234909   11.439788    7.019936    6.728306   \n",
       "26    8.946549   10.899046    9.532872    3.617042    4.947925   -0.344810   \n",
       "27   19.740606   19.833921   15.542048   14.379471   13.703074   18.348270   \n",
       "28   23.939241   21.161097   18.525097   24.322981   19.728041   24.277225   \n",
       "29   12.318883   13.454814    9.648417   19.892435   13.667091   12.700510   \n",
       "30    7.343453   10.666454    9.909415   12.164096   11.777374    7.099024   \n",
       "31   11.388774    7.048932    7.597433    3.459740    8.408683    3.255170   \n",
       "32    4.505487    2.438528   -1.970958    2.293655   -1.693763    1.806644   \n",
       "33    3.856357    0.481380    0.493618   -0.188057   -0.504423    0.668537   \n",
       "34   -1.544324   -0.869487    0.809531   -0.770777    0.462290   -0.379567   \n",
       "35   -1.023095   -0.760975    0.231979   -0.229451    0.582088   -0.528853   \n",
       "36    0.290965   -0.359475    0.874205   -0.890660    0.165095    0.076037   \n",
       "37   -0.975526    0.131146    0.075830    0.051998   -0.104676    0.202622   \n",
       "38    0.556847   -0.182144    0.243742   -0.207719    0.280002   -0.203824   \n",
       "39    0.194611    0.256818   -0.155274    0.175639   -0.186880    0.186677   \n",
       "40   -0.260998   -0.137018    0.090008   -0.165040   -0.072764    0.012903   \n",
       "41    0.290731    0.013004   -0.090463   -0.116665   -0.125849    0.131107   \n",
       "42    1.482290   -0.121631    0.106561   -0.155871    0.161185   -0.208787   \n",
       "43    0.732543    0.130160    0.030200   -0.161914    0.099084   -0.025348   \n",
       "44    0.525841   -0.057750    0.064254   -0.136234    0.227901   -0.229110   \n",
       "45    1.743675    0.003122   -0.015604   -0.141358    0.064847   -0.048364   \n",
       "46    0.027578   -0.027590   -0.111978    0.045745   -0.020145   -0.045572   \n",
       "47   -0.460710    0.000667   -0.135403   -0.000379    0.047946    0.001954   \n",
       "48   -0.735250   -0.029691    0.031326   -0.111311    0.097262   -0.037713   \n",
       "49    0.834770   -0.054836    0.060462   -0.108931    0.098502   -0.082431   \n",
       "50    1.205576    0.083835   -0.071308    0.039793   -0.048776    0.069422   \n",
       "51   -0.991637   -0.026127   -0.083794    0.106101    0.005633    0.002825   \n",
       "\n",
       "            6           7           8           9   ...          41  \\\n",
       "0     0.067744    0.143341    0.112983    0.410379  ...    0.718724   \n",
       "1     0.092101    0.147165    0.197657    0.112224  ...    0.161562   \n",
       "2     0.446223    0.333543    0.520590    0.148376  ...    0.128740   \n",
       "3     0.346864    1.000000    1.000000    1.000000  ...    1.000000   \n",
       "4     0.516725    0.958284    0.729286    0.753970  ...    0.583098   \n",
       "5     0.300690    0.558972    0.379746    0.292511  ...    0.155357   \n",
       "6     0.206167    0.389500    0.288646    0.181487  ...    0.091605   \n",
       "7     1.000000    0.281811    0.181256    0.228343  ...    0.246420   \n",
       "8     0.088645    0.185300    0.152867    0.092848  ...    0.125047   \n",
       "9     0.053826    0.212908    0.463606    0.108947  ...    0.135583   \n",
       "10    0.042966    0.145292    0.107402    0.062083  ...    0.062375   \n",
       "11    0.079842    0.131267    0.090369    0.047076  ...    0.060942   \n",
       "12 -208.582672 -280.688904 -229.335815 -281.865356  ... -356.504120   \n",
       "13  177.171631  117.285110  155.697510  129.667603  ...  156.484360   \n",
       "14    1.577281   12.473599    4.690827   18.220419  ...   74.788170   \n",
       "15   28.453102   63.357010   38.616314   55.548801  ...   17.776052   \n",
       "16   -1.802889   -2.853531   -9.156170   -5.703618  ...   -3.483731   \n",
       "17   17.086718    6.550681    7.675781   -0.586590  ...   -5.024930   \n",
       "18   23.578480   24.264965   19.122648   18.234760  ...   -2.364274   \n",
       "19   -7.782317   -5.197773   -9.192860  -11.237305  ...   -2.386627   \n",
       "20   -9.247429   -1.896847   -7.996212   -1.266965  ...   -0.196807   \n",
       "21    6.968937   11.166985   11.296185   17.959766  ...    6.728874   \n",
       "22   -3.065091    3.337035    0.684643    3.823541  ...   13.712470   \n",
       "23   -0.298064   -3.342049   -6.995844   -7.834720  ...   17.591246   \n",
       "24   12.594617   12.930775    5.431726    6.792762  ...   17.391981   \n",
       "25    6.476393   12.918200   14.391278   13.302971  ...   12.835297   \n",
       "26   -4.794239    5.315039    9.802361    7.912905  ...    7.688153   \n",
       "27    9.835483   10.803185    4.931256    7.100218  ...    8.323689   \n",
       "28   24.348913   12.216905    1.651437    6.449617  ...   14.139962   \n",
       "29   15.718985   10.596549    5.151259   11.663922  ...   16.823097   \n",
       "30    7.066889   16.356161   18.321793   19.729748  ...   13.730015   \n",
       "31    3.116592   15.475437   13.766860   14.512773  ...    9.966899   \n",
       "32   -1.357612    1.071556   -1.306681    1.113028  ...    1.302042   \n",
       "33   -0.185550   -0.355101    0.263931   -0.031674  ...    0.635693   \n",
       "34    0.311730   -0.485092    0.698308   -0.547737  ...   -0.511146   \n",
       "35    0.547774   -0.555613    0.627521   -0.595341  ...   -0.143141   \n",
       "36    0.403405   -0.644208    0.428130   -0.318067  ...   -0.014174   \n",
       "37    0.028289   -0.192871    0.086545   -0.068874  ...   -0.049149   \n",
       "38    0.224454   -0.249222    0.262500   -0.305028  ...    0.041681   \n",
       "39   -0.204037    0.259138   -0.187057    0.047597  ...   -0.179177   \n",
       "40   -0.053224    0.076304    0.117628   -0.070648  ...   -0.145227   \n",
       "41   -0.189961    0.228309   -0.072926    0.147925  ...    0.068048   \n",
       "42    0.131191   -0.130470    0.168322   -0.099633  ...   -0.069288   \n",
       "43   -0.029771    0.018227   -0.038883   -0.004126  ...   -0.122339   \n",
       "44    0.201215   -0.215471    0.289781   -0.313658  ...    0.014199   \n",
       "45    0.097681   -0.047517    0.162986   -0.166766  ...   -0.015785   \n",
       "46    0.070275   -0.019322    0.071420   -0.012954  ...   -0.056588   \n",
       "47   -0.063923   -0.009635   -0.163838    0.099131  ...   -0.063323   \n",
       "48   -0.008396   -0.151684   -0.121890   -0.005623  ...   -0.085523   \n",
       "49    0.056707   -0.132426    0.078999   -0.132709  ...   -0.003278   \n",
       "50   -0.094031    0.120739    0.015767   -0.041321  ...   -0.019583   \n",
       "51   -0.019252    0.092001   -0.020939   -0.069448  ...   -0.099479   \n",
       "\n",
       "            42          43          44          45          46          47  \\\n",
       "0     1.000000    0.362366    0.150746    0.052955    0.064587    0.106315   \n",
       "1     0.141423    0.212489    0.178161    0.085869    0.105818    0.145367   \n",
       "2     0.084215    0.284878    0.419671    0.210965    0.336595    0.278612   \n",
       "3     0.182154    1.000000    0.882403    1.000000    0.199461    1.000000   \n",
       "4     0.164307    0.831907    1.000000    0.501834    0.242835    0.857405   \n",
       "5     0.063477    0.441416    0.580075    0.109641    0.196147    0.394860   \n",
       "6     0.094493    0.328088    0.405336    0.095238    0.162548    0.282916   \n",
       "7     0.315980    0.374979    0.490328    0.813232    1.000000    0.248570   \n",
       "8     0.111414    0.182561    0.343713    0.125788    0.109324    0.138055   \n",
       "9     0.183011    0.175663    0.231772    0.133710    0.149412    0.128276   \n",
       "10    0.082162    0.135493    0.161000    0.060313    0.079773    0.104978   \n",
       "11    0.087215    0.132674    0.153685    0.073525    0.109909    0.099207   \n",
       "12 -299.298492 -336.592712 -345.935455 -330.804413 -307.023224 -365.428223   \n",
       "13  175.271408  139.111618  148.784622  146.953293  172.610825  131.457581   \n",
       "14   53.203186   57.149906   71.460487   53.068035   55.592075   61.000267   \n",
       "15   22.400703   36.132572   42.819172   36.335793   27.126980   37.651291   \n",
       "16    0.876391    5.146415    2.501416    7.521651    8.238299   18.898140   \n",
       "17   -4.251783    1.383289   -7.966894   -2.514095    3.570318    3.457069   \n",
       "18   -0.661432   -1.846746    8.266006    5.498076    8.663851   -1.203786   \n",
       "19   -3.176505    1.997223   -0.378053    0.014542    5.145596    2.926320   \n",
       "20    1.126242    6.044413   -1.477121    0.955173    2.251246    8.546371   \n",
       "21   11.025067   10.267719   14.715981   15.707561    5.433228   12.048586   \n",
       "22   11.587772   14.731730   13.305575   13.428076   12.496309   14.497257   \n",
       "23   15.476271   15.036555   13.975294   10.689525   17.002733   16.339203   \n",
       "24   18.768749   17.948414   21.514360   20.343395   16.923309   19.451057   \n",
       "25   11.295808   13.405597   11.059657   11.993145   12.920656   16.758774   \n",
       "26    9.008877   10.366564    7.648282    9.279922   10.414055   11.959868   \n",
       "27   10.631231   10.463808   14.440931   17.141844    8.880974   12.563007   \n",
       "28   10.282111   14.108305   10.963537   10.900100    9.468394   13.935883   \n",
       "29   14.477860   15.654055   12.407933    8.019210   12.393089   12.984320   \n",
       "30   13.030117   12.445123   16.806280   14.505108   11.168164   12.260117   \n",
       "31    8.877259   12.187448   10.756860   10.970000    7.180939   11.892735   \n",
       "32    3.224335   -4.532492    0.161217    1.611856    0.492866   -2.592851   \n",
       "33   -0.642846    0.278982   -0.522933    0.570276   -0.197015    0.107420   \n",
       "34   -1.576168    2.281220   -0.607423   -0.503981   -0.378542    1.519302   \n",
       "35    0.473196   -0.276955    0.247819   -0.025907    0.129034   -0.524536   \n",
       "36   -0.240171    0.268548    0.370610   -0.227473    0.093651   -0.066318   \n",
       "37    0.491446   -0.575264    0.189656    0.087323    0.152810   -0.184261   \n",
       "38   -0.196651    0.178864   -0.029700    0.126705   -0.100848    0.051730   \n",
       "39    0.244444   -0.064115    0.025395   -0.111145    0.041120   -0.056679   \n",
       "40    0.060798    0.098057    0.039556    0.007187   -0.005943   -0.120530   \n",
       "41   -0.124164    0.090672   -0.009495    0.051521   -0.091933    0.140295   \n",
       "42   -0.059441    0.042269    0.112052   -0.057274    0.069291    0.071394   \n",
       "43   -0.087734    0.126256    0.061086   -0.159393   -0.071502    0.252035   \n",
       "44   -0.066634    0.121922   -0.023761   -0.082968   -0.017245   -0.037775   \n",
       "45   -0.096471    0.174180    0.009866   -0.033281   -0.058105   -0.094586   \n",
       "46    0.095482   -0.101232    0.074364   -0.020489   -0.055553   -0.008341   \n",
       "47    0.037443   -0.029271    0.034192   -0.050284    0.103050    0.032494   \n",
       "48   -0.011978    0.085059    0.006057   -0.033507   -0.039861    0.139683   \n",
       "49   -0.066758    0.076778   -0.027432    0.027107   -0.126925    0.056861   \n",
       "50   -0.145226    0.136787   -0.003931   -0.018368   -0.029539   -0.010676   \n",
       "51    0.022005   -0.029418    0.065768   -0.057403   -0.021473    0.001376   \n",
       "\n",
       "            48          49          50  \n",
       "0     0.138361    0.061327    0.240933  \n",
       "1     0.202202    0.081068    0.175876  \n",
       "2     0.506896    0.185177    0.179448  \n",
       "3     0.905861    1.000000    0.245042  \n",
       "4     1.000000    0.561245    0.205216  \n",
       "5     0.567653    0.130442    0.117120  \n",
       "6     0.361043    0.141781    0.188217  \n",
       "7     0.554804    0.345767    1.000000  \n",
       "8     0.319564    0.138823    0.328372  \n",
       "9     0.225066    0.091169    0.405565  \n",
       "10    0.156347    0.074809    0.198958  \n",
       "11    0.141054    0.047255    0.124556  \n",
       "12 -362.394501 -384.500641 -336.742737  \n",
       "13  148.965561  128.716034  137.157104  \n",
       "14   74.363548   73.678520   43.485847  \n",
       "15   29.997066   34.181320   28.725382  \n",
       "16   14.856165    9.777794    1.134599  \n",
       "17    7.670484   -2.177724  -10.574503  \n",
       "18   -0.173200   -4.311632   -6.440691  \n",
       "19   -3.520820   -1.975221  -10.338448  \n",
       "20    5.612900    3.509200   -5.297237  \n",
       "21   16.237553    9.743665    8.411262  \n",
       "22   17.221981   13.825344    8.735010  \n",
       "23   15.470979   16.562052    9.676519  \n",
       "24   14.080822   17.889620   15.700082  \n",
       "25   11.118817   14.749770   10.533558  \n",
       "26   10.588965    8.786694    9.600522  \n",
       "27   12.541743    7.489459   10.039037  \n",
       "28   13.375057   13.018617    7.492741  \n",
       "29   12.976927   17.292135   10.483104  \n",
       "30   11.383745   15.453578   11.764009  \n",
       "31    9.748634   11.498058   11.340991  \n",
       "32   -0.910466    1.320638    0.610419  \n",
       "33   -0.747744    0.428531   -0.123189  \n",
       "34    0.111609   -0.721784   -0.670769  \n",
       "35    0.386410   -0.199503   -0.021255  \n",
       "36    0.183172   -0.235321    0.109332  \n",
       "37   -0.083994   -0.235637    0.001732  \n",
       "38   -0.100166   -0.007517   -0.150344  \n",
       "39    0.111441   -0.207348   -0.151415  \n",
       "40    0.161825   -0.198311   -0.098679  \n",
       "41    0.011788   -0.026055   -0.096252  \n",
       "42   -0.041222   -0.122900   -0.049992  \n",
       "43    0.019394   -0.087927   -0.195561  \n",
       "44    0.085215    0.050403   -0.110357  \n",
       "45    0.160168   -0.028848    0.053289  \n",
       "46    0.137687   -0.122290   -0.058377  \n",
       "47   -0.013480   -0.157688    0.068112  \n",
       "48   -0.054577   -0.074797    0.108497  \n",
       "49    0.041340    0.041843   -0.165652  \n",
       "50    0.091977   -0.082719   -0.026289  \n",
       "51    0.115051   -0.192306    0.117742  \n",
       "\n",
       "[52 rows x 51 columns]"
      ]
     },
     "execution_count": 76,
     "metadata": {},
     "output_type": "execute_result"
    }
   ],
   "source": [
    "pd.DataFrame(beat_features)"
   ]
  },
  {
   "cell_type": "code",
   "execution_count": null,
   "id": "ca0d9a63-d959-4ce4-a316-8f87988df440",
   "metadata": {},
   "outputs": [],
   "source": []
  }
 ],
 "metadata": {
  "kernelspec": {
   "display_name": "Python 3",
   "language": "python",
   "name": "python3"
  },
  "language_info": {
   "codemirror_mode": {
    "name": "ipython",
    "version": 3
   },
   "file_extension": ".py",
   "mimetype": "text/x-python",
   "name": "python",
   "nbconvert_exporter": "python",
   "pygments_lexer": "ipython3",
   "version": "3.9.5"
  }
 },
 "nbformat": 4,
 "nbformat_minor": 5
}
